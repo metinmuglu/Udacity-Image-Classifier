<!DOCTYPE html>
<html>
<head><meta charset="utf-8" />

<title>.ipynb</title>

<script src="https://cdnjs.cloudflare.com/ajax/libs/require.js/2.1.10/require.min.js"></script>
<script src="https://cdnjs.cloudflare.com/ajax/libs/jquery/2.0.3/jquery.min.js"></script>



<style type="text/css">
    /*!
*
* Twitter Bootstrap
*
*/
/*!
 * Bootstrap v3.3.7 (http://getbootstrap.com)
 * Copyright 2011-2016 Twitter, Inc.
 * Licensed under MIT (https://github.com/twbs/bootstrap/blob/master/LICENSE)
 */
/*! normalize.css v3.0.3 | MIT License | github.com/necolas/normalize.css */
html {
  font-family: sans-serif;
  -ms-text-size-adjust: 100%;
  -webkit-text-size-adjust: 100%;
}
body {
  margin: 0;
}
article,
aside,
details,
figcaption,
figure,
footer,
header,
hgroup,
main,
menu,
nav,
section,
summary {
  display: block;
}
audio,
canvas,
progress,
video {
  display: inline-block;
  vertical-align: baseline;
}
audio:not([controls]) {
  display: none;
  height: 0;
}
[hidden],
template {
  display: none;
}
a {
  background-color: transparent;
}
a:active,
a:hover {
  outline: 0;
}
abbr[title] {
  border-bottom: 1px dotted;
}
b,
strong {
  font-weight: bold;
}
dfn {
  font-style: italic;
}
h1 {
  font-size: 2em;
  margin: 0.67em 0;
}
mark {
  background: #ff0;
  color: #000;
}
small {
  font-size: 80%;
}
sub,
sup {
  font-size: 75%;
  line-height: 0;
  position: relative;
  vertical-align: baseline;
}
sup {
  top: -0.5em;
}
sub {
  bottom: -0.25em;
}
img {
  border: 0;
}
svg:not(:root) {
  overflow: hidden;
}
figure {
  margin: 1em 40px;
}
hr {
  box-sizing: content-box;
  height: 0;
}
pre {
  overflow: auto;
}
code,
kbd,
pre,
samp {
  font-family: monospace, monospace;
  font-size: 1em;
}
button,
input,
optgroup,
select,
textarea {
  color: inherit;
  font: inherit;
  margin: 0;
}
button {
  overflow: visible;
}
button,
select {
  text-transform: none;
}
button,
html input[type="button"],
input[type="reset"],
input[type="submit"] {
  -webkit-appearance: button;
  cursor: pointer;
}
button[disabled],
html input[disabled] {
  cursor: default;
}
button::-moz-focus-inner,
input::-moz-focus-inner {
  border: 0;
  padding: 0;
}
input {
  line-height: normal;
}
input[type="checkbox"],
input[type="radio"] {
  box-sizing: border-box;
  padding: 0;
}
input[type="number"]::-webkit-inner-spin-button,
input[type="number"]::-webkit-outer-spin-button {
  height: auto;
}
input[type="search"] {
  -webkit-appearance: textfield;
  box-sizing: content-box;
}
input[type="search"]::-webkit-search-cancel-button,
input[type="search"]::-webkit-search-decoration {
  -webkit-appearance: none;
}
fieldset {
  border: 1px solid #c0c0c0;
  margin: 0 2px;
  padding: 0.35em 0.625em 0.75em;
}
legend {
  border: 0;
  padding: 0;
}
textarea {
  overflow: auto;
}
optgroup {
  font-weight: bold;
}
table {
  border-collapse: collapse;
  border-spacing: 0;
}
td,
th {
  padding: 0;
}
/*! Source: https://github.com/h5bp/html5-boilerplate/blob/master/src/css/main.css */
@media print {
  *,
  *:before,
  *:after {
    background: transparent !important;
    box-shadow: none !important;
    text-shadow: none !important;
  }
  a,
  a:visited {
    text-decoration: underline;
  }
  a[href]:after {
    content: " (" attr(href) ")";
  }
  abbr[title]:after {
    content: " (" attr(title) ")";
  }
  a[href^="#"]:after,
  a[href^="javascript:"]:after {
    content: "";
  }
  pre,
  blockquote {
    border: 1px solid #999;
    page-break-inside: avoid;
  }
  thead {
    display: table-header-group;
  }
  tr,
  img {
    page-break-inside: avoid;
  }
  img {
    max-width: 100% !important;
  }
  p,
  h2,
  h3 {
    orphans: 3;
    widows: 3;
  }
  h2,
  h3 {
    page-break-after: avoid;
  }
  .navbar {
    display: none;
  }
  .btn > .caret,
  .dropup > .btn > .caret {
    border-top-color: #000 !important;
  }
  .label {
    border: 1px solid #000;
  }
  .table {
    border-collapse: collapse !important;
  }
  .table td,
  .table th {
    background-color: #fff !important;
  }
  .table-bordered th,
  .table-bordered td {
    border: 1px solid #ddd !important;
  }
}
@font-face {
  font-family: 'Glyphicons Halflings';
  src: url('../components/bootstrap/fonts/glyphicons-halflings-regular.eot');
  src: url('../components/bootstrap/fonts/glyphicons-halflings-regular.eot?#iefix') format('embedded-opentype'), url('../components/bootstrap/fonts/glyphicons-halflings-regular.woff2') format('woff2'), url('../components/bootstrap/fonts/glyphicons-halflings-regular.woff') format('woff'), url('../components/bootstrap/fonts/glyphicons-halflings-regular.ttf') format('truetype'), url('../components/bootstrap/fonts/glyphicons-halflings-regular.svg#glyphicons_halflingsregular') format('svg');
}
.glyphicon {
  position: relative;
  top: 1px;
  display: inline-block;
  font-family: 'Glyphicons Halflings';
  font-style: normal;
  font-weight: normal;
  line-height: 1;
  -webkit-font-smoothing: antialiased;
  -moz-osx-font-smoothing: grayscale;
}
.glyphicon-asterisk:before {
  content: "\002a";
}
.glyphicon-plus:before {
  content: "\002b";
}
.glyphicon-euro:before,
.glyphicon-eur:before {
  content: "\20ac";
}
.glyphicon-minus:before {
  content: "\2212";
}
.glyphicon-cloud:before {
  content: "\2601";
}
.glyphicon-envelope:before {
  content: "\2709";
}
.glyphicon-pencil:before {
  content: "\270f";
}
.glyphicon-glass:before {
  content: "\e001";
}
.glyphicon-music:before {
  content: "\e002";
}
.glyphicon-search:before {
  content: "\e003";
}
.glyphicon-heart:before {
  content: "\e005";
}
.glyphicon-star:before {
  content: "\e006";
}
.glyphicon-star-empty:before {
  content: "\e007";
}
.glyphicon-user:before {
  content: "\e008";
}
.glyphicon-film:before {
  content: "\e009";
}
.glyphicon-th-large:before {
  content: "\e010";
}
.glyphicon-th:before {
  content: "\e011";
}
.glyphicon-th-list:before {
  content: "\e012";
}
.glyphicon-ok:before {
  content: "\e013";
}
.glyphicon-remove:before {
  content: "\e014";
}
.glyphicon-zoom-in:before {
  content: "\e015";
}
.glyphicon-zoom-out:before {
  content: "\e016";
}
.glyphicon-off:before {
  content: "\e017";
}
.glyphicon-signal:before {
  content: "\e018";
}
.glyphicon-cog:before {
  content: "\e019";
}
.glyphicon-trash:before {
  content: "\e020";
}
.glyphicon-home:before {
  content: "\e021";
}
.glyphicon-file:before {
  content: "\e022";
}
.glyphicon-time:before {
  content: "\e023";
}
.glyphicon-road:before {
  content: "\e024";
}
.glyphicon-download-alt:before {
  content: "\e025";
}
.glyphicon-download:before {
  content: "\e026";
}
.glyphicon-upload:before {
  content: "\e027";
}
.glyphicon-inbox:before {
  content: "\e028";
}
.glyphicon-play-circle:before {
  content: "\e029";
}
.glyphicon-repeat:before {
  content: "\e030";
}
.glyphicon-refresh:before {
  content: "\e031";
}
.glyphicon-list-alt:before {
  content: "\e032";
}
.glyphicon-lock:before {
  content: "\e033";
}
.glyphicon-flag:before {
  content: "\e034";
}
.glyphicon-headphones:before {
  content: "\e035";
}
.glyphicon-volume-off:before {
  content: "\e036";
}
.glyphicon-volume-down:before {
  content: "\e037";
}
.glyphicon-volume-up:before {
  content: "\e038";
}
.glyphicon-qrcode:before {
  content: "\e039";
}
.glyphicon-barcode:before {
  content: "\e040";
}
.glyphicon-tag:before {
  content: "\e041";
}
.glyphicon-tags:before {
  content: "\e042";
}
.glyphicon-book:before {
  content: "\e043";
}
.glyphicon-bookmark:before {
  content: "\e044";
}
.glyphicon-print:before {
  content: "\e045";
}
.glyphicon-camera:before {
  content: "\e046";
}
.glyphicon-font:before {
  content: "\e047";
}
.glyphicon-bold:before {
  content: "\e048";
}
.glyphicon-italic:before {
  content: "\e049";
}
.glyphicon-text-height:before {
  content: "\e050";
}
.glyphicon-text-width:before {
  content: "\e051";
}
.glyphicon-align-left:before {
  content: "\e052";
}
.glyphicon-align-center:before {
  content: "\e053";
}
.glyphicon-align-right:before {
  content: "\e054";
}
.glyphicon-align-justify:before {
  content: "\e055";
}
.glyphicon-list:before {
  content: "\e056";
}
.glyphicon-indent-left:before {
  content: "\e057";
}
.glyphicon-indent-right:before {
  content: "\e058";
}
.glyphicon-facetime-video:before {
  content: "\e059";
}
.glyphicon-picture:before {
  content: "\e060";
}
.glyphicon-map-marker:before {
  content: "\e062";
}
.glyphicon-adjust:before {
  content: "\e063";
}
.glyphicon-tint:before {
  content: "\e064";
}
.glyphicon-edit:before {
  content: "\e065";
}
.glyphicon-share:before {
  content: "\e066";
}
.glyphicon-check:before {
  content: "\e067";
}
.glyphicon-move:before {
  content: "\e068";
}
.glyphicon-step-backward:before {
  content: "\e069";
}
.glyphicon-fast-backward:before {
  content: "\e070";
}
.glyphicon-backward:before {
  content: "\e071";
}
.glyphicon-play:before {
  content: "\e072";
}
.glyphicon-pause:before {
  content: "\e073";
}
.glyphicon-stop:before {
  content: "\e074";
}
.glyphicon-forward:before {
  content: "\e075";
}
.glyphicon-fast-forward:before {
  content: "\e076";
}
.glyphicon-step-forward:before {
  content: "\e077";
}
.glyphicon-eject:before {
  content: "\e078";
}
.glyphicon-chevron-left:before {
  content: "\e079";
}
.glyphicon-chevron-right:before {
  content: "\e080";
}
.glyphicon-plus-sign:before {
  content: "\e081";
}
.glyphicon-minus-sign:before {
  content: "\e082";
}
.glyphicon-remove-sign:before {
  content: "\e083";
}
.glyphicon-ok-sign:before {
  content: "\e084";
}
.glyphicon-question-sign:before {
  content: "\e085";
}
.glyphicon-info-sign:before {
  content: "\e086";
}
.glyphicon-screenshot:before {
  content: "\e087";
}
.glyphicon-remove-circle:before {
  content: "\e088";
}
.glyphicon-ok-circle:before {
  content: "\e089";
}
.glyphicon-ban-circle:before {
  content: "\e090";
}
.glyphicon-arrow-left:before {
  content: "\e091";
}
.glyphicon-arrow-right:before {
  content: "\e092";
}
.glyphicon-arrow-up:before {
  content: "\e093";
}
.glyphicon-arrow-down:before {
  content: "\e094";
}
.glyphicon-share-alt:before {
  content: "\e095";
}
.glyphicon-resize-full:before {
  content: "\e096";
}
.glyphicon-resize-small:before {
  content: "\e097";
}
.glyphicon-exclamation-sign:before {
  content: "\e101";
}
.glyphicon-gift:before {
  content: "\e102";
}
.glyphicon-leaf:before {
  content: "\e103";
}
.glyphicon-fire:before {
  content: "\e104";
}
.glyphicon-eye-open:before {
  content: "\e105";
}
.glyphicon-eye-close:before {
  content: "\e106";
}
.glyphicon-warning-sign:before {
  content: "\e107";
}
.glyphicon-plane:before {
  content: "\e108";
}
.glyphicon-calendar:before {
  content: "\e109";
}
.glyphicon-random:before {
  content: "\e110";
}
.glyphicon-comment:before {
  content: "\e111";
}
.glyphicon-magnet:before {
  content: "\e112";
}
.glyphicon-chevron-up:before {
  content: "\e113";
}
.glyphicon-chevron-down:before {
  content: "\e114";
}
.glyphicon-retweet:before {
  content: "\e115";
}
.glyphicon-shopping-cart:before {
  content: "\e116";
}
.glyphicon-folder-close:before {
  content: "\e117";
}
.glyphicon-folder-open:before {
  content: "\e118";
}
.glyphicon-resize-vertical:before {
  content: "\e119";
}
.glyphicon-resize-horizontal:before {
  content: "\e120";
}
.glyphicon-hdd:before {
  content: "\e121";
}
.glyphicon-bullhorn:before {
  content: "\e122";
}
.glyphicon-bell:before {
  content: "\e123";
}
.glyphicon-certificate:before {
  content: "\e124";
}
.glyphicon-thumbs-up:before {
  content: "\e125";
}
.glyphicon-thumbs-down:before {
  content: "\e126";
}
.glyphicon-hand-right:before {
  content: "\e127";
}
.glyphicon-hand-left:before {
  content: "\e128";
}
.glyphicon-hand-up:before {
  content: "\e129";
}
.glyphicon-hand-down:before {
  content: "\e130";
}
.glyphicon-circle-arrow-right:before {
  content: "\e131";
}
.glyphicon-circle-arrow-left:before {
  content: "\e132";
}
.glyphicon-circle-arrow-up:before {
  content: "\e133";
}
.glyphicon-circle-arrow-down:before {
  content: "\e134";
}
.glyphicon-globe:before {
  content: "\e135";
}
.glyphicon-wrench:before {
  content: "\e136";
}
.glyphicon-tasks:before {
  content: "\e137";
}
.glyphicon-filter:before {
  content: "\e138";
}
.glyphicon-briefcase:before {
  content: "\e139";
}
.glyphicon-fullscreen:before {
  content: "\e140";
}
.glyphicon-dashboard:before {
  content: "\e141";
}
.glyphicon-paperclip:before {
  content: "\e142";
}
.glyphicon-heart-empty:before {
  content: "\e143";
}
.glyphicon-link:before {
  content: "\e144";
}
.glyphicon-phone:before {
  content: "\e145";
}
.glyphicon-pushpin:before {
  content: "\e146";
}
.glyphicon-usd:before {
  content: "\e148";
}
.glyphicon-gbp:before {
  content: "\e149";
}
.glyphicon-sort:before {
  content: "\e150";
}
.glyphicon-sort-by-alphabet:before {
  content: "\e151";
}
.glyphicon-sort-by-alphabet-alt:before {
  content: "\e152";
}
.glyphicon-sort-by-order:before {
  content: "\e153";
}
.glyphicon-sort-by-order-alt:before {
  content: "\e154";
}
.glyphicon-sort-by-attributes:before {
  content: "\e155";
}
.glyphicon-sort-by-attributes-alt:before {
  content: "\e156";
}
.glyphicon-unchecked:before {
  content: "\e157";
}
.glyphicon-expand:before {
  content: "\e158";
}
.glyphicon-collapse-down:before {
  content: "\e159";
}
.glyphicon-collapse-up:before {
  content: "\e160";
}
.glyphicon-log-in:before {
  content: "\e161";
}
.glyphicon-flash:before {
  content: "\e162";
}
.glyphicon-log-out:before {
  content: "\e163";
}
.glyphicon-new-window:before {
  content: "\e164";
}
.glyphicon-record:before {
  content: "\e165";
}
.glyphicon-save:before {
  content: "\e166";
}
.glyphicon-open:before {
  content: "\e167";
}
.glyphicon-saved:before {
  content: "\e168";
}
.glyphicon-import:before {
  content: "\e169";
}
.glyphicon-export:before {
  content: "\e170";
}
.glyphicon-send:before {
  content: "\e171";
}
.glyphicon-floppy-disk:before {
  content: "\e172";
}
.glyphicon-floppy-saved:before {
  content: "\e173";
}
.glyphicon-floppy-remove:before {
  content: "\e174";
}
.glyphicon-floppy-save:before {
  content: "\e175";
}
.glyphicon-floppy-open:before {
  content: "\e176";
}
.glyphicon-credit-card:before {
  content: "\e177";
}
.glyphicon-transfer:before {
  content: "\e178";
}
.glyphicon-cutlery:before {
  content: "\e179";
}
.glyphicon-header:before {
  content: "\e180";
}
.glyphicon-compressed:before {
  content: "\e181";
}
.glyphicon-earphone:before {
  content: "\e182";
}
.glyphicon-phone-alt:before {
  content: "\e183";
}
.glyphicon-tower:before {
  content: "\e184";
}
.glyphicon-stats:before {
  content: "\e185";
}
.glyphicon-sd-video:before {
  content: "\e186";
}
.glyphicon-hd-video:before {
  content: "\e187";
}
.glyphicon-subtitles:before {
  content: "\e188";
}
.glyphicon-sound-stereo:before {
  content: "\e189";
}
.glyphicon-sound-dolby:before {
  content: "\e190";
}
.glyphicon-sound-5-1:before {
  content: "\e191";
}
.glyphicon-sound-6-1:before {
  content: "\e192";
}
.glyphicon-sound-7-1:before {
  content: "\e193";
}
.glyphicon-copyright-mark:before {
  content: "\e194";
}
.glyphicon-registration-mark:before {
  content: "\e195";
}
.glyphicon-cloud-download:before {
  content: "\e197";
}
.glyphicon-cloud-upload:before {
  content: "\e198";
}
.glyphicon-tree-conifer:before {
  content: "\e199";
}
.glyphicon-tree-deciduous:before {
  content: "\e200";
}
.glyphicon-cd:before {
  content: "\e201";
}
.glyphicon-save-file:before {
  content: "\e202";
}
.glyphicon-open-file:before {
  content: "\e203";
}
.glyphicon-level-up:before {
  content: "\e204";
}
.glyphicon-copy:before {
  content: "\e205";
}
.glyphicon-paste:before {
  content: "\e206";
}
.glyphicon-alert:before {
  content: "\e209";
}
.glyphicon-equalizer:before {
  content: "\e210";
}
.glyphicon-king:before {
  content: "\e211";
}
.glyphicon-queen:before {
  content: "\e212";
}
.glyphicon-pawn:before {
  content: "\e213";
}
.glyphicon-bishop:before {
  content: "\e214";
}
.glyphicon-knight:before {
  content: "\e215";
}
.glyphicon-baby-formula:before {
  content: "\e216";
}
.glyphicon-tent:before {
  content: "\26fa";
}
.glyphicon-blackboard:before {
  content: "\e218";
}
.glyphicon-bed:before {
  content: "\e219";
}
.glyphicon-apple:before {
  content: "\f8ff";
}
.glyphicon-erase:before {
  content: "\e221";
}
.glyphicon-hourglass:before {
  content: "\231b";
}
.glyphicon-lamp:before {
  content: "\e223";
}
.glyphicon-duplicate:before {
  content: "\e224";
}
.glyphicon-piggy-bank:before {
  content: "\e225";
}
.glyphicon-scissors:before {
  content: "\e226";
}
.glyphicon-bitcoin:before {
  content: "\e227";
}
.glyphicon-btc:before {
  content: "\e227";
}
.glyphicon-xbt:before {
  content: "\e227";
}
.glyphicon-yen:before {
  content: "\00a5";
}
.glyphicon-jpy:before {
  content: "\00a5";
}
.glyphicon-ruble:before {
  content: "\20bd";
}
.glyphicon-rub:before {
  content: "\20bd";
}
.glyphicon-scale:before {
  content: "\e230";
}
.glyphicon-ice-lolly:before {
  content: "\e231";
}
.glyphicon-ice-lolly-tasted:before {
  content: "\e232";
}
.glyphicon-education:before {
  content: "\e233";
}
.glyphicon-option-horizontal:before {
  content: "\e234";
}
.glyphicon-option-vertical:before {
  content: "\e235";
}
.glyphicon-menu-hamburger:before {
  content: "\e236";
}
.glyphicon-modal-window:before {
  content: "\e237";
}
.glyphicon-oil:before {
  content: "\e238";
}
.glyphicon-grain:before {
  content: "\e239";
}
.glyphicon-sunglasses:before {
  content: "\e240";
}
.glyphicon-text-size:before {
  content: "\e241";
}
.glyphicon-text-color:before {
  content: "\e242";
}
.glyphicon-text-background:before {
  content: "\e243";
}
.glyphicon-object-align-top:before {
  content: "\e244";
}
.glyphicon-object-align-bottom:before {
  content: "\e245";
}
.glyphicon-object-align-horizontal:before {
  content: "\e246";
}
.glyphicon-object-align-left:before {
  content: "\e247";
}
.glyphicon-object-align-vertical:before {
  content: "\e248";
}
.glyphicon-object-align-right:before {
  content: "\e249";
}
.glyphicon-triangle-right:before {
  content: "\e250";
}
.glyphicon-triangle-left:before {
  content: "\e251";
}
.glyphicon-triangle-bottom:before {
  content: "\e252";
}
.glyphicon-triangle-top:before {
  content: "\e253";
}
.glyphicon-console:before {
  content: "\e254";
}
.glyphicon-superscript:before {
  content: "\e255";
}
.glyphicon-subscript:before {
  content: "\e256";
}
.glyphicon-menu-left:before {
  content: "\e257";
}
.glyphicon-menu-right:before {
  content: "\e258";
}
.glyphicon-menu-down:before {
  content: "\e259";
}
.glyphicon-menu-up:before {
  content: "\e260";
}
* {
  -webkit-box-sizing: border-box;
  -moz-box-sizing: border-box;
  box-sizing: border-box;
}
*:before,
*:after {
  -webkit-box-sizing: border-box;
  -moz-box-sizing: border-box;
  box-sizing: border-box;
}
html {
  font-size: 10px;
  -webkit-tap-highlight-color: rgba(0, 0, 0, 0);
}
body {
  font-family: "Helvetica Neue", Helvetica, Arial, sans-serif;
  font-size: 13px;
  line-height: 1.42857143;
  color: #000;
  background-color: #fff;
}
input,
button,
select,
textarea {
  font-family: inherit;
  font-size: inherit;
  line-height: inherit;
}
a {
  color: #337ab7;
  text-decoration: none;
}
a:hover,
a:focus {
  color: #23527c;
  text-decoration: underline;
}
a:focus {
  outline: 5px auto -webkit-focus-ring-color;
  outline-offset: -2px;
}
figure {
  margin: 0;
}
img {
  vertical-align: middle;
}
.img-responsive,
.thumbnail > img,
.thumbnail a > img,
.carousel-inner > .item > img,
.carousel-inner > .item > a > img {
  display: block;
  max-width: 100%;
  height: auto;
}
.img-rounded {
  border-radius: 3px;
}
.img-thumbnail {
  padding: 4px;
  line-height: 1.42857143;
  background-color: #fff;
  border: 1px solid #ddd;
  border-radius: 2px;
  -webkit-transition: all 0.2s ease-in-out;
  -o-transition: all 0.2s ease-in-out;
  transition: all 0.2s ease-in-out;
  display: inline-block;
  max-width: 100%;
  height: auto;
}
.img-circle {
  border-radius: 50%;
}
hr {
  margin-top: 18px;
  margin-bottom: 18px;
  border: 0;
  border-top: 1px solid #eeeeee;
}
.sr-only {
  position: absolute;
  width: 1px;
  height: 1px;
  margin: -1px;
  padding: 0;
  overflow: hidden;
  clip: rect(0, 0, 0, 0);
  border: 0;
}
.sr-only-focusable:active,
.sr-only-focusable:focus {
  position: static;
  width: auto;
  height: auto;
  margin: 0;
  overflow: visible;
  clip: auto;
}
[role="button"] {
  cursor: pointer;
}
h1,
h2,
h3,
h4,
h5,
h6,
.h1,
.h2,
.h3,
.h4,
.h5,
.h6 {
  font-family: inherit;
  font-weight: 500;
  line-height: 1.1;
  color: inherit;
}
h1 small,
h2 small,
h3 small,
h4 small,
h5 small,
h6 small,
.h1 small,
.h2 small,
.h3 small,
.h4 small,
.h5 small,
.h6 small,
h1 .small,
h2 .small,
h3 .small,
h4 .small,
h5 .small,
h6 .small,
.h1 .small,
.h2 .small,
.h3 .small,
.h4 .small,
.h5 .small,
.h6 .small {
  font-weight: normal;
  line-height: 1;
  color: #777777;
}
h1,
.h1,
h2,
.h2,
h3,
.h3 {
  margin-top: 18px;
  margin-bottom: 9px;
}
h1 small,
.h1 small,
h2 small,
.h2 small,
h3 small,
.h3 small,
h1 .small,
.h1 .small,
h2 .small,
.h2 .small,
h3 .small,
.h3 .small {
  font-size: 65%;
}
h4,
.h4,
h5,
.h5,
h6,
.h6 {
  margin-top: 9px;
  margin-bottom: 9px;
}
h4 small,
.h4 small,
h5 small,
.h5 small,
h6 small,
.h6 small,
h4 .small,
.h4 .small,
h5 .small,
.h5 .small,
h6 .small,
.h6 .small {
  font-size: 75%;
}
h1,
.h1 {
  font-size: 33px;
}
h2,
.h2 {
  font-size: 27px;
}
h3,
.h3 {
  font-size: 23px;
}
h4,
.h4 {
  font-size: 17px;
}
h5,
.h5 {
  font-size: 13px;
}
h6,
.h6 {
  font-size: 12px;
}
p {
  margin: 0 0 9px;
}
.lead {
  margin-bottom: 18px;
  font-size: 14px;
  font-weight: 300;
  line-height: 1.4;
}
@media (min-width: 768px) {
  .lead {
    font-size: 19.5px;
  }
}
small,
.small {
  font-size: 92%;
}
mark,
.mark {
  background-color: #fcf8e3;
  padding: .2em;
}
.text-left {
  text-align: left;
}
.text-right {
  text-align: right;
}
.text-center {
  text-align: center;
}
.text-justify {
  text-align: justify;
}
.text-nowrap {
  white-space: nowrap;
}
.text-lowercase {
  text-transform: lowercase;
}
.text-uppercase {
  text-transform: uppercase;
}
.text-capitalize {
  text-transform: capitalize;
}
.text-muted {
  color: #777777;
}
.text-primary {
  color: #337ab7;
}
a.text-primary:hover,
a.text-primary:focus {
  color: #286090;
}
.text-success {
  color: #3c763d;
}
a.text-success:hover,
a.text-success:focus {
  color: #2b542c;
}
.text-info {
  color: #31708f;
}
a.text-info:hover,
a.text-info:focus {
  color: #245269;
}
.text-warning {
  color: #8a6d3b;
}
a.text-warning:hover,
a.text-warning:focus {
  color: #66512c;
}
.text-danger {
  color: #a94442;
}
a.text-danger:hover,
a.text-danger:focus {
  color: #843534;
}
.bg-primary {
  color: #fff;
  background-color: #337ab7;
}
a.bg-primary:hover,
a.bg-primary:focus {
  background-color: #286090;
}
.bg-success {
  background-color: #dff0d8;
}
a.bg-success:hover,
a.bg-success:focus {
  background-color: #c1e2b3;
}
.bg-info {
  background-color: #d9edf7;
}
a.bg-info:hover,
a.bg-info:focus {
  background-color: #afd9ee;
}
.bg-warning {
  background-color: #fcf8e3;
}
a.bg-warning:hover,
a.bg-warning:focus {
  background-color: #f7ecb5;
}
.bg-danger {
  background-color: #f2dede;
}
a.bg-danger:hover,
a.bg-danger:focus {
  background-color: #e4b9b9;
}
.page-header {
  padding-bottom: 8px;
  margin: 36px 0 18px;
  border-bottom: 1px solid #eeeeee;
}
ul,
ol {
  margin-top: 0;
  margin-bottom: 9px;
}
ul ul,
ol ul,
ul ol,
ol ol {
  margin-bottom: 0;
}
.list-unstyled {
  padding-left: 0;
  list-style: none;
}
.list-inline {
  padding-left: 0;
  list-style: none;
  margin-left: -5px;
}
.list-inline > li {
  display: inline-block;
  padding-left: 5px;
  padding-right: 5px;
}
dl {
  margin-top: 0;
  margin-bottom: 18px;
}
dt,
dd {
  line-height: 1.42857143;
}
dt {
  font-weight: bold;
}
dd {
  margin-left: 0;
}
@media (min-width: 541px) {
  .dl-horizontal dt {
    float: left;
    width: 160px;
    clear: left;
    text-align: right;
    overflow: hidden;
    text-overflow: ellipsis;
    white-space: nowrap;
  }
  .dl-horizontal dd {
    margin-left: 180px;
  }
}
abbr[title],
abbr[data-original-title] {
  cursor: help;
  border-bottom: 1px dotted #777777;
}
.initialism {
  font-size: 90%;
  text-transform: uppercase;
}
blockquote {
  padding: 9px 18px;
  margin: 0 0 18px;
  font-size: inherit;
  border-left: 5px solid #eeeeee;
}
blockquote p:last-child,
blockquote ul:last-child,
blockquote ol:last-child {
  margin-bottom: 0;
}
blockquote footer,
blockquote small,
blockquote .small {
  display: block;
  font-size: 80%;
  line-height: 1.42857143;
  color: #777777;
}
blockquote footer:before,
blockquote small:before,
blockquote .small:before {
  content: '\2014 \00A0';
}
.blockquote-reverse,
blockquote.pull-right {
  padding-right: 15px;
  padding-left: 0;
  border-right: 5px solid #eeeeee;
  border-left: 0;
  text-align: right;
}
.blockquote-reverse footer:before,
blockquote.pull-right footer:before,
.blockquote-reverse small:before,
blockquote.pull-right small:before,
.blockquote-reverse .small:before,
blockquote.pull-right .small:before {
  content: '';
}
.blockquote-reverse footer:after,
blockquote.pull-right footer:after,
.blockquote-reverse small:after,
blockquote.pull-right small:after,
.blockquote-reverse .small:after,
blockquote.pull-right .small:after {
  content: '\00A0 \2014';
}
address {
  margin-bottom: 18px;
  font-style: normal;
  line-height: 1.42857143;
}
code,
kbd,
pre,
samp {
  font-family: monospace;
}
code {
  padding: 2px 4px;
  font-size: 90%;
  color: #c7254e;
  background-color: #f9f2f4;
  border-radius: 2px;
}
kbd {
  padding: 2px 4px;
  font-size: 90%;
  color: #888;
  background-color: transparent;
  border-radius: 1px;
  box-shadow: inset 0 -1px 0 rgba(0, 0, 0, 0.25);
}
kbd kbd {
  padding: 0;
  font-size: 100%;
  font-weight: bold;
  box-shadow: none;
}
pre {
  display: block;
  padding: 8.5px;
  margin: 0 0 9px;
  font-size: 12px;
  line-height: 1.42857143;
  word-break: break-all;
  word-wrap: break-word;
  color: #333333;
  background-color: #f5f5f5;
  border: 1px solid #ccc;
  border-radius: 2px;
}
pre code {
  padding: 0;
  font-size: inherit;
  color: inherit;
  white-space: pre-wrap;
  background-color: transparent;
  border-radius: 0;
}
.pre-scrollable {
  max-height: 340px;
  overflow-y: scroll;
}
.container {
  margin-right: auto;
  margin-left: auto;
  padding-left: 0px;
  padding-right: 0px;
}
@media (min-width: 768px) {
  .container {
    width: 768px;
  }
}
@media (min-width: 992px) {
  .container {
    width: 940px;
  }
}
@media (min-width: 1200px) {
  .container {
    width: 1140px;
  }
}
.container-fluid {
  margin-right: auto;
  margin-left: auto;
  padding-left: 0px;
  padding-right: 0px;
}
.row {
  margin-left: 0px;
  margin-right: 0px;
}
.col-xs-1, .col-sm-1, .col-md-1, .col-lg-1, .col-xs-2, .col-sm-2, .col-md-2, .col-lg-2, .col-xs-3, .col-sm-3, .col-md-3, .col-lg-3, .col-xs-4, .col-sm-4, .col-md-4, .col-lg-4, .col-xs-5, .col-sm-5, .col-md-5, .col-lg-5, .col-xs-6, .col-sm-6, .col-md-6, .col-lg-6, .col-xs-7, .col-sm-7, .col-md-7, .col-lg-7, .col-xs-8, .col-sm-8, .col-md-8, .col-lg-8, .col-xs-9, .col-sm-9, .col-md-9, .col-lg-9, .col-xs-10, .col-sm-10, .col-md-10, .col-lg-10, .col-xs-11, .col-sm-11, .col-md-11, .col-lg-11, .col-xs-12, .col-sm-12, .col-md-12, .col-lg-12 {
  position: relative;
  min-height: 1px;
  padding-left: 0px;
  padding-right: 0px;
}
.col-xs-1, .col-xs-2, .col-xs-3, .col-xs-4, .col-xs-5, .col-xs-6, .col-xs-7, .col-xs-8, .col-xs-9, .col-xs-10, .col-xs-11, .col-xs-12 {
  float: left;
}
.col-xs-12 {
  width: 100%;
}
.col-xs-11 {
  width: 91.66666667%;
}
.col-xs-10 {
  width: 83.33333333%;
}
.col-xs-9 {
  width: 75%;
}
.col-xs-8 {
  width: 66.66666667%;
}
.col-xs-7 {
  width: 58.33333333%;
}
.col-xs-6 {
  width: 50%;
}
.col-xs-5 {
  width: 41.66666667%;
}
.col-xs-4 {
  width: 33.33333333%;
}
.col-xs-3 {
  width: 25%;
}
.col-xs-2 {
  width: 16.66666667%;
}
.col-xs-1 {
  width: 8.33333333%;
}
.col-xs-pull-12 {
  right: 100%;
}
.col-xs-pull-11 {
  right: 91.66666667%;
}
.col-xs-pull-10 {
  right: 83.33333333%;
}
.col-xs-pull-9 {
  right: 75%;
}
.col-xs-pull-8 {
  right: 66.66666667%;
}
.col-xs-pull-7 {
  right: 58.33333333%;
}
.col-xs-pull-6 {
  right: 50%;
}
.col-xs-pull-5 {
  right: 41.66666667%;
}
.col-xs-pull-4 {
  right: 33.33333333%;
}
.col-xs-pull-3 {
  right: 25%;
}
.col-xs-pull-2 {
  right: 16.66666667%;
}
.col-xs-pull-1 {
  right: 8.33333333%;
}
.col-xs-pull-0 {
  right: auto;
}
.col-xs-push-12 {
  left: 100%;
}
.col-xs-push-11 {
  left: 91.66666667%;
}
.col-xs-push-10 {
  left: 83.33333333%;
}
.col-xs-push-9 {
  left: 75%;
}
.col-xs-push-8 {
  left: 66.66666667%;
}
.col-xs-push-7 {
  left: 58.33333333%;
}
.col-xs-push-6 {
  left: 50%;
}
.col-xs-push-5 {
  left: 41.66666667%;
}
.col-xs-push-4 {
  left: 33.33333333%;
}
.col-xs-push-3 {
  left: 25%;
}
.col-xs-push-2 {
  left: 16.66666667%;
}
.col-xs-push-1 {
  left: 8.33333333%;
}
.col-xs-push-0 {
  left: auto;
}
.col-xs-offset-12 {
  margin-left: 100%;
}
.col-xs-offset-11 {
  margin-left: 91.66666667%;
}
.col-xs-offset-10 {
  margin-left: 83.33333333%;
}
.col-xs-offset-9 {
  margin-left: 75%;
}
.col-xs-offset-8 {
  margin-left: 66.66666667%;
}
.col-xs-offset-7 {
  margin-left: 58.33333333%;
}
.col-xs-offset-6 {
  margin-left: 50%;
}
.col-xs-offset-5 {
  margin-left: 41.66666667%;
}
.col-xs-offset-4 {
  margin-left: 33.33333333%;
}
.col-xs-offset-3 {
  margin-left: 25%;
}
.col-xs-offset-2 {
  margin-left: 16.66666667%;
}
.col-xs-offset-1 {
  margin-left: 8.33333333%;
}
.col-xs-offset-0 {
  margin-left: 0%;
}
@media (min-width: 768px) {
  .col-sm-1, .col-sm-2, .col-sm-3, .col-sm-4, .col-sm-5, .col-sm-6, .col-sm-7, .col-sm-8, .col-sm-9, .col-sm-10, .col-sm-11, .col-sm-12 {
    float: left;
  }
  .col-sm-12 {
    width: 100%;
  }
  .col-sm-11 {
    width: 91.66666667%;
  }
  .col-sm-10 {
    width: 83.33333333%;
  }
  .col-sm-9 {
    width: 75%;
  }
  .col-sm-8 {
    width: 66.66666667%;
  }
  .col-sm-7 {
    width: 58.33333333%;
  }
  .col-sm-6 {
    width: 50%;
  }
  .col-sm-5 {
    width: 41.66666667%;
  }
  .col-sm-4 {
    width: 33.33333333%;
  }
  .col-sm-3 {
    width: 25%;
  }
  .col-sm-2 {
    width: 16.66666667%;
  }
  .col-sm-1 {
    width: 8.33333333%;
  }
  .col-sm-pull-12 {
    right: 100%;
  }
  .col-sm-pull-11 {
    right: 91.66666667%;
  }
  .col-sm-pull-10 {
    right: 83.33333333%;
  }
  .col-sm-pull-9 {
    right: 75%;
  }
  .col-sm-pull-8 {
    right: 66.66666667%;
  }
  .col-sm-pull-7 {
    right: 58.33333333%;
  }
  .col-sm-pull-6 {
    right: 50%;
  }
  .col-sm-pull-5 {
    right: 41.66666667%;
  }
  .col-sm-pull-4 {
    right: 33.33333333%;
  }
  .col-sm-pull-3 {
    right: 25%;
  }
  .col-sm-pull-2 {
    right: 16.66666667%;
  }
  .col-sm-pull-1 {
    right: 8.33333333%;
  }
  .col-sm-pull-0 {
    right: auto;
  }
  .col-sm-push-12 {
    left: 100%;
  }
  .col-sm-push-11 {
    left: 91.66666667%;
  }
  .col-sm-push-10 {
    left: 83.33333333%;
  }
  .col-sm-push-9 {
    left: 75%;
  }
  .col-sm-push-8 {
    left: 66.66666667%;
  }
  .col-sm-push-7 {
    left: 58.33333333%;
  }
  .col-sm-push-6 {
    left: 50%;
  }
  .col-sm-push-5 {
    left: 41.66666667%;
  }
  .col-sm-push-4 {
    left: 33.33333333%;
  }
  .col-sm-push-3 {
    left: 25%;
  }
  .col-sm-push-2 {
    left: 16.66666667%;
  }
  .col-sm-push-1 {
    left: 8.33333333%;
  }
  .col-sm-push-0 {
    left: auto;
  }
  .col-sm-offset-12 {
    margin-left: 100%;
  }
  .col-sm-offset-11 {
    margin-left: 91.66666667%;
  }
  .col-sm-offset-10 {
    margin-left: 83.33333333%;
  }
  .col-sm-offset-9 {
    margin-left: 75%;
  }
  .col-sm-offset-8 {
    margin-left: 66.66666667%;
  }
  .col-sm-offset-7 {
    margin-left: 58.33333333%;
  }
  .col-sm-offset-6 {
    margin-left: 50%;
  }
  .col-sm-offset-5 {
    margin-left: 41.66666667%;
  }
  .col-sm-offset-4 {
    margin-left: 33.33333333%;
  }
  .col-sm-offset-3 {
    margin-left: 25%;
  }
  .col-sm-offset-2 {
    margin-left: 16.66666667%;
  }
  .col-sm-offset-1 {
    margin-left: 8.33333333%;
  }
  .col-sm-offset-0 {
    margin-left: 0%;
  }
}
@media (min-width: 992px) {
  .col-md-1, .col-md-2, .col-md-3, .col-md-4, .col-md-5, .col-md-6, .col-md-7, .col-md-8, .col-md-9, .col-md-10, .col-md-11, .col-md-12 {
    float: left;
  }
  .col-md-12 {
    width: 100%;
  }
  .col-md-11 {
    width: 91.66666667%;
  }
  .col-md-10 {
    width: 83.33333333%;
  }
  .col-md-9 {
    width: 75%;
  }
  .col-md-8 {
    width: 66.66666667%;
  }
  .col-md-7 {
    width: 58.33333333%;
  }
  .col-md-6 {
    width: 50%;
  }
  .col-md-5 {
    width: 41.66666667%;
  }
  .col-md-4 {
    width: 33.33333333%;
  }
  .col-md-3 {
    width: 25%;
  }
  .col-md-2 {
    width: 16.66666667%;
  }
  .col-md-1 {
    width: 8.33333333%;
  }
  .col-md-pull-12 {
    right: 100%;
  }
  .col-md-pull-11 {
    right: 91.66666667%;
  }
  .col-md-pull-10 {
    right: 83.33333333%;
  }
  .col-md-pull-9 {
    right: 75%;
  }
  .col-md-pull-8 {
    right: 66.66666667%;
  }
  .col-md-pull-7 {
    right: 58.33333333%;
  }
  .col-md-pull-6 {
    right: 50%;
  }
  .col-md-pull-5 {
    right: 41.66666667%;
  }
  .col-md-pull-4 {
    right: 33.33333333%;
  }
  .col-md-pull-3 {
    right: 25%;
  }
  .col-md-pull-2 {
    right: 16.66666667%;
  }
  .col-md-pull-1 {
    right: 8.33333333%;
  }
  .col-md-pull-0 {
    right: auto;
  }
  .col-md-push-12 {
    left: 100%;
  }
  .col-md-push-11 {
    left: 91.66666667%;
  }
  .col-md-push-10 {
    left: 83.33333333%;
  }
  .col-md-push-9 {
    left: 75%;
  }
  .col-md-push-8 {
    left: 66.66666667%;
  }
  .col-md-push-7 {
    left: 58.33333333%;
  }
  .col-md-push-6 {
    left: 50%;
  }
  .col-md-push-5 {
    left: 41.66666667%;
  }
  .col-md-push-4 {
    left: 33.33333333%;
  }
  .col-md-push-3 {
    left: 25%;
  }
  .col-md-push-2 {
    left: 16.66666667%;
  }
  .col-md-push-1 {
    left: 8.33333333%;
  }
  .col-md-push-0 {
    left: auto;
  }
  .col-md-offset-12 {
    margin-left: 100%;
  }
  .col-md-offset-11 {
    margin-left: 91.66666667%;
  }
  .col-md-offset-10 {
    margin-left: 83.33333333%;
  }
  .col-md-offset-9 {
    margin-left: 75%;
  }
  .col-md-offset-8 {
    margin-left: 66.66666667%;
  }
  .col-md-offset-7 {
    margin-left: 58.33333333%;
  }
  .col-md-offset-6 {
    margin-left: 50%;
  }
  .col-md-offset-5 {
    margin-left: 41.66666667%;
  }
  .col-md-offset-4 {
    margin-left: 33.33333333%;
  }
  .col-md-offset-3 {
    margin-left: 25%;
  }
  .col-md-offset-2 {
    margin-left: 16.66666667%;
  }
  .col-md-offset-1 {
    margin-left: 8.33333333%;
  }
  .col-md-offset-0 {
    margin-left: 0%;
  }
}
@media (min-width: 1200px) {
  .col-lg-1, .col-lg-2, .col-lg-3, .col-lg-4, .col-lg-5, .col-lg-6, .col-lg-7, .col-lg-8, .col-lg-9, .col-lg-10, .col-lg-11, .col-lg-12 {
    float: left;
  }
  .col-lg-12 {
    width: 100%;
  }
  .col-lg-11 {
    width: 91.66666667%;
  }
  .col-lg-10 {
    width: 83.33333333%;
  }
  .col-lg-9 {
    width: 75%;
  }
  .col-lg-8 {
    width: 66.66666667%;
  }
  .col-lg-7 {
    width: 58.33333333%;
  }
  .col-lg-6 {
    width: 50%;
  }
  .col-lg-5 {
    width: 41.66666667%;
  }
  .col-lg-4 {
    width: 33.33333333%;
  }
  .col-lg-3 {
    width: 25%;
  }
  .col-lg-2 {
    width: 16.66666667%;
  }
  .col-lg-1 {
    width: 8.33333333%;
  }
  .col-lg-pull-12 {
    right: 100%;
  }
  .col-lg-pull-11 {
    right: 91.66666667%;
  }
  .col-lg-pull-10 {
    right: 83.33333333%;
  }
  .col-lg-pull-9 {
    right: 75%;
  }
  .col-lg-pull-8 {
    right: 66.66666667%;
  }
  .col-lg-pull-7 {
    right: 58.33333333%;
  }
  .col-lg-pull-6 {
    right: 50%;
  }
  .col-lg-pull-5 {
    right: 41.66666667%;
  }
  .col-lg-pull-4 {
    right: 33.33333333%;
  }
  .col-lg-pull-3 {
    right: 25%;
  }
  .col-lg-pull-2 {
    right: 16.66666667%;
  }
  .col-lg-pull-1 {
    right: 8.33333333%;
  }
  .col-lg-pull-0 {
    right: auto;
  }
  .col-lg-push-12 {
    left: 100%;
  }
  .col-lg-push-11 {
    left: 91.66666667%;
  }
  .col-lg-push-10 {
    left: 83.33333333%;
  }
  .col-lg-push-9 {
    left: 75%;
  }
  .col-lg-push-8 {
    left: 66.66666667%;
  }
  .col-lg-push-7 {
    left: 58.33333333%;
  }
  .col-lg-push-6 {
    left: 50%;
  }
  .col-lg-push-5 {
    left: 41.66666667%;
  }
  .col-lg-push-4 {
    left: 33.33333333%;
  }
  .col-lg-push-3 {
    left: 25%;
  }
  .col-lg-push-2 {
    left: 16.66666667%;
  }
  .col-lg-push-1 {
    left: 8.33333333%;
  }
  .col-lg-push-0 {
    left: auto;
  }
  .col-lg-offset-12 {
    margin-left: 100%;
  }
  .col-lg-offset-11 {
    margin-left: 91.66666667%;
  }
  .col-lg-offset-10 {
    margin-left: 83.33333333%;
  }
  .col-lg-offset-9 {
    margin-left: 75%;
  }
  .col-lg-offset-8 {
    margin-left: 66.66666667%;
  }
  .col-lg-offset-7 {
    margin-left: 58.33333333%;
  }
  .col-lg-offset-6 {
    margin-left: 50%;
  }
  .col-lg-offset-5 {
    margin-left: 41.66666667%;
  }
  .col-lg-offset-4 {
    margin-left: 33.33333333%;
  }
  .col-lg-offset-3 {
    margin-left: 25%;
  }
  .col-lg-offset-2 {
    margin-left: 16.66666667%;
  }
  .col-lg-offset-1 {
    margin-left: 8.33333333%;
  }
  .col-lg-offset-0 {
    margin-left: 0%;
  }
}
table {
  background-color: transparent;
}
caption {
  padding-top: 8px;
  padding-bottom: 8px;
  color: #777777;
  text-align: left;
}
th {
  text-align: left;
}
.table {
  width: 100%;
  max-width: 100%;
  margin-bottom: 18px;
}
.table > thead > tr > th,
.table > tbody > tr > th,
.table > tfoot > tr > th,
.table > thead > tr > td,
.table > tbody > tr > td,
.table > tfoot > tr > td {
  padding: 8px;
  line-height: 1.42857143;
  vertical-align: top;
  border-top: 1px solid #ddd;
}
.table > thead > tr > th {
  vertical-align: bottom;
  border-bottom: 2px solid #ddd;
}
.table > caption + thead > tr:first-child > th,
.table > colgroup + thead > tr:first-child > th,
.table > thead:first-child > tr:first-child > th,
.table > caption + thead > tr:first-child > td,
.table > colgroup + thead > tr:first-child > td,
.table > thead:first-child > tr:first-child > td {
  border-top: 0;
}
.table > tbody + tbody {
  border-top: 2px solid #ddd;
}
.table .table {
  background-color: #fff;
}
.table-condensed > thead > tr > th,
.table-condensed > tbody > tr > th,
.table-condensed > tfoot > tr > th,
.table-condensed > thead > tr > td,
.table-condensed > tbody > tr > td,
.table-condensed > tfoot > tr > td {
  padding: 5px;
}
.table-bordered {
  border: 1px solid #ddd;
}
.table-bordered > thead > tr > th,
.table-bordered > tbody > tr > th,
.table-bordered > tfoot > tr > th,
.table-bordered > thead > tr > td,
.table-bordered > tbody > tr > td,
.table-bordered > tfoot > tr > td {
  border: 1px solid #ddd;
}
.table-bordered > thead > tr > th,
.table-bordered > thead > tr > td {
  border-bottom-width: 2px;
}
.table-striped > tbody > tr:nth-of-type(odd) {
  background-color: #f9f9f9;
}
.table-hover > tbody > tr:hover {
  background-color: #f5f5f5;
}
table col[class*="col-"] {
  position: static;
  float: none;
  display: table-column;
}
table td[class*="col-"],
table th[class*="col-"] {
  position: static;
  float: none;
  display: table-cell;
}
.table > thead > tr > td.active,
.table > tbody > tr > td.active,
.table > tfoot > tr > td.active,
.table > thead > tr > th.active,
.table > tbody > tr > th.active,
.table > tfoot > tr > th.active,
.table > thead > tr.active > td,
.table > tbody > tr.active > td,
.table > tfoot > tr.active > td,
.table > thead > tr.active > th,
.table > tbody > tr.active > th,
.table > tfoot > tr.active > th {
  background-color: #f5f5f5;
}
.table-hover > tbody > tr > td.active:hover,
.table-hover > tbody > tr > th.active:hover,
.table-hover > tbody > tr.active:hover > td,
.table-hover > tbody > tr:hover > .active,
.table-hover > tbody > tr.active:hover > th {
  background-color: #e8e8e8;
}
.table > thead > tr > td.success,
.table > tbody > tr > td.success,
.table > tfoot > tr > td.success,
.table > thead > tr > th.success,
.table > tbody > tr > th.success,
.table > tfoot > tr > th.success,
.table > thead > tr.success > td,
.table > tbody > tr.success > td,
.table > tfoot > tr.success > td,
.table > thead > tr.success > th,
.table > tbody > tr.success > th,
.table > tfoot > tr.success > th {
  background-color: #dff0d8;
}
.table-hover > tbody > tr > td.success:hover,
.table-hover > tbody > tr > th.success:hover,
.table-hover > tbody > tr.success:hover > td,
.table-hover > tbody > tr:hover > .success,
.table-hover > tbody > tr.success:hover > th {
  background-color: #d0e9c6;
}
.table > thead > tr > td.info,
.table > tbody > tr > td.info,
.table > tfoot > tr > td.info,
.table > thead > tr > th.info,
.table > tbody > tr > th.info,
.table > tfoot > tr > th.info,
.table > thead > tr.info > td,
.table > tbody > tr.info > td,
.table > tfoot > tr.info > td,
.table > thead > tr.info > th,
.table > tbody > tr.info > th,
.table > tfoot > tr.info > th {
  background-color: #d9edf7;
}
.table-hover > tbody > tr > td.info:hover,
.table-hover > tbody > tr > th.info:hover,
.table-hover > tbody > tr.info:hover > td,
.table-hover > tbody > tr:hover > .info,
.table-hover > tbody > tr.info:hover > th {
  background-color: #c4e3f3;
}
.table > thead > tr > td.warning,
.table > tbody > tr > td.warning,
.table > tfoot > tr > td.warning,
.table > thead > tr > th.warning,
.table > tbody > tr > th.warning,
.table > tfoot > tr > th.warning,
.table > thead > tr.warning > td,
.table > tbody > tr.warning > td,
.table > tfoot > tr.warning > td,
.table > thead > tr.warning > th,
.table > tbody > tr.warning > th,
.table > tfoot > tr.warning > th {
  background-color: #fcf8e3;
}
.table-hover > tbody > tr > td.warning:hover,
.table-hover > tbody > tr > th.warning:hover,
.table-hover > tbody > tr.warning:hover > td,
.table-hover > tbody > tr:hover > .warning,
.table-hover > tbody > tr.warning:hover > th {
  background-color: #faf2cc;
}
.table > thead > tr > td.danger,
.table > tbody > tr > td.danger,
.table > tfoot > tr > td.danger,
.table > thead > tr > th.danger,
.table > tbody > tr > th.danger,
.table > tfoot > tr > th.danger,
.table > thead > tr.danger > td,
.table > tbody > tr.danger > td,
.table > tfoot > tr.danger > td,
.table > thead > tr.danger > th,
.table > tbody > tr.danger > th,
.table > tfoot > tr.danger > th {
  background-color: #f2dede;
}
.table-hover > tbody > tr > td.danger:hover,
.table-hover > tbody > tr > th.danger:hover,
.table-hover > tbody > tr.danger:hover > td,
.table-hover > tbody > tr:hover > .danger,
.table-hover > tbody > tr.danger:hover > th {
  background-color: #ebcccc;
}
.table-responsive {
  overflow-x: auto;
  min-height: 0.01%;
}
@media screen and (max-width: 767px) {
  .table-responsive {
    width: 100%;
    margin-bottom: 13.5px;
    overflow-y: hidden;
    -ms-overflow-style: -ms-autohiding-scrollbar;
    border: 1px solid #ddd;
  }
  .table-responsive > .table {
    margin-bottom: 0;
  }
  .table-responsive > .table > thead > tr > th,
  .table-responsive > .table > tbody > tr > th,
  .table-responsive > .table > tfoot > tr > th,
  .table-responsive > .table > thead > tr > td,
  .table-responsive > .table > tbody > tr > td,
  .table-responsive > .table > tfoot > tr > td {
    white-space: nowrap;
  }
  .table-responsive > .table-bordered {
    border: 0;
  }
  .table-responsive > .table-bordered > thead > tr > th:first-child,
  .table-responsive > .table-bordered > tbody > tr > th:first-child,
  .table-responsive > .table-bordered > tfoot > tr > th:first-child,
  .table-responsive > .table-bordered > thead > tr > td:first-child,
  .table-responsive > .table-bordered > tbody > tr > td:first-child,
  .table-responsive > .table-bordered > tfoot > tr > td:first-child {
    border-left: 0;
  }
  .table-responsive > .table-bordered > thead > tr > th:last-child,
  .table-responsive > .table-bordered > tbody > tr > th:last-child,
  .table-responsive > .table-bordered > tfoot > tr > th:last-child,
  .table-responsive > .table-bordered > thead > tr > td:last-child,
  .table-responsive > .table-bordered > tbody > tr > td:last-child,
  .table-responsive > .table-bordered > tfoot > tr > td:last-child {
    border-right: 0;
  }
  .table-responsive > .table-bordered > tbody > tr:last-child > th,
  .table-responsive > .table-bordered > tfoot > tr:last-child > th,
  .table-responsive > .table-bordered > tbody > tr:last-child > td,
  .table-responsive > .table-bordered > tfoot > tr:last-child > td {
    border-bottom: 0;
  }
}
fieldset {
  padding: 0;
  margin: 0;
  border: 0;
  min-width: 0;
}
legend {
  display: block;
  width: 100%;
  padding: 0;
  margin-bottom: 18px;
  font-size: 19.5px;
  line-height: inherit;
  color: #333333;
  border: 0;
  border-bottom: 1px solid #e5e5e5;
}
label {
  display: inline-block;
  max-width: 100%;
  margin-bottom: 5px;
  font-weight: bold;
}
input[type="search"] {
  -webkit-box-sizing: border-box;
  -moz-box-sizing: border-box;
  box-sizing: border-box;
}
input[type="radio"],
input[type="checkbox"] {
  margin: 4px 0 0;
  margin-top: 1px \9;
  line-height: normal;
}
input[type="file"] {
  display: block;
}
input[type="range"] {
  display: block;
  width: 100%;
}
select[multiple],
select[size] {
  height: auto;
}
input[type="file"]:focus,
input[type="radio"]:focus,
input[type="checkbox"]:focus {
  outline: 5px auto -webkit-focus-ring-color;
  outline-offset: -2px;
}
output {
  display: block;
  padding-top: 7px;
  font-size: 13px;
  line-height: 1.42857143;
  color: #555555;
}
.form-control {
  display: block;
  width: 100%;
  height: 32px;
  padding: 6px 12px;
  font-size: 13px;
  line-height: 1.42857143;
  color: #555555;
  background-color: #fff;
  background-image: none;
  border: 1px solid #ccc;
  border-radius: 2px;
  -webkit-box-shadow: inset 0 1px 1px rgba(0, 0, 0, 0.075);
  box-shadow: inset 0 1px 1px rgba(0, 0, 0, 0.075);
  -webkit-transition: border-color ease-in-out .15s, box-shadow ease-in-out .15s;
  -o-transition: border-color ease-in-out .15s, box-shadow ease-in-out .15s;
  transition: border-color ease-in-out .15s, box-shadow ease-in-out .15s;
}
.form-control:focus {
  border-color: #66afe9;
  outline: 0;
  -webkit-box-shadow: inset 0 1px 1px rgba(0,0,0,.075), 0 0 8px rgba(102, 175, 233, 0.6);
  box-shadow: inset 0 1px 1px rgba(0,0,0,.075), 0 0 8px rgba(102, 175, 233, 0.6);
}
.form-control::-moz-placeholder {
  color: #999;
  opacity: 1;
}
.form-control:-ms-input-placeholder {
  color: #999;
}
.form-control::-webkit-input-placeholder {
  color: #999;
}
.form-control::-ms-expand {
  border: 0;
  background-color: transparent;
}
.form-control[disabled],
.form-control[readonly],
fieldset[disabled] .form-control {
  background-color: #eeeeee;
  opacity: 1;
}
.form-control[disabled],
fieldset[disabled] .form-control {
  cursor: not-allowed;
}
textarea.form-control {
  height: auto;
}
input[type="search"] {
  -webkit-appearance: none;
}
@media screen and (-webkit-min-device-pixel-ratio: 0) {
  input[type="date"].form-control,
  input[type="time"].form-control,
  input[type="datetime-local"].form-control,
  input[type="month"].form-control {
    line-height: 32px;
  }
  input[type="date"].input-sm,
  input[type="time"].input-sm,
  input[type="datetime-local"].input-sm,
  input[type="month"].input-sm,
  .input-group-sm input[type="date"],
  .input-group-sm input[type="time"],
  .input-group-sm input[type="datetime-local"],
  .input-group-sm input[type="month"] {
    line-height: 30px;
  }
  input[type="date"].input-lg,
  input[type="time"].input-lg,
  input[type="datetime-local"].input-lg,
  input[type="month"].input-lg,
  .input-group-lg input[type="date"],
  .input-group-lg input[type="time"],
  .input-group-lg input[type="datetime-local"],
  .input-group-lg input[type="month"] {
    line-height: 45px;
  }
}
.form-group {
  margin-bottom: 15px;
}
.radio,
.checkbox {
  position: relative;
  display: block;
  margin-top: 10px;
  margin-bottom: 10px;
}
.radio label,
.checkbox label {
  min-height: 18px;
  padding-left: 20px;
  margin-bottom: 0;
  font-weight: normal;
  cursor: pointer;
}
.radio input[type="radio"],
.radio-inline input[type="radio"],
.checkbox input[type="checkbox"],
.checkbox-inline input[type="checkbox"] {
  position: absolute;
  margin-left: -20px;
  margin-top: 4px \9;
}
.radio + .radio,
.checkbox + .checkbox {
  margin-top: -5px;
}
.radio-inline,
.checkbox-inline {
  position: relative;
  display: inline-block;
  padding-left: 20px;
  margin-bottom: 0;
  vertical-align: middle;
  font-weight: normal;
  cursor: pointer;
}
.radio-inline + .radio-inline,
.checkbox-inline + .checkbox-inline {
  margin-top: 0;
  margin-left: 10px;
}
input[type="radio"][disabled],
input[type="checkbox"][disabled],
input[type="radio"].disabled,
input[type="checkbox"].disabled,
fieldset[disabled] input[type="radio"],
fieldset[disabled] input[type="checkbox"] {
  cursor: not-allowed;
}
.radio-inline.disabled,
.checkbox-inline.disabled,
fieldset[disabled] .radio-inline,
fieldset[disabled] .checkbox-inline {
  cursor: not-allowed;
}
.radio.disabled label,
.checkbox.disabled label,
fieldset[disabled] .radio label,
fieldset[disabled] .checkbox label {
  cursor: not-allowed;
}
.form-control-static {
  padding-top: 7px;
  padding-bottom: 7px;
  margin-bottom: 0;
  min-height: 31px;
}
.form-control-static.input-lg,
.form-control-static.input-sm {
  padding-left: 0;
  padding-right: 0;
}
.input-sm {
  height: 30px;
  padding: 5px 10px;
  font-size: 12px;
  line-height: 1.5;
  border-radius: 1px;
}
select.input-sm {
  height: 30px;
  line-height: 30px;
}
textarea.input-sm,
select[multiple].input-sm {
  height: auto;
}
.form-group-sm .form-control {
  height: 30px;
  padding: 5px 10px;
  font-size: 12px;
  line-height: 1.5;
  border-radius: 1px;
}
.form-group-sm select.form-control {
  height: 30px;
  line-height: 30px;
}
.form-group-sm textarea.form-control,
.form-group-sm select[multiple].form-control {
  height: auto;
}
.form-group-sm .form-control-static {
  height: 30px;
  min-height: 30px;
  padding: 6px 10px;
  font-size: 12px;
  line-height: 1.5;
}
.input-lg {
  height: 45px;
  padding: 10px 16px;
  font-size: 17px;
  line-height: 1.3333333;
  border-radius: 3px;
}
select.input-lg {
  height: 45px;
  line-height: 45px;
}
textarea.input-lg,
select[multiple].input-lg {
  height: auto;
}
.form-group-lg .form-control {
  height: 45px;
  padding: 10px 16px;
  font-size: 17px;
  line-height: 1.3333333;
  border-radius: 3px;
}
.form-group-lg select.form-control {
  height: 45px;
  line-height: 45px;
}
.form-group-lg textarea.form-control,
.form-group-lg select[multiple].form-control {
  height: auto;
}
.form-group-lg .form-control-static {
  height: 45px;
  min-height: 35px;
  padding: 11px 16px;
  font-size: 17px;
  line-height: 1.3333333;
}
.has-feedback {
  position: relative;
}
.has-feedback .form-control {
  padding-right: 40px;
}
.form-control-feedback {
  position: absolute;
  top: 0;
  right: 0;
  z-index: 2;
  display: block;
  width: 32px;
  height: 32px;
  line-height: 32px;
  text-align: center;
  pointer-events: none;
}
.input-lg + .form-control-feedback,
.input-group-lg + .form-control-feedback,
.form-group-lg .form-control + .form-control-feedback {
  width: 45px;
  height: 45px;
  line-height: 45px;
}
.input-sm + .form-control-feedback,
.input-group-sm + .form-control-feedback,
.form-group-sm .form-control + .form-control-feedback {
  width: 30px;
  height: 30px;
  line-height: 30px;
}
.has-success .help-block,
.has-success .control-label,
.has-success .radio,
.has-success .checkbox,
.has-success .radio-inline,
.has-success .checkbox-inline,
.has-success.radio label,
.has-success.checkbox label,
.has-success.radio-inline label,
.has-success.checkbox-inline label {
  color: #3c763d;
}
.has-success .form-control {
  border-color: #3c763d;
  -webkit-box-shadow: inset 0 1px 1px rgba(0, 0, 0, 0.075);
  box-shadow: inset 0 1px 1px rgba(0, 0, 0, 0.075);
}
.has-success .form-control:focus {
  border-color: #2b542c;
  -webkit-box-shadow: inset 0 1px 1px rgba(0, 0, 0, 0.075), 0 0 6px #67b168;
  box-shadow: inset 0 1px 1px rgba(0, 0, 0, 0.075), 0 0 6px #67b168;
}
.has-success .input-group-addon {
  color: #3c763d;
  border-color: #3c763d;
  background-color: #dff0d8;
}
.has-success .form-control-feedback {
  color: #3c763d;
}
.has-warning .help-block,
.has-warning .control-label,
.has-warning .radio,
.has-warning .checkbox,
.has-warning .radio-inline,
.has-warning .checkbox-inline,
.has-warning.radio label,
.has-warning.checkbox label,
.has-warning.radio-inline label,
.has-warning.checkbox-inline label {
  color: #8a6d3b;
}
.has-warning .form-control {
  border-color: #8a6d3b;
  -webkit-box-shadow: inset 0 1px 1px rgba(0, 0, 0, 0.075);
  box-shadow: inset 0 1px 1px rgba(0, 0, 0, 0.075);
}
.has-warning .form-control:focus {
  border-color: #66512c;
  -webkit-box-shadow: inset 0 1px 1px rgba(0, 0, 0, 0.075), 0 0 6px #c0a16b;
  box-shadow: inset 0 1px 1px rgba(0, 0, 0, 0.075), 0 0 6px #c0a16b;
}
.has-warning .input-group-addon {
  color: #8a6d3b;
  border-color: #8a6d3b;
  background-color: #fcf8e3;
}
.has-warning .form-control-feedback {
  color: #8a6d3b;
}
.has-error .help-block,
.has-error .control-label,
.has-error .radio,
.has-error .checkbox,
.has-error .radio-inline,
.has-error .checkbox-inline,
.has-error.radio label,
.has-error.checkbox label,
.has-error.radio-inline label,
.has-error.checkbox-inline label {
  color: #a94442;
}
.has-error .form-control {
  border-color: #a94442;
  -webkit-box-shadow: inset 0 1px 1px rgba(0, 0, 0, 0.075);
  box-shadow: inset 0 1px 1px rgba(0, 0, 0, 0.075);
}
.has-error .form-control:focus {
  border-color: #843534;
  -webkit-box-shadow: inset 0 1px 1px rgba(0, 0, 0, 0.075), 0 0 6px #ce8483;
  box-shadow: inset 0 1px 1px rgba(0, 0, 0, 0.075), 0 0 6px #ce8483;
}
.has-error .input-group-addon {
  color: #a94442;
  border-color: #a94442;
  background-color: #f2dede;
}
.has-error .form-control-feedback {
  color: #a94442;
}
.has-feedback label ~ .form-control-feedback {
  top: 23px;
}
.has-feedback label.sr-only ~ .form-control-feedback {
  top: 0;
}
.help-block {
  display: block;
  margin-top: 5px;
  margin-bottom: 10px;
  color: #404040;
}
@media (min-width: 768px) {
  .form-inline .form-group {
    display: inline-block;
    margin-bottom: 0;
    vertical-align: middle;
  }
  .form-inline .form-control {
    display: inline-block;
    width: auto;
    vertical-align: middle;
  }
  .form-inline .form-control-static {
    display: inline-block;
  }
  .form-inline .input-group {
    display: inline-table;
    vertical-align: middle;
  }
  .form-inline .input-group .input-group-addon,
  .form-inline .input-group .input-group-btn,
  .form-inline .input-group .form-control {
    width: auto;
  }
  .form-inline .input-group > .form-control {
    width: 100%;
  }
  .form-inline .control-label {
    margin-bottom: 0;
    vertical-align: middle;
  }
  .form-inline .radio,
  .form-inline .checkbox {
    display: inline-block;
    margin-top: 0;
    margin-bottom: 0;
    vertical-align: middle;
  }
  .form-inline .radio label,
  .form-inline .checkbox label {
    padding-left: 0;
  }
  .form-inline .radio input[type="radio"],
  .form-inline .checkbox input[type="checkbox"] {
    position: relative;
    margin-left: 0;
  }
  .form-inline .has-feedback .form-control-feedback {
    top: 0;
  }
}
.form-horizontal .radio,
.form-horizontal .checkbox,
.form-horizontal .radio-inline,
.form-horizontal .checkbox-inline {
  margin-top: 0;
  margin-bottom: 0;
  padding-top: 7px;
}
.form-horizontal .radio,
.form-horizontal .checkbox {
  min-height: 25px;
}
.form-horizontal .form-group {
  margin-left: 0px;
  margin-right: 0px;
}
@media (min-width: 768px) {
  .form-horizontal .control-label {
    text-align: right;
    margin-bottom: 0;
    padding-top: 7px;
  }
}
.form-horizontal .has-feedback .form-control-feedback {
  right: 0px;
}
@media (min-width: 768px) {
  .form-horizontal .form-group-lg .control-label {
    padding-top: 11px;
    font-size: 17px;
  }
}
@media (min-width: 768px) {
  .form-horizontal .form-group-sm .control-label {
    padding-top: 6px;
    font-size: 12px;
  }
}
.btn {
  display: inline-block;
  margin-bottom: 0;
  font-weight: normal;
  text-align: center;
  vertical-align: middle;
  touch-action: manipulation;
  cursor: pointer;
  background-image: none;
  border: 1px solid transparent;
  white-space: nowrap;
  padding: 6px 12px;
  font-size: 13px;
  line-height: 1.42857143;
  border-radius: 2px;
  -webkit-user-select: none;
  -moz-user-select: none;
  -ms-user-select: none;
  user-select: none;
}
.btn:focus,
.btn:active:focus,
.btn.active:focus,
.btn.focus,
.btn:active.focus,
.btn.active.focus {
  outline: 5px auto -webkit-focus-ring-color;
  outline-offset: -2px;
}
.btn:hover,
.btn:focus,
.btn.focus {
  color: #333;
  text-decoration: none;
}
.btn:active,
.btn.active {
  outline: 0;
  background-image: none;
  -webkit-box-shadow: inset 0 3px 5px rgba(0, 0, 0, 0.125);
  box-shadow: inset 0 3px 5px rgba(0, 0, 0, 0.125);
}
.btn.disabled,
.btn[disabled],
fieldset[disabled] .btn {
  cursor: not-allowed;
  opacity: 0.65;
  filter: alpha(opacity=65);
  -webkit-box-shadow: none;
  box-shadow: none;
}
a.btn.disabled,
fieldset[disabled] a.btn {
  pointer-events: none;
}
.btn-default {
  color: #333;
  background-color: #fff;
  border-color: #ccc;
}
.btn-default:focus,
.btn-default.focus {
  color: #333;
  background-color: #e6e6e6;
  border-color: #8c8c8c;
}
.btn-default:hover {
  color: #333;
  background-color: #e6e6e6;
  border-color: #adadad;
}
.btn-default:active,
.btn-default.active,
.open > .dropdown-toggle.btn-default {
  color: #333;
  background-color: #e6e6e6;
  border-color: #adadad;
}
.btn-default:active:hover,
.btn-default.active:hover,
.open > .dropdown-toggle.btn-default:hover,
.btn-default:active:focus,
.btn-default.active:focus,
.open > .dropdown-toggle.btn-default:focus,
.btn-default:active.focus,
.btn-default.active.focus,
.open > .dropdown-toggle.btn-default.focus {
  color: #333;
  background-color: #d4d4d4;
  border-color: #8c8c8c;
}
.btn-default:active,
.btn-default.active,
.open > .dropdown-toggle.btn-default {
  background-image: none;
}
.btn-default.disabled:hover,
.btn-default[disabled]:hover,
fieldset[disabled] .btn-default:hover,
.btn-default.disabled:focus,
.btn-default[disabled]:focus,
fieldset[disabled] .btn-default:focus,
.btn-default.disabled.focus,
.btn-default[disabled].focus,
fieldset[disabled] .btn-default.focus {
  background-color: #fff;
  border-color: #ccc;
}
.btn-default .badge {
  color: #fff;
  background-color: #333;
}
.btn-primary {
  color: #fff;
  background-color: #337ab7;
  border-color: #2e6da4;
}
.btn-primary:focus,
.btn-primary.focus {
  color: #fff;
  background-color: #286090;
  border-color: #122b40;
}
.btn-primary:hover {
  color: #fff;
  background-color: #286090;
  border-color: #204d74;
}
.btn-primary:active,
.btn-primary.active,
.open > .dropdown-toggle.btn-primary {
  color: #fff;
  background-color: #286090;
  border-color: #204d74;
}
.btn-primary:active:hover,
.btn-primary.active:hover,
.open > .dropdown-toggle.btn-primary:hover,
.btn-primary:active:focus,
.btn-primary.active:focus,
.open > .dropdown-toggle.btn-primary:focus,
.btn-primary:active.focus,
.btn-primary.active.focus,
.open > .dropdown-toggle.btn-primary.focus {
  color: #fff;
  background-color: #204d74;
  border-color: #122b40;
}
.btn-primary:active,
.btn-primary.active,
.open > .dropdown-toggle.btn-primary {
  background-image: none;
}
.btn-primary.disabled:hover,
.btn-primary[disabled]:hover,
fieldset[disabled] .btn-primary:hover,
.btn-primary.disabled:focus,
.btn-primary[disabled]:focus,
fieldset[disabled] .btn-primary:focus,
.btn-primary.disabled.focus,
.btn-primary[disabled].focus,
fieldset[disabled] .btn-primary.focus {
  background-color: #337ab7;
  border-color: #2e6da4;
}
.btn-primary .badge {
  color: #337ab7;
  background-color: #fff;
}
.btn-success {
  color: #fff;
  background-color: #5cb85c;
  border-color: #4cae4c;
}
.btn-success:focus,
.btn-success.focus {
  color: #fff;
  background-color: #449d44;
  border-color: #255625;
}
.btn-success:hover {
  color: #fff;
  background-color: #449d44;
  border-color: #398439;
}
.btn-success:active,
.btn-success.active,
.open > .dropdown-toggle.btn-success {
  color: #fff;
  background-color: #449d44;
  border-color: #398439;
}
.btn-success:active:hover,
.btn-success.active:hover,
.open > .dropdown-toggle.btn-success:hover,
.btn-success:active:focus,
.btn-success.active:focus,
.open > .dropdown-toggle.btn-success:focus,
.btn-success:active.focus,
.btn-success.active.focus,
.open > .dropdown-toggle.btn-success.focus {
  color: #fff;
  background-color: #398439;
  border-color: #255625;
}
.btn-success:active,
.btn-success.active,
.open > .dropdown-toggle.btn-success {
  background-image: none;
}
.btn-success.disabled:hover,
.btn-success[disabled]:hover,
fieldset[disabled] .btn-success:hover,
.btn-success.disabled:focus,
.btn-success[disabled]:focus,
fieldset[disabled] .btn-success:focus,
.btn-success.disabled.focus,
.btn-success[disabled].focus,
fieldset[disabled] .btn-success.focus {
  background-color: #5cb85c;
  border-color: #4cae4c;
}
.btn-success .badge {
  color: #5cb85c;
  background-color: #fff;
}
.btn-info {
  color: #fff;
  background-color: #5bc0de;
  border-color: #46b8da;
}
.btn-info:focus,
.btn-info.focus {
  color: #fff;
  background-color: #31b0d5;
  border-color: #1b6d85;
}
.btn-info:hover {
  color: #fff;
  background-color: #31b0d5;
  border-color: #269abc;
}
.btn-info:active,
.btn-info.active,
.open > .dropdown-toggle.btn-info {
  color: #fff;
  background-color: #31b0d5;
  border-color: #269abc;
}
.btn-info:active:hover,
.btn-info.active:hover,
.open > .dropdown-toggle.btn-info:hover,
.btn-info:active:focus,
.btn-info.active:focus,
.open > .dropdown-toggle.btn-info:focus,
.btn-info:active.focus,
.btn-info.active.focus,
.open > .dropdown-toggle.btn-info.focus {
  color: #fff;
  background-color: #269abc;
  border-color: #1b6d85;
}
.btn-info:active,
.btn-info.active,
.open > .dropdown-toggle.btn-info {
  background-image: none;
}
.btn-info.disabled:hover,
.btn-info[disabled]:hover,
fieldset[disabled] .btn-info:hover,
.btn-info.disabled:focus,
.btn-info[disabled]:focus,
fieldset[disabled] .btn-info:focus,
.btn-info.disabled.focus,
.btn-info[disabled].focus,
fieldset[disabled] .btn-info.focus {
  background-color: #5bc0de;
  border-color: #46b8da;
}
.btn-info .badge {
  color: #5bc0de;
  background-color: #fff;
}
.btn-warning {
  color: #fff;
  background-color: #f0ad4e;
  border-color: #eea236;
}
.btn-warning:focus,
.btn-warning.focus {
  color: #fff;
  background-color: #ec971f;
  border-color: #985f0d;
}
.btn-warning:hover {
  color: #fff;
  background-color: #ec971f;
  border-color: #d58512;
}
.btn-warning:active,
.btn-warning.active,
.open > .dropdown-toggle.btn-warning {
  color: #fff;
  background-color: #ec971f;
  border-color: #d58512;
}
.btn-warning:active:hover,
.btn-warning.active:hover,
.open > .dropdown-toggle.btn-warning:hover,
.btn-warning:active:focus,
.btn-warning.active:focus,
.open > .dropdown-toggle.btn-warning:focus,
.btn-warning:active.focus,
.btn-warning.active.focus,
.open > .dropdown-toggle.btn-warning.focus {
  color: #fff;
  background-color: #d58512;
  border-color: #985f0d;
}
.btn-warning:active,
.btn-warning.active,
.open > .dropdown-toggle.btn-warning {
  background-image: none;
}
.btn-warning.disabled:hover,
.btn-warning[disabled]:hover,
fieldset[disabled] .btn-warning:hover,
.btn-warning.disabled:focus,
.btn-warning[disabled]:focus,
fieldset[disabled] .btn-warning:focus,
.btn-warning.disabled.focus,
.btn-warning[disabled].focus,
fieldset[disabled] .btn-warning.focus {
  background-color: #f0ad4e;
  border-color: #eea236;
}
.btn-warning .badge {
  color: #f0ad4e;
  background-color: #fff;
}
.btn-danger {
  color: #fff;
  background-color: #d9534f;
  border-color: #d43f3a;
}
.btn-danger:focus,
.btn-danger.focus {
  color: #fff;
  background-color: #c9302c;
  border-color: #761c19;
}
.btn-danger:hover {
  color: #fff;
  background-color: #c9302c;
  border-color: #ac2925;
}
.btn-danger:active,
.btn-danger.active,
.open > .dropdown-toggle.btn-danger {
  color: #fff;
  background-color: #c9302c;
  border-color: #ac2925;
}
.btn-danger:active:hover,
.btn-danger.active:hover,
.open > .dropdown-toggle.btn-danger:hover,
.btn-danger:active:focus,
.btn-danger.active:focus,
.open > .dropdown-toggle.btn-danger:focus,
.btn-danger:active.focus,
.btn-danger.active.focus,
.open > .dropdown-toggle.btn-danger.focus {
  color: #fff;
  background-color: #ac2925;
  border-color: #761c19;
}
.btn-danger:active,
.btn-danger.active,
.open > .dropdown-toggle.btn-danger {
  background-image: none;
}
.btn-danger.disabled:hover,
.btn-danger[disabled]:hover,
fieldset[disabled] .btn-danger:hover,
.btn-danger.disabled:focus,
.btn-danger[disabled]:focus,
fieldset[disabled] .btn-danger:focus,
.btn-danger.disabled.focus,
.btn-danger[disabled].focus,
fieldset[disabled] .btn-danger.focus {
  background-color: #d9534f;
  border-color: #d43f3a;
}
.btn-danger .badge {
  color: #d9534f;
  background-color: #fff;
}
.btn-link {
  color: #337ab7;
  font-weight: normal;
  border-radius: 0;
}
.btn-link,
.btn-link:active,
.btn-link.active,
.btn-link[disabled],
fieldset[disabled] .btn-link {
  background-color: transparent;
  -webkit-box-shadow: none;
  box-shadow: none;
}
.btn-link,
.btn-link:hover,
.btn-link:focus,
.btn-link:active {
  border-color: transparent;
}
.btn-link:hover,
.btn-link:focus {
  color: #23527c;
  text-decoration: underline;
  background-color: transparent;
}
.btn-link[disabled]:hover,
fieldset[disabled] .btn-link:hover,
.btn-link[disabled]:focus,
fieldset[disabled] .btn-link:focus {
  color: #777777;
  text-decoration: none;
}
.btn-lg,
.btn-group-lg > .btn {
  padding: 10px 16px;
  font-size: 17px;
  line-height: 1.3333333;
  border-radius: 3px;
}
.btn-sm,
.btn-group-sm > .btn {
  padding: 5px 10px;
  font-size: 12px;
  line-height: 1.5;
  border-radius: 1px;
}
.btn-xs,
.btn-group-xs > .btn {
  padding: 1px 5px;
  font-size: 12px;
  line-height: 1.5;
  border-radius: 1px;
}
.btn-block {
  display: block;
  width: 100%;
}
.btn-block + .btn-block {
  margin-top: 5px;
}
input[type="submit"].btn-block,
input[type="reset"].btn-block,
input[type="button"].btn-block {
  width: 100%;
}
.fade {
  opacity: 0;
  -webkit-transition: opacity 0.15s linear;
  -o-transition: opacity 0.15s linear;
  transition: opacity 0.15s linear;
}
.fade.in {
  opacity: 1;
}
.collapse {
  display: none;
}
.collapse.in {
  display: block;
}
tr.collapse.in {
  display: table-row;
}
tbody.collapse.in {
  display: table-row-group;
}
.collapsing {
  position: relative;
  height: 0;
  overflow: hidden;
  -webkit-transition-property: height, visibility;
  transition-property: height, visibility;
  -webkit-transition-duration: 0.35s;
  transition-duration: 0.35s;
  -webkit-transition-timing-function: ease;
  transition-timing-function: ease;
}
.caret {
  display: inline-block;
  width: 0;
  height: 0;
  margin-left: 2px;
  vertical-align: middle;
  border-top: 4px dashed;
  border-top: 4px solid \9;
  border-right: 4px solid transparent;
  border-left: 4px solid transparent;
}
.dropup,
.dropdown {
  position: relative;
}
.dropdown-toggle:focus {
  outline: 0;
}
.dropdown-menu {
  position: absolute;
  top: 100%;
  left: 0;
  z-index: 1000;
  display: none;
  float: left;
  min-width: 160px;
  padding: 5px 0;
  margin: 2px 0 0;
  list-style: none;
  font-size: 13px;
  text-align: left;
  background-color: #fff;
  border: 1px solid #ccc;
  border: 1px solid rgba(0, 0, 0, 0.15);
  border-radius: 2px;
  -webkit-box-shadow: 0 6px 12px rgba(0, 0, 0, 0.175);
  box-shadow: 0 6px 12px rgba(0, 0, 0, 0.175);
  background-clip: padding-box;
}
.dropdown-menu.pull-right {
  right: 0;
  left: auto;
}
.dropdown-menu .divider {
  height: 1px;
  margin: 8px 0;
  overflow: hidden;
  background-color: #e5e5e5;
}
.dropdown-menu > li > a {
  display: block;
  padding: 3px 20px;
  clear: both;
  font-weight: normal;
  line-height: 1.42857143;
  color: #333333;
  white-space: nowrap;
}
.dropdown-menu > li > a:hover,
.dropdown-menu > li > a:focus {
  text-decoration: none;
  color: #262626;
  background-color: #f5f5f5;
}
.dropdown-menu > .active > a,
.dropdown-menu > .active > a:hover,
.dropdown-menu > .active > a:focus {
  color: #fff;
  text-decoration: none;
  outline: 0;
  background-color: #337ab7;
}
.dropdown-menu > .disabled > a,
.dropdown-menu > .disabled > a:hover,
.dropdown-menu > .disabled > a:focus {
  color: #777777;
}
.dropdown-menu > .disabled > a:hover,
.dropdown-menu > .disabled > a:focus {
  text-decoration: none;
  background-color: transparent;
  background-image: none;
  filter: progid:DXImageTransform.Microsoft.gradient(enabled = false);
  cursor: not-allowed;
}
.open > .dropdown-menu {
  display: block;
}
.open > a {
  outline: 0;
}
.dropdown-menu-right {
  left: auto;
  right: 0;
}
.dropdown-menu-left {
  left: 0;
  right: auto;
}
.dropdown-header {
  display: block;
  padding: 3px 20px;
  font-size: 12px;
  line-height: 1.42857143;
  color: #777777;
  white-space: nowrap;
}
.dropdown-backdrop {
  position: fixed;
  left: 0;
  right: 0;
  bottom: 0;
  top: 0;
  z-index: 990;
}
.pull-right > .dropdown-menu {
  right: 0;
  left: auto;
}
.dropup .caret,
.navbar-fixed-bottom .dropdown .caret {
  border-top: 0;
  border-bottom: 4px dashed;
  border-bottom: 4px solid \9;
  content: "";
}
.dropup .dropdown-menu,
.navbar-fixed-bottom .dropdown .dropdown-menu {
  top: auto;
  bottom: 100%;
  margin-bottom: 2px;
}
@media (min-width: 541px) {
  .navbar-right .dropdown-menu {
    left: auto;
    right: 0;
  }
  .navbar-right .dropdown-menu-left {
    left: 0;
    right: auto;
  }
}
.btn-group,
.btn-group-vertical {
  position: relative;
  display: inline-block;
  vertical-align: middle;
}
.btn-group > .btn,
.btn-group-vertical > .btn {
  position: relative;
  float: left;
}
.btn-group > .btn:hover,
.btn-group-vertical > .btn:hover,
.btn-group > .btn:focus,
.btn-group-vertical > .btn:focus,
.btn-group > .btn:active,
.btn-group-vertical > .btn:active,
.btn-group > .btn.active,
.btn-group-vertical > .btn.active {
  z-index: 2;
}
.btn-group .btn + .btn,
.btn-group .btn + .btn-group,
.btn-group .btn-group + .btn,
.btn-group .btn-group + .btn-group {
  margin-left: -1px;
}
.btn-toolbar {
  margin-left: -5px;
}
.btn-toolbar .btn,
.btn-toolbar .btn-group,
.btn-toolbar .input-group {
  float: left;
}
.btn-toolbar > .btn,
.btn-toolbar > .btn-group,
.btn-toolbar > .input-group {
  margin-left: 5px;
}
.btn-group > .btn:not(:first-child):not(:last-child):not(.dropdown-toggle) {
  border-radius: 0;
}
.btn-group > .btn:first-child {
  margin-left: 0;
}
.btn-group > .btn:first-child:not(:last-child):not(.dropdown-toggle) {
  border-bottom-right-radius: 0;
  border-top-right-radius: 0;
}
.btn-group > .btn:last-child:not(:first-child),
.btn-group > .dropdown-toggle:not(:first-child) {
  border-bottom-left-radius: 0;
  border-top-left-radius: 0;
}
.btn-group > .btn-group {
  float: left;
}
.btn-group > .btn-group:not(:first-child):not(:last-child) > .btn {
  border-radius: 0;
}
.btn-group > .btn-group:first-child:not(:last-child) > .btn:last-child,
.btn-group > .btn-group:first-child:not(:last-child) > .dropdown-toggle {
  border-bottom-right-radius: 0;
  border-top-right-radius: 0;
}
.btn-group > .btn-group:last-child:not(:first-child) > .btn:first-child {
  border-bottom-left-radius: 0;
  border-top-left-radius: 0;
}
.btn-group .dropdown-toggle:active,
.btn-group.open .dropdown-toggle {
  outline: 0;
}
.btn-group > .btn + .dropdown-toggle {
  padding-left: 8px;
  padding-right: 8px;
}
.btn-group > .btn-lg + .dropdown-toggle {
  padding-left: 12px;
  padding-right: 12px;
}
.btn-group.open .dropdown-toggle {
  -webkit-box-shadow: inset 0 3px 5px rgba(0, 0, 0, 0.125);
  box-shadow: inset 0 3px 5px rgba(0, 0, 0, 0.125);
}
.btn-group.open .dropdown-toggle.btn-link {
  -webkit-box-shadow: none;
  box-shadow: none;
}
.btn .caret {
  margin-left: 0;
}
.btn-lg .caret {
  border-width: 5px 5px 0;
  border-bottom-width: 0;
}
.dropup .btn-lg .caret {
  border-width: 0 5px 5px;
}
.btn-group-vertical > .btn,
.btn-group-vertical > .btn-group,
.btn-group-vertical > .btn-group > .btn {
  display: block;
  float: none;
  width: 100%;
  max-width: 100%;
}
.btn-group-vertical > .btn-group > .btn {
  float: none;
}
.btn-group-vertical > .btn + .btn,
.btn-group-vertical > .btn + .btn-group,
.btn-group-vertical > .btn-group + .btn,
.btn-group-vertical > .btn-group + .btn-group {
  margin-top: -1px;
  margin-left: 0;
}
.btn-group-vertical > .btn:not(:first-child):not(:last-child) {
  border-radius: 0;
}
.btn-group-vertical > .btn:first-child:not(:last-child) {
  border-top-right-radius: 2px;
  border-top-left-radius: 2px;
  border-bottom-right-radius: 0;
  border-bottom-left-radius: 0;
}
.btn-group-vertical > .btn:last-child:not(:first-child) {
  border-top-right-radius: 0;
  border-top-left-radius: 0;
  border-bottom-right-radius: 2px;
  border-bottom-left-radius: 2px;
}
.btn-group-vertical > .btn-group:not(:first-child):not(:last-child) > .btn {
  border-radius: 0;
}
.btn-group-vertical > .btn-group:first-child:not(:last-child) > .btn:last-child,
.btn-group-vertical > .btn-group:first-child:not(:last-child) > .dropdown-toggle {
  border-bottom-right-radius: 0;
  border-bottom-left-radius: 0;
}
.btn-group-vertical > .btn-group:last-child:not(:first-child) > .btn:first-child {
  border-top-right-radius: 0;
  border-top-left-radius: 0;
}
.btn-group-justified {
  display: table;
  width: 100%;
  table-layout: fixed;
  border-collapse: separate;
}
.btn-group-justified > .btn,
.btn-group-justified > .btn-group {
  float: none;
  display: table-cell;
  width: 1%;
}
.btn-group-justified > .btn-group .btn {
  width: 100%;
}
.btn-group-justified > .btn-group .dropdown-menu {
  left: auto;
}
[data-toggle="buttons"] > .btn input[type="radio"],
[data-toggle="buttons"] > .btn-group > .btn input[type="radio"],
[data-toggle="buttons"] > .btn input[type="checkbox"],
[data-toggle="buttons"] > .btn-group > .btn input[type="checkbox"] {
  position: absolute;
  clip: rect(0, 0, 0, 0);
  pointer-events: none;
}
.input-group {
  position: relative;
  display: table;
  border-collapse: separate;
}
.input-group[class*="col-"] {
  float: none;
  padding-left: 0;
  padding-right: 0;
}
.input-group .form-control {
  position: relative;
  z-index: 2;
  float: left;
  width: 100%;
  margin-bottom: 0;
}
.input-group .form-control:focus {
  z-index: 3;
}
.input-group-lg > .form-control,
.input-group-lg > .input-group-addon,
.input-group-lg > .input-group-btn > .btn {
  height: 45px;
  padding: 10px 16px;
  font-size: 17px;
  line-height: 1.3333333;
  border-radius: 3px;
}
select.input-group-lg > .form-control,
select.input-group-lg > .input-group-addon,
select.input-group-lg > .input-group-btn > .btn {
  height: 45px;
  line-height: 45px;
}
textarea.input-group-lg > .form-control,
textarea.input-group-lg > .input-group-addon,
textarea.input-group-lg > .input-group-btn > .btn,
select[multiple].input-group-lg > .form-control,
select[multiple].input-group-lg > .input-group-addon,
select[multiple].input-group-lg > .input-group-btn > .btn {
  height: auto;
}
.input-group-sm > .form-control,
.input-group-sm > .input-group-addon,
.input-group-sm > .input-group-btn > .btn {
  height: 30px;
  padding: 5px 10px;
  font-size: 12px;
  line-height: 1.5;
  border-radius: 1px;
}
select.input-group-sm > .form-control,
select.input-group-sm > .input-group-addon,
select.input-group-sm > .input-group-btn > .btn {
  height: 30px;
  line-height: 30px;
}
textarea.input-group-sm > .form-control,
textarea.input-group-sm > .input-group-addon,
textarea.input-group-sm > .input-group-btn > .btn,
select[multiple].input-group-sm > .form-control,
select[multiple].input-group-sm > .input-group-addon,
select[multiple].input-group-sm > .input-group-btn > .btn {
  height: auto;
}
.input-group-addon,
.input-group-btn,
.input-group .form-control {
  display: table-cell;
}
.input-group-addon:not(:first-child):not(:last-child),
.input-group-btn:not(:first-child):not(:last-child),
.input-group .form-control:not(:first-child):not(:last-child) {
  border-radius: 0;
}
.input-group-addon,
.input-group-btn {
  width: 1%;
  white-space: nowrap;
  vertical-align: middle;
}
.input-group-addon {
  padding: 6px 12px;
  font-size: 13px;
  font-weight: normal;
  line-height: 1;
  color: #555555;
  text-align: center;
  background-color: #eeeeee;
  border: 1px solid #ccc;
  border-radius: 2px;
}
.input-group-addon.input-sm {
  padding: 5px 10px;
  font-size: 12px;
  border-radius: 1px;
}
.input-group-addon.input-lg {
  padding: 10px 16px;
  font-size: 17px;
  border-radius: 3px;
}
.input-group-addon input[type="radio"],
.input-group-addon input[type="checkbox"] {
  margin-top: 0;
}
.input-group .form-control:first-child,
.input-group-addon:first-child,
.input-group-btn:first-child > .btn,
.input-group-btn:first-child > .btn-group > .btn,
.input-group-btn:first-child > .dropdown-toggle,
.input-group-btn:last-child > .btn:not(:last-child):not(.dropdown-toggle),
.input-group-btn:last-child > .btn-group:not(:last-child) > .btn {
  border-bottom-right-radius: 0;
  border-top-right-radius: 0;
}
.input-group-addon:first-child {
  border-right: 0;
}
.input-group .form-control:last-child,
.input-group-addon:last-child,
.input-group-btn:last-child > .btn,
.input-group-btn:last-child > .btn-group > .btn,
.input-group-btn:last-child > .dropdown-toggle,
.input-group-btn:first-child > .btn:not(:first-child),
.input-group-btn:first-child > .btn-group:not(:first-child) > .btn {
  border-bottom-left-radius: 0;
  border-top-left-radius: 0;
}
.input-group-addon:last-child {
  border-left: 0;
}
.input-group-btn {
  position: relative;
  font-size: 0;
  white-space: nowrap;
}
.input-group-btn > .btn {
  position: relative;
}
.input-group-btn > .btn + .btn {
  margin-left: -1px;
}
.input-group-btn > .btn:hover,
.input-group-btn > .btn:focus,
.input-group-btn > .btn:active {
  z-index: 2;
}
.input-group-btn:first-child > .btn,
.input-group-btn:first-child > .btn-group {
  margin-right: -1px;
}
.input-group-btn:last-child > .btn,
.input-group-btn:last-child > .btn-group {
  z-index: 2;
  margin-left: -1px;
}
.nav {
  margin-bottom: 0;
  padding-left: 0;
  list-style: none;
}
.nav > li {
  position: relative;
  display: block;
}
.nav > li > a {
  position: relative;
  display: block;
  padding: 10px 15px;
}
.nav > li > a:hover,
.nav > li > a:focus {
  text-decoration: none;
  background-color: #eeeeee;
}
.nav > li.disabled > a {
  color: #777777;
}
.nav > li.disabled > a:hover,
.nav > li.disabled > a:focus {
  color: #777777;
  text-decoration: none;
  background-color: transparent;
  cursor: not-allowed;
}
.nav .open > a,
.nav .open > a:hover,
.nav .open > a:focus {
  background-color: #eeeeee;
  border-color: #337ab7;
}
.nav .nav-divider {
  height: 1px;
  margin: 8px 0;
  overflow: hidden;
  background-color: #e5e5e5;
}
.nav > li > a > img {
  max-width: none;
}
.nav-tabs {
  border-bottom: 1px solid #ddd;
}
.nav-tabs > li {
  float: left;
  margin-bottom: -1px;
}
.nav-tabs > li > a {
  margin-right: 2px;
  line-height: 1.42857143;
  border: 1px solid transparent;
  border-radius: 2px 2px 0 0;
}
.nav-tabs > li > a:hover {
  border-color: #eeeeee #eeeeee #ddd;
}
.nav-tabs > li.active > a,
.nav-tabs > li.active > a:hover,
.nav-tabs > li.active > a:focus {
  color: #555555;
  background-color: #fff;
  border: 1px solid #ddd;
  border-bottom-color: transparent;
  cursor: default;
}
.nav-tabs.nav-justified {
  width: 100%;
  border-bottom: 0;
}
.nav-tabs.nav-justified > li {
  float: none;
}
.nav-tabs.nav-justified > li > a {
  text-align: center;
  margin-bottom: 5px;
}
.nav-tabs.nav-justified > .dropdown .dropdown-menu {
  top: auto;
  left: auto;
}
@media (min-width: 768px) {
  .nav-tabs.nav-justified > li {
    display: table-cell;
    width: 1%;
  }
  .nav-tabs.nav-justified > li > a {
    margin-bottom: 0;
  }
}
.nav-tabs.nav-justified > li > a {
  margin-right: 0;
  border-radius: 2px;
}
.nav-tabs.nav-justified > .active > a,
.nav-tabs.nav-justified > .active > a:hover,
.nav-tabs.nav-justified > .active > a:focus {
  border: 1px solid #ddd;
}
@media (min-width: 768px) {
  .nav-tabs.nav-justified > li > a {
    border-bottom: 1px solid #ddd;
    border-radius: 2px 2px 0 0;
  }
  .nav-tabs.nav-justified > .active > a,
  .nav-tabs.nav-justified > .active > a:hover,
  .nav-tabs.nav-justified > .active > a:focus {
    border-bottom-color: #fff;
  }
}
.nav-pills > li {
  float: left;
}
.nav-pills > li > a {
  border-radius: 2px;
}
.nav-pills > li + li {
  margin-left: 2px;
}
.nav-pills > li.active > a,
.nav-pills > li.active > a:hover,
.nav-pills > li.active > a:focus {
  color: #fff;
  background-color: #337ab7;
}
.nav-stacked > li {
  float: none;
}
.nav-stacked > li + li {
  margin-top: 2px;
  margin-left: 0;
}
.nav-justified {
  width: 100%;
}
.nav-justified > li {
  float: none;
}
.nav-justified > li > a {
  text-align: center;
  margin-bottom: 5px;
}
.nav-justified > .dropdown .dropdown-menu {
  top: auto;
  left: auto;
}
@media (min-width: 768px) {
  .nav-justified > li {
    display: table-cell;
    width: 1%;
  }
  .nav-justified > li > a {
    margin-bottom: 0;
  }
}
.nav-tabs-justified {
  border-bottom: 0;
}
.nav-tabs-justified > li > a {
  margin-right: 0;
  border-radius: 2px;
}
.nav-tabs-justified > .active > a,
.nav-tabs-justified > .active > a:hover,
.nav-tabs-justified > .active > a:focus {
  border: 1px solid #ddd;
}
@media (min-width: 768px) {
  .nav-tabs-justified > li > a {
    border-bottom: 1px solid #ddd;
    border-radius: 2px 2px 0 0;
  }
  .nav-tabs-justified > .active > a,
  .nav-tabs-justified > .active > a:hover,
  .nav-tabs-justified > .active > a:focus {
    border-bottom-color: #fff;
  }
}
.tab-content > .tab-pane {
  display: none;
}
.tab-content > .active {
  display: block;
}
.nav-tabs .dropdown-menu {
  margin-top: -1px;
  border-top-right-radius: 0;
  border-top-left-radius: 0;
}
.navbar {
  position: relative;
  min-height: 30px;
  margin-bottom: 18px;
  border: 1px solid transparent;
}
@media (min-width: 541px) {
  .navbar {
    border-radius: 2px;
  }
}
@media (min-width: 541px) {
  .navbar-header {
    float: left;
  }
}
.navbar-collapse {
  overflow-x: visible;
  padding-right: 0px;
  padding-left: 0px;
  border-top: 1px solid transparent;
  box-shadow: inset 0 1px 0 rgba(255, 255, 255, 0.1);
  -webkit-overflow-scrolling: touch;
}
.navbar-collapse.in {
  overflow-y: auto;
}
@media (min-width: 541px) {
  .navbar-collapse {
    width: auto;
    border-top: 0;
    box-shadow: none;
  }
  .navbar-collapse.collapse {
    display: block !important;
    height: auto !important;
    padding-bottom: 0;
    overflow: visible !important;
  }
  .navbar-collapse.in {
    overflow-y: visible;
  }
  .navbar-fixed-top .navbar-collapse,
  .navbar-static-top .navbar-collapse,
  .navbar-fixed-bottom .navbar-collapse {
    padding-left: 0;
    padding-right: 0;
  }
}
.navbar-fixed-top .navbar-collapse,
.navbar-fixed-bottom .navbar-collapse {
  max-height: 340px;
}
@media (max-device-width: 540px) and (orientation: landscape) {
  .navbar-fixed-top .navbar-collapse,
  .navbar-fixed-bottom .navbar-collapse {
    max-height: 200px;
  }
}
.container > .navbar-header,
.container-fluid > .navbar-header,
.container > .navbar-collapse,
.container-fluid > .navbar-collapse {
  margin-right: 0px;
  margin-left: 0px;
}
@media (min-width: 541px) {
  .container > .navbar-header,
  .container-fluid > .navbar-header,
  .container > .navbar-collapse,
  .container-fluid > .navbar-collapse {
    margin-right: 0;
    margin-left: 0;
  }
}
.navbar-static-top {
  z-index: 1000;
  border-width: 0 0 1px;
}
@media (min-width: 541px) {
  .navbar-static-top {
    border-radius: 0;
  }
}
.navbar-fixed-top,
.navbar-fixed-bottom {
  position: fixed;
  right: 0;
  left: 0;
  z-index: 1030;
}
@media (min-width: 541px) {
  .navbar-fixed-top,
  .navbar-fixed-bottom {
    border-radius: 0;
  }
}
.navbar-fixed-top {
  top: 0;
  border-width: 0 0 1px;
}
.navbar-fixed-bottom {
  bottom: 0;
  margin-bottom: 0;
  border-width: 1px 0 0;
}
.navbar-brand {
  float: left;
  padding: 6px 0px;
  font-size: 17px;
  line-height: 18px;
  height: 30px;
}
.navbar-brand:hover,
.navbar-brand:focus {
  text-decoration: none;
}
.navbar-brand > img {
  display: block;
}
@media (min-width: 541px) {
  .navbar > .container .navbar-brand,
  .navbar > .container-fluid .navbar-brand {
    margin-left: 0px;
  }
}
.navbar-toggle {
  position: relative;
  float: right;
  margin-right: 0px;
  padding: 9px 10px;
  margin-top: -2px;
  margin-bottom: -2px;
  background-color: transparent;
  background-image: none;
  border: 1px solid transparent;
  border-radius: 2px;
}
.navbar-toggle:focus {
  outline: 0;
}
.navbar-toggle .icon-bar {
  display: block;
  width: 22px;
  height: 2px;
  border-radius: 1px;
}
.navbar-toggle .icon-bar + .icon-bar {
  margin-top: 4px;
}
@media (min-width: 541px) {
  .navbar-toggle {
    display: none;
  }
}
.navbar-nav {
  margin: 3px 0px;
}
.navbar-nav > li > a {
  padding-top: 10px;
  padding-bottom: 10px;
  line-height: 18px;
}
@media (max-width: 540px) {
  .navbar-nav .open .dropdown-menu {
    position: static;
    float: none;
    width: auto;
    margin-top: 0;
    background-color: transparent;
    border: 0;
    box-shadow: none;
  }
  .navbar-nav .open .dropdown-menu > li > a,
  .navbar-nav .open .dropdown-menu .dropdown-header {
    padding: 5px 15px 5px 25px;
  }
  .navbar-nav .open .dropdown-menu > li > a {
    line-height: 18px;
  }
  .navbar-nav .open .dropdown-menu > li > a:hover,
  .navbar-nav .open .dropdown-menu > li > a:focus {
    background-image: none;
  }
}
@media (min-width: 541px) {
  .navbar-nav {
    float: left;
    margin: 0;
  }
  .navbar-nav > li {
    float: left;
  }
  .navbar-nav > li > a {
    padding-top: 6px;
    padding-bottom: 6px;
  }
}
.navbar-form {
  margin-left: 0px;
  margin-right: 0px;
  padding: 10px 0px;
  border-top: 1px solid transparent;
  border-bottom: 1px solid transparent;
  -webkit-box-shadow: inset 0 1px 0 rgba(255, 255, 255, 0.1), 0 1px 0 rgba(255, 255, 255, 0.1);
  box-shadow: inset 0 1px 0 rgba(255, 255, 255, 0.1), 0 1px 0 rgba(255, 255, 255, 0.1);
  margin-top: -1px;
  margin-bottom: -1px;
}
@media (min-width: 768px) {
  .navbar-form .form-group {
    display: inline-block;
    margin-bottom: 0;
    vertical-align: middle;
  }
  .navbar-form .form-control {
    display: inline-block;
    width: auto;
    vertical-align: middle;
  }
  .navbar-form .form-control-static {
    display: inline-block;
  }
  .navbar-form .input-group {
    display: inline-table;
    vertical-align: middle;
  }
  .navbar-form .input-group .input-group-addon,
  .navbar-form .input-group .input-group-btn,
  .navbar-form .input-group .form-control {
    width: auto;
  }
  .navbar-form .input-group > .form-control {
    width: 100%;
  }
  .navbar-form .control-label {
    margin-bottom: 0;
    vertical-align: middle;
  }
  .navbar-form .radio,
  .navbar-form .checkbox {
    display: inline-block;
    margin-top: 0;
    margin-bottom: 0;
    vertical-align: middle;
  }
  .navbar-form .radio label,
  .navbar-form .checkbox label {
    padding-left: 0;
  }
  .navbar-form .radio input[type="radio"],
  .navbar-form .checkbox input[type="checkbox"] {
    position: relative;
    margin-left: 0;
  }
  .navbar-form .has-feedback .form-control-feedback {
    top: 0;
  }
}
@media (max-width: 540px) {
  .navbar-form .form-group {
    margin-bottom: 5px;
  }
  .navbar-form .form-group:last-child {
    margin-bottom: 0;
  }
}
@media (min-width: 541px) {
  .navbar-form {
    width: auto;
    border: 0;
    margin-left: 0;
    margin-right: 0;
    padding-top: 0;
    padding-bottom: 0;
    -webkit-box-shadow: none;
    box-shadow: none;
  }
}
.navbar-nav > li > .dropdown-menu {
  margin-top: 0;
  border-top-right-radius: 0;
  border-top-left-radius: 0;
}
.navbar-fixed-bottom .navbar-nav > li > .dropdown-menu {
  margin-bottom: 0;
  border-top-right-radius: 2px;
  border-top-left-radius: 2px;
  border-bottom-right-radius: 0;
  border-bottom-left-radius: 0;
}
.navbar-btn {
  margin-top: -1px;
  margin-bottom: -1px;
}
.navbar-btn.btn-sm {
  margin-top: 0px;
  margin-bottom: 0px;
}
.navbar-btn.btn-xs {
  margin-top: 4px;
  margin-bottom: 4px;
}
.navbar-text {
  margin-top: 6px;
  margin-bottom: 6px;
}
@media (min-width: 541px) {
  .navbar-text {
    float: left;
    margin-left: 0px;
    margin-right: 0px;
  }
}
@media (min-width: 541px) {
  .navbar-left {
    float: left !important;
    float: left;
  }
  .navbar-right {
    float: right !important;
    float: right;
    margin-right: 0px;
  }
  .navbar-right ~ .navbar-right {
    margin-right: 0;
  }
}
.navbar-default {
  background-color: #f8f8f8;
  border-color: #e7e7e7;
}
.navbar-default .navbar-brand {
  color: #777;
}
.navbar-default .navbar-brand:hover,
.navbar-default .navbar-brand:focus {
  color: #5e5e5e;
  background-color: transparent;
}
.navbar-default .navbar-text {
  color: #777;
}
.navbar-default .navbar-nav > li > a {
  color: #777;
}
.navbar-default .navbar-nav > li > a:hover,
.navbar-default .navbar-nav > li > a:focus {
  color: #333;
  background-color: transparent;
}
.navbar-default .navbar-nav > .active > a,
.navbar-default .navbar-nav > .active > a:hover,
.navbar-default .navbar-nav > .active > a:focus {
  color: #555;
  background-color: #e7e7e7;
}
.navbar-default .navbar-nav > .disabled > a,
.navbar-default .navbar-nav > .disabled > a:hover,
.navbar-default .navbar-nav > .disabled > a:focus {
  color: #ccc;
  background-color: transparent;
}
.navbar-default .navbar-toggle {
  border-color: #ddd;
}
.navbar-default .navbar-toggle:hover,
.navbar-default .navbar-toggle:focus {
  background-color: #ddd;
}
.navbar-default .navbar-toggle .icon-bar {
  background-color: #888;
}
.navbar-default .navbar-collapse,
.navbar-default .navbar-form {
  border-color: #e7e7e7;
}
.navbar-default .navbar-nav > .open > a,
.navbar-default .navbar-nav > .open > a:hover,
.navbar-default .navbar-nav > .open > a:focus {
  background-color: #e7e7e7;
  color: #555;
}
@media (max-width: 540px) {
  .navbar-default .navbar-nav .open .dropdown-menu > li > a {
    color: #777;
  }
  .navbar-default .navbar-nav .open .dropdown-menu > li > a:hover,
  .navbar-default .navbar-nav .open .dropdown-menu > li > a:focus {
    color: #333;
    background-color: transparent;
  }
  .navbar-default .navbar-nav .open .dropdown-menu > .active > a,
  .navbar-default .navbar-nav .open .dropdown-menu > .active > a:hover,
  .navbar-default .navbar-nav .open .dropdown-menu > .active > a:focus {
    color: #555;
    background-color: #e7e7e7;
  }
  .navbar-default .navbar-nav .open .dropdown-menu > .disabled > a,
  .navbar-default .navbar-nav .open .dropdown-menu > .disabled > a:hover,
  .navbar-default .navbar-nav .open .dropdown-menu > .disabled > a:focus {
    color: #ccc;
    background-color: transparent;
  }
}
.navbar-default .navbar-link {
  color: #777;
}
.navbar-default .navbar-link:hover {
  color: #333;
}
.navbar-default .btn-link {
  color: #777;
}
.navbar-default .btn-link:hover,
.navbar-default .btn-link:focus {
  color: #333;
}
.navbar-default .btn-link[disabled]:hover,
fieldset[disabled] .navbar-default .btn-link:hover,
.navbar-default .btn-link[disabled]:focus,
fieldset[disabled] .navbar-default .btn-link:focus {
  color: #ccc;
}
.navbar-inverse {
  background-color: #222;
  border-color: #080808;
}
.navbar-inverse .navbar-brand {
  color: #9d9d9d;
}
.navbar-inverse .navbar-brand:hover,
.navbar-inverse .navbar-brand:focus {
  color: #fff;
  background-color: transparent;
}
.navbar-inverse .navbar-text {
  color: #9d9d9d;
}
.navbar-inverse .navbar-nav > li > a {
  color: #9d9d9d;
}
.navbar-inverse .navbar-nav > li > a:hover,
.navbar-inverse .navbar-nav > li > a:focus {
  color: #fff;
  background-color: transparent;
}
.navbar-inverse .navbar-nav > .active > a,
.navbar-inverse .navbar-nav > .active > a:hover,
.navbar-inverse .navbar-nav > .active > a:focus {
  color: #fff;
  background-color: #080808;
}
.navbar-inverse .navbar-nav > .disabled > a,
.navbar-inverse .navbar-nav > .disabled > a:hover,
.navbar-inverse .navbar-nav > .disabled > a:focus {
  color: #444;
  background-color: transparent;
}
.navbar-inverse .navbar-toggle {
  border-color: #333;
}
.navbar-inverse .navbar-toggle:hover,
.navbar-inverse .navbar-toggle:focus {
  background-color: #333;
}
.navbar-inverse .navbar-toggle .icon-bar {
  background-color: #fff;
}
.navbar-inverse .navbar-collapse,
.navbar-inverse .navbar-form {
  border-color: #101010;
}
.navbar-inverse .navbar-nav > .open > a,
.navbar-inverse .navbar-nav > .open > a:hover,
.navbar-inverse .navbar-nav > .open > a:focus {
  background-color: #080808;
  color: #fff;
}
@media (max-width: 540px) {
  .navbar-inverse .navbar-nav .open .dropdown-menu > .dropdown-header {
    border-color: #080808;
  }
  .navbar-inverse .navbar-nav .open .dropdown-menu .divider {
    background-color: #080808;
  }
  .navbar-inverse .navbar-nav .open .dropdown-menu > li > a {
    color: #9d9d9d;
  }
  .navbar-inverse .navbar-nav .open .dropdown-menu > li > a:hover,
  .navbar-inverse .navbar-nav .open .dropdown-menu > li > a:focus {
    color: #fff;
    background-color: transparent;
  }
  .navbar-inverse .navbar-nav .open .dropdown-menu > .active > a,
  .navbar-inverse .navbar-nav .open .dropdown-menu > .active > a:hover,
  .navbar-inverse .navbar-nav .open .dropdown-menu > .active > a:focus {
    color: #fff;
    background-color: #080808;
  }
  .navbar-inverse .navbar-nav .open .dropdown-menu > .disabled > a,
  .navbar-inverse .navbar-nav .open .dropdown-menu > .disabled > a:hover,
  .navbar-inverse .navbar-nav .open .dropdown-menu > .disabled > a:focus {
    color: #444;
    background-color: transparent;
  }
}
.navbar-inverse .navbar-link {
  color: #9d9d9d;
}
.navbar-inverse .navbar-link:hover {
  color: #fff;
}
.navbar-inverse .btn-link {
  color: #9d9d9d;
}
.navbar-inverse .btn-link:hover,
.navbar-inverse .btn-link:focus {
  color: #fff;
}
.navbar-inverse .btn-link[disabled]:hover,
fieldset[disabled] .navbar-inverse .btn-link:hover,
.navbar-inverse .btn-link[disabled]:focus,
fieldset[disabled] .navbar-inverse .btn-link:focus {
  color: #444;
}
.breadcrumb {
  padding: 8px 15px;
  margin-bottom: 18px;
  list-style: none;
  background-color: #f5f5f5;
  border-radius: 2px;
}
.breadcrumb > li {
  display: inline-block;
}
.breadcrumb > li + li:before {
  content: "/\00a0";
  padding: 0 5px;
  color: #5e5e5e;
}
.breadcrumb > .active {
  color: #777777;
}
.pagination {
  display: inline-block;
  padding-left: 0;
  margin: 18px 0;
  border-radius: 2px;
}
.pagination > li {
  display: inline;
}
.pagination > li > a,
.pagination > li > span {
  position: relative;
  float: left;
  padding: 6px 12px;
  line-height: 1.42857143;
  text-decoration: none;
  color: #337ab7;
  background-color: #fff;
  border: 1px solid #ddd;
  margin-left: -1px;
}
.pagination > li:first-child > a,
.pagination > li:first-child > span {
  margin-left: 0;
  border-bottom-left-radius: 2px;
  border-top-left-radius: 2px;
}
.pagination > li:last-child > a,
.pagination > li:last-child > span {
  border-bottom-right-radius: 2px;
  border-top-right-radius: 2px;
}
.pagination > li > a:hover,
.pagination > li > span:hover,
.pagination > li > a:focus,
.pagination > li > span:focus {
  z-index: 2;
  color: #23527c;
  background-color: #eeeeee;
  border-color: #ddd;
}
.pagination > .active > a,
.pagination > .active > span,
.pagination > .active > a:hover,
.pagination > .active > span:hover,
.pagination > .active > a:focus,
.pagination > .active > span:focus {
  z-index: 3;
  color: #fff;
  background-color: #337ab7;
  border-color: #337ab7;
  cursor: default;
}
.pagination > .disabled > span,
.pagination > .disabled > span:hover,
.pagination > .disabled > span:focus,
.pagination > .disabled > a,
.pagination > .disabled > a:hover,
.pagination > .disabled > a:focus {
  color: #777777;
  background-color: #fff;
  border-color: #ddd;
  cursor: not-allowed;
}
.pagination-lg > li > a,
.pagination-lg > li > span {
  padding: 10px 16px;
  font-size: 17px;
  line-height: 1.3333333;
}
.pagination-lg > li:first-child > a,
.pagination-lg > li:first-child > span {
  border-bottom-left-radius: 3px;
  border-top-left-radius: 3px;
}
.pagination-lg > li:last-child > a,
.pagination-lg > li:last-child > span {
  border-bottom-right-radius: 3px;
  border-top-right-radius: 3px;
}
.pagination-sm > li > a,
.pagination-sm > li > span {
  padding: 5px 10px;
  font-size: 12px;
  line-height: 1.5;
}
.pagination-sm > li:first-child > a,
.pagination-sm > li:first-child > span {
  border-bottom-left-radius: 1px;
  border-top-left-radius: 1px;
}
.pagination-sm > li:last-child > a,
.pagination-sm > li:last-child > span {
  border-bottom-right-radius: 1px;
  border-top-right-radius: 1px;
}
.pager {
  padding-left: 0;
  margin: 18px 0;
  list-style: none;
  text-align: center;
}
.pager li {
  display: inline;
}
.pager li > a,
.pager li > span {
  display: inline-block;
  padding: 5px 14px;
  background-color: #fff;
  border: 1px solid #ddd;
  border-radius: 15px;
}
.pager li > a:hover,
.pager li > a:focus {
  text-decoration: none;
  background-color: #eeeeee;
}
.pager .next > a,
.pager .next > span {
  float: right;
}
.pager .previous > a,
.pager .previous > span {
  float: left;
}
.pager .disabled > a,
.pager .disabled > a:hover,
.pager .disabled > a:focus,
.pager .disabled > span {
  color: #777777;
  background-color: #fff;
  cursor: not-allowed;
}
.label {
  display: inline;
  padding: .2em .6em .3em;
  font-size: 75%;
  font-weight: bold;
  line-height: 1;
  color: #fff;
  text-align: center;
  white-space: nowrap;
  vertical-align: baseline;
  border-radius: .25em;
}
a.label:hover,
a.label:focus {
  color: #fff;
  text-decoration: none;
  cursor: pointer;
}
.label:empty {
  display: none;
}
.btn .label {
  position: relative;
  top: -1px;
}
.label-default {
  background-color: #777777;
}
.label-default[href]:hover,
.label-default[href]:focus {
  background-color: #5e5e5e;
}
.label-primary {
  background-color: #337ab7;
}
.label-primary[href]:hover,
.label-primary[href]:focus {
  background-color: #286090;
}
.label-success {
  background-color: #5cb85c;
}
.label-success[href]:hover,
.label-success[href]:focus {
  background-color: #449d44;
}
.label-info {
  background-color: #5bc0de;
}
.label-info[href]:hover,
.label-info[href]:focus {
  background-color: #31b0d5;
}
.label-warning {
  background-color: #f0ad4e;
}
.label-warning[href]:hover,
.label-warning[href]:focus {
  background-color: #ec971f;
}
.label-danger {
  background-color: #d9534f;
}
.label-danger[href]:hover,
.label-danger[href]:focus {
  background-color: #c9302c;
}
.badge {
  display: inline-block;
  min-width: 10px;
  padding: 3px 7px;
  font-size: 12px;
  font-weight: bold;
  color: #fff;
  line-height: 1;
  vertical-align: middle;
  white-space: nowrap;
  text-align: center;
  background-color: #777777;
  border-radius: 10px;
}
.badge:empty {
  display: none;
}
.btn .badge {
  position: relative;
  top: -1px;
}
.btn-xs .badge,
.btn-group-xs > .btn .badge {
  top: 0;
  padding: 1px 5px;
}
a.badge:hover,
a.badge:focus {
  color: #fff;
  text-decoration: none;
  cursor: pointer;
}
.list-group-item.active > .badge,
.nav-pills > .active > a > .badge {
  color: #337ab7;
  background-color: #fff;
}
.list-group-item > .badge {
  float: right;
}
.list-group-item > .badge + .badge {
  margin-right: 5px;
}
.nav-pills > li > a > .badge {
  margin-left: 3px;
}
.jumbotron {
  padding-top: 30px;
  padding-bottom: 30px;
  margin-bottom: 30px;
  color: inherit;
  background-color: #eeeeee;
}
.jumbotron h1,
.jumbotron .h1 {
  color: inherit;
}
.jumbotron p {
  margin-bottom: 15px;
  font-size: 20px;
  font-weight: 200;
}
.jumbotron > hr {
  border-top-color: #d5d5d5;
}
.container .jumbotron,
.container-fluid .jumbotron {
  border-radius: 3px;
  padding-left: 0px;
  padding-right: 0px;
}
.jumbotron .container {
  max-width: 100%;
}
@media screen and (min-width: 768px) {
  .jumbotron {
    padding-top: 48px;
    padding-bottom: 48px;
  }
  .container .jumbotron,
  .container-fluid .jumbotron {
    padding-left: 60px;
    padding-right: 60px;
  }
  .jumbotron h1,
  .jumbotron .h1 {
    font-size: 59px;
  }
}
.thumbnail {
  display: block;
  padding: 4px;
  margin-bottom: 18px;
  line-height: 1.42857143;
  background-color: #fff;
  border: 1px solid #ddd;
  border-radius: 2px;
  -webkit-transition: border 0.2s ease-in-out;
  -o-transition: border 0.2s ease-in-out;
  transition: border 0.2s ease-in-out;
}
.thumbnail > img,
.thumbnail a > img {
  margin-left: auto;
  margin-right: auto;
}
a.thumbnail:hover,
a.thumbnail:focus,
a.thumbnail.active {
  border-color: #337ab7;
}
.thumbnail .caption {
  padding: 9px;
  color: #000;
}
.alert {
  padding: 15px;
  margin-bottom: 18px;
  border: 1px solid transparent;
  border-radius: 2px;
}
.alert h4 {
  margin-top: 0;
  color: inherit;
}
.alert .alert-link {
  font-weight: bold;
}
.alert > p,
.alert > ul {
  margin-bottom: 0;
}
.alert > p + p {
  margin-top: 5px;
}
.alert-dismissable,
.alert-dismissible {
  padding-right: 35px;
}
.alert-dismissable .close,
.alert-dismissible .close {
  position: relative;
  top: -2px;
  right: -21px;
  color: inherit;
}
.alert-success {
  background-color: #dff0d8;
  border-color: #d6e9c6;
  color: #3c763d;
}
.alert-success hr {
  border-top-color: #c9e2b3;
}
.alert-success .alert-link {
  color: #2b542c;
}
.alert-info {
  background-color: #d9edf7;
  border-color: #bce8f1;
  color: #31708f;
}
.alert-info hr {
  border-top-color: #a6e1ec;
}
.alert-info .alert-link {
  color: #245269;
}
.alert-warning {
  background-color: #fcf8e3;
  border-color: #faebcc;
  color: #8a6d3b;
}
.alert-warning hr {
  border-top-color: #f7e1b5;
}
.alert-warning .alert-link {
  color: #66512c;
}
.alert-danger {
  background-color: #f2dede;
  border-color: #ebccd1;
  color: #a94442;
}
.alert-danger hr {
  border-top-color: #e4b9c0;
}
.alert-danger .alert-link {
  color: #843534;
}
@-webkit-keyframes progress-bar-stripes {
  from {
    background-position: 40px 0;
  }
  to {
    background-position: 0 0;
  }
}
@keyframes progress-bar-stripes {
  from {
    background-position: 40px 0;
  }
  to {
    background-position: 0 0;
  }
}
.progress {
  overflow: hidden;
  height: 18px;
  margin-bottom: 18px;
  background-color: #f5f5f5;
  border-radius: 2px;
  -webkit-box-shadow: inset 0 1px 2px rgba(0, 0, 0, 0.1);
  box-shadow: inset 0 1px 2px rgba(0, 0, 0, 0.1);
}
.progress-bar {
  float: left;
  width: 0%;
  height: 100%;
  font-size: 12px;
  line-height: 18px;
  color: #fff;
  text-align: center;
  background-color: #337ab7;
  -webkit-box-shadow: inset 0 -1px 0 rgba(0, 0, 0, 0.15);
  box-shadow: inset 0 -1px 0 rgba(0, 0, 0, 0.15);
  -webkit-transition: width 0.6s ease;
  -o-transition: width 0.6s ease;
  transition: width 0.6s ease;
}
.progress-striped .progress-bar,
.progress-bar-striped {
  background-image: -webkit-linear-gradient(45deg, rgba(255, 255, 255, 0.15) 25%, transparent 25%, transparent 50%, rgba(255, 255, 255, 0.15) 50%, rgba(255, 255, 255, 0.15) 75%, transparent 75%, transparent);
  background-image: -o-linear-gradient(45deg, rgba(255, 255, 255, 0.15) 25%, transparent 25%, transparent 50%, rgba(255, 255, 255, 0.15) 50%, rgba(255, 255, 255, 0.15) 75%, transparent 75%, transparent);
  background-image: linear-gradient(45deg, rgba(255, 255, 255, 0.15) 25%, transparent 25%, transparent 50%, rgba(255, 255, 255, 0.15) 50%, rgba(255, 255, 255, 0.15) 75%, transparent 75%, transparent);
  background-size: 40px 40px;
}
.progress.active .progress-bar,
.progress-bar.active {
  -webkit-animation: progress-bar-stripes 2s linear infinite;
  -o-animation: progress-bar-stripes 2s linear infinite;
  animation: progress-bar-stripes 2s linear infinite;
}
.progress-bar-success {
  background-color: #5cb85c;
}
.progress-striped .progress-bar-success {
  background-image: -webkit-linear-gradient(45deg, rgba(255, 255, 255, 0.15) 25%, transparent 25%, transparent 50%, rgba(255, 255, 255, 0.15) 50%, rgba(255, 255, 255, 0.15) 75%, transparent 75%, transparent);
  background-image: -o-linear-gradient(45deg, rgba(255, 255, 255, 0.15) 25%, transparent 25%, transparent 50%, rgba(255, 255, 255, 0.15) 50%, rgba(255, 255, 255, 0.15) 75%, transparent 75%, transparent);
  background-image: linear-gradient(45deg, rgba(255, 255, 255, 0.15) 25%, transparent 25%, transparent 50%, rgba(255, 255, 255, 0.15) 50%, rgba(255, 255, 255, 0.15) 75%, transparent 75%, transparent);
}
.progress-bar-info {
  background-color: #5bc0de;
}
.progress-striped .progress-bar-info {
  background-image: -webkit-linear-gradient(45deg, rgba(255, 255, 255, 0.15) 25%, transparent 25%, transparent 50%, rgba(255, 255, 255, 0.15) 50%, rgba(255, 255, 255, 0.15) 75%, transparent 75%, transparent);
  background-image: -o-linear-gradient(45deg, rgba(255, 255, 255, 0.15) 25%, transparent 25%, transparent 50%, rgba(255, 255, 255, 0.15) 50%, rgba(255, 255, 255, 0.15) 75%, transparent 75%, transparent);
  background-image: linear-gradient(45deg, rgba(255, 255, 255, 0.15) 25%, transparent 25%, transparent 50%, rgba(255, 255, 255, 0.15) 50%, rgba(255, 255, 255, 0.15) 75%, transparent 75%, transparent);
}
.progress-bar-warning {
  background-color: #f0ad4e;
}
.progress-striped .progress-bar-warning {
  background-image: -webkit-linear-gradient(45deg, rgba(255, 255, 255, 0.15) 25%, transparent 25%, transparent 50%, rgba(255, 255, 255, 0.15) 50%, rgba(255, 255, 255, 0.15) 75%, transparent 75%, transparent);
  background-image: -o-linear-gradient(45deg, rgba(255, 255, 255, 0.15) 25%, transparent 25%, transparent 50%, rgba(255, 255, 255, 0.15) 50%, rgba(255, 255, 255, 0.15) 75%, transparent 75%, transparent);
  background-image: linear-gradient(45deg, rgba(255, 255, 255, 0.15) 25%, transparent 25%, transparent 50%, rgba(255, 255, 255, 0.15) 50%, rgba(255, 255, 255, 0.15) 75%, transparent 75%, transparent);
}
.progress-bar-danger {
  background-color: #d9534f;
}
.progress-striped .progress-bar-danger {
  background-image: -webkit-linear-gradient(45deg, rgba(255, 255, 255, 0.15) 25%, transparent 25%, transparent 50%, rgba(255, 255, 255, 0.15) 50%, rgba(255, 255, 255, 0.15) 75%, transparent 75%, transparent);
  background-image: -o-linear-gradient(45deg, rgba(255, 255, 255, 0.15) 25%, transparent 25%, transparent 50%, rgba(255, 255, 255, 0.15) 50%, rgba(255, 255, 255, 0.15) 75%, transparent 75%, transparent);
  background-image: linear-gradient(45deg, rgba(255, 255, 255, 0.15) 25%, transparent 25%, transparent 50%, rgba(255, 255, 255, 0.15) 50%, rgba(255, 255, 255, 0.15) 75%, transparent 75%, transparent);
}
.media {
  margin-top: 15px;
}
.media:first-child {
  margin-top: 0;
}
.media,
.media-body {
  zoom: 1;
  overflow: hidden;
}
.media-body {
  width: 10000px;
}
.media-object {
  display: block;
}
.media-object.img-thumbnail {
  max-width: none;
}
.media-right,
.media > .pull-right {
  padding-left: 10px;
}
.media-left,
.media > .pull-left {
  padding-right: 10px;
}
.media-left,
.media-right,
.media-body {
  display: table-cell;
  vertical-align: top;
}
.media-middle {
  vertical-align: middle;
}
.media-bottom {
  vertical-align: bottom;
}
.media-heading {
  margin-top: 0;
  margin-bottom: 5px;
}
.media-list {
  padding-left: 0;
  list-style: none;
}
.list-group {
  margin-bottom: 20px;
  padding-left: 0;
}
.list-group-item {
  position: relative;
  display: block;
  padding: 10px 15px;
  margin-bottom: -1px;
  background-color: #fff;
  border: 1px solid #ddd;
}
.list-group-item:first-child {
  border-top-right-radius: 2px;
  border-top-left-radius: 2px;
}
.list-group-item:last-child {
  margin-bottom: 0;
  border-bottom-right-radius: 2px;
  border-bottom-left-radius: 2px;
}
a.list-group-item,
button.list-group-item {
  color: #555;
}
a.list-group-item .list-group-item-heading,
button.list-group-item .list-group-item-heading {
  color: #333;
}
a.list-group-item:hover,
button.list-group-item:hover,
a.list-group-item:focus,
button.list-group-item:focus {
  text-decoration: none;
  color: #555;
  background-color: #f5f5f5;
}
button.list-group-item {
  width: 100%;
  text-align: left;
}
.list-group-item.disabled,
.list-group-item.disabled:hover,
.list-group-item.disabled:focus {
  background-color: #eeeeee;
  color: #777777;
  cursor: not-allowed;
}
.list-group-item.disabled .list-group-item-heading,
.list-group-item.disabled:hover .list-group-item-heading,
.list-group-item.disabled:focus .list-group-item-heading {
  color: inherit;
}
.list-group-item.disabled .list-group-item-text,
.list-group-item.disabled:hover .list-group-item-text,
.list-group-item.disabled:focus .list-group-item-text {
  color: #777777;
}
.list-group-item.active,
.list-group-item.active:hover,
.list-group-item.active:focus {
  z-index: 2;
  color: #fff;
  background-color: #337ab7;
  border-color: #337ab7;
}
.list-group-item.active .list-group-item-heading,
.list-group-item.active:hover .list-group-item-heading,
.list-group-item.active:focus .list-group-item-heading,
.list-group-item.active .list-group-item-heading > small,
.list-group-item.active:hover .list-group-item-heading > small,
.list-group-item.active:focus .list-group-item-heading > small,
.list-group-item.active .list-group-item-heading > .small,
.list-group-item.active:hover .list-group-item-heading > .small,
.list-group-item.active:focus .list-group-item-heading > .small {
  color: inherit;
}
.list-group-item.active .list-group-item-text,
.list-group-item.active:hover .list-group-item-text,
.list-group-item.active:focus .list-group-item-text {
  color: #c7ddef;
}
.list-group-item-success {
  color: #3c763d;
  background-color: #dff0d8;
}
a.list-group-item-success,
button.list-group-item-success {
  color: #3c763d;
}
a.list-group-item-success .list-group-item-heading,
button.list-group-item-success .list-group-item-heading {
  color: inherit;
}
a.list-group-item-success:hover,
button.list-group-item-success:hover,
a.list-group-item-success:focus,
button.list-group-item-success:focus {
  color: #3c763d;
  background-color: #d0e9c6;
}
a.list-group-item-success.active,
button.list-group-item-success.active,
a.list-group-item-success.active:hover,
button.list-group-item-success.active:hover,
a.list-group-item-success.active:focus,
button.list-group-item-success.active:focus {
  color: #fff;
  background-color: #3c763d;
  border-color: #3c763d;
}
.list-group-item-info {
  color: #31708f;
  background-color: #d9edf7;
}
a.list-group-item-info,
button.list-group-item-info {
  color: #31708f;
}
a.list-group-item-info .list-group-item-heading,
button.list-group-item-info .list-group-item-heading {
  color: inherit;
}
a.list-group-item-info:hover,
button.list-group-item-info:hover,
a.list-group-item-info:focus,
button.list-group-item-info:focus {
  color: #31708f;
  background-color: #c4e3f3;
}
a.list-group-item-info.active,
button.list-group-item-info.active,
a.list-group-item-info.active:hover,
button.list-group-item-info.active:hover,
a.list-group-item-info.active:focus,
button.list-group-item-info.active:focus {
  color: #fff;
  background-color: #31708f;
  border-color: #31708f;
}
.list-group-item-warning {
  color: #8a6d3b;
  background-color: #fcf8e3;
}
a.list-group-item-warning,
button.list-group-item-warning {
  color: #8a6d3b;
}
a.list-group-item-warning .list-group-item-heading,
button.list-group-item-warning .list-group-item-heading {
  color: inherit;
}
a.list-group-item-warning:hover,
button.list-group-item-warning:hover,
a.list-group-item-warning:focus,
button.list-group-item-warning:focus {
  color: #8a6d3b;
  background-color: #faf2cc;
}
a.list-group-item-warning.active,
button.list-group-item-warning.active,
a.list-group-item-warning.active:hover,
button.list-group-item-warning.active:hover,
a.list-group-item-warning.active:focus,
button.list-group-item-warning.active:focus {
  color: #fff;
  background-color: #8a6d3b;
  border-color: #8a6d3b;
}
.list-group-item-danger {
  color: #a94442;
  background-color: #f2dede;
}
a.list-group-item-danger,
button.list-group-item-danger {
  color: #a94442;
}
a.list-group-item-danger .list-group-item-heading,
button.list-group-item-danger .list-group-item-heading {
  color: inherit;
}
a.list-group-item-danger:hover,
button.list-group-item-danger:hover,
a.list-group-item-danger:focus,
button.list-group-item-danger:focus {
  color: #a94442;
  background-color: #ebcccc;
}
a.list-group-item-danger.active,
button.list-group-item-danger.active,
a.list-group-item-danger.active:hover,
button.list-group-item-danger.active:hover,
a.list-group-item-danger.active:focus,
button.list-group-item-danger.active:focus {
  color: #fff;
  background-color: #a94442;
  border-color: #a94442;
}
.list-group-item-heading {
  margin-top: 0;
  margin-bottom: 5px;
}
.list-group-item-text {
  margin-bottom: 0;
  line-height: 1.3;
}
.panel {
  margin-bottom: 18px;
  background-color: #fff;
  border: 1px solid transparent;
  border-radius: 2px;
  -webkit-box-shadow: 0 1px 1px rgba(0, 0, 0, 0.05);
  box-shadow: 0 1px 1px rgba(0, 0, 0, 0.05);
}
.panel-body {
  padding: 15px;
}
.panel-heading {
  padding: 10px 15px;
  border-bottom: 1px solid transparent;
  border-top-right-radius: 1px;
  border-top-left-radius: 1px;
}
.panel-heading > .dropdown .dropdown-toggle {
  color: inherit;
}
.panel-title {
  margin-top: 0;
  margin-bottom: 0;
  font-size: 15px;
  color: inherit;
}
.panel-title > a,
.panel-title > small,
.panel-title > .small,
.panel-title > small > a,
.panel-title > .small > a {
  color: inherit;
}
.panel-footer {
  padding: 10px 15px;
  background-color: #f5f5f5;
  border-top: 1px solid #ddd;
  border-bottom-right-radius: 1px;
  border-bottom-left-radius: 1px;
}
.panel > .list-group,
.panel > .panel-collapse > .list-group {
  margin-bottom: 0;
}
.panel > .list-group .list-group-item,
.panel > .panel-collapse > .list-group .list-group-item {
  border-width: 1px 0;
  border-radius: 0;
}
.panel > .list-group:first-child .list-group-item:first-child,
.panel > .panel-collapse > .list-group:first-child .list-group-item:first-child {
  border-top: 0;
  border-top-right-radius: 1px;
  border-top-left-radius: 1px;
}
.panel > .list-group:last-child .list-group-item:last-child,
.panel > .panel-collapse > .list-group:last-child .list-group-item:last-child {
  border-bottom: 0;
  border-bottom-right-radius: 1px;
  border-bottom-left-radius: 1px;
}
.panel > .panel-heading + .panel-collapse > .list-group .list-group-item:first-child {
  border-top-right-radius: 0;
  border-top-left-radius: 0;
}
.panel-heading + .list-group .list-group-item:first-child {
  border-top-width: 0;
}
.list-group + .panel-footer {
  border-top-width: 0;
}
.panel > .table,
.panel > .table-responsive > .table,
.panel > .panel-collapse > .table {
  margin-bottom: 0;
}
.panel > .table caption,
.panel > .table-responsive > .table caption,
.panel > .panel-collapse > .table caption {
  padding-left: 15px;
  padding-right: 15px;
}
.panel > .table:first-child,
.panel > .table-responsive:first-child > .table:first-child {
  border-top-right-radius: 1px;
  border-top-left-radius: 1px;
}
.panel > .table:first-child > thead:first-child > tr:first-child,
.panel > .table-responsive:first-child > .table:first-child > thead:first-child > tr:first-child,
.panel > .table:first-child > tbody:first-child > tr:first-child,
.panel > .table-responsive:first-child > .table:first-child > tbody:first-child > tr:first-child {
  border-top-left-radius: 1px;
  border-top-right-radius: 1px;
}
.panel > .table:first-child > thead:first-child > tr:first-child td:first-child,
.panel > .table-responsive:first-child > .table:first-child > thead:first-child > tr:first-child td:first-child,
.panel > .table:first-child > tbody:first-child > tr:first-child td:first-child,
.panel > .table-responsive:first-child > .table:first-child > tbody:first-child > tr:first-child td:first-child,
.panel > .table:first-child > thead:first-child > tr:first-child th:first-child,
.panel > .table-responsive:first-child > .table:first-child > thead:first-child > tr:first-child th:first-child,
.panel > .table:first-child > tbody:first-child > tr:first-child th:first-child,
.panel > .table-responsive:first-child > .table:first-child > tbody:first-child > tr:first-child th:first-child {
  border-top-left-radius: 1px;
}
.panel > .table:first-child > thead:first-child > tr:first-child td:last-child,
.panel > .table-responsive:first-child > .table:first-child > thead:first-child > tr:first-child td:last-child,
.panel > .table:first-child > tbody:first-child > tr:first-child td:last-child,
.panel > .table-responsive:first-child > .table:first-child > tbody:first-child > tr:first-child td:last-child,
.panel > .table:first-child > thead:first-child > tr:first-child th:last-child,
.panel > .table-responsive:first-child > .table:first-child > thead:first-child > tr:first-child th:last-child,
.panel > .table:first-child > tbody:first-child > tr:first-child th:last-child,
.panel > .table-responsive:first-child > .table:first-child > tbody:first-child > tr:first-child th:last-child {
  border-top-right-radius: 1px;
}
.panel > .table:last-child,
.panel > .table-responsive:last-child > .table:last-child {
  border-bottom-right-radius: 1px;
  border-bottom-left-radius: 1px;
}
.panel > .table:last-child > tbody:last-child > tr:last-child,
.panel > .table-responsive:last-child > .table:last-child > tbody:last-child > tr:last-child,
.panel > .table:last-child > tfoot:last-child > tr:last-child,
.panel > .table-responsive:last-child > .table:last-child > tfoot:last-child > tr:last-child {
  border-bottom-left-radius: 1px;
  border-bottom-right-radius: 1px;
}
.panel > .table:last-child > tbody:last-child > tr:last-child td:first-child,
.panel > .table-responsive:last-child > .table:last-child > tbody:last-child > tr:last-child td:first-child,
.panel > .table:last-child > tfoot:last-child > tr:last-child td:first-child,
.panel > .table-responsive:last-child > .table:last-child > tfoot:last-child > tr:last-child td:first-child,
.panel > .table:last-child > tbody:last-child > tr:last-child th:first-child,
.panel > .table-responsive:last-child > .table:last-child > tbody:last-child > tr:last-child th:first-child,
.panel > .table:last-child > tfoot:last-child > tr:last-child th:first-child,
.panel > .table-responsive:last-child > .table:last-child > tfoot:last-child > tr:last-child th:first-child {
  border-bottom-left-radius: 1px;
}
.panel > .table:last-child > tbody:last-child > tr:last-child td:last-child,
.panel > .table-responsive:last-child > .table:last-child > tbody:last-child > tr:last-child td:last-child,
.panel > .table:last-child > tfoot:last-child > tr:last-child td:last-child,
.panel > .table-responsive:last-child > .table:last-child > tfoot:last-child > tr:last-child td:last-child,
.panel > .table:last-child > tbody:last-child > tr:last-child th:last-child,
.panel > .table-responsive:last-child > .table:last-child > tbody:last-child > tr:last-child th:last-child,
.panel > .table:last-child > tfoot:last-child > tr:last-child th:last-child,
.panel > .table-responsive:last-child > .table:last-child > tfoot:last-child > tr:last-child th:last-child {
  border-bottom-right-radius: 1px;
}
.panel > .panel-body + .table,
.panel > .panel-body + .table-responsive,
.panel > .table + .panel-body,
.panel > .table-responsive + .panel-body {
  border-top: 1px solid #ddd;
}
.panel > .table > tbody:first-child > tr:first-child th,
.panel > .table > tbody:first-child > tr:first-child td {
  border-top: 0;
}
.panel > .table-bordered,
.panel > .table-responsive > .table-bordered {
  border: 0;
}
.panel > .table-bordered > thead > tr > th:first-child,
.panel > .table-responsive > .table-bordered > thead > tr > th:first-child,
.panel > .table-bordered > tbody > tr > th:first-child,
.panel > .table-responsive > .table-bordered > tbody > tr > th:first-child,
.panel > .table-bordered > tfoot > tr > th:first-child,
.panel > .table-responsive > .table-bordered > tfoot > tr > th:first-child,
.panel > .table-bordered > thead > tr > td:first-child,
.panel > .table-responsive > .table-bordered > thead > tr > td:first-child,
.panel > .table-bordered > tbody > tr > td:first-child,
.panel > .table-responsive > .table-bordered > tbody > tr > td:first-child,
.panel > .table-bordered > tfoot > tr > td:first-child,
.panel > .table-responsive > .table-bordered > tfoot > tr > td:first-child {
  border-left: 0;
}
.panel > .table-bordered > thead > tr > th:last-child,
.panel > .table-responsive > .table-bordered > thead > tr > th:last-child,
.panel > .table-bordered > tbody > tr > th:last-child,
.panel > .table-responsive > .table-bordered > tbody > tr > th:last-child,
.panel > .table-bordered > tfoot > tr > th:last-child,
.panel > .table-responsive > .table-bordered > tfoot > tr > th:last-child,
.panel > .table-bordered > thead > tr > td:last-child,
.panel > .table-responsive > .table-bordered > thead > tr > td:last-child,
.panel > .table-bordered > tbody > tr > td:last-child,
.panel > .table-responsive > .table-bordered > tbody > tr > td:last-child,
.panel > .table-bordered > tfoot > tr > td:last-child,
.panel > .table-responsive > .table-bordered > tfoot > tr > td:last-child {
  border-right: 0;
}
.panel > .table-bordered > thead > tr:first-child > td,
.panel > .table-responsive > .table-bordered > thead > tr:first-child > td,
.panel > .table-bordered > tbody > tr:first-child > td,
.panel > .table-responsive > .table-bordered > tbody > tr:first-child > td,
.panel > .table-bordered > thead > tr:first-child > th,
.panel > .table-responsive > .table-bordered > thead > tr:first-child > th,
.panel > .table-bordered > tbody > tr:first-child > th,
.panel > .table-responsive > .table-bordered > tbody > tr:first-child > th {
  border-bottom: 0;
}
.panel > .table-bordered > tbody > tr:last-child > td,
.panel > .table-responsive > .table-bordered > tbody > tr:last-child > td,
.panel > .table-bordered > tfoot > tr:last-child > td,
.panel > .table-responsive > .table-bordered > tfoot > tr:last-child > td,
.panel > .table-bordered > tbody > tr:last-child > th,
.panel > .table-responsive > .table-bordered > tbody > tr:last-child > th,
.panel > .table-bordered > tfoot > tr:last-child > th,
.panel > .table-responsive > .table-bordered > tfoot > tr:last-child > th {
  border-bottom: 0;
}
.panel > .table-responsive {
  border: 0;
  margin-bottom: 0;
}
.panel-group {
  margin-bottom: 18px;
}
.panel-group .panel {
  margin-bottom: 0;
  border-radius: 2px;
}
.panel-group .panel + .panel {
  margin-top: 5px;
}
.panel-group .panel-heading {
  border-bottom: 0;
}
.panel-group .panel-heading + .panel-collapse > .panel-body,
.panel-group .panel-heading + .panel-collapse > .list-group {
  border-top: 1px solid #ddd;
}
.panel-group .panel-footer {
  border-top: 0;
}
.panel-group .panel-footer + .panel-collapse .panel-body {
  border-bottom: 1px solid #ddd;
}
.panel-default {
  border-color: #ddd;
}
.panel-default > .panel-heading {
  color: #333333;
  background-color: #f5f5f5;
  border-color: #ddd;
}
.panel-default > .panel-heading + .panel-collapse > .panel-body {
  border-top-color: #ddd;
}
.panel-default > .panel-heading .badge {
  color: #f5f5f5;
  background-color: #333333;
}
.panel-default > .panel-footer + .panel-collapse > .panel-body {
  border-bottom-color: #ddd;
}
.panel-primary {
  border-color: #337ab7;
}
.panel-primary > .panel-heading {
  color: #fff;
  background-color: #337ab7;
  border-color: #337ab7;
}
.panel-primary > .panel-heading + .panel-collapse > .panel-body {
  border-top-color: #337ab7;
}
.panel-primary > .panel-heading .badge {
  color: #337ab7;
  background-color: #fff;
}
.panel-primary > .panel-footer + .panel-collapse > .panel-body {
  border-bottom-color: #337ab7;
}
.panel-success {
  border-color: #d6e9c6;
}
.panel-success > .panel-heading {
  color: #3c763d;
  background-color: #dff0d8;
  border-color: #d6e9c6;
}
.panel-success > .panel-heading + .panel-collapse > .panel-body {
  border-top-color: #d6e9c6;
}
.panel-success > .panel-heading .badge {
  color: #dff0d8;
  background-color: #3c763d;
}
.panel-success > .panel-footer + .panel-collapse > .panel-body {
  border-bottom-color: #d6e9c6;
}
.panel-info {
  border-color: #bce8f1;
}
.panel-info > .panel-heading {
  color: #31708f;
  background-color: #d9edf7;
  border-color: #bce8f1;
}
.panel-info > .panel-heading + .panel-collapse > .panel-body {
  border-top-color: #bce8f1;
}
.panel-info > .panel-heading .badge {
  color: #d9edf7;
  background-color: #31708f;
}
.panel-info > .panel-footer + .panel-collapse > .panel-body {
  border-bottom-color: #bce8f1;
}
.panel-warning {
  border-color: #faebcc;
}
.panel-warning > .panel-heading {
  color: #8a6d3b;
  background-color: #fcf8e3;
  border-color: #faebcc;
}
.panel-warning > .panel-heading + .panel-collapse > .panel-body {
  border-top-color: #faebcc;
}
.panel-warning > .panel-heading .badge {
  color: #fcf8e3;
  background-color: #8a6d3b;
}
.panel-warning > .panel-footer + .panel-collapse > .panel-body {
  border-bottom-color: #faebcc;
}
.panel-danger {
  border-color: #ebccd1;
}
.panel-danger > .panel-heading {
  color: #a94442;
  background-color: #f2dede;
  border-color: #ebccd1;
}
.panel-danger > .panel-heading + .panel-collapse > .panel-body {
  border-top-color: #ebccd1;
}
.panel-danger > .panel-heading .badge {
  color: #f2dede;
  background-color: #a94442;
}
.panel-danger > .panel-footer + .panel-collapse > .panel-body {
  border-bottom-color: #ebccd1;
}
.embed-responsive {
  position: relative;
  display: block;
  height: 0;
  padding: 0;
  overflow: hidden;
}
.embed-responsive .embed-responsive-item,
.embed-responsive iframe,
.embed-responsive embed,
.embed-responsive object,
.embed-responsive video {
  position: absolute;
  top: 0;
  left: 0;
  bottom: 0;
  height: 100%;
  width: 100%;
  border: 0;
}
.embed-responsive-16by9 {
  padding-bottom: 56.25%;
}
.embed-responsive-4by3 {
  padding-bottom: 75%;
}
.well {
  min-height: 20px;
  padding: 19px;
  margin-bottom: 20px;
  background-color: #f5f5f5;
  border: 1px solid #e3e3e3;
  border-radius: 2px;
  -webkit-box-shadow: inset 0 1px 1px rgba(0, 0, 0, 0.05);
  box-shadow: inset 0 1px 1px rgba(0, 0, 0, 0.05);
}
.well blockquote {
  border-color: #ddd;
  border-color: rgba(0, 0, 0, 0.15);
}
.well-lg {
  padding: 24px;
  border-radius: 3px;
}
.well-sm {
  padding: 9px;
  border-radius: 1px;
}
.close {
  float: right;
  font-size: 19.5px;
  font-weight: bold;
  line-height: 1;
  color: #000;
  text-shadow: 0 1px 0 #fff;
  opacity: 0.2;
  filter: alpha(opacity=20);
}
.close:hover,
.close:focus {
  color: #000;
  text-decoration: none;
  cursor: pointer;
  opacity: 0.5;
  filter: alpha(opacity=50);
}
button.close {
  padding: 0;
  cursor: pointer;
  background: transparent;
  border: 0;
  -webkit-appearance: none;
}
.modal-open {
  overflow: hidden;
}
.modal {
  display: none;
  overflow: hidden;
  position: fixed;
  top: 0;
  right: 0;
  bottom: 0;
  left: 0;
  z-index: 1050;
  -webkit-overflow-scrolling: touch;
  outline: 0;
}
.modal.fade .modal-dialog {
  -webkit-transform: translate(0, -25%);
  -ms-transform: translate(0, -25%);
  -o-transform: translate(0, -25%);
  transform: translate(0, -25%);
  -webkit-transition: -webkit-transform 0.3s ease-out;
  -moz-transition: -moz-transform 0.3s ease-out;
  -o-transition: -o-transform 0.3s ease-out;
  transition: transform 0.3s ease-out;
}
.modal.in .modal-dialog {
  -webkit-transform: translate(0, 0);
  -ms-transform: translate(0, 0);
  -o-transform: translate(0, 0);
  transform: translate(0, 0);
}
.modal-open .modal {
  overflow-x: hidden;
  overflow-y: auto;
}
.modal-dialog {
  position: relative;
  width: auto;
  margin: 10px;
}
.modal-content {
  position: relative;
  background-color: #fff;
  border: 1px solid #999;
  border: 1px solid rgba(0, 0, 0, 0.2);
  border-radius: 3px;
  -webkit-box-shadow: 0 3px 9px rgba(0, 0, 0, 0.5);
  box-shadow: 0 3px 9px rgba(0, 0, 0, 0.5);
  background-clip: padding-box;
  outline: 0;
}
.modal-backdrop {
  position: fixed;
  top: 0;
  right: 0;
  bottom: 0;
  left: 0;
  z-index: 1040;
  background-color: #000;
}
.modal-backdrop.fade {
  opacity: 0;
  filter: alpha(opacity=0);
}
.modal-backdrop.in {
  opacity: 0.5;
  filter: alpha(opacity=50);
}
.modal-header {
  padding: 15px;
  border-bottom: 1px solid #e5e5e5;
}
.modal-header .close {
  margin-top: -2px;
}
.modal-title {
  margin: 0;
  line-height: 1.42857143;
}
.modal-body {
  position: relative;
  padding: 15px;
}
.modal-footer {
  padding: 15px;
  text-align: right;
  border-top: 1px solid #e5e5e5;
}
.modal-footer .btn + .btn {
  margin-left: 5px;
  margin-bottom: 0;
}
.modal-footer .btn-group .btn + .btn {
  margin-left: -1px;
}
.modal-footer .btn-block + .btn-block {
  margin-left: 0;
}
.modal-scrollbar-measure {
  position: absolute;
  top: -9999px;
  width: 50px;
  height: 50px;
  overflow: scroll;
}
@media (min-width: 768px) {
  .modal-dialog {
    width: 600px;
    margin: 30px auto;
  }
  .modal-content {
    -webkit-box-shadow: 0 5px 15px rgba(0, 0, 0, 0.5);
    box-shadow: 0 5px 15px rgba(0, 0, 0, 0.5);
  }
  .modal-sm {
    width: 300px;
  }
}
@media (min-width: 992px) {
  .modal-lg {
    width: 900px;
  }
}
.tooltip {
  position: absolute;
  z-index: 1070;
  display: block;
  font-family: "Helvetica Neue", Helvetica, Arial, sans-serif;
  font-style: normal;
  font-weight: normal;
  letter-spacing: normal;
  line-break: auto;
  line-height: 1.42857143;
  text-align: left;
  text-align: start;
  text-decoration: none;
  text-shadow: none;
  text-transform: none;
  white-space: normal;
  word-break: normal;
  word-spacing: normal;
  word-wrap: normal;
  font-size: 12px;
  opacity: 0;
  filter: alpha(opacity=0);
}
.tooltip.in {
  opacity: 0.9;
  filter: alpha(opacity=90);
}
.tooltip.top {
  margin-top: -3px;
  padding: 5px 0;
}
.tooltip.right {
  margin-left: 3px;
  padding: 0 5px;
}
.tooltip.bottom {
  margin-top: 3px;
  padding: 5px 0;
}
.tooltip.left {
  margin-left: -3px;
  padding: 0 5px;
}
.tooltip-inner {
  max-width: 200px;
  padding: 3px 8px;
  color: #fff;
  text-align: center;
  background-color: #000;
  border-radius: 2px;
}
.tooltip-arrow {
  position: absolute;
  width: 0;
  height: 0;
  border-color: transparent;
  border-style: solid;
}
.tooltip.top .tooltip-arrow {
  bottom: 0;
  left: 50%;
  margin-left: -5px;
  border-width: 5px 5px 0;
  border-top-color: #000;
}
.tooltip.top-left .tooltip-arrow {
  bottom: 0;
  right: 5px;
  margin-bottom: -5px;
  border-width: 5px 5px 0;
  border-top-color: #000;
}
.tooltip.top-right .tooltip-arrow {
  bottom: 0;
  left: 5px;
  margin-bottom: -5px;
  border-width: 5px 5px 0;
  border-top-color: #000;
}
.tooltip.right .tooltip-arrow {
  top: 50%;
  left: 0;
  margin-top: -5px;
  border-width: 5px 5px 5px 0;
  border-right-color: #000;
}
.tooltip.left .tooltip-arrow {
  top: 50%;
  right: 0;
  margin-top: -5px;
  border-width: 5px 0 5px 5px;
  border-left-color: #000;
}
.tooltip.bottom .tooltip-arrow {
  top: 0;
  left: 50%;
  margin-left: -5px;
  border-width: 0 5px 5px;
  border-bottom-color: #000;
}
.tooltip.bottom-left .tooltip-arrow {
  top: 0;
  right: 5px;
  margin-top: -5px;
  border-width: 0 5px 5px;
  border-bottom-color: #000;
}
.tooltip.bottom-right .tooltip-arrow {
  top: 0;
  left: 5px;
  margin-top: -5px;
  border-width: 0 5px 5px;
  border-bottom-color: #000;
}
.popover {
  position: absolute;
  top: 0;
  left: 0;
  z-index: 1060;
  display: none;
  max-width: 276px;
  padding: 1px;
  font-family: "Helvetica Neue", Helvetica, Arial, sans-serif;
  font-style: normal;
  font-weight: normal;
  letter-spacing: normal;
  line-break: auto;
  line-height: 1.42857143;
  text-align: left;
  text-align: start;
  text-decoration: none;
  text-shadow: none;
  text-transform: none;
  white-space: normal;
  word-break: normal;
  word-spacing: normal;
  word-wrap: normal;
  font-size: 13px;
  background-color: #fff;
  background-clip: padding-box;
  border: 1px solid #ccc;
  border: 1px solid rgba(0, 0, 0, 0.2);
  border-radius: 3px;
  -webkit-box-shadow: 0 5px 10px rgba(0, 0, 0, 0.2);
  box-shadow: 0 5px 10px rgba(0, 0, 0, 0.2);
}
.popover.top {
  margin-top: -10px;
}
.popover.right {
  margin-left: 10px;
}
.popover.bottom {
  margin-top: 10px;
}
.popover.left {
  margin-left: -10px;
}
.popover-title {
  margin: 0;
  padding: 8px 14px;
  font-size: 13px;
  background-color: #f7f7f7;
  border-bottom: 1px solid #ebebeb;
  border-radius: 2px 2px 0 0;
}
.popover-content {
  padding: 9px 14px;
}
.popover > .arrow,
.popover > .arrow:after {
  position: absolute;
  display: block;
  width: 0;
  height: 0;
  border-color: transparent;
  border-style: solid;
}
.popover > .arrow {
  border-width: 11px;
}
.popover > .arrow:after {
  border-width: 10px;
  content: "";
}
.popover.top > .arrow {
  left: 50%;
  margin-left: -11px;
  border-bottom-width: 0;
  border-top-color: #999999;
  border-top-color: rgba(0, 0, 0, 0.25);
  bottom: -11px;
}
.popover.top > .arrow:after {
  content: " ";
  bottom: 1px;
  margin-left: -10px;
  border-bottom-width: 0;
  border-top-color: #fff;
}
.popover.right > .arrow {
  top: 50%;
  left: -11px;
  margin-top: -11px;
  border-left-width: 0;
  border-right-color: #999999;
  border-right-color: rgba(0, 0, 0, 0.25);
}
.popover.right > .arrow:after {
  content: " ";
  left: 1px;
  bottom: -10px;
  border-left-width: 0;
  border-right-color: #fff;
}
.popover.bottom > .arrow {
  left: 50%;
  margin-left: -11px;
  border-top-width: 0;
  border-bottom-color: #999999;
  border-bottom-color: rgba(0, 0, 0, 0.25);
  top: -11px;
}
.popover.bottom > .arrow:after {
  content: " ";
  top: 1px;
  margin-left: -10px;
  border-top-width: 0;
  border-bottom-color: #fff;
}
.popover.left > .arrow {
  top: 50%;
  right: -11px;
  margin-top: -11px;
  border-right-width: 0;
  border-left-color: #999999;
  border-left-color: rgba(0, 0, 0, 0.25);
}
.popover.left > .arrow:after {
  content: " ";
  right: 1px;
  border-right-width: 0;
  border-left-color: #fff;
  bottom: -10px;
}
.carousel {
  position: relative;
}
.carousel-inner {
  position: relative;
  overflow: hidden;
  width: 100%;
}
.carousel-inner > .item {
  display: none;
  position: relative;
  -webkit-transition: 0.6s ease-in-out left;
  -o-transition: 0.6s ease-in-out left;
  transition: 0.6s ease-in-out left;
}
.carousel-inner > .item > img,
.carousel-inner > .item > a > img {
  line-height: 1;
}
@media all and (transform-3d), (-webkit-transform-3d) {
  .carousel-inner > .item {
    -webkit-transition: -webkit-transform 0.6s ease-in-out;
    -moz-transition: -moz-transform 0.6s ease-in-out;
    -o-transition: -o-transform 0.6s ease-in-out;
    transition: transform 0.6s ease-in-out;
    -webkit-backface-visibility: hidden;
    -moz-backface-visibility: hidden;
    backface-visibility: hidden;
    -webkit-perspective: 1000px;
    -moz-perspective: 1000px;
    perspective: 1000px;
  }
  .carousel-inner > .item.next,
  .carousel-inner > .item.active.right {
    -webkit-transform: translate3d(100%, 0, 0);
    transform: translate3d(100%, 0, 0);
    left: 0;
  }
  .carousel-inner > .item.prev,
  .carousel-inner > .item.active.left {
    -webkit-transform: translate3d(-100%, 0, 0);
    transform: translate3d(-100%, 0, 0);
    left: 0;
  }
  .carousel-inner > .item.next.left,
  .carousel-inner > .item.prev.right,
  .carousel-inner > .item.active {
    -webkit-transform: translate3d(0, 0, 0);
    transform: translate3d(0, 0, 0);
    left: 0;
  }
}
.carousel-inner > .active,
.carousel-inner > .next,
.carousel-inner > .prev {
  display: block;
}
.carousel-inner > .active {
  left: 0;
}
.carousel-inner > .next,
.carousel-inner > .prev {
  position: absolute;
  top: 0;
  width: 100%;
}
.carousel-inner > .next {
  left: 100%;
}
.carousel-inner > .prev {
  left: -100%;
}
.carousel-inner > .next.left,
.carousel-inner > .prev.right {
  left: 0;
}
.carousel-inner > .active.left {
  left: -100%;
}
.carousel-inner > .active.right {
  left: 100%;
}
.carousel-control {
  position: absolute;
  top: 0;
  left: 0;
  bottom: 0;
  width: 15%;
  opacity: 0.5;
  filter: alpha(opacity=50);
  font-size: 20px;
  color: #fff;
  text-align: center;
  text-shadow: 0 1px 2px rgba(0, 0, 0, 0.6);
  background-color: rgba(0, 0, 0, 0);
}
.carousel-control.left {
  background-image: -webkit-linear-gradient(left, rgba(0, 0, 0, 0.5) 0%, rgba(0, 0, 0, 0.0001) 100%);
  background-image: -o-linear-gradient(left, rgba(0, 0, 0, 0.5) 0%, rgba(0, 0, 0, 0.0001) 100%);
  background-image: linear-gradient(to right, rgba(0, 0, 0, 0.5) 0%, rgba(0, 0, 0, 0.0001) 100%);
  background-repeat: repeat-x;
  filter: progid:DXImageTransform.Microsoft.gradient(startColorstr='#80000000', endColorstr='#00000000', GradientType=1);
}
.carousel-control.right {
  left: auto;
  right: 0;
  background-image: -webkit-linear-gradient(left, rgba(0, 0, 0, 0.0001) 0%, rgba(0, 0, 0, 0.5) 100%);
  background-image: -o-linear-gradient(left, rgba(0, 0, 0, 0.0001) 0%, rgba(0, 0, 0, 0.5) 100%);
  background-image: linear-gradient(to right, rgba(0, 0, 0, 0.0001) 0%, rgba(0, 0, 0, 0.5) 100%);
  background-repeat: repeat-x;
  filter: progid:DXImageTransform.Microsoft.gradient(startColorstr='#00000000', endColorstr='#80000000', GradientType=1);
}
.carousel-control:hover,
.carousel-control:focus {
  outline: 0;
  color: #fff;
  text-decoration: none;
  opacity: 0.9;
  filter: alpha(opacity=90);
}
.carousel-control .icon-prev,
.carousel-control .icon-next,
.carousel-control .glyphicon-chevron-left,
.carousel-control .glyphicon-chevron-right {
  position: absolute;
  top: 50%;
  margin-top: -10px;
  z-index: 5;
  display: inline-block;
}
.carousel-control .icon-prev,
.carousel-control .glyphicon-chevron-left {
  left: 50%;
  margin-left: -10px;
}
.carousel-control .icon-next,
.carousel-control .glyphicon-chevron-right {
  right: 50%;
  margin-right: -10px;
}
.carousel-control .icon-prev,
.carousel-control .icon-next {
  width: 20px;
  height: 20px;
  line-height: 1;
  font-family: serif;
}
.carousel-control .icon-prev:before {
  content: '\2039';
}
.carousel-control .icon-next:before {
  content: '\203a';
}
.carousel-indicators {
  position: absolute;
  bottom: 10px;
  left: 50%;
  z-index: 15;
  width: 60%;
  margin-left: -30%;
  padding-left: 0;
  list-style: none;
  text-align: center;
}
.carousel-indicators li {
  display: inline-block;
  width: 10px;
  height: 10px;
  margin: 1px;
  text-indent: -999px;
  border: 1px solid #fff;
  border-radius: 10px;
  cursor: pointer;
  background-color: #000 \9;
  background-color: rgba(0, 0, 0, 0);
}
.carousel-indicators .active {
  margin: 0;
  width: 12px;
  height: 12px;
  background-color: #fff;
}
.carousel-caption {
  position: absolute;
  left: 15%;
  right: 15%;
  bottom: 20px;
  z-index: 10;
  padding-top: 20px;
  padding-bottom: 20px;
  color: #fff;
  text-align: center;
  text-shadow: 0 1px 2px rgba(0, 0, 0, 0.6);
}
.carousel-caption .btn {
  text-shadow: none;
}
@media screen and (min-width: 768px) {
  .carousel-control .glyphicon-chevron-left,
  .carousel-control .glyphicon-chevron-right,
  .carousel-control .icon-prev,
  .carousel-control .icon-next {
    width: 30px;
    height: 30px;
    margin-top: -10px;
    font-size: 30px;
  }
  .carousel-control .glyphicon-chevron-left,
  .carousel-control .icon-prev {
    margin-left: -10px;
  }
  .carousel-control .glyphicon-chevron-right,
  .carousel-control .icon-next {
    margin-right: -10px;
  }
  .carousel-caption {
    left: 20%;
    right: 20%;
    padding-bottom: 30px;
  }
  .carousel-indicators {
    bottom: 20px;
  }
}
.clearfix:before,
.clearfix:after,
.dl-horizontal dd:before,
.dl-horizontal dd:after,
.container:before,
.container:after,
.container-fluid:before,
.container-fluid:after,
.row:before,
.row:after,
.form-horizontal .form-group:before,
.form-horizontal .form-group:after,
.btn-toolbar:before,
.btn-toolbar:after,
.btn-group-vertical > .btn-group:before,
.btn-group-vertical > .btn-group:after,
.nav:before,
.nav:after,
.navbar:before,
.navbar:after,
.navbar-header:before,
.navbar-header:after,
.navbar-collapse:before,
.navbar-collapse:after,
.pager:before,
.pager:after,
.panel-body:before,
.panel-body:after,
.modal-header:before,
.modal-header:after,
.modal-footer:before,
.modal-footer:after,
.item_buttons:before,
.item_buttons:after {
  content: " ";
  display: table;
}
.clearfix:after,
.dl-horizontal dd:after,
.container:after,
.container-fluid:after,
.row:after,
.form-horizontal .form-group:after,
.btn-toolbar:after,
.btn-group-vertical > .btn-group:after,
.nav:after,
.navbar:after,
.navbar-header:after,
.navbar-collapse:after,
.pager:after,
.panel-body:after,
.modal-header:after,
.modal-footer:after,
.item_buttons:after {
  clear: both;
}
.center-block {
  display: block;
  margin-left: auto;
  margin-right: auto;
}
.pull-right {
  float: right !important;
}
.pull-left {
  float: left !important;
}
.hide {
  display: none !important;
}
.show {
  display: block !important;
}
.invisible {
  visibility: hidden;
}
.text-hide {
  font: 0/0 a;
  color: transparent;
  text-shadow: none;
  background-color: transparent;
  border: 0;
}
.hidden {
  display: none !important;
}
.affix {
  position: fixed;
}
@-ms-viewport {
  width: device-width;
}
.visible-xs,
.visible-sm,
.visible-md,
.visible-lg {
  display: none !important;
}
.visible-xs-block,
.visible-xs-inline,
.visible-xs-inline-block,
.visible-sm-block,
.visible-sm-inline,
.visible-sm-inline-block,
.visible-md-block,
.visible-md-inline,
.visible-md-inline-block,
.visible-lg-block,
.visible-lg-inline,
.visible-lg-inline-block {
  display: none !important;
}
@media (max-width: 767px) {
  .visible-xs {
    display: block !important;
  }
  table.visible-xs {
    display: table !important;
  }
  tr.visible-xs {
    display: table-row !important;
  }
  th.visible-xs,
  td.visible-xs {
    display: table-cell !important;
  }
}
@media (max-width: 767px) {
  .visible-xs-block {
    display: block !important;
  }
}
@media (max-width: 767px) {
  .visible-xs-inline {
    display: inline !important;
  }
}
@media (max-width: 767px) {
  .visible-xs-inline-block {
    display: inline-block !important;
  }
}
@media (min-width: 768px) and (max-width: 991px) {
  .visible-sm {
    display: block !important;
  }
  table.visible-sm {
    display: table !important;
  }
  tr.visible-sm {
    display: table-row !important;
  }
  th.visible-sm,
  td.visible-sm {
    display: table-cell !important;
  }
}
@media (min-width: 768px) and (max-width: 991px) {
  .visible-sm-block {
    display: block !important;
  }
}
@media (min-width: 768px) and (max-width: 991px) {
  .visible-sm-inline {
    display: inline !important;
  }
}
@media (min-width: 768px) and (max-width: 991px) {
  .visible-sm-inline-block {
    display: inline-block !important;
  }
}
@media (min-width: 992px) and (max-width: 1199px) {
  .visible-md {
    display: block !important;
  }
  table.visible-md {
    display: table !important;
  }
  tr.visible-md {
    display: table-row !important;
  }
  th.visible-md,
  td.visible-md {
    display: table-cell !important;
  }
}
@media (min-width: 992px) and (max-width: 1199px) {
  .visible-md-block {
    display: block !important;
  }
}
@media (min-width: 992px) and (max-width: 1199px) {
  .visible-md-inline {
    display: inline !important;
  }
}
@media (min-width: 992px) and (max-width: 1199px) {
  .visible-md-inline-block {
    display: inline-block !important;
  }
}
@media (min-width: 1200px) {
  .visible-lg {
    display: block !important;
  }
  table.visible-lg {
    display: table !important;
  }
  tr.visible-lg {
    display: table-row !important;
  }
  th.visible-lg,
  td.visible-lg {
    display: table-cell !important;
  }
}
@media (min-width: 1200px) {
  .visible-lg-block {
    display: block !important;
  }
}
@media (min-width: 1200px) {
  .visible-lg-inline {
    display: inline !important;
  }
}
@media (min-width: 1200px) {
  .visible-lg-inline-block {
    display: inline-block !important;
  }
}
@media (max-width: 767px) {
  .hidden-xs {
    display: none !important;
  }
}
@media (min-width: 768px) and (max-width: 991px) {
  .hidden-sm {
    display: none !important;
  }
}
@media (min-width: 992px) and (max-width: 1199px) {
  .hidden-md {
    display: none !important;
  }
}
@media (min-width: 1200px) {
  .hidden-lg {
    display: none !important;
  }
}
.visible-print {
  display: none !important;
}
@media print {
  .visible-print {
    display: block !important;
  }
  table.visible-print {
    display: table !important;
  }
  tr.visible-print {
    display: table-row !important;
  }
  th.visible-print,
  td.visible-print {
    display: table-cell !important;
  }
}
.visible-print-block {
  display: none !important;
}
@media print {
  .visible-print-block {
    display: block !important;
  }
}
.visible-print-inline {
  display: none !important;
}
@media print {
  .visible-print-inline {
    display: inline !important;
  }
}
.visible-print-inline-block {
  display: none !important;
}
@media print {
  .visible-print-inline-block {
    display: inline-block !important;
  }
}
@media print {
  .hidden-print {
    display: none !important;
  }
}
/*!
*
* Font Awesome
*
*/
/*!
 *  Font Awesome 4.7.0 by @davegandy - http://fontawesome.io - @fontawesome
 *  License - http://fontawesome.io/license (Font: SIL OFL 1.1, CSS: MIT License)
 */
/* FONT PATH
 * -------------------------- */
@font-face {
  font-family: 'FontAwesome';
  src: url('../components/font-awesome/fonts/fontawesome-webfont.eot?v=4.7.0');
  src: url('../components/font-awesome/fonts/fontawesome-webfont.eot?#iefix&v=4.7.0') format('embedded-opentype'), url('../components/font-awesome/fonts/fontawesome-webfont.woff2?v=4.7.0') format('woff2'), url('../components/font-awesome/fonts/fontawesome-webfont.woff?v=4.7.0') format('woff'), url('../components/font-awesome/fonts/fontawesome-webfont.ttf?v=4.7.0') format('truetype'), url('../components/font-awesome/fonts/fontawesome-webfont.svg?v=4.7.0#fontawesomeregular') format('svg');
  font-weight: normal;
  font-style: normal;
}
.fa {
  display: inline-block;
  font: normal normal normal 14px/1 FontAwesome;
  font-size: inherit;
  text-rendering: auto;
  -webkit-font-smoothing: antialiased;
  -moz-osx-font-smoothing: grayscale;
}
/* makes the font 33% larger relative to the icon container */
.fa-lg {
  font-size: 1.33333333em;
  line-height: 0.75em;
  vertical-align: -15%;
}
.fa-2x {
  font-size: 2em;
}
.fa-3x {
  font-size: 3em;
}
.fa-4x {
  font-size: 4em;
}
.fa-5x {
  font-size: 5em;
}
.fa-fw {
  width: 1.28571429em;
  text-align: center;
}
.fa-ul {
  padding-left: 0;
  margin-left: 2.14285714em;
  list-style-type: none;
}
.fa-ul > li {
  position: relative;
}
.fa-li {
  position: absolute;
  left: -2.14285714em;
  width: 2.14285714em;
  top: 0.14285714em;
  text-align: center;
}
.fa-li.fa-lg {
  left: -1.85714286em;
}
.fa-border {
  padding: .2em .25em .15em;
  border: solid 0.08em #eee;
  border-radius: .1em;
}
.fa-pull-left {
  float: left;
}
.fa-pull-right {
  float: right;
}
.fa.fa-pull-left {
  margin-right: .3em;
}
.fa.fa-pull-right {
  margin-left: .3em;
}
/* Deprecated as of 4.4.0 */
.pull-right {
  float: right;
}
.pull-left {
  float: left;
}
.fa.pull-left {
  margin-right: .3em;
}
.fa.pull-right {
  margin-left: .3em;
}
.fa-spin {
  -webkit-animation: fa-spin 2s infinite linear;
  animation: fa-spin 2s infinite linear;
}
.fa-pulse {
  -webkit-animation: fa-spin 1s infinite steps(8);
  animation: fa-spin 1s infinite steps(8);
}
@-webkit-keyframes fa-spin {
  0% {
    -webkit-transform: rotate(0deg);
    transform: rotate(0deg);
  }
  100% {
    -webkit-transform: rotate(359deg);
    transform: rotate(359deg);
  }
}
@keyframes fa-spin {
  0% {
    -webkit-transform: rotate(0deg);
    transform: rotate(0deg);
  }
  100% {
    -webkit-transform: rotate(359deg);
    transform: rotate(359deg);
  }
}
.fa-rotate-90 {
  -ms-filter: "progid:DXImageTransform.Microsoft.BasicImage(rotation=1)";
  -webkit-transform: rotate(90deg);
  -ms-transform: rotate(90deg);
  transform: rotate(90deg);
}
.fa-rotate-180 {
  -ms-filter: "progid:DXImageTransform.Microsoft.BasicImage(rotation=2)";
  -webkit-transform: rotate(180deg);
  -ms-transform: rotate(180deg);
  transform: rotate(180deg);
}
.fa-rotate-270 {
  -ms-filter: "progid:DXImageTransform.Microsoft.BasicImage(rotation=3)";
  -webkit-transform: rotate(270deg);
  -ms-transform: rotate(270deg);
  transform: rotate(270deg);
}
.fa-flip-horizontal {
  -ms-filter: "progid:DXImageTransform.Microsoft.BasicImage(rotation=0, mirror=1)";
  -webkit-transform: scale(-1, 1);
  -ms-transform: scale(-1, 1);
  transform: scale(-1, 1);
}
.fa-flip-vertical {
  -ms-filter: "progid:DXImageTransform.Microsoft.BasicImage(rotation=2, mirror=1)";
  -webkit-transform: scale(1, -1);
  -ms-transform: scale(1, -1);
  transform: scale(1, -1);
}
:root .fa-rotate-90,
:root .fa-rotate-180,
:root .fa-rotate-270,
:root .fa-flip-horizontal,
:root .fa-flip-vertical {
  filter: none;
}
.fa-stack {
  position: relative;
  display: inline-block;
  width: 2em;
  height: 2em;
  line-height: 2em;
  vertical-align: middle;
}
.fa-stack-1x,
.fa-stack-2x {
  position: absolute;
  left: 0;
  width: 100%;
  text-align: center;
}
.fa-stack-1x {
  line-height: inherit;
}
.fa-stack-2x {
  font-size: 2em;
}
.fa-inverse {
  color: #fff;
}
/* Font Awesome uses the Unicode Private Use Area (PUA) to ensure screen
   readers do not read off random characters that represent icons */
.fa-glass:before {
  content: "\f000";
}
.fa-music:before {
  content: "\f001";
}
.fa-search:before {
  content: "\f002";
}
.fa-envelope-o:before {
  content: "\f003";
}
.fa-heart:before {
  content: "\f004";
}
.fa-star:before {
  content: "\f005";
}
.fa-star-o:before {
  content: "\f006";
}
.fa-user:before {
  content: "\f007";
}
.fa-film:before {
  content: "\f008";
}
.fa-th-large:before {
  content: "\f009";
}
.fa-th:before {
  content: "\f00a";
}
.fa-th-list:before {
  content: "\f00b";
}
.fa-check:before {
  content: "\f00c";
}
.fa-remove:before,
.fa-close:before,
.fa-times:before {
  content: "\f00d";
}
.fa-search-plus:before {
  content: "\f00e";
}
.fa-search-minus:before {
  content: "\f010";
}
.fa-power-off:before {
  content: "\f011";
}
.fa-signal:before {
  content: "\f012";
}
.fa-gear:before,
.fa-cog:before {
  content: "\f013";
}
.fa-trash-o:before {
  content: "\f014";
}
.fa-home:before {
  content: "\f015";
}
.fa-file-o:before {
  content: "\f016";
}
.fa-clock-o:before {
  content: "\f017";
}
.fa-road:before {
  content: "\f018";
}
.fa-download:before {
  content: "\f019";
}
.fa-arrow-circle-o-down:before {
  content: "\f01a";
}
.fa-arrow-circle-o-up:before {
  content: "\f01b";
}
.fa-inbox:before {
  content: "\f01c";
}
.fa-play-circle-o:before {
  content: "\f01d";
}
.fa-rotate-right:before,
.fa-repeat:before {
  content: "\f01e";
}
.fa-refresh:before {
  content: "\f021";
}
.fa-list-alt:before {
  content: "\f022";
}
.fa-lock:before {
  content: "\f023";
}
.fa-flag:before {
  content: "\f024";
}
.fa-headphones:before {
  content: "\f025";
}
.fa-volume-off:before {
  content: "\f026";
}
.fa-volume-down:before {
  content: "\f027";
}
.fa-volume-up:before {
  content: "\f028";
}
.fa-qrcode:before {
  content: "\f029";
}
.fa-barcode:before {
  content: "\f02a";
}
.fa-tag:before {
  content: "\f02b";
}
.fa-tags:before {
  content: "\f02c";
}
.fa-book:before {
  content: "\f02d";
}
.fa-bookmark:before {
  content: "\f02e";
}
.fa-print:before {
  content: "\f02f";
}
.fa-camera:before {
  content: "\f030";
}
.fa-font:before {
  content: "\f031";
}
.fa-bold:before {
  content: "\f032";
}
.fa-italic:before {
  content: "\f033";
}
.fa-text-height:before {
  content: "\f034";
}
.fa-text-width:before {
  content: "\f035";
}
.fa-align-left:before {
  content: "\f036";
}
.fa-align-center:before {
  content: "\f037";
}
.fa-align-right:before {
  content: "\f038";
}
.fa-align-justify:before {
  content: "\f039";
}
.fa-list:before {
  content: "\f03a";
}
.fa-dedent:before,
.fa-outdent:before {
  content: "\f03b";
}
.fa-indent:before {
  content: "\f03c";
}
.fa-video-camera:before {
  content: "\f03d";
}
.fa-photo:before,
.fa-image:before,
.fa-picture-o:before {
  content: "\f03e";
}
.fa-pencil:before {
  content: "\f040";
}
.fa-map-marker:before {
  content: "\f041";
}
.fa-adjust:before {
  content: "\f042";
}
.fa-tint:before {
  content: "\f043";
}
.fa-edit:before,
.fa-pencil-square-o:before {
  content: "\f044";
}
.fa-share-square-o:before {
  content: "\f045";
}
.fa-check-square-o:before {
  content: "\f046";
}
.fa-arrows:before {
  content: "\f047";
}
.fa-step-backward:before {
  content: "\f048";
}
.fa-fast-backward:before {
  content: "\f049";
}
.fa-backward:before {
  content: "\f04a";
}
.fa-play:before {
  content: "\f04b";
}
.fa-pause:before {
  content: "\f04c";
}
.fa-stop:before {
  content: "\f04d";
}
.fa-forward:before {
  content: "\f04e";
}
.fa-fast-forward:before {
  content: "\f050";
}
.fa-step-forward:before {
  content: "\f051";
}
.fa-eject:before {
  content: "\f052";
}
.fa-chevron-left:before {
  content: "\f053";
}
.fa-chevron-right:before {
  content: "\f054";
}
.fa-plus-circle:before {
  content: "\f055";
}
.fa-minus-circle:before {
  content: "\f056";
}
.fa-times-circle:before {
  content: "\f057";
}
.fa-check-circle:before {
  content: "\f058";
}
.fa-question-circle:before {
  content: "\f059";
}
.fa-info-circle:before {
  content: "\f05a";
}
.fa-crosshairs:before {
  content: "\f05b";
}
.fa-times-circle-o:before {
  content: "\f05c";
}
.fa-check-circle-o:before {
  content: "\f05d";
}
.fa-ban:before {
  content: "\f05e";
}
.fa-arrow-left:before {
  content: "\f060";
}
.fa-arrow-right:before {
  content: "\f061";
}
.fa-arrow-up:before {
  content: "\f062";
}
.fa-arrow-down:before {
  content: "\f063";
}
.fa-mail-forward:before,
.fa-share:before {
  content: "\f064";
}
.fa-expand:before {
  content: "\f065";
}
.fa-compress:before {
  content: "\f066";
}
.fa-plus:before {
  content: "\f067";
}
.fa-minus:before {
  content: "\f068";
}
.fa-asterisk:before {
  content: "\f069";
}
.fa-exclamation-circle:before {
  content: "\f06a";
}
.fa-gift:before {
  content: "\f06b";
}
.fa-leaf:before {
  content: "\f06c";
}
.fa-fire:before {
  content: "\f06d";
}
.fa-eye:before {
  content: "\f06e";
}
.fa-eye-slash:before {
  content: "\f070";
}
.fa-warning:before,
.fa-exclamation-triangle:before {
  content: "\f071";
}
.fa-plane:before {
  content: "\f072";
}
.fa-calendar:before {
  content: "\f073";
}
.fa-random:before {
  content: "\f074";
}
.fa-comment:before {
  content: "\f075";
}
.fa-magnet:before {
  content: "\f076";
}
.fa-chevron-up:before {
  content: "\f077";
}
.fa-chevron-down:before {
  content: "\f078";
}
.fa-retweet:before {
  content: "\f079";
}
.fa-shopping-cart:before {
  content: "\f07a";
}
.fa-folder:before {
  content: "\f07b";
}
.fa-folder-open:before {
  content: "\f07c";
}
.fa-arrows-v:before {
  content: "\f07d";
}
.fa-arrows-h:before {
  content: "\f07e";
}
.fa-bar-chart-o:before,
.fa-bar-chart:before {
  content: "\f080";
}
.fa-twitter-square:before {
  content: "\f081";
}
.fa-facebook-square:before {
  content: "\f082";
}
.fa-camera-retro:before {
  content: "\f083";
}
.fa-key:before {
  content: "\f084";
}
.fa-gears:before,
.fa-cogs:before {
  content: "\f085";
}
.fa-comments:before {
  content: "\f086";
}
.fa-thumbs-o-up:before {
  content: "\f087";
}
.fa-thumbs-o-down:before {
  content: "\f088";
}
.fa-star-half:before {
  content: "\f089";
}
.fa-heart-o:before {
  content: "\f08a";
}
.fa-sign-out:before {
  content: "\f08b";
}
.fa-linkedin-square:before {
  content: "\f08c";
}
.fa-thumb-tack:before {
  content: "\f08d";
}
.fa-external-link:before {
  content: "\f08e";
}
.fa-sign-in:before {
  content: "\f090";
}
.fa-trophy:before {
  content: "\f091";
}
.fa-github-square:before {
  content: "\f092";
}
.fa-upload:before {
  content: "\f093";
}
.fa-lemon-o:before {
  content: "\f094";
}
.fa-phone:before {
  content: "\f095";
}
.fa-square-o:before {
  content: "\f096";
}
.fa-bookmark-o:before {
  content: "\f097";
}
.fa-phone-square:before {
  content: "\f098";
}
.fa-twitter:before {
  content: "\f099";
}
.fa-facebook-f:before,
.fa-facebook:before {
  content: "\f09a";
}
.fa-github:before {
  content: "\f09b";
}
.fa-unlock:before {
  content: "\f09c";
}
.fa-credit-card:before {
  content: "\f09d";
}
.fa-feed:before,
.fa-rss:before {
  content: "\f09e";
}
.fa-hdd-o:before {
  content: "\f0a0";
}
.fa-bullhorn:before {
  content: "\f0a1";
}
.fa-bell:before {
  content: "\f0f3";
}
.fa-certificate:before {
  content: "\f0a3";
}
.fa-hand-o-right:before {
  content: "\f0a4";
}
.fa-hand-o-left:before {
  content: "\f0a5";
}
.fa-hand-o-up:before {
  content: "\f0a6";
}
.fa-hand-o-down:before {
  content: "\f0a7";
}
.fa-arrow-circle-left:before {
  content: "\f0a8";
}
.fa-arrow-circle-right:before {
  content: "\f0a9";
}
.fa-arrow-circle-up:before {
  content: "\f0aa";
}
.fa-arrow-circle-down:before {
  content: "\f0ab";
}
.fa-globe:before {
  content: "\f0ac";
}
.fa-wrench:before {
  content: "\f0ad";
}
.fa-tasks:before {
  content: "\f0ae";
}
.fa-filter:before {
  content: "\f0b0";
}
.fa-briefcase:before {
  content: "\f0b1";
}
.fa-arrows-alt:before {
  content: "\f0b2";
}
.fa-group:before,
.fa-users:before {
  content: "\f0c0";
}
.fa-chain:before,
.fa-link:before {
  content: "\f0c1";
}
.fa-cloud:before {
  content: "\f0c2";
}
.fa-flask:before {
  content: "\f0c3";
}
.fa-cut:before,
.fa-scissors:before {
  content: "\f0c4";
}
.fa-copy:before,
.fa-files-o:before {
  content: "\f0c5";
}
.fa-paperclip:before {
  content: "\f0c6";
}
.fa-save:before,
.fa-floppy-o:before {
  content: "\f0c7";
}
.fa-square:before {
  content: "\f0c8";
}
.fa-navicon:before,
.fa-reorder:before,
.fa-bars:before {
  content: "\f0c9";
}
.fa-list-ul:before {
  content: "\f0ca";
}
.fa-list-ol:before {
  content: "\f0cb";
}
.fa-strikethrough:before {
  content: "\f0cc";
}
.fa-underline:before {
  content: "\f0cd";
}
.fa-table:before {
  content: "\f0ce";
}
.fa-magic:before {
  content: "\f0d0";
}
.fa-truck:before {
  content: "\f0d1";
}
.fa-pinterest:before {
  content: "\f0d2";
}
.fa-pinterest-square:before {
  content: "\f0d3";
}
.fa-google-plus-square:before {
  content: "\f0d4";
}
.fa-google-plus:before {
  content: "\f0d5";
}
.fa-money:before {
  content: "\f0d6";
}
.fa-caret-down:before {
  content: "\f0d7";
}
.fa-caret-up:before {
  content: "\f0d8";
}
.fa-caret-left:before {
  content: "\f0d9";
}
.fa-caret-right:before {
  content: "\f0da";
}
.fa-columns:before {
  content: "\f0db";
}
.fa-unsorted:before,
.fa-sort:before {
  content: "\f0dc";
}
.fa-sort-down:before,
.fa-sort-desc:before {
  content: "\f0dd";
}
.fa-sort-up:before,
.fa-sort-asc:before {
  content: "\f0de";
}
.fa-envelope:before {
  content: "\f0e0";
}
.fa-linkedin:before {
  content: "\f0e1";
}
.fa-rotate-left:before,
.fa-undo:before {
  content: "\f0e2";
}
.fa-legal:before,
.fa-gavel:before {
  content: "\f0e3";
}
.fa-dashboard:before,
.fa-tachometer:before {
  content: "\f0e4";
}
.fa-comment-o:before {
  content: "\f0e5";
}
.fa-comments-o:before {
  content: "\f0e6";
}
.fa-flash:before,
.fa-bolt:before {
  content: "\f0e7";
}
.fa-sitemap:before {
  content: "\f0e8";
}
.fa-umbrella:before {
  content: "\f0e9";
}
.fa-paste:before,
.fa-clipboard:before {
  content: "\f0ea";
}
.fa-lightbulb-o:before {
  content: "\f0eb";
}
.fa-exchange:before {
  content: "\f0ec";
}
.fa-cloud-download:before {
  content: "\f0ed";
}
.fa-cloud-upload:before {
  content: "\f0ee";
}
.fa-user-md:before {
  content: "\f0f0";
}
.fa-stethoscope:before {
  content: "\f0f1";
}
.fa-suitcase:before {
  content: "\f0f2";
}
.fa-bell-o:before {
  content: "\f0a2";
}
.fa-coffee:before {
  content: "\f0f4";
}
.fa-cutlery:before {
  content: "\f0f5";
}
.fa-file-text-o:before {
  content: "\f0f6";
}
.fa-building-o:before {
  content: "\f0f7";
}
.fa-hospital-o:before {
  content: "\f0f8";
}
.fa-ambulance:before {
  content: "\f0f9";
}
.fa-medkit:before {
  content: "\f0fa";
}
.fa-fighter-jet:before {
  content: "\f0fb";
}
.fa-beer:before {
  content: "\f0fc";
}
.fa-h-square:before {
  content: "\f0fd";
}
.fa-plus-square:before {
  content: "\f0fe";
}
.fa-angle-double-left:before {
  content: "\f100";
}
.fa-angle-double-right:before {
  content: "\f101";
}
.fa-angle-double-up:before {
  content: "\f102";
}
.fa-angle-double-down:before {
  content: "\f103";
}
.fa-angle-left:before {
  content: "\f104";
}
.fa-angle-right:before {
  content: "\f105";
}
.fa-angle-up:before {
  content: "\f106";
}
.fa-angle-down:before {
  content: "\f107";
}
.fa-desktop:before {
  content: "\f108";
}
.fa-laptop:before {
  content: "\f109";
}
.fa-tablet:before {
  content: "\f10a";
}
.fa-mobile-phone:before,
.fa-mobile:before {
  content: "\f10b";
}
.fa-circle-o:before {
  content: "\f10c";
}
.fa-quote-left:before {
  content: "\f10d";
}
.fa-quote-right:before {
  content: "\f10e";
}
.fa-spinner:before {
  content: "\f110";
}
.fa-circle:before {
  content: "\f111";
}
.fa-mail-reply:before,
.fa-reply:before {
  content: "\f112";
}
.fa-github-alt:before {
  content: "\f113";
}
.fa-folder-o:before {
  content: "\f114";
}
.fa-folder-open-o:before {
  content: "\f115";
}
.fa-smile-o:before {
  content: "\f118";
}
.fa-frown-o:before {
  content: "\f119";
}
.fa-meh-o:before {
  content: "\f11a";
}
.fa-gamepad:before {
  content: "\f11b";
}
.fa-keyboard-o:before {
  content: "\f11c";
}
.fa-flag-o:before {
  content: "\f11d";
}
.fa-flag-checkered:before {
  content: "\f11e";
}
.fa-terminal:before {
  content: "\f120";
}
.fa-code:before {
  content: "\f121";
}
.fa-mail-reply-all:before,
.fa-reply-all:before {
  content: "\f122";
}
.fa-star-half-empty:before,
.fa-star-half-full:before,
.fa-star-half-o:before {
  content: "\f123";
}
.fa-location-arrow:before {
  content: "\f124";
}
.fa-crop:before {
  content: "\f125";
}
.fa-code-fork:before {
  content: "\f126";
}
.fa-unlink:before,
.fa-chain-broken:before {
  content: "\f127";
}
.fa-question:before {
  content: "\f128";
}
.fa-info:before {
  content: "\f129";
}
.fa-exclamation:before {
  content: "\f12a";
}
.fa-superscript:before {
  content: "\f12b";
}
.fa-subscript:before {
  content: "\f12c";
}
.fa-eraser:before {
  content: "\f12d";
}
.fa-puzzle-piece:before {
  content: "\f12e";
}
.fa-microphone:before {
  content: "\f130";
}
.fa-microphone-slash:before {
  content: "\f131";
}
.fa-shield:before {
  content: "\f132";
}
.fa-calendar-o:before {
  content: "\f133";
}
.fa-fire-extinguisher:before {
  content: "\f134";
}
.fa-rocket:before {
  content: "\f135";
}
.fa-maxcdn:before {
  content: "\f136";
}
.fa-chevron-circle-left:before {
  content: "\f137";
}
.fa-chevron-circle-right:before {
  content: "\f138";
}
.fa-chevron-circle-up:before {
  content: "\f139";
}
.fa-chevron-circle-down:before {
  content: "\f13a";
}
.fa-html5:before {
  content: "\f13b";
}
.fa-css3:before {
  content: "\f13c";
}
.fa-anchor:before {
  content: "\f13d";
}
.fa-unlock-alt:before {
  content: "\f13e";
}
.fa-bullseye:before {
  content: "\f140";
}
.fa-ellipsis-h:before {
  content: "\f141";
}
.fa-ellipsis-v:before {
  content: "\f142";
}
.fa-rss-square:before {
  content: "\f143";
}
.fa-play-circle:before {
  content: "\f144";
}
.fa-ticket:before {
  content: "\f145";
}
.fa-minus-square:before {
  content: "\f146";
}
.fa-minus-square-o:before {
  content: "\f147";
}
.fa-level-up:before {
  content: "\f148";
}
.fa-level-down:before {
  content: "\f149";
}
.fa-check-square:before {
  content: "\f14a";
}
.fa-pencil-square:before {
  content: "\f14b";
}
.fa-external-link-square:before {
  content: "\f14c";
}
.fa-share-square:before {
  content: "\f14d";
}
.fa-compass:before {
  content: "\f14e";
}
.fa-toggle-down:before,
.fa-caret-square-o-down:before {
  content: "\f150";
}
.fa-toggle-up:before,
.fa-caret-square-o-up:before {
  content: "\f151";
}
.fa-toggle-right:before,
.fa-caret-square-o-right:before {
  content: "\f152";
}
.fa-euro:before,
.fa-eur:before {
  content: "\f153";
}
.fa-gbp:before {
  content: "\f154";
}
.fa-dollar:before,
.fa-usd:before {
  content: "\f155";
}
.fa-rupee:before,
.fa-inr:before {
  content: "\f156";
}
.fa-cny:before,
.fa-rmb:before,
.fa-yen:before,
.fa-jpy:before {
  content: "\f157";
}
.fa-ruble:before,
.fa-rouble:before,
.fa-rub:before {
  content: "\f158";
}
.fa-won:before,
.fa-krw:before {
  content: "\f159";
}
.fa-bitcoin:before,
.fa-btc:before {
  content: "\f15a";
}
.fa-file:before {
  content: "\f15b";
}
.fa-file-text:before {
  content: "\f15c";
}
.fa-sort-alpha-asc:before {
  content: "\f15d";
}
.fa-sort-alpha-desc:before {
  content: "\f15e";
}
.fa-sort-amount-asc:before {
  content: "\f160";
}
.fa-sort-amount-desc:before {
  content: "\f161";
}
.fa-sort-numeric-asc:before {
  content: "\f162";
}
.fa-sort-numeric-desc:before {
  content: "\f163";
}
.fa-thumbs-up:before {
  content: "\f164";
}
.fa-thumbs-down:before {
  content: "\f165";
}
.fa-youtube-square:before {
  content: "\f166";
}
.fa-youtube:before {
  content: "\f167";
}
.fa-xing:before {
  content: "\f168";
}
.fa-xing-square:before {
  content: "\f169";
}
.fa-youtube-play:before {
  content: "\f16a";
}
.fa-dropbox:before {
  content: "\f16b";
}
.fa-stack-overflow:before {
  content: "\f16c";
}
.fa-instagram:before {
  content: "\f16d";
}
.fa-flickr:before {
  content: "\f16e";
}
.fa-adn:before {
  content: "\f170";
}
.fa-bitbucket:before {
  content: "\f171";
}
.fa-bitbucket-square:before {
  content: "\f172";
}
.fa-tumblr:before {
  content: "\f173";
}
.fa-tumblr-square:before {
  content: "\f174";
}
.fa-long-arrow-down:before {
  content: "\f175";
}
.fa-long-arrow-up:before {
  content: "\f176";
}
.fa-long-arrow-left:before {
  content: "\f177";
}
.fa-long-arrow-right:before {
  content: "\f178";
}
.fa-apple:before {
  content: "\f179";
}
.fa-windows:before {
  content: "\f17a";
}
.fa-android:before {
  content: "\f17b";
}
.fa-linux:before {
  content: "\f17c";
}
.fa-dribbble:before {
  content: "\f17d";
}
.fa-skype:before {
  content: "\f17e";
}
.fa-foursquare:before {
  content: "\f180";
}
.fa-trello:before {
  content: "\f181";
}
.fa-female:before {
  content: "\f182";
}
.fa-male:before {
  content: "\f183";
}
.fa-gittip:before,
.fa-gratipay:before {
  content: "\f184";
}
.fa-sun-o:before {
  content: "\f185";
}
.fa-moon-o:before {
  content: "\f186";
}
.fa-archive:before {
  content: "\f187";
}
.fa-bug:before {
  content: "\f188";
}
.fa-vk:before {
  content: "\f189";
}
.fa-weibo:before {
  content: "\f18a";
}
.fa-renren:before {
  content: "\f18b";
}
.fa-pagelines:before {
  content: "\f18c";
}
.fa-stack-exchange:before {
  content: "\f18d";
}
.fa-arrow-circle-o-right:before {
  content: "\f18e";
}
.fa-arrow-circle-o-left:before {
  content: "\f190";
}
.fa-toggle-left:before,
.fa-caret-square-o-left:before {
  content: "\f191";
}
.fa-dot-circle-o:before {
  content: "\f192";
}
.fa-wheelchair:before {
  content: "\f193";
}
.fa-vimeo-square:before {
  content: "\f194";
}
.fa-turkish-lira:before,
.fa-try:before {
  content: "\f195";
}
.fa-plus-square-o:before {
  content: "\f196";
}
.fa-space-shuttle:before {
  content: "\f197";
}
.fa-slack:before {
  content: "\f198";
}
.fa-envelope-square:before {
  content: "\f199";
}
.fa-wordpress:before {
  content: "\f19a";
}
.fa-openid:before {
  content: "\f19b";
}
.fa-institution:before,
.fa-bank:before,
.fa-university:before {
  content: "\f19c";
}
.fa-mortar-board:before,
.fa-graduation-cap:before {
  content: "\f19d";
}
.fa-yahoo:before {
  content: "\f19e";
}
.fa-google:before {
  content: "\f1a0";
}
.fa-reddit:before {
  content: "\f1a1";
}
.fa-reddit-square:before {
  content: "\f1a2";
}
.fa-stumbleupon-circle:before {
  content: "\f1a3";
}
.fa-stumbleupon:before {
  content: "\f1a4";
}
.fa-delicious:before {
  content: "\f1a5";
}
.fa-digg:before {
  content: "\f1a6";
}
.fa-pied-piper-pp:before {
  content: "\f1a7";
}
.fa-pied-piper-alt:before {
  content: "\f1a8";
}
.fa-drupal:before {
  content: "\f1a9";
}
.fa-joomla:before {
  content: "\f1aa";
}
.fa-language:before {
  content: "\f1ab";
}
.fa-fax:before {
  content: "\f1ac";
}
.fa-building:before {
  content: "\f1ad";
}
.fa-child:before {
  content: "\f1ae";
}
.fa-paw:before {
  content: "\f1b0";
}
.fa-spoon:before {
  content: "\f1b1";
}
.fa-cube:before {
  content: "\f1b2";
}
.fa-cubes:before {
  content: "\f1b3";
}
.fa-behance:before {
  content: "\f1b4";
}
.fa-behance-square:before {
  content: "\f1b5";
}
.fa-steam:before {
  content: "\f1b6";
}
.fa-steam-square:before {
  content: "\f1b7";
}
.fa-recycle:before {
  content: "\f1b8";
}
.fa-automobile:before,
.fa-car:before {
  content: "\f1b9";
}
.fa-cab:before,
.fa-taxi:before {
  content: "\f1ba";
}
.fa-tree:before {
  content: "\f1bb";
}
.fa-spotify:before {
  content: "\f1bc";
}
.fa-deviantart:before {
  content: "\f1bd";
}
.fa-soundcloud:before {
  content: "\f1be";
}
.fa-database:before {
  content: "\f1c0";
}
.fa-file-pdf-o:before {
  content: "\f1c1";
}
.fa-file-word-o:before {
  content: "\f1c2";
}
.fa-file-excel-o:before {
  content: "\f1c3";
}
.fa-file-powerpoint-o:before {
  content: "\f1c4";
}
.fa-file-photo-o:before,
.fa-file-picture-o:before,
.fa-file-image-o:before {
  content: "\f1c5";
}
.fa-file-zip-o:before,
.fa-file-archive-o:before {
  content: "\f1c6";
}
.fa-file-sound-o:before,
.fa-file-audio-o:before {
  content: "\f1c7";
}
.fa-file-movie-o:before,
.fa-file-video-o:before {
  content: "\f1c8";
}
.fa-file-code-o:before {
  content: "\f1c9";
}
.fa-vine:before {
  content: "\f1ca";
}
.fa-codepen:before {
  content: "\f1cb";
}
.fa-jsfiddle:before {
  content: "\f1cc";
}
.fa-life-bouy:before,
.fa-life-buoy:before,
.fa-life-saver:before,
.fa-support:before,
.fa-life-ring:before {
  content: "\f1cd";
}
.fa-circle-o-notch:before {
  content: "\f1ce";
}
.fa-ra:before,
.fa-resistance:before,
.fa-rebel:before {
  content: "\f1d0";
}
.fa-ge:before,
.fa-empire:before {
  content: "\f1d1";
}
.fa-git-square:before {
  content: "\f1d2";
}
.fa-git:before {
  content: "\f1d3";
}
.fa-y-combinator-square:before,
.fa-yc-square:before,
.fa-hacker-news:before {
  content: "\f1d4";
}
.fa-tencent-weibo:before {
  content: "\f1d5";
}
.fa-qq:before {
  content: "\f1d6";
}
.fa-wechat:before,
.fa-weixin:before {
  content: "\f1d7";
}
.fa-send:before,
.fa-paper-plane:before {
  content: "\f1d8";
}
.fa-send-o:before,
.fa-paper-plane-o:before {
  content: "\f1d9";
}
.fa-history:before {
  content: "\f1da";
}
.fa-circle-thin:before {
  content: "\f1db";
}
.fa-header:before {
  content: "\f1dc";
}
.fa-paragraph:before {
  content: "\f1dd";
}
.fa-sliders:before {
  content: "\f1de";
}
.fa-share-alt:before {
  content: "\f1e0";
}
.fa-share-alt-square:before {
  content: "\f1e1";
}
.fa-bomb:before {
  content: "\f1e2";
}
.fa-soccer-ball-o:before,
.fa-futbol-o:before {
  content: "\f1e3";
}
.fa-tty:before {
  content: "\f1e4";
}
.fa-binoculars:before {
  content: "\f1e5";
}
.fa-plug:before {
  content: "\f1e6";
}
.fa-slideshare:before {
  content: "\f1e7";
}
.fa-twitch:before {
  content: "\f1e8";
}
.fa-yelp:before {
  content: "\f1e9";
}
.fa-newspaper-o:before {
  content: "\f1ea";
}
.fa-wifi:before {
  content: "\f1eb";
}
.fa-calculator:before {
  content: "\f1ec";
}
.fa-paypal:before {
  content: "\f1ed";
}
.fa-google-wallet:before {
  content: "\f1ee";
}
.fa-cc-visa:before {
  content: "\f1f0";
}
.fa-cc-mastercard:before {
  content: "\f1f1";
}
.fa-cc-discover:before {
  content: "\f1f2";
}
.fa-cc-amex:before {
  content: "\f1f3";
}
.fa-cc-paypal:before {
  content: "\f1f4";
}
.fa-cc-stripe:before {
  content: "\f1f5";
}
.fa-bell-slash:before {
  content: "\f1f6";
}
.fa-bell-slash-o:before {
  content: "\f1f7";
}
.fa-trash:before {
  content: "\f1f8";
}
.fa-copyright:before {
  content: "\f1f9";
}
.fa-at:before {
  content: "\f1fa";
}
.fa-eyedropper:before {
  content: "\f1fb";
}
.fa-paint-brush:before {
  content: "\f1fc";
}
.fa-birthday-cake:before {
  content: "\f1fd";
}
.fa-area-chart:before {
  content: "\f1fe";
}
.fa-pie-chart:before {
  content: "\f200";
}
.fa-line-chart:before {
  content: "\f201";
}
.fa-lastfm:before {
  content: "\f202";
}
.fa-lastfm-square:before {
  content: "\f203";
}
.fa-toggle-off:before {
  content: "\f204";
}
.fa-toggle-on:before {
  content: "\f205";
}
.fa-bicycle:before {
  content: "\f206";
}
.fa-bus:before {
  content: "\f207";
}
.fa-ioxhost:before {
  content: "\f208";
}
.fa-angellist:before {
  content: "\f209";
}
.fa-cc:before {
  content: "\f20a";
}
.fa-shekel:before,
.fa-sheqel:before,
.fa-ils:before {
  content: "\f20b";
}
.fa-meanpath:before {
  content: "\f20c";
}
.fa-buysellads:before {
  content: "\f20d";
}
.fa-connectdevelop:before {
  content: "\f20e";
}
.fa-dashcube:before {
  content: "\f210";
}
.fa-forumbee:before {
  content: "\f211";
}
.fa-leanpub:before {
  content: "\f212";
}
.fa-sellsy:before {
  content: "\f213";
}
.fa-shirtsinbulk:before {
  content: "\f214";
}
.fa-simplybuilt:before {
  content: "\f215";
}
.fa-skyatlas:before {
  content: "\f216";
}
.fa-cart-plus:before {
  content: "\f217";
}
.fa-cart-arrow-down:before {
  content: "\f218";
}
.fa-diamond:before {
  content: "\f219";
}
.fa-ship:before {
  content: "\f21a";
}
.fa-user-secret:before {
  content: "\f21b";
}
.fa-motorcycle:before {
  content: "\f21c";
}
.fa-street-view:before {
  content: "\f21d";
}
.fa-heartbeat:before {
  content: "\f21e";
}
.fa-venus:before {
  content: "\f221";
}
.fa-mars:before {
  content: "\f222";
}
.fa-mercury:before {
  content: "\f223";
}
.fa-intersex:before,
.fa-transgender:before {
  content: "\f224";
}
.fa-transgender-alt:before {
  content: "\f225";
}
.fa-venus-double:before {
  content: "\f226";
}
.fa-mars-double:before {
  content: "\f227";
}
.fa-venus-mars:before {
  content: "\f228";
}
.fa-mars-stroke:before {
  content: "\f229";
}
.fa-mars-stroke-v:before {
  content: "\f22a";
}
.fa-mars-stroke-h:before {
  content: "\f22b";
}
.fa-neuter:before {
  content: "\f22c";
}
.fa-genderless:before {
  content: "\f22d";
}
.fa-facebook-official:before {
  content: "\f230";
}
.fa-pinterest-p:before {
  content: "\f231";
}
.fa-whatsapp:before {
  content: "\f232";
}
.fa-server:before {
  content: "\f233";
}
.fa-user-plus:before {
  content: "\f234";
}
.fa-user-times:before {
  content: "\f235";
}
.fa-hotel:before,
.fa-bed:before {
  content: "\f236";
}
.fa-viacoin:before {
  content: "\f237";
}
.fa-train:before {
  content: "\f238";
}
.fa-subway:before {
  content: "\f239";
}
.fa-medium:before {
  content: "\f23a";
}
.fa-yc:before,
.fa-y-combinator:before {
  content: "\f23b";
}
.fa-optin-monster:before {
  content: "\f23c";
}
.fa-opencart:before {
  content: "\f23d";
}
.fa-expeditedssl:before {
  content: "\f23e";
}
.fa-battery-4:before,
.fa-battery:before,
.fa-battery-full:before {
  content: "\f240";
}
.fa-battery-3:before,
.fa-battery-three-quarters:before {
  content: "\f241";
}
.fa-battery-2:before,
.fa-battery-half:before {
  content: "\f242";
}
.fa-battery-1:before,
.fa-battery-quarter:before {
  content: "\f243";
}
.fa-battery-0:before,
.fa-battery-empty:before {
  content: "\f244";
}
.fa-mouse-pointer:before {
  content: "\f245";
}
.fa-i-cursor:before {
  content: "\f246";
}
.fa-object-group:before {
  content: "\f247";
}
.fa-object-ungroup:before {
  content: "\f248";
}
.fa-sticky-note:before {
  content: "\f249";
}
.fa-sticky-note-o:before {
  content: "\f24a";
}
.fa-cc-jcb:before {
  content: "\f24b";
}
.fa-cc-diners-club:before {
  content: "\f24c";
}
.fa-clone:before {
  content: "\f24d";
}
.fa-balance-scale:before {
  content: "\f24e";
}
.fa-hourglass-o:before {
  content: "\f250";
}
.fa-hourglass-1:before,
.fa-hourglass-start:before {
  content: "\f251";
}
.fa-hourglass-2:before,
.fa-hourglass-half:before {
  content: "\f252";
}
.fa-hourglass-3:before,
.fa-hourglass-end:before {
  content: "\f253";
}
.fa-hourglass:before {
  content: "\f254";
}
.fa-hand-grab-o:before,
.fa-hand-rock-o:before {
  content: "\f255";
}
.fa-hand-stop-o:before,
.fa-hand-paper-o:before {
  content: "\f256";
}
.fa-hand-scissors-o:before {
  content: "\f257";
}
.fa-hand-lizard-o:before {
  content: "\f258";
}
.fa-hand-spock-o:before {
  content: "\f259";
}
.fa-hand-pointer-o:before {
  content: "\f25a";
}
.fa-hand-peace-o:before {
  content: "\f25b";
}
.fa-trademark:before {
  content: "\f25c";
}
.fa-registered:before {
  content: "\f25d";
}
.fa-creative-commons:before {
  content: "\f25e";
}
.fa-gg:before {
  content: "\f260";
}
.fa-gg-circle:before {
  content: "\f261";
}
.fa-tripadvisor:before {
  content: "\f262";
}
.fa-odnoklassniki:before {
  content: "\f263";
}
.fa-odnoklassniki-square:before {
  content: "\f264";
}
.fa-get-pocket:before {
  content: "\f265";
}
.fa-wikipedia-w:before {
  content: "\f266";
}
.fa-safari:before {
  content: "\f267";
}
.fa-chrome:before {
  content: "\f268";
}
.fa-firefox:before {
  content: "\f269";
}
.fa-opera:before {
  content: "\f26a";
}
.fa-internet-explorer:before {
  content: "\f26b";
}
.fa-tv:before,
.fa-television:before {
  content: "\f26c";
}
.fa-contao:before {
  content: "\f26d";
}
.fa-500px:before {
  content: "\f26e";
}
.fa-amazon:before {
  content: "\f270";
}
.fa-calendar-plus-o:before {
  content: "\f271";
}
.fa-calendar-minus-o:before {
  content: "\f272";
}
.fa-calendar-times-o:before {
  content: "\f273";
}
.fa-calendar-check-o:before {
  content: "\f274";
}
.fa-industry:before {
  content: "\f275";
}
.fa-map-pin:before {
  content: "\f276";
}
.fa-map-signs:before {
  content: "\f277";
}
.fa-map-o:before {
  content: "\f278";
}
.fa-map:before {
  content: "\f279";
}
.fa-commenting:before {
  content: "\f27a";
}
.fa-commenting-o:before {
  content: "\f27b";
}
.fa-houzz:before {
  content: "\f27c";
}
.fa-vimeo:before {
  content: "\f27d";
}
.fa-black-tie:before {
  content: "\f27e";
}
.fa-fonticons:before {
  content: "\f280";
}
.fa-reddit-alien:before {
  content: "\f281";
}
.fa-edge:before {
  content: "\f282";
}
.fa-credit-card-alt:before {
  content: "\f283";
}
.fa-codiepie:before {
  content: "\f284";
}
.fa-modx:before {
  content: "\f285";
}
.fa-fort-awesome:before {
  content: "\f286";
}
.fa-usb:before {
  content: "\f287";
}
.fa-product-hunt:before {
  content: "\f288";
}
.fa-mixcloud:before {
  content: "\f289";
}
.fa-scribd:before {
  content: "\f28a";
}
.fa-pause-circle:before {
  content: "\f28b";
}
.fa-pause-circle-o:before {
  content: "\f28c";
}
.fa-stop-circle:before {
  content: "\f28d";
}
.fa-stop-circle-o:before {
  content: "\f28e";
}
.fa-shopping-bag:before {
  content: "\f290";
}
.fa-shopping-basket:before {
  content: "\f291";
}
.fa-hashtag:before {
  content: "\f292";
}
.fa-bluetooth:before {
  content: "\f293";
}
.fa-bluetooth-b:before {
  content: "\f294";
}
.fa-percent:before {
  content: "\f295";
}
.fa-gitlab:before {
  content: "\f296";
}
.fa-wpbeginner:before {
  content: "\f297";
}
.fa-wpforms:before {
  content: "\f298";
}
.fa-envira:before {
  content: "\f299";
}
.fa-universal-access:before {
  content: "\f29a";
}
.fa-wheelchair-alt:before {
  content: "\f29b";
}
.fa-question-circle-o:before {
  content: "\f29c";
}
.fa-blind:before {
  content: "\f29d";
}
.fa-audio-description:before {
  content: "\f29e";
}
.fa-volume-control-phone:before {
  content: "\f2a0";
}
.fa-braille:before {
  content: "\f2a1";
}
.fa-assistive-listening-systems:before {
  content: "\f2a2";
}
.fa-asl-interpreting:before,
.fa-american-sign-language-interpreting:before {
  content: "\f2a3";
}
.fa-deafness:before,
.fa-hard-of-hearing:before,
.fa-deaf:before {
  content: "\f2a4";
}
.fa-glide:before {
  content: "\f2a5";
}
.fa-glide-g:before {
  content: "\f2a6";
}
.fa-signing:before,
.fa-sign-language:before {
  content: "\f2a7";
}
.fa-low-vision:before {
  content: "\f2a8";
}
.fa-viadeo:before {
  content: "\f2a9";
}
.fa-viadeo-square:before {
  content: "\f2aa";
}
.fa-snapchat:before {
  content: "\f2ab";
}
.fa-snapchat-ghost:before {
  content: "\f2ac";
}
.fa-snapchat-square:before {
  content: "\f2ad";
}
.fa-pied-piper:before {
  content: "\f2ae";
}
.fa-first-order:before {
  content: "\f2b0";
}
.fa-yoast:before {
  content: "\f2b1";
}
.fa-themeisle:before {
  content: "\f2b2";
}
.fa-google-plus-circle:before,
.fa-google-plus-official:before {
  content: "\f2b3";
}
.fa-fa:before,
.fa-font-awesome:before {
  content: "\f2b4";
}
.fa-handshake-o:before {
  content: "\f2b5";
}
.fa-envelope-open:before {
  content: "\f2b6";
}
.fa-envelope-open-o:before {
  content: "\f2b7";
}
.fa-linode:before {
  content: "\f2b8";
}
.fa-address-book:before {
  content: "\f2b9";
}
.fa-address-book-o:before {
  content: "\f2ba";
}
.fa-vcard:before,
.fa-address-card:before {
  content: "\f2bb";
}
.fa-vcard-o:before,
.fa-address-card-o:before {
  content: "\f2bc";
}
.fa-user-circle:before {
  content: "\f2bd";
}
.fa-user-circle-o:before {
  content: "\f2be";
}
.fa-user-o:before {
  content: "\f2c0";
}
.fa-id-badge:before {
  content: "\f2c1";
}
.fa-drivers-license:before,
.fa-id-card:before {
  content: "\f2c2";
}
.fa-drivers-license-o:before,
.fa-id-card-o:before {
  content: "\f2c3";
}
.fa-quora:before {
  content: "\f2c4";
}
.fa-free-code-camp:before {
  content: "\f2c5";
}
.fa-telegram:before {
  content: "\f2c6";
}
.fa-thermometer-4:before,
.fa-thermometer:before,
.fa-thermometer-full:before {
  content: "\f2c7";
}
.fa-thermometer-3:before,
.fa-thermometer-three-quarters:before {
  content: "\f2c8";
}
.fa-thermometer-2:before,
.fa-thermometer-half:before {
  content: "\f2c9";
}
.fa-thermometer-1:before,
.fa-thermometer-quarter:before {
  content: "\f2ca";
}
.fa-thermometer-0:before,
.fa-thermometer-empty:before {
  content: "\f2cb";
}
.fa-shower:before {
  content: "\f2cc";
}
.fa-bathtub:before,
.fa-s15:before,
.fa-bath:before {
  content: "\f2cd";
}
.fa-podcast:before {
  content: "\f2ce";
}
.fa-window-maximize:before {
  content: "\f2d0";
}
.fa-window-minimize:before {
  content: "\f2d1";
}
.fa-window-restore:before {
  content: "\f2d2";
}
.fa-times-rectangle:before,
.fa-window-close:before {
  content: "\f2d3";
}
.fa-times-rectangle-o:before,
.fa-window-close-o:before {
  content: "\f2d4";
}
.fa-bandcamp:before {
  content: "\f2d5";
}
.fa-grav:before {
  content: "\f2d6";
}
.fa-etsy:before {
  content: "\f2d7";
}
.fa-imdb:before {
  content: "\f2d8";
}
.fa-ravelry:before {
  content: "\f2d9";
}
.fa-eercast:before {
  content: "\f2da";
}
.fa-microchip:before {
  content: "\f2db";
}
.fa-snowflake-o:before {
  content: "\f2dc";
}
.fa-superpowers:before {
  content: "\f2dd";
}
.fa-wpexplorer:before {
  content: "\f2de";
}
.fa-meetup:before {
  content: "\f2e0";
}
.sr-only {
  position: absolute;
  width: 1px;
  height: 1px;
  padding: 0;
  margin: -1px;
  overflow: hidden;
  clip: rect(0, 0, 0, 0);
  border: 0;
}
.sr-only-focusable:active,
.sr-only-focusable:focus {
  position: static;
  width: auto;
  height: auto;
  margin: 0;
  overflow: visible;
  clip: auto;
}
.sr-only-focusable:active,
.sr-only-focusable:focus {
  position: static;
  width: auto;
  height: auto;
  margin: 0;
  overflow: visible;
  clip: auto;
}
/*!
*
* IPython base
*
*/
.modal.fade .modal-dialog {
  -webkit-transform: translate(0, 0);
  -ms-transform: translate(0, 0);
  -o-transform: translate(0, 0);
  transform: translate(0, 0);
}
code {
  color: #000;
}
pre {
  font-size: inherit;
  line-height: inherit;
}
label {
  font-weight: normal;
}
/* Make the page background atleast 100% the height of the view port */
/* Make the page itself atleast 70% the height of the view port */
.border-box-sizing {
  box-sizing: border-box;
  -moz-box-sizing: border-box;
  -webkit-box-sizing: border-box;
}
.corner-all {
  border-radius: 2px;
}
.no-padding {
  padding: 0px;
}
/* Flexible box model classes */
/* Taken from Alex Russell http://infrequently.org/2009/08/css-3-progress/ */
/* This file is a compatability layer.  It allows the usage of flexible box 
model layouts accross multiple browsers, including older browsers.  The newest,
universal implementation of the flexible box model is used when available (see
`Modern browsers` comments below).  Browsers that are known to implement this 
new spec completely include:

    Firefox 28.0+
    Chrome 29.0+
    Internet Explorer 11+ 
    Opera 17.0+

Browsers not listed, including Safari, are supported via the styling under the
`Old browsers` comments below.
*/
.hbox {
  /* Old browsers */
  display: -webkit-box;
  -webkit-box-orient: horizontal;
  -webkit-box-align: stretch;
  display: -moz-box;
  -moz-box-orient: horizontal;
  -moz-box-align: stretch;
  display: box;
  box-orient: horizontal;
  box-align: stretch;
  /* Modern browsers */
  display: flex;
  flex-direction: row;
  align-items: stretch;
}
.hbox > * {
  /* Old browsers */
  -webkit-box-flex: 0;
  -moz-box-flex: 0;
  box-flex: 0;
  /* Modern browsers */
  flex: none;
}
.vbox {
  /* Old browsers */
  display: -webkit-box;
  -webkit-box-orient: vertical;
  -webkit-box-align: stretch;
  display: -moz-box;
  -moz-box-orient: vertical;
  -moz-box-align: stretch;
  display: box;
  box-orient: vertical;
  box-align: stretch;
  /* Modern browsers */
  display: flex;
  flex-direction: column;
  align-items: stretch;
}
.vbox > * {
  /* Old browsers */
  -webkit-box-flex: 0;
  -moz-box-flex: 0;
  box-flex: 0;
  /* Modern browsers */
  flex: none;
}
.hbox.reverse,
.vbox.reverse,
.reverse {
  /* Old browsers */
  -webkit-box-direction: reverse;
  -moz-box-direction: reverse;
  box-direction: reverse;
  /* Modern browsers */
  flex-direction: row-reverse;
}
.hbox.box-flex0,
.vbox.box-flex0,
.box-flex0 {
  /* Old browsers */
  -webkit-box-flex: 0;
  -moz-box-flex: 0;
  box-flex: 0;
  /* Modern browsers */
  flex: none;
  width: auto;
}
.hbox.box-flex1,
.vbox.box-flex1,
.box-flex1 {
  /* Old browsers */
  -webkit-box-flex: 1;
  -moz-box-flex: 1;
  box-flex: 1;
  /* Modern browsers */
  flex: 1;
}
.hbox.box-flex,
.vbox.box-flex,
.box-flex {
  /* Old browsers */
  /* Old browsers */
  -webkit-box-flex: 1;
  -moz-box-flex: 1;
  box-flex: 1;
  /* Modern browsers */
  flex: 1;
}
.hbox.box-flex2,
.vbox.box-flex2,
.box-flex2 {
  /* Old browsers */
  -webkit-box-flex: 2;
  -moz-box-flex: 2;
  box-flex: 2;
  /* Modern browsers */
  flex: 2;
}
.box-group1 {
  /*  Deprecated */
  -webkit-box-flex-group: 1;
  -moz-box-flex-group: 1;
  box-flex-group: 1;
}
.box-group2 {
  /* Deprecated */
  -webkit-box-flex-group: 2;
  -moz-box-flex-group: 2;
  box-flex-group: 2;
}
.hbox.start,
.vbox.start,
.start {
  /* Old browsers */
  -webkit-box-pack: start;
  -moz-box-pack: start;
  box-pack: start;
  /* Modern browsers */
  justify-content: flex-start;
}
.hbox.end,
.vbox.end,
.end {
  /* Old browsers */
  -webkit-box-pack: end;
  -moz-box-pack: end;
  box-pack: end;
  /* Modern browsers */
  justify-content: flex-end;
}
.hbox.center,
.vbox.center,
.center {
  /* Old browsers */
  -webkit-box-pack: center;
  -moz-box-pack: center;
  box-pack: center;
  /* Modern browsers */
  justify-content: center;
}
.hbox.baseline,
.vbox.baseline,
.baseline {
  /* Old browsers */
  -webkit-box-pack: baseline;
  -moz-box-pack: baseline;
  box-pack: baseline;
  /* Modern browsers */
  justify-content: baseline;
}
.hbox.stretch,
.vbox.stretch,
.stretch {
  /* Old browsers */
  -webkit-box-pack: stretch;
  -moz-box-pack: stretch;
  box-pack: stretch;
  /* Modern browsers */
  justify-content: stretch;
}
.hbox.align-start,
.vbox.align-start,
.align-start {
  /* Old browsers */
  -webkit-box-align: start;
  -moz-box-align: start;
  box-align: start;
  /* Modern browsers */
  align-items: flex-start;
}
.hbox.align-end,
.vbox.align-end,
.align-end {
  /* Old browsers */
  -webkit-box-align: end;
  -moz-box-align: end;
  box-align: end;
  /* Modern browsers */
  align-items: flex-end;
}
.hbox.align-center,
.vbox.align-center,
.align-center {
  /* Old browsers */
  -webkit-box-align: center;
  -moz-box-align: center;
  box-align: center;
  /* Modern browsers */
  align-items: center;
}
.hbox.align-baseline,
.vbox.align-baseline,
.align-baseline {
  /* Old browsers */
  -webkit-box-align: baseline;
  -moz-box-align: baseline;
  box-align: baseline;
  /* Modern browsers */
  align-items: baseline;
}
.hbox.align-stretch,
.vbox.align-stretch,
.align-stretch {
  /* Old browsers */
  -webkit-box-align: stretch;
  -moz-box-align: stretch;
  box-align: stretch;
  /* Modern browsers */
  align-items: stretch;
}
div.error {
  margin: 2em;
  text-align: center;
}
div.error > h1 {
  font-size: 500%;
  line-height: normal;
}
div.error > p {
  font-size: 200%;
  line-height: normal;
}
div.traceback-wrapper {
  text-align: left;
  max-width: 800px;
  margin: auto;
}
div.traceback-wrapper pre.traceback {
  max-height: 600px;
  overflow: auto;
}
/**
 * Primary styles
 *
 * Author: Jupyter Development Team
 */
body {
  background-color: #fff;
  /* This makes sure that the body covers the entire window and needs to
       be in a different element than the display: box in wrapper below */
  position: absolute;
  left: 0px;
  right: 0px;
  top: 0px;
  bottom: 0px;
  overflow: visible;
}
body > #header {
  /* Initially hidden to prevent FLOUC */
  display: none;
  background-color: #fff;
  /* Display over codemirror */
  position: relative;
  z-index: 100;
}
body > #header #header-container {
  display: flex;
  flex-direction: row;
  justify-content: space-between;
  padding: 5px;
  padding-bottom: 5px;
  padding-top: 5px;
  box-sizing: border-box;
  -moz-box-sizing: border-box;
  -webkit-box-sizing: border-box;
}
body > #header .header-bar {
  width: 100%;
  height: 1px;
  background: #e7e7e7;
  margin-bottom: -1px;
}
@media print {
  body > #header {
    display: none !important;
  }
}
#header-spacer {
  width: 100%;
  visibility: hidden;
}
@media print {
  #header-spacer {
    display: none;
  }
}
#ipython_notebook {
  padding-left: 0px;
  padding-top: 1px;
  padding-bottom: 1px;
}
[dir="rtl"] #ipython_notebook {
  margin-right: 10px;
  margin-left: 0;
}
[dir="rtl"] #ipython_notebook.pull-left {
  float: right !important;
  float: right;
}
.flex-spacer {
  flex: 1;
}
#noscript {
  width: auto;
  padding-top: 16px;
  padding-bottom: 16px;
  text-align: center;
  font-size: 22px;
  color: red;
  font-weight: bold;
}
#ipython_notebook img {
  height: 28px;
}
#site {
  width: 100%;
  display: none;
  box-sizing: border-box;
  -moz-box-sizing: border-box;
  -webkit-box-sizing: border-box;
  overflow: auto;
}
@media print {
  #site {
    height: auto !important;
  }
}
/* Smaller buttons */
.ui-button .ui-button-text {
  padding: 0.2em 0.8em;
  font-size: 77%;
}
input.ui-button {
  padding: 0.3em 0.9em;
}
span#kernel_logo_widget {
  margin: 0 10px;
}
span#login_widget {
  float: right;
}
[dir="rtl"] span#login_widget {
  float: left;
}
span#login_widget > .button,
#logout {
  color: #333;
  background-color: #fff;
  border-color: #ccc;
}
span#login_widget > .button:focus,
#logout:focus,
span#login_widget > .button.focus,
#logout.focus {
  color: #333;
  background-color: #e6e6e6;
  border-color: #8c8c8c;
}
span#login_widget > .button:hover,
#logout:hover {
  color: #333;
  background-color: #e6e6e6;
  border-color: #adadad;
}
span#login_widget > .button:active,
#logout:active,
span#login_widget > .button.active,
#logout.active,
.open > .dropdown-togglespan#login_widget > .button,
.open > .dropdown-toggle#logout {
  color: #333;
  background-color: #e6e6e6;
  border-color: #adadad;
}
span#login_widget > .button:active:hover,
#logout:active:hover,
span#login_widget > .button.active:hover,
#logout.active:hover,
.open > .dropdown-togglespan#login_widget > .button:hover,
.open > .dropdown-toggle#logout:hover,
span#login_widget > .button:active:focus,
#logout:active:focus,
span#login_widget > .button.active:focus,
#logout.active:focus,
.open > .dropdown-togglespan#login_widget > .button:focus,
.open > .dropdown-toggle#logout:focus,
span#login_widget > .button:active.focus,
#logout:active.focus,
span#login_widget > .button.active.focus,
#logout.active.focus,
.open > .dropdown-togglespan#login_widget > .button.focus,
.open > .dropdown-toggle#logout.focus {
  color: #333;
  background-color: #d4d4d4;
  border-color: #8c8c8c;
}
span#login_widget > .button:active,
#logout:active,
span#login_widget > .button.active,
#logout.active,
.open > .dropdown-togglespan#login_widget > .button,
.open > .dropdown-toggle#logout {
  background-image: none;
}
span#login_widget > .button.disabled:hover,
#logout.disabled:hover,
span#login_widget > .button[disabled]:hover,
#logout[disabled]:hover,
fieldset[disabled] span#login_widget > .button:hover,
fieldset[disabled] #logout:hover,
span#login_widget > .button.disabled:focus,
#logout.disabled:focus,
span#login_widget > .button[disabled]:focus,
#logout[disabled]:focus,
fieldset[disabled] span#login_widget > .button:focus,
fieldset[disabled] #logout:focus,
span#login_widget > .button.disabled.focus,
#logout.disabled.focus,
span#login_widget > .button[disabled].focus,
#logout[disabled].focus,
fieldset[disabled] span#login_widget > .button.focus,
fieldset[disabled] #logout.focus {
  background-color: #fff;
  border-color: #ccc;
}
span#login_widget > .button .badge,
#logout .badge {
  color: #fff;
  background-color: #333;
}
.nav-header {
  text-transform: none;
}
#header > span {
  margin-top: 10px;
}
.modal_stretch .modal-dialog {
  /* Old browsers */
  display: -webkit-box;
  -webkit-box-orient: vertical;
  -webkit-box-align: stretch;
  display: -moz-box;
  -moz-box-orient: vertical;
  -moz-box-align: stretch;
  display: box;
  box-orient: vertical;
  box-align: stretch;
  /* Modern browsers */
  display: flex;
  flex-direction: column;
  align-items: stretch;
  min-height: 80vh;
}
.modal_stretch .modal-dialog .modal-body {
  max-height: calc(100vh - 200px);
  overflow: auto;
  flex: 1;
}
.modal-header {
  cursor: move;
}
@media (min-width: 768px) {
  .modal .modal-dialog {
    width: 700px;
  }
}
@media (min-width: 768px) {
  select.form-control {
    margin-left: 12px;
    margin-right: 12px;
  }
}
/*!
*
* IPython auth
*
*/
.center-nav {
  display: inline-block;
  margin-bottom: -4px;
}
[dir="rtl"] .center-nav form.pull-left {
  float: right !important;
  float: right;
}
[dir="rtl"] .center-nav .navbar-text {
  float: right;
}
[dir="rtl"] .navbar-inner {
  text-align: right;
}
[dir="rtl"] div.text-left {
  text-align: right;
}
/*!
*
* IPython tree view
*
*/
/* We need an invisible input field on top of the sentense*/
/* "Drag file onto the list ..." */
.alternate_upload {
  background-color: none;
  display: inline;
}
.alternate_upload.form {
  padding: 0;
  margin: 0;
}
.alternate_upload input.fileinput {
  position: absolute;
  display: block;
  width: 100%;
  height: 100%;
  overflow: hidden;
  cursor: pointer;
  opacity: 0;
  z-index: 2;
}
.alternate_upload .btn-xs > input.fileinput {
  margin: -1px -5px;
}
.alternate_upload .btn-upload {
  position: relative;
  height: 22px;
}
::-webkit-file-upload-button {
  cursor: pointer;
}
/**
 * Primary styles
 *
 * Author: Jupyter Development Team
 */
ul#tabs {
  margin-bottom: 4px;
}
ul#tabs a {
  padding-top: 6px;
  padding-bottom: 4px;
}
[dir="rtl"] ul#tabs.nav-tabs > li {
  float: right;
}
[dir="rtl"] ul#tabs.nav.nav-tabs {
  padding-right: 0;
}
ul.breadcrumb a:focus,
ul.breadcrumb a:hover {
  text-decoration: none;
}
ul.breadcrumb i.icon-home {
  font-size: 16px;
  margin-right: 4px;
}
ul.breadcrumb span {
  color: #5e5e5e;
}
.list_toolbar {
  padding: 4px 0 4px 0;
  vertical-align: middle;
}
.list_toolbar .tree-buttons {
  padding-top: 1px;
}
[dir="rtl"] .list_toolbar .tree-buttons .pull-right {
  float: left !important;
  float: left;
}
[dir="rtl"] .list_toolbar .col-sm-4,
[dir="rtl"] .list_toolbar .col-sm-8 {
  float: right;
}
.dynamic-buttons {
  padding-top: 3px;
  display: inline-block;
}
.list_toolbar [class*="span"] {
  min-height: 24px;
}
.list_header {
  font-weight: bold;
  background-color: #EEE;
}
.list_placeholder {
  font-weight: bold;
  padding-top: 4px;
  padding-bottom: 4px;
  padding-left: 7px;
  padding-right: 7px;
}
.list_container {
  margin-top: 4px;
  margin-bottom: 20px;
  border: 1px solid #ddd;
  border-radius: 2px;
}
.list_container > div {
  border-bottom: 1px solid #ddd;
}
.list_container > div:hover .list-item {
  background-color: red;
}
.list_container > div:last-child {
  border: none;
}
.list_item:hover .list_item {
  background-color: #ddd;
}
.list_item a {
  text-decoration: none;
}
.list_item:hover {
  background-color: #fafafa;
}
.list_header > div,
.list_item > div {
  padding-top: 4px;
  padding-bottom: 4px;
  padding-left: 7px;
  padding-right: 7px;
  line-height: 22px;
}
.list_header > div input,
.list_item > div input {
  margin-right: 7px;
  margin-left: 14px;
  vertical-align: text-bottom;
  line-height: 22px;
  position: relative;
  top: -1px;
}
.list_header > div .item_link,
.list_item > div .item_link {
  margin-left: -1px;
  vertical-align: baseline;
  line-height: 22px;
}
[dir="rtl"] .list_item > div input {
  margin-right: 0;
}
.new-file input[type=checkbox] {
  visibility: hidden;
}
.item_name {
  line-height: 22px;
  height: 24px;
}
.item_icon {
  font-size: 14px;
  color: #5e5e5e;
  margin-right: 7px;
  margin-left: 7px;
  line-height: 22px;
  vertical-align: baseline;
}
.item_modified {
  margin-right: 7px;
  margin-left: 7px;
}
[dir="rtl"] .item_modified.pull-right {
  float: left !important;
  float: left;
}
.item_buttons {
  line-height: 1em;
  margin-left: -5px;
}
.item_buttons .btn,
.item_buttons .btn-group,
.item_buttons .input-group {
  float: left;
}
.item_buttons > .btn,
.item_buttons > .btn-group,
.item_buttons > .input-group {
  margin-left: 5px;
}
.item_buttons .btn {
  min-width: 13ex;
}
.item_buttons .running-indicator {
  padding-top: 4px;
  color: #5cb85c;
}
.item_buttons .kernel-name {
  padding-top: 4px;
  color: #5bc0de;
  margin-right: 7px;
  float: left;
}
[dir="rtl"] .item_buttons.pull-right {
  float: left !important;
  float: left;
}
[dir="rtl"] .item_buttons .kernel-name {
  margin-left: 7px;
  float: right;
}
.toolbar_info {
  height: 24px;
  line-height: 24px;
}
.list_item input:not([type=checkbox]) {
  padding-top: 3px;
  padding-bottom: 3px;
  height: 22px;
  line-height: 14px;
  margin: 0px;
}
.highlight_text {
  color: blue;
}
#project_name {
  display: inline-block;
  padding-left: 7px;
  margin-left: -2px;
}
#project_name > .breadcrumb {
  padding: 0px;
  margin-bottom: 0px;
  background-color: transparent;
  font-weight: bold;
}
.sort_button {
  display: inline-block;
  padding-left: 7px;
}
[dir="rtl"] .sort_button.pull-right {
  float: left !important;
  float: left;
}
#tree-selector {
  padding-right: 0px;
}
#button-select-all {
  min-width: 50px;
}
[dir="rtl"] #button-select-all.btn {
  float: right ;
}
#select-all {
  margin-left: 7px;
  margin-right: 2px;
  margin-top: 2px;
  height: 16px;
}
[dir="rtl"] #select-all.pull-left {
  float: right !important;
  float: right;
}
.menu_icon {
  margin-right: 2px;
}
.tab-content .row {
  margin-left: 0px;
  margin-right: 0px;
}
.folder_icon:before {
  display: inline-block;
  font: normal normal normal 14px/1 FontAwesome;
  font-size: inherit;
  text-rendering: auto;
  -webkit-font-smoothing: antialiased;
  -moz-osx-font-smoothing: grayscale;
  content: "\f114";
}
.folder_icon:before.fa-pull-left {
  margin-right: .3em;
}
.folder_icon:before.fa-pull-right {
  margin-left: .3em;
}
.folder_icon:before.pull-left {
  margin-right: .3em;
}
.folder_icon:before.pull-right {
  margin-left: .3em;
}
.notebook_icon:before {
  display: inline-block;
  font: normal normal normal 14px/1 FontAwesome;
  font-size: inherit;
  text-rendering: auto;
  -webkit-font-smoothing: antialiased;
  -moz-osx-font-smoothing: grayscale;
  content: "\f02d";
  position: relative;
  top: -1px;
}
.notebook_icon:before.fa-pull-left {
  margin-right: .3em;
}
.notebook_icon:before.fa-pull-right {
  margin-left: .3em;
}
.notebook_icon:before.pull-left {
  margin-right: .3em;
}
.notebook_icon:before.pull-right {
  margin-left: .3em;
}
.running_notebook_icon:before {
  display: inline-block;
  font: normal normal normal 14px/1 FontAwesome;
  font-size: inherit;
  text-rendering: auto;
  -webkit-font-smoothing: antialiased;
  -moz-osx-font-smoothing: grayscale;
  content: "\f02d";
  position: relative;
  top: -1px;
  color: #5cb85c;
}
.running_notebook_icon:before.fa-pull-left {
  margin-right: .3em;
}
.running_notebook_icon:before.fa-pull-right {
  margin-left: .3em;
}
.running_notebook_icon:before.pull-left {
  margin-right: .3em;
}
.running_notebook_icon:before.pull-right {
  margin-left: .3em;
}
.file_icon:before {
  display: inline-block;
  font: normal normal normal 14px/1 FontAwesome;
  font-size: inherit;
  text-rendering: auto;
  -webkit-font-smoothing: antialiased;
  -moz-osx-font-smoothing: grayscale;
  content: "\f016";
  position: relative;
  top: -2px;
}
.file_icon:before.fa-pull-left {
  margin-right: .3em;
}
.file_icon:before.fa-pull-right {
  margin-left: .3em;
}
.file_icon:before.pull-left {
  margin-right: .3em;
}
.file_icon:before.pull-right {
  margin-left: .3em;
}
#notebook_toolbar .pull-right {
  padding-top: 0px;
  margin-right: -1px;
}
ul#new-menu {
  left: auto;
  right: 0;
}
#new-menu .dropdown-header {
  font-size: 10px;
  border-bottom: 1px solid #e5e5e5;
  padding: 0 0 3px;
  margin: -3px 20px 0;
}
.kernel-menu-icon {
  padding-right: 12px;
  width: 24px;
  content: "\f096";
}
.kernel-menu-icon:before {
  content: "\f096";
}
.kernel-menu-icon-current:before {
  content: "\f00c";
}
#tab_content {
  padding-top: 20px;
}
#running .panel-group .panel {
  margin-top: 3px;
  margin-bottom: 1em;
}
#running .panel-group .panel .panel-heading {
  background-color: #EEE;
  padding-top: 4px;
  padding-bottom: 4px;
  padding-left: 7px;
  padding-right: 7px;
  line-height: 22px;
}
#running .panel-group .panel .panel-heading a:focus,
#running .panel-group .panel .panel-heading a:hover {
  text-decoration: none;
}
#running .panel-group .panel .panel-body {
  padding: 0px;
}
#running .panel-group .panel .panel-body .list_container {
  margin-top: 0px;
  margin-bottom: 0px;
  border: 0px;
  border-radius: 0px;
}
#running .panel-group .panel .panel-body .list_container .list_item {
  border-bottom: 1px solid #ddd;
}
#running .panel-group .panel .panel-body .list_container .list_item:last-child {
  border-bottom: 0px;
}
.delete-button {
  display: none;
}
.duplicate-button {
  display: none;
}
.rename-button {
  display: none;
}
.move-button {
  display: none;
}
.download-button {
  display: none;
}
.shutdown-button {
  display: none;
}
.dynamic-instructions {
  display: inline-block;
  padding-top: 4px;
}
/*!
*
* IPython text editor webapp
*
*/
.selected-keymap i.fa {
  padding: 0px 5px;
}
.selected-keymap i.fa:before {
  content: "\f00c";
}
#mode-menu {
  overflow: auto;
  max-height: 20em;
}
.edit_app #header {
  -webkit-box-shadow: 0px 0px 12px 1px rgba(87, 87, 87, 0.2);
  box-shadow: 0px 0px 12px 1px rgba(87, 87, 87, 0.2);
}
.edit_app #menubar .navbar {
  /* Use a negative 1 bottom margin, so the border overlaps the border of the
    header */
  margin-bottom: -1px;
}
.dirty-indicator {
  display: inline-block;
  font: normal normal normal 14px/1 FontAwesome;
  font-size: inherit;
  text-rendering: auto;
  -webkit-font-smoothing: antialiased;
  -moz-osx-font-smoothing: grayscale;
  width: 20px;
}
.dirty-indicator.fa-pull-left {
  margin-right: .3em;
}
.dirty-indicator.fa-pull-right {
  margin-left: .3em;
}
.dirty-indicator.pull-left {
  margin-right: .3em;
}
.dirty-indicator.pull-right {
  margin-left: .3em;
}
.dirty-indicator-dirty {
  display: inline-block;
  font: normal normal normal 14px/1 FontAwesome;
  font-size: inherit;
  text-rendering: auto;
  -webkit-font-smoothing: antialiased;
  -moz-osx-font-smoothing: grayscale;
  width: 20px;
}
.dirty-indicator-dirty.fa-pull-left {
  margin-right: .3em;
}
.dirty-indicator-dirty.fa-pull-right {
  margin-left: .3em;
}
.dirty-indicator-dirty.pull-left {
  margin-right: .3em;
}
.dirty-indicator-dirty.pull-right {
  margin-left: .3em;
}
.dirty-indicator-clean {
  display: inline-block;
  font: normal normal normal 14px/1 FontAwesome;
  font-size: inherit;
  text-rendering: auto;
  -webkit-font-smoothing: antialiased;
  -moz-osx-font-smoothing: grayscale;
  width: 20px;
}
.dirty-indicator-clean.fa-pull-left {
  margin-right: .3em;
}
.dirty-indicator-clean.fa-pull-right {
  margin-left: .3em;
}
.dirty-indicator-clean.pull-left {
  margin-right: .3em;
}
.dirty-indicator-clean.pull-right {
  margin-left: .3em;
}
.dirty-indicator-clean:before {
  display: inline-block;
  font: normal normal normal 14px/1 FontAwesome;
  font-size: inherit;
  text-rendering: auto;
  -webkit-font-smoothing: antialiased;
  -moz-osx-font-smoothing: grayscale;
  content: "\f00c";
}
.dirty-indicator-clean:before.fa-pull-left {
  margin-right: .3em;
}
.dirty-indicator-clean:before.fa-pull-right {
  margin-left: .3em;
}
.dirty-indicator-clean:before.pull-left {
  margin-right: .3em;
}
.dirty-indicator-clean:before.pull-right {
  margin-left: .3em;
}
#filename {
  font-size: 16pt;
  display: table;
  padding: 0px 5px;
}
#current-mode {
  padding-left: 5px;
  padding-right: 5px;
}
#texteditor-backdrop {
  padding-top: 20px;
  padding-bottom: 20px;
}
@media not print {
  #texteditor-backdrop {
    background-color: #EEE;
  }
}
@media print {
  #texteditor-backdrop #texteditor-container .CodeMirror-gutter,
  #texteditor-backdrop #texteditor-container .CodeMirror-gutters {
    background-color: #fff;
  }
}
@media not print {
  #texteditor-backdrop #texteditor-container .CodeMirror-gutter,
  #texteditor-backdrop #texteditor-container .CodeMirror-gutters {
    background-color: #fff;
  }
}
@media not print {
  #texteditor-backdrop #texteditor-container {
    padding: 0px;
    background-color: #fff;
    -webkit-box-shadow: 0px 0px 12px 1px rgba(87, 87, 87, 0.2);
    box-shadow: 0px 0px 12px 1px rgba(87, 87, 87, 0.2);
  }
}
.CodeMirror-dialog {
  background-color: #fff;
}
/*!
*
* IPython notebook
*
*/
/* CSS font colors for translated ANSI escape sequences */
/* The color values are a mix of
   http://www.xcolors.net/dl/baskerville-ivorylight and
   http://www.xcolors.net/dl/euphrasia */
.ansi-black-fg {
  color: #3E424D;
}
.ansi-black-bg {
  background-color: #3E424D;
}
.ansi-black-intense-fg {
  color: #282C36;
}
.ansi-black-intense-bg {
  background-color: #282C36;
}
.ansi-red-fg {
  color: #E75C58;
}
.ansi-red-bg {
  background-color: #E75C58;
}
.ansi-red-intense-fg {
  color: #B22B31;
}
.ansi-red-intense-bg {
  background-color: #B22B31;
}
.ansi-green-fg {
  color: #00A250;
}
.ansi-green-bg {
  background-color: #00A250;
}
.ansi-green-intense-fg {
  color: #007427;
}
.ansi-green-intense-bg {
  background-color: #007427;
}
.ansi-yellow-fg {
  color: #DDB62B;
}
.ansi-yellow-bg {
  background-color: #DDB62B;
}
.ansi-yellow-intense-fg {
  color: #B27D12;
}
.ansi-yellow-intense-bg {
  background-color: #B27D12;
}
.ansi-blue-fg {
  color: #208FFB;
}
.ansi-blue-bg {
  background-color: #208FFB;
}
.ansi-blue-intense-fg {
  color: #0065CA;
}
.ansi-blue-intense-bg {
  background-color: #0065CA;
}
.ansi-magenta-fg {
  color: #D160C4;
}
.ansi-magenta-bg {
  background-color: #D160C4;
}
.ansi-magenta-intense-fg {
  color: #A03196;
}
.ansi-magenta-intense-bg {
  background-color: #A03196;
}
.ansi-cyan-fg {
  color: #60C6C8;
}
.ansi-cyan-bg {
  background-color: #60C6C8;
}
.ansi-cyan-intense-fg {
  color: #258F8F;
}
.ansi-cyan-intense-bg {
  background-color: #258F8F;
}
.ansi-white-fg {
  color: #C5C1B4;
}
.ansi-white-bg {
  background-color: #C5C1B4;
}
.ansi-white-intense-fg {
  color: #A1A6B2;
}
.ansi-white-intense-bg {
  background-color: #A1A6B2;
}
.ansi-default-inverse-fg {
  color: #FFFFFF;
}
.ansi-default-inverse-bg {
  background-color: #000000;
}
.ansi-bold {
  font-weight: bold;
}
.ansi-underline {
  text-decoration: underline;
}
/* The following styles are deprecated an will be removed in a future version */
.ansibold {
  font-weight: bold;
}
.ansi-inverse {
  outline: 0.5px dotted;
}
/* use dark versions for foreground, to improve visibility */
.ansiblack {
  color: black;
}
.ansired {
  color: darkred;
}
.ansigreen {
  color: darkgreen;
}
.ansiyellow {
  color: #c4a000;
}
.ansiblue {
  color: darkblue;
}
.ansipurple {
  color: darkviolet;
}
.ansicyan {
  color: steelblue;
}
.ansigray {
  color: gray;
}
/* and light for background, for the same reason */
.ansibgblack {
  background-color: black;
}
.ansibgred {
  background-color: red;
}
.ansibggreen {
  background-color: green;
}
.ansibgyellow {
  background-color: yellow;
}
.ansibgblue {
  background-color: blue;
}
.ansibgpurple {
  background-color: magenta;
}
.ansibgcyan {
  background-color: cyan;
}
.ansibggray {
  background-color: gray;
}
div.cell {
  /* Old browsers */
  display: -webkit-box;
  -webkit-box-orient: vertical;
  -webkit-box-align: stretch;
  display: -moz-box;
  -moz-box-orient: vertical;
  -moz-box-align: stretch;
  display: box;
  box-orient: vertical;
  box-align: stretch;
  /* Modern browsers */
  display: flex;
  flex-direction: column;
  align-items: stretch;
  border-radius: 2px;
  box-sizing: border-box;
  -moz-box-sizing: border-box;
  -webkit-box-sizing: border-box;
  border-width: 1px;
  border-style: solid;
  border-color: transparent;
  width: 100%;
  padding: 5px;
  /* This acts as a spacer between cells, that is outside the border */
  margin: 0px;
  outline: none;
  position: relative;
  overflow: visible;
}
div.cell:before {
  position: absolute;
  display: block;
  top: -1px;
  left: -1px;
  width: 5px;
  height: calc(100% +  2px);
  content: '';
  background: transparent;
}
div.cell.jupyter-soft-selected {
  border-left-color: #E3F2FD;
  border-left-width: 1px;
  padding-left: 5px;
  border-right-color: #E3F2FD;
  border-right-width: 1px;
  background: #E3F2FD;
}
@media print {
  div.cell.jupyter-soft-selected {
    border-color: transparent;
  }
}
div.cell.selected,
div.cell.selected.jupyter-soft-selected {
  border-color: #ababab;
}
div.cell.selected:before,
div.cell.selected.jupyter-soft-selected:before {
  position: absolute;
  display: block;
  top: -1px;
  left: -1px;
  width: 5px;
  height: calc(100% +  2px);
  content: '';
  background: #42A5F5;
}
@media print {
  div.cell.selected,
  div.cell.selected.jupyter-soft-selected {
    border-color: transparent;
  }
}
.edit_mode div.cell.selected {
  border-color: #66BB6A;
}
.edit_mode div.cell.selected:before {
  position: absolute;
  display: block;
  top: -1px;
  left: -1px;
  width: 5px;
  height: calc(100% +  2px);
  content: '';
  background: #66BB6A;
}
@media print {
  .edit_mode div.cell.selected {
    border-color: transparent;
  }
}
.prompt {
  /* This needs to be wide enough for 3 digit prompt numbers: In[100]: */
  min-width: 14ex;
  /* This padding is tuned to match the padding on the CodeMirror editor. */
  padding: 0.4em;
  margin: 0px;
  font-family: monospace;
  text-align: right;
  /* This has to match that of the the CodeMirror class line-height below */
  line-height: 1.21429em;
  /* Don't highlight prompt number selection */
  -webkit-touch-callout: none;
  -webkit-user-select: none;
  -khtml-user-select: none;
  -moz-user-select: none;
  -ms-user-select: none;
  user-select: none;
  /* Use default cursor */
  cursor: default;
}
@media (max-width: 540px) {
  .prompt {
    text-align: left;
  }
}
div.inner_cell {
  min-width: 0;
  /* Old browsers */
  display: -webkit-box;
  -webkit-box-orient: vertical;
  -webkit-box-align: stretch;
  display: -moz-box;
  -moz-box-orient: vertical;
  -moz-box-align: stretch;
  display: box;
  box-orient: vertical;
  box-align: stretch;
  /* Modern browsers */
  display: flex;
  flex-direction: column;
  align-items: stretch;
  /* Old browsers */
  -webkit-box-flex: 1;
  -moz-box-flex: 1;
  box-flex: 1;
  /* Modern browsers */
  flex: 1;
}
/* input_area and input_prompt must match in top border and margin for alignment */
div.input_area {
  border: 1px solid #cfcfcf;
  border-radius: 2px;
  background: #f7f7f7;
  line-height: 1.21429em;
}
/* This is needed so that empty prompt areas can collapse to zero height when there
   is no content in the output_subarea and the prompt. The main purpose of this is
   to make sure that empty JavaScript output_subareas have no height. */
div.prompt:empty {
  padding-top: 0;
  padding-bottom: 0;
}
div.unrecognized_cell {
  padding: 5px 5px 5px 0px;
  /* Old browsers */
  display: -webkit-box;
  -webkit-box-orient: horizontal;
  -webkit-box-align: stretch;
  display: -moz-box;
  -moz-box-orient: horizontal;
  -moz-box-align: stretch;
  display: box;
  box-orient: horizontal;
  box-align: stretch;
  /* Modern browsers */
  display: flex;
  flex-direction: row;
  align-items: stretch;
}
div.unrecognized_cell .inner_cell {
  border-radius: 2px;
  padding: 5px;
  font-weight: bold;
  color: red;
  border: 1px solid #cfcfcf;
  background: #eaeaea;
}
div.unrecognized_cell .inner_cell a {
  color: inherit;
  text-decoration: none;
}
div.unrecognized_cell .inner_cell a:hover {
  color: inherit;
  text-decoration: none;
}
@media (max-width: 540px) {
  div.unrecognized_cell > div.prompt {
    display: none;
  }
}
div.code_cell {
  /* avoid page breaking on code cells when printing */
}
@media print {
  div.code_cell {
    page-break-inside: avoid;
  }
}
/* any special styling for code cells that are currently running goes here */
div.input {
  page-break-inside: avoid;
  /* Old browsers */
  display: -webkit-box;
  -webkit-box-orient: horizontal;
  -webkit-box-align: stretch;
  display: -moz-box;
  -moz-box-orient: horizontal;
  -moz-box-align: stretch;
  display: box;
  box-orient: horizontal;
  box-align: stretch;
  /* Modern browsers */
  display: flex;
  flex-direction: row;
  align-items: stretch;
}
@media (max-width: 540px) {
  div.input {
    /* Old browsers */
    display: -webkit-box;
    -webkit-box-orient: vertical;
    -webkit-box-align: stretch;
    display: -moz-box;
    -moz-box-orient: vertical;
    -moz-box-align: stretch;
    display: box;
    box-orient: vertical;
    box-align: stretch;
    /* Modern browsers */
    display: flex;
    flex-direction: column;
    align-items: stretch;
  }
}
/* input_area and input_prompt must match in top border and margin for alignment */
div.input_prompt {
  color: #303F9F;
  border-top: 1px solid transparent;
}
div.input_area > div.highlight {
  margin: 0.4em;
  border: none;
  padding: 0px;
  background-color: transparent;
}
div.input_area > div.highlight > pre {
  margin: 0px;
  border: none;
  padding: 0px;
  background-color: transparent;
}
/* The following gets added to the <head> if it is detected that the user has a
 * monospace font with inconsistent normal/bold/italic height.  See
 * notebookmain.js.  Such fonts will have keywords vertically offset with
 * respect to the rest of the text.  The user should select a better font.
 * See: https://github.com/ipython/ipython/issues/1503
 *
 * .CodeMirror span {
 *      vertical-align: bottom;
 * }
 */
.CodeMirror {
  line-height: 1.21429em;
  /* Changed from 1em to our global default */
  font-size: 14px;
  height: auto;
  /* Changed to auto to autogrow */
  background: none;
  /* Changed from white to allow our bg to show through */
}
.CodeMirror-scroll {
  /*  The CodeMirror docs are a bit fuzzy on if overflow-y should be hidden or visible.*/
  /*  We have found that if it is visible, vertical scrollbars appear with font size changes.*/
  overflow-y: hidden;
  overflow-x: auto;
}
.CodeMirror-lines {
  /* In CM2, this used to be 0.4em, but in CM3 it went to 4px. We need the em value because */
  /* we have set a different line-height and want this to scale with that. */
  /* Note that this should set vertical padding only, since CodeMirror assumes
       that horizontal padding will be set on CodeMirror pre */
  padding: 0.4em 0;
}
.CodeMirror-linenumber {
  padding: 0 8px 0 4px;
}
.CodeMirror-gutters {
  border-bottom-left-radius: 2px;
  border-top-left-radius: 2px;
}
.CodeMirror pre {
  /* In CM3 this went to 4px from 0 in CM2. This sets horizontal padding only,
    use .CodeMirror-lines for vertical */
  padding: 0 0.4em;
  border: 0;
  border-radius: 0;
}
.CodeMirror-cursor {
  border-left: 1.4px solid black;
}
@media screen and (min-width: 2138px) and (max-width: 4319px) {
  .CodeMirror-cursor {
    border-left: 2px solid black;
  }
}
@media screen and (min-width: 4320px) {
  .CodeMirror-cursor {
    border-left: 4px solid black;
  }
}
/*

Original style from softwaremaniacs.org (c) Ivan Sagalaev <Maniac@SoftwareManiacs.Org>
Adapted from GitHub theme

*/
.highlight-base {
  color: #000;
}
.highlight-variable {
  color: #000;
}
.highlight-variable-2 {
  color: #1a1a1a;
}
.highlight-variable-3 {
  color: #333333;
}
.highlight-string {
  color: #BA2121;
}
.highlight-comment {
  color: #408080;
  font-style: italic;
}
.highlight-number {
  color: #080;
}
.highlight-atom {
  color: #88F;
}
.highlight-keyword {
  color: #008000;
  font-weight: bold;
}
.highlight-builtin {
  color: #008000;
}
.highlight-error {
  color: #f00;
}
.highlight-operator {
  color: #AA22FF;
  font-weight: bold;
}
.highlight-meta {
  color: #AA22FF;
}
/* previously not defined, copying from default codemirror */
.highlight-def {
  color: #00f;
}
.highlight-string-2 {
  color: #f50;
}
.highlight-qualifier {
  color: #555;
}
.highlight-bracket {
  color: #997;
}
.highlight-tag {
  color: #170;
}
.highlight-attribute {
  color: #00c;
}
.highlight-header {
  color: blue;
}
.highlight-quote {
  color: #090;
}
.highlight-link {
  color: #00c;
}
/* apply the same style to codemirror */
.cm-s-ipython span.cm-keyword {
  color: #008000;
  font-weight: bold;
}
.cm-s-ipython span.cm-atom {
  color: #88F;
}
.cm-s-ipython span.cm-number {
  color: #080;
}
.cm-s-ipython span.cm-def {
  color: #00f;
}
.cm-s-ipython span.cm-variable {
  color: #000;
}
.cm-s-ipython span.cm-operator {
  color: #AA22FF;
  font-weight: bold;
}
.cm-s-ipython span.cm-variable-2 {
  color: #1a1a1a;
}
.cm-s-ipython span.cm-variable-3 {
  color: #333333;
}
.cm-s-ipython span.cm-comment {
  color: #408080;
  font-style: italic;
}
.cm-s-ipython span.cm-string {
  color: #BA2121;
}
.cm-s-ipython span.cm-string-2 {
  color: #f50;
}
.cm-s-ipython span.cm-meta {
  color: #AA22FF;
}
.cm-s-ipython span.cm-qualifier {
  color: #555;
}
.cm-s-ipython span.cm-builtin {
  color: #008000;
}
.cm-s-ipython span.cm-bracket {
  color: #997;
}
.cm-s-ipython span.cm-tag {
  color: #170;
}
.cm-s-ipython span.cm-attribute {
  color: #00c;
}
.cm-s-ipython span.cm-header {
  color: blue;
}
.cm-s-ipython span.cm-quote {
  color: #090;
}
.cm-s-ipython span.cm-link {
  color: #00c;
}
.cm-s-ipython span.cm-error {
  color: #f00;
}
.cm-s-ipython span.cm-tab {
  background: url(data:image/png;base64,iVBORw0KGgoAAAANSUhEUgAAADAAAAAMCAYAAAAkuj5RAAAAAXNSR0IArs4c6QAAAGFJREFUSMft1LsRQFAQheHPowAKoACx3IgEKtaEHujDjORSgWTH/ZOdnZOcM/sgk/kFFWY0qV8foQwS4MKBCS3qR6ixBJvElOobYAtivseIE120FaowJPN75GMu8j/LfMwNjh4HUpwg4LUAAAAASUVORK5CYII=);
  background-position: right;
  background-repeat: no-repeat;
}
div.output_wrapper {
  /* this position must be relative to enable descendents to be absolute within it */
  position: relative;
  /* Old browsers */
  display: -webkit-box;
  -webkit-box-orient: vertical;
  -webkit-box-align: stretch;
  display: -moz-box;
  -moz-box-orient: vertical;
  -moz-box-align: stretch;
  display: box;
  box-orient: vertical;
  box-align: stretch;
  /* Modern browsers */
  display: flex;
  flex-direction: column;
  align-items: stretch;
  z-index: 1;
}
/* class for the output area when it should be height-limited */
div.output_scroll {
  /* ideally, this would be max-height, but FF barfs all over that */
  height: 24em;
  /* FF needs this *and the wrapper* to specify full width, or it will shrinkwrap */
  width: 100%;
  overflow: auto;
  border-radius: 2px;
  -webkit-box-shadow: inset 0 2px 8px rgba(0, 0, 0, 0.8);
  box-shadow: inset 0 2px 8px rgba(0, 0, 0, 0.8);
  display: block;
}
/* output div while it is collapsed */
div.output_collapsed {
  margin: 0px;
  padding: 0px;
  /* Old browsers */
  display: -webkit-box;
  -webkit-box-orient: vertical;
  -webkit-box-align: stretch;
  display: -moz-box;
  -moz-box-orient: vertical;
  -moz-box-align: stretch;
  display: box;
  box-orient: vertical;
  box-align: stretch;
  /* Modern browsers */
  display: flex;
  flex-direction: column;
  align-items: stretch;
}
div.out_prompt_overlay {
  height: 100%;
  padding: 0px 0.4em;
  position: absolute;
  border-radius: 2px;
}
div.out_prompt_overlay:hover {
  /* use inner shadow to get border that is computed the same on WebKit/FF */
  -webkit-box-shadow: inset 0 0 1px #000;
  box-shadow: inset 0 0 1px #000;
  background: rgba(240, 240, 240, 0.5);
}
div.output_prompt {
  color: #D84315;
}
/* This class is the outer container of all output sections. */
div.output_area {
  padding: 0px;
  page-break-inside: avoid;
  /* Old browsers */
  display: -webkit-box;
  -webkit-box-orient: horizontal;
  -webkit-box-align: stretch;
  display: -moz-box;
  -moz-box-orient: horizontal;
  -moz-box-align: stretch;
  display: box;
  box-orient: horizontal;
  box-align: stretch;
  /* Modern browsers */
  display: flex;
  flex-direction: row;
  align-items: stretch;
}
div.output_area .MathJax_Display {
  text-align: left !important;
}
div.output_area .rendered_html table {
  margin-left: 0;
  margin-right: 0;
}
div.output_area .rendered_html img {
  margin-left: 0;
  margin-right: 0;
}
div.output_area img,
div.output_area svg {
  max-width: 100%;
  height: auto;
}
div.output_area img.unconfined,
div.output_area svg.unconfined {
  max-width: none;
}
div.output_area .mglyph > img {
  max-width: none;
}
/* This is needed to protect the pre formating from global settings such
   as that of bootstrap */
.output {
  /* Old browsers */
  display: -webkit-box;
  -webkit-box-orient: vertical;
  -webkit-box-align: stretch;
  display: -moz-box;
  -moz-box-orient: vertical;
  -moz-box-align: stretch;
  display: box;
  box-orient: vertical;
  box-align: stretch;
  /* Modern browsers */
  display: flex;
  flex-direction: column;
  align-items: stretch;
}
@media (max-width: 540px) {
  div.output_area {
    /* Old browsers */
    display: -webkit-box;
    -webkit-box-orient: vertical;
    -webkit-box-align: stretch;
    display: -moz-box;
    -moz-box-orient: vertical;
    -moz-box-align: stretch;
    display: box;
    box-orient: vertical;
    box-align: stretch;
    /* Modern browsers */
    display: flex;
    flex-direction: column;
    align-items: stretch;
  }
}
div.output_area pre {
  margin: 0;
  padding: 1px 0 1px 0;
  border: 0;
  vertical-align: baseline;
  color: black;
  background-color: transparent;
  border-radius: 0;
}
/* This class is for the output subarea inside the output_area and after
   the prompt div. */
div.output_subarea {
  overflow-x: auto;
  padding: 0.4em;
  /* Old browsers */
  -webkit-box-flex: 1;
  -moz-box-flex: 1;
  box-flex: 1;
  /* Modern browsers */
  flex: 1;
  max-width: calc(100% - 14ex);
}
div.output_scroll div.output_subarea {
  overflow-x: visible;
}
/* The rest of the output_* classes are for special styling of the different
   output types */
/* all text output has this class: */
div.output_text {
  text-align: left;
  color: #000;
  /* This has to match that of the the CodeMirror class line-height below */
  line-height: 1.21429em;
}
/* stdout/stderr are 'text' as well as 'stream', but execute_result/error are *not* streams */
div.output_stderr {
  background: #fdd;
  /* very light red background for stderr */
}
div.output_latex {
  text-align: left;
}
/* Empty output_javascript divs should have no height */
div.output_javascript:empty {
  padding: 0;
}
.js-error {
  color: darkred;
}
/* raw_input styles */
div.raw_input_container {
  line-height: 1.21429em;
  padding-top: 5px;
}
pre.raw_input_prompt {
  /* nothing needed here. */
}
input.raw_input {
  font-family: monospace;
  font-size: inherit;
  color: inherit;
  width: auto;
  /* make sure input baseline aligns with prompt */
  vertical-align: baseline;
  /* padding + margin = 0.5em between prompt and cursor */
  padding: 0em 0.25em;
  margin: 0em 0.25em;
}
input.raw_input:focus {
  box-shadow: none;
}
p.p-space {
  margin-bottom: 10px;
}
div.output_unrecognized {
  padding: 5px;
  font-weight: bold;
  color: red;
}
div.output_unrecognized a {
  color: inherit;
  text-decoration: none;
}
div.output_unrecognized a:hover {
  color: inherit;
  text-decoration: none;
}
.rendered_html {
  color: #000;
  /* any extras will just be numbers: */
}
.rendered_html em {
  font-style: italic;
}
.rendered_html strong {
  font-weight: bold;
}
.rendered_html u {
  text-decoration: underline;
}
.rendered_html :link {
  text-decoration: underline;
}
.rendered_html :visited {
  text-decoration: underline;
}
.rendered_html h1 {
  font-size: 185.7%;
  margin: 1.08em 0 0 0;
  font-weight: bold;
  line-height: 1.0;
}
.rendered_html h2 {
  font-size: 157.1%;
  margin: 1.27em 0 0 0;
  font-weight: bold;
  line-height: 1.0;
}
.rendered_html h3 {
  font-size: 128.6%;
  margin: 1.55em 0 0 0;
  font-weight: bold;
  line-height: 1.0;
}
.rendered_html h4 {
  font-size: 100%;
  margin: 2em 0 0 0;
  font-weight: bold;
  line-height: 1.0;
}
.rendered_html h5 {
  font-size: 100%;
  margin: 2em 0 0 0;
  font-weight: bold;
  line-height: 1.0;
  font-style: italic;
}
.rendered_html h6 {
  font-size: 100%;
  margin: 2em 0 0 0;
  font-weight: bold;
  line-height: 1.0;
  font-style: italic;
}
.rendered_html h1:first-child {
  margin-top: 0.538em;
}
.rendered_html h2:first-child {
  margin-top: 0.636em;
}
.rendered_html h3:first-child {
  margin-top: 0.777em;
}
.rendered_html h4:first-child {
  margin-top: 1em;
}
.rendered_html h5:first-child {
  margin-top: 1em;
}
.rendered_html h6:first-child {
  margin-top: 1em;
}
.rendered_html ul:not(.list-inline),
.rendered_html ol:not(.list-inline) {
  padding-left: 2em;
}
.rendered_html ul {
  list-style: disc;
}
.rendered_html ul ul {
  list-style: square;
  margin-top: 0;
}
.rendered_html ul ul ul {
  list-style: circle;
}
.rendered_html ol {
  list-style: decimal;
}
.rendered_html ol ol {
  list-style: upper-alpha;
  margin-top: 0;
}
.rendered_html ol ol ol {
  list-style: lower-alpha;
}
.rendered_html ol ol ol ol {
  list-style: lower-roman;
}
.rendered_html ol ol ol ol ol {
  list-style: decimal;
}
.rendered_html * + ul {
  margin-top: 1em;
}
.rendered_html * + ol {
  margin-top: 1em;
}
.rendered_html hr {
  color: black;
  background-color: black;
}
.rendered_html pre {
  margin: 1em 2em;
  padding: 0px;
  background-color: #fff;
}
.rendered_html code {
  background-color: #eff0f1;
}
.rendered_html p code {
  padding: 1px 5px;
}
.rendered_html pre code {
  background-color: #fff;
}
.rendered_html pre,
.rendered_html code {
  border: 0;
  color: #000;
  font-size: 100%;
}
.rendered_html blockquote {
  margin: 1em 2em;
}
.rendered_html table {
  margin-left: auto;
  margin-right: auto;
  border: none;
  border-collapse: collapse;
  border-spacing: 0;
  color: black;
  font-size: 12px;
  table-layout: fixed;
}
.rendered_html thead {
  border-bottom: 1px solid black;
  vertical-align: bottom;
}
.rendered_html tr,
.rendered_html th,
.rendered_html td {
  text-align: right;
  vertical-align: middle;
  padding: 0.5em 0.5em;
  line-height: normal;
  white-space: normal;
  max-width: none;
  border: none;
}
.rendered_html th {
  font-weight: bold;
}
.rendered_html tbody tr:nth-child(odd) {
  background: #f5f5f5;
}
.rendered_html tbody tr:hover {
  background: rgba(66, 165, 245, 0.2);
}
.rendered_html * + table {
  margin-top: 1em;
}
.rendered_html p {
  text-align: left;
}
.rendered_html * + p {
  margin-top: 1em;
}
.rendered_html img {
  display: block;
  margin-left: auto;
  margin-right: auto;
}
.rendered_html * + img {
  margin-top: 1em;
}
.rendered_html img,
.rendered_html svg {
  max-width: 100%;
  height: auto;
}
.rendered_html img.unconfined,
.rendered_html svg.unconfined {
  max-width: none;
}
.rendered_html .alert {
  margin-bottom: initial;
}
.rendered_html * + .alert {
  margin-top: 1em;
}
[dir="rtl"] .rendered_html p {
  text-align: right;
}
div.text_cell {
  /* Old browsers */
  display: -webkit-box;
  -webkit-box-orient: horizontal;
  -webkit-box-align: stretch;
  display: -moz-box;
  -moz-box-orient: horizontal;
  -moz-box-align: stretch;
  display: box;
  box-orient: horizontal;
  box-align: stretch;
  /* Modern browsers */
  display: flex;
  flex-direction: row;
  align-items: stretch;
}
@media (max-width: 540px) {
  div.text_cell > div.prompt {
    display: none;
  }
}
div.text_cell_render {
  /*font-family: "Helvetica Neue", Arial, Helvetica, Geneva, sans-serif;*/
  outline: none;
  resize: none;
  width: inherit;
  border-style: none;
  padding: 0.5em 0.5em 0.5em 0.4em;
  color: #000;
  box-sizing: border-box;
  -moz-box-sizing: border-box;
  -webkit-box-sizing: border-box;
}
a.anchor-link:link {
  text-decoration: none;
  padding: 0px 20px;
  visibility: hidden;
}
h1:hover .anchor-link,
h2:hover .anchor-link,
h3:hover .anchor-link,
h4:hover .anchor-link,
h5:hover .anchor-link,
h6:hover .anchor-link {
  visibility: visible;
}
.text_cell.rendered .input_area {
  display: none;
}
.text_cell.rendered .rendered_html {
  overflow-x: auto;
  overflow-y: hidden;
}
.text_cell.rendered .rendered_html tr,
.text_cell.rendered .rendered_html th,
.text_cell.rendered .rendered_html td {
  max-width: none;
}
.text_cell.unrendered .text_cell_render {
  display: none;
}
.text_cell .dropzone .input_area {
  border: 2px dashed #bababa;
  margin: -1px;
}
.cm-header-1,
.cm-header-2,
.cm-header-3,
.cm-header-4,
.cm-header-5,
.cm-header-6 {
  font-weight: bold;
  font-family: "Helvetica Neue", Helvetica, Arial, sans-serif;
}
.cm-header-1 {
  font-size: 185.7%;
}
.cm-header-2 {
  font-size: 157.1%;
}
.cm-header-3 {
  font-size: 128.6%;
}
.cm-header-4 {
  font-size: 110%;
}
.cm-header-5 {
  font-size: 100%;
  font-style: italic;
}
.cm-header-6 {
  font-size: 100%;
  font-style: italic;
}
/*!
*
* IPython notebook webapp
*
*/
@media (max-width: 767px) {
  .notebook_app {
    padding-left: 0px;
    padding-right: 0px;
  }
}
#ipython-main-app {
  box-sizing: border-box;
  -moz-box-sizing: border-box;
  -webkit-box-sizing: border-box;
  height: 100%;
}
div#notebook_panel {
  margin: 0px;
  padding: 0px;
  box-sizing: border-box;
  -moz-box-sizing: border-box;
  -webkit-box-sizing: border-box;
  height: 100%;
}
div#notebook {
  font-size: 14px;
  line-height: 20px;
  overflow-y: hidden;
  overflow-x: auto;
  width: 100%;
  /* This spaces the page away from the edge of the notebook area */
  padding-top: 20px;
  margin: 0px;
  outline: none;
  box-sizing: border-box;
  -moz-box-sizing: border-box;
  -webkit-box-sizing: border-box;
  min-height: 100%;
}
@media not print {
  #notebook-container {
    padding: 15px;
    background-color: #fff;
    min-height: 0;
    -webkit-box-shadow: 0px 0px 12px 1px rgba(87, 87, 87, 0.2);
    box-shadow: 0px 0px 12px 1px rgba(87, 87, 87, 0.2);
  }
}
@media print {
  #notebook-container {
    width: 100%;
  }
}
div.ui-widget-content {
  border: 1px solid #ababab;
  outline: none;
}
pre.dialog {
  background-color: #f7f7f7;
  border: 1px solid #ddd;
  border-radius: 2px;
  padding: 0.4em;
  padding-left: 2em;
}
p.dialog {
  padding: 0.2em;
}
/* Word-wrap output correctly.  This is the CSS3 spelling, though Firefox seems
   to not honor it correctly.  Webkit browsers (Chrome, rekonq, Safari) do.
 */
pre,
code,
kbd,
samp {
  white-space: pre-wrap;
}
#fonttest {
  font-family: monospace;
}
p {
  margin-bottom: 0;
}
.end_space {
  min-height: 100px;
  transition: height .2s ease;
}
.notebook_app > #header {
  -webkit-box-shadow: 0px 0px 12px 1px rgba(87, 87, 87, 0.2);
  box-shadow: 0px 0px 12px 1px rgba(87, 87, 87, 0.2);
}
@media not print {
  .notebook_app {
    background-color: #EEE;
  }
}
kbd {
  border-style: solid;
  border-width: 1px;
  box-shadow: none;
  margin: 2px;
  padding-left: 2px;
  padding-right: 2px;
  padding-top: 1px;
  padding-bottom: 1px;
}
.jupyter-keybindings {
  padding: 1px;
  line-height: 24px;
  border-bottom: 1px solid gray;
}
.jupyter-keybindings input {
  margin: 0;
  padding: 0;
  border: none;
}
.jupyter-keybindings i {
  padding: 6px;
}
.well code {
  background-color: #ffffff;
  border-color: #ababab;
  border-width: 1px;
  border-style: solid;
  padding: 2px;
  padding-top: 1px;
  padding-bottom: 1px;
}
/* CSS for the cell toolbar */
.celltoolbar {
  border: thin solid #CFCFCF;
  border-bottom: none;
  background: #EEE;
  border-radius: 2px 2px 0px 0px;
  width: 100%;
  height: 29px;
  padding-right: 4px;
  /* Old browsers */
  display: -webkit-box;
  -webkit-box-orient: horizontal;
  -webkit-box-align: stretch;
  display: -moz-box;
  -moz-box-orient: horizontal;
  -moz-box-align: stretch;
  display: box;
  box-orient: horizontal;
  box-align: stretch;
  /* Modern browsers */
  display: flex;
  flex-direction: row;
  align-items: stretch;
  /* Old browsers */
  -webkit-box-pack: end;
  -moz-box-pack: end;
  box-pack: end;
  /* Modern browsers */
  justify-content: flex-end;
  display: -webkit-flex;
}
@media print {
  .celltoolbar {
    display: none;
  }
}
.ctb_hideshow {
  display: none;
  vertical-align: bottom;
}
/* ctb_show is added to the ctb_hideshow div to show the cell toolbar.
   Cell toolbars are only shown when the ctb_global_show class is also set.
*/
.ctb_global_show .ctb_show.ctb_hideshow {
  display: block;
}
.ctb_global_show .ctb_show + .input_area,
.ctb_global_show .ctb_show + div.text_cell_input,
.ctb_global_show .ctb_show ~ div.text_cell_render {
  border-top-right-radius: 0px;
  border-top-left-radius: 0px;
}
.ctb_global_show .ctb_show ~ div.text_cell_render {
  border: 1px solid #cfcfcf;
}
.celltoolbar {
  font-size: 87%;
  padding-top: 3px;
}
.celltoolbar select {
  display: block;
  width: 100%;
  height: 32px;
  padding: 6px 12px;
  font-size: 13px;
  line-height: 1.42857143;
  color: #555555;
  background-color: #fff;
  background-image: none;
  border: 1px solid #ccc;
  border-radius: 2px;
  -webkit-box-shadow: inset 0 1px 1px rgba(0, 0, 0, 0.075);
  box-shadow: inset 0 1px 1px rgba(0, 0, 0, 0.075);
  -webkit-transition: border-color ease-in-out .15s, box-shadow ease-in-out .15s;
  -o-transition: border-color ease-in-out .15s, box-shadow ease-in-out .15s;
  transition: border-color ease-in-out .15s, box-shadow ease-in-out .15s;
  height: 30px;
  padding: 5px 10px;
  font-size: 12px;
  line-height: 1.5;
  border-radius: 1px;
  width: inherit;
  font-size: inherit;
  height: 22px;
  padding: 0px;
  display: inline-block;
}
.celltoolbar select:focus {
  border-color: #66afe9;
  outline: 0;
  -webkit-box-shadow: inset 0 1px 1px rgba(0,0,0,.075), 0 0 8px rgba(102, 175, 233, 0.6);
  box-shadow: inset 0 1px 1px rgba(0,0,0,.075), 0 0 8px rgba(102, 175, 233, 0.6);
}
.celltoolbar select::-moz-placeholder {
  color: #999;
  opacity: 1;
}
.celltoolbar select:-ms-input-placeholder {
  color: #999;
}
.celltoolbar select::-webkit-input-placeholder {
  color: #999;
}
.celltoolbar select::-ms-expand {
  border: 0;
  background-color: transparent;
}
.celltoolbar select[disabled],
.celltoolbar select[readonly],
fieldset[disabled] .celltoolbar select {
  background-color: #eeeeee;
  opacity: 1;
}
.celltoolbar select[disabled],
fieldset[disabled] .celltoolbar select {
  cursor: not-allowed;
}
textarea.celltoolbar select {
  height: auto;
}
select.celltoolbar select {
  height: 30px;
  line-height: 30px;
}
textarea.celltoolbar select,
select[multiple].celltoolbar select {
  height: auto;
}
.celltoolbar label {
  margin-left: 5px;
  margin-right: 5px;
}
.tags_button_container {
  width: 100%;
  display: flex;
}
.tag-container {
  display: flex;
  flex-direction: row;
  flex-grow: 1;
  overflow: hidden;
  position: relative;
}
.tag-container > * {
  margin: 0 4px;
}
.remove-tag-btn {
  margin-left: 4px;
}
.tags-input {
  display: flex;
}
.cell-tag:last-child:after {
  content: "";
  position: absolute;
  right: 0;
  width: 40px;
  height: 100%;
  /* Fade to background color of cell toolbar */
  background: linear-gradient(to right, rgba(0, 0, 0, 0), #EEE);
}
.tags-input > * {
  margin-left: 4px;
}
.cell-tag,
.tags-input input,
.tags-input button {
  display: block;
  width: 100%;
  height: 32px;
  padding: 6px 12px;
  font-size: 13px;
  line-height: 1.42857143;
  color: #555555;
  background-color: #fff;
  background-image: none;
  border: 1px solid #ccc;
  border-radius: 2px;
  -webkit-box-shadow: inset 0 1px 1px rgba(0, 0, 0, 0.075);
  box-shadow: inset 0 1px 1px rgba(0, 0, 0, 0.075);
  -webkit-transition: border-color ease-in-out .15s, box-shadow ease-in-out .15s;
  -o-transition: border-color ease-in-out .15s, box-shadow ease-in-out .15s;
  transition: border-color ease-in-out .15s, box-shadow ease-in-out .15s;
  height: 30px;
  padding: 5px 10px;
  font-size: 12px;
  line-height: 1.5;
  border-radius: 1px;
  box-shadow: none;
  width: inherit;
  font-size: inherit;
  height: 22px;
  line-height: 22px;
  padding: 0px 4px;
  display: inline-block;
}
.cell-tag:focus,
.tags-input input:focus,
.tags-input button:focus {
  border-color: #66afe9;
  outline: 0;
  -webkit-box-shadow: inset 0 1px 1px rgba(0,0,0,.075), 0 0 8px rgba(102, 175, 233, 0.6);
  box-shadow: inset 0 1px 1px rgba(0,0,0,.075), 0 0 8px rgba(102, 175, 233, 0.6);
}
.cell-tag::-moz-placeholder,
.tags-input input::-moz-placeholder,
.tags-input button::-moz-placeholder {
  color: #999;
  opacity: 1;
}
.cell-tag:-ms-input-placeholder,
.tags-input input:-ms-input-placeholder,
.tags-input button:-ms-input-placeholder {
  color: #999;
}
.cell-tag::-webkit-input-placeholder,
.tags-input input::-webkit-input-placeholder,
.tags-input button::-webkit-input-placeholder {
  color: #999;
}
.cell-tag::-ms-expand,
.tags-input input::-ms-expand,
.tags-input button::-ms-expand {
  border: 0;
  background-color: transparent;
}
.cell-tag[disabled],
.tags-input input[disabled],
.tags-input button[disabled],
.cell-tag[readonly],
.tags-input input[readonly],
.tags-input button[readonly],
fieldset[disabled] .cell-tag,
fieldset[disabled] .tags-input input,
fieldset[disabled] .tags-input button {
  background-color: #eeeeee;
  opacity: 1;
}
.cell-tag[disabled],
.tags-input input[disabled],
.tags-input button[disabled],
fieldset[disabled] .cell-tag,
fieldset[disabled] .tags-input input,
fieldset[disabled] .tags-input button {
  cursor: not-allowed;
}
textarea.cell-tag,
textarea.tags-input input,
textarea.tags-input button {
  height: auto;
}
select.cell-tag,
select.tags-input input,
select.tags-input button {
  height: 30px;
  line-height: 30px;
}
textarea.cell-tag,
textarea.tags-input input,
textarea.tags-input button,
select[multiple].cell-tag,
select[multiple].tags-input input,
select[multiple].tags-input button {
  height: auto;
}
.cell-tag,
.tags-input button {
  padding: 0px 4px;
}
.cell-tag {
  background-color: #fff;
  white-space: nowrap;
}
.tags-input input[type=text]:focus {
  outline: none;
  box-shadow: none;
  border-color: #ccc;
}
.completions {
  position: absolute;
  z-index: 110;
  overflow: hidden;
  border: 1px solid #ababab;
  border-radius: 2px;
  -webkit-box-shadow: 0px 6px 10px -1px #adadad;
  box-shadow: 0px 6px 10px -1px #adadad;
  line-height: 1;
}
.completions select {
  background: white;
  outline: none;
  border: none;
  padding: 0px;
  margin: 0px;
  overflow: auto;
  font-family: monospace;
  font-size: 110%;
  color: #000;
  width: auto;
}
.completions select option.context {
  color: #286090;
}
#kernel_logo_widget .current_kernel_logo {
  display: none;
  margin-top: -1px;
  margin-bottom: -1px;
  width: 32px;
  height: 32px;
}
[dir="rtl"] #kernel_logo_widget {
  float: left !important;
  float: left;
}
.modal .modal-body .move-path {
  display: flex;
  flex-direction: row;
  justify-content: space;
  align-items: center;
}
.modal .modal-body .move-path .server-root {
  padding-right: 20px;
}
.modal .modal-body .move-path .path-input {
  flex: 1;
}
#menubar {
  box-sizing: border-box;
  -moz-box-sizing: border-box;
  -webkit-box-sizing: border-box;
  margin-top: 1px;
}
#menubar .navbar {
  border-top: 1px;
  border-radius: 0px 0px 2px 2px;
  margin-bottom: 0px;
}
#menubar .navbar-toggle {
  float: left;
  padding-top: 7px;
  padding-bottom: 7px;
  border: none;
}
#menubar .navbar-collapse {
  clear: left;
}
[dir="rtl"] #menubar .navbar-toggle {
  float: right;
}
[dir="rtl"] #menubar .navbar-collapse {
  clear: right;
}
[dir="rtl"] #menubar .navbar-nav {
  float: right;
}
[dir="rtl"] #menubar .nav {
  padding-right: 0px;
}
[dir="rtl"] #menubar .navbar-nav > li {
  float: right;
}
[dir="rtl"] #menubar .navbar-right {
  float: left !important;
}
[dir="rtl"] ul.dropdown-menu {
  text-align: right;
  left: auto;
}
[dir="rtl"] ul#new-menu.dropdown-menu {
  right: auto;
  left: 0;
}
.nav-wrapper {
  border-bottom: 1px solid #e7e7e7;
}
i.menu-icon {
  padding-top: 4px;
}
[dir="rtl"] i.menu-icon.pull-right {
  float: left !important;
  float: left;
}
ul#help_menu li a {
  overflow: hidden;
  padding-right: 2.2em;
}
ul#help_menu li a i {
  margin-right: -1.2em;
}
[dir="rtl"] ul#help_menu li a {
  padding-left: 2.2em;
}
[dir="rtl"] ul#help_menu li a i {
  margin-right: 0;
  margin-left: -1.2em;
}
[dir="rtl"] ul#help_menu li a i.pull-right {
  float: left !important;
  float: left;
}
.dropdown-submenu {
  position: relative;
}
.dropdown-submenu > .dropdown-menu {
  top: 0;
  left: 100%;
  margin-top: -6px;
  margin-left: -1px;
}
[dir="rtl"] .dropdown-submenu > .dropdown-menu {
  right: 100%;
  margin-right: -1px;
}
.dropdown-submenu:hover > .dropdown-menu {
  display: block;
}
.dropdown-submenu > a:after {
  display: inline-block;
  font: normal normal normal 14px/1 FontAwesome;
  font-size: inherit;
  text-rendering: auto;
  -webkit-font-smoothing: antialiased;
  -moz-osx-font-smoothing: grayscale;
  display: block;
  content: "\f0da";
  float: right;
  color: #333333;
  margin-top: 2px;
  margin-right: -10px;
}
.dropdown-submenu > a:after.fa-pull-left {
  margin-right: .3em;
}
.dropdown-submenu > a:after.fa-pull-right {
  margin-left: .3em;
}
.dropdown-submenu > a:after.pull-left {
  margin-right: .3em;
}
.dropdown-submenu > a:after.pull-right {
  margin-left: .3em;
}
[dir="rtl"] .dropdown-submenu > a:after {
  float: left;
  content: "\f0d9";
  margin-right: 0;
  margin-left: -10px;
}
.dropdown-submenu:hover > a:after {
  color: #262626;
}
.dropdown-submenu.pull-left {
  float: none;
}
.dropdown-submenu.pull-left > .dropdown-menu {
  left: -100%;
  margin-left: 10px;
}
#notification_area {
  float: right !important;
  float: right;
  z-index: 10;
}
[dir="rtl"] #notification_area {
  float: left !important;
  float: left;
}
.indicator_area {
  float: right !important;
  float: right;
  color: #777;
  margin-left: 5px;
  margin-right: 5px;
  width: 11px;
  z-index: 10;
  text-align: center;
  width: auto;
}
[dir="rtl"] .indicator_area {
  float: left !important;
  float: left;
}
#kernel_indicator {
  float: right !important;
  float: right;
  color: #777;
  margin-left: 5px;
  margin-right: 5px;
  width: 11px;
  z-index: 10;
  text-align: center;
  width: auto;
  border-left: 1px solid;
}
#kernel_indicator .kernel_indicator_name {
  padding-left: 5px;
  padding-right: 5px;
}
[dir="rtl"] #kernel_indicator {
  float: left !important;
  float: left;
  border-left: 0;
  border-right: 1px solid;
}
#modal_indicator {
  float: right !important;
  float: right;
  color: #777;
  margin-left: 5px;
  margin-right: 5px;
  width: 11px;
  z-index: 10;
  text-align: center;
  width: auto;
}
[dir="rtl"] #modal_indicator {
  float: left !important;
  float: left;
}
#readonly-indicator {
  float: right !important;
  float: right;
  color: #777;
  margin-left: 5px;
  margin-right: 5px;
  width: 11px;
  z-index: 10;
  text-align: center;
  width: auto;
  margin-top: 2px;
  margin-bottom: 0px;
  margin-left: 0px;
  margin-right: 0px;
  display: none;
}
.modal_indicator:before {
  width: 1.28571429em;
  text-align: center;
}
.edit_mode .modal_indicator:before {
  display: inline-block;
  font: normal normal normal 14px/1 FontAwesome;
  font-size: inherit;
  text-rendering: auto;
  -webkit-font-smoothing: antialiased;
  -moz-osx-font-smoothing: grayscale;
  content: "\f040";
}
.edit_mode .modal_indicator:before.fa-pull-left {
  margin-right: .3em;
}
.edit_mode .modal_indicator:before.fa-pull-right {
  margin-left: .3em;
}
.edit_mode .modal_indicator:before.pull-left {
  margin-right: .3em;
}
.edit_mode .modal_indicator:before.pull-right {
  margin-left: .3em;
}
.command_mode .modal_indicator:before {
  display: inline-block;
  font: normal normal normal 14px/1 FontAwesome;
  font-size: inherit;
  text-rendering: auto;
  -webkit-font-smoothing: antialiased;
  -moz-osx-font-smoothing: grayscale;
  content: ' ';
}
.command_mode .modal_indicator:before.fa-pull-left {
  margin-right: .3em;
}
.command_mode .modal_indicator:before.fa-pull-right {
  margin-left: .3em;
}
.command_mode .modal_indicator:before.pull-left {
  margin-right: .3em;
}
.command_mode .modal_indicator:before.pull-right {
  margin-left: .3em;
}
.kernel_idle_icon:before {
  display: inline-block;
  font: normal normal normal 14px/1 FontAwesome;
  font-size: inherit;
  text-rendering: auto;
  -webkit-font-smoothing: antialiased;
  -moz-osx-font-smoothing: grayscale;
  content: "\f10c";
}
.kernel_idle_icon:before.fa-pull-left {
  margin-right: .3em;
}
.kernel_idle_icon:before.fa-pull-right {
  margin-left: .3em;
}
.kernel_idle_icon:before.pull-left {
  margin-right: .3em;
}
.kernel_idle_icon:before.pull-right {
  margin-left: .3em;
}
.kernel_busy_icon:before {
  display: inline-block;
  font: normal normal normal 14px/1 FontAwesome;
  font-size: inherit;
  text-rendering: auto;
  -webkit-font-smoothing: antialiased;
  -moz-osx-font-smoothing: grayscale;
  content: "\f111";
}
.kernel_busy_icon:before.fa-pull-left {
  margin-right: .3em;
}
.kernel_busy_icon:before.fa-pull-right {
  margin-left: .3em;
}
.kernel_busy_icon:before.pull-left {
  margin-right: .3em;
}
.kernel_busy_icon:before.pull-right {
  margin-left: .3em;
}
.kernel_dead_icon:before {
  display: inline-block;
  font: normal normal normal 14px/1 FontAwesome;
  font-size: inherit;
  text-rendering: auto;
  -webkit-font-smoothing: antialiased;
  -moz-osx-font-smoothing: grayscale;
  content: "\f1e2";
}
.kernel_dead_icon:before.fa-pull-left {
  margin-right: .3em;
}
.kernel_dead_icon:before.fa-pull-right {
  margin-left: .3em;
}
.kernel_dead_icon:before.pull-left {
  margin-right: .3em;
}
.kernel_dead_icon:before.pull-right {
  margin-left: .3em;
}
.kernel_disconnected_icon:before {
  display: inline-block;
  font: normal normal normal 14px/1 FontAwesome;
  font-size: inherit;
  text-rendering: auto;
  -webkit-font-smoothing: antialiased;
  -moz-osx-font-smoothing: grayscale;
  content: "\f127";
}
.kernel_disconnected_icon:before.fa-pull-left {
  margin-right: .3em;
}
.kernel_disconnected_icon:before.fa-pull-right {
  margin-left: .3em;
}
.kernel_disconnected_icon:before.pull-left {
  margin-right: .3em;
}
.kernel_disconnected_icon:before.pull-right {
  margin-left: .3em;
}
.notification_widget {
  color: #777;
  z-index: 10;
  background: rgba(240, 240, 240, 0.5);
  margin-right: 4px;
  color: #333;
  background-color: #fff;
  border-color: #ccc;
}
.notification_widget:focus,
.notification_widget.focus {
  color: #333;
  background-color: #e6e6e6;
  border-color: #8c8c8c;
}
.notification_widget:hover {
  color: #333;
  background-color: #e6e6e6;
  border-color: #adadad;
}
.notification_widget:active,
.notification_widget.active,
.open > .dropdown-toggle.notification_widget {
  color: #333;
  background-color: #e6e6e6;
  border-color: #adadad;
}
.notification_widget:active:hover,
.notification_widget.active:hover,
.open > .dropdown-toggle.notification_widget:hover,
.notification_widget:active:focus,
.notification_widget.active:focus,
.open > .dropdown-toggle.notification_widget:focus,
.notification_widget:active.focus,
.notification_widget.active.focus,
.open > .dropdown-toggle.notification_widget.focus {
  color: #333;
  background-color: #d4d4d4;
  border-color: #8c8c8c;
}
.notification_widget:active,
.notification_widget.active,
.open > .dropdown-toggle.notification_widget {
  background-image: none;
}
.notification_widget.disabled:hover,
.notification_widget[disabled]:hover,
fieldset[disabled] .notification_widget:hover,
.notification_widget.disabled:focus,
.notification_widget[disabled]:focus,
fieldset[disabled] .notification_widget:focus,
.notification_widget.disabled.focus,
.notification_widget[disabled].focus,
fieldset[disabled] .notification_widget.focus {
  background-color: #fff;
  border-color: #ccc;
}
.notification_widget .badge {
  color: #fff;
  background-color: #333;
}
.notification_widget.warning {
  color: #fff;
  background-color: #f0ad4e;
  border-color: #eea236;
}
.notification_widget.warning:focus,
.notification_widget.warning.focus {
  color: #fff;
  background-color: #ec971f;
  border-color: #985f0d;
}
.notification_widget.warning:hover {
  color: #fff;
  background-color: #ec971f;
  border-color: #d58512;
}
.notification_widget.warning:active,
.notification_widget.warning.active,
.open > .dropdown-toggle.notification_widget.warning {
  color: #fff;
  background-color: #ec971f;
  border-color: #d58512;
}
.notification_widget.warning:active:hover,
.notification_widget.warning.active:hover,
.open > .dropdown-toggle.notification_widget.warning:hover,
.notification_widget.warning:active:focus,
.notification_widget.warning.active:focus,
.open > .dropdown-toggle.notification_widget.warning:focus,
.notification_widget.warning:active.focus,
.notification_widget.warning.active.focus,
.open > .dropdown-toggle.notification_widget.warning.focus {
  color: #fff;
  background-color: #d58512;
  border-color: #985f0d;
}
.notification_widget.warning:active,
.notification_widget.warning.active,
.open > .dropdown-toggle.notification_widget.warning {
  background-image: none;
}
.notification_widget.warning.disabled:hover,
.notification_widget.warning[disabled]:hover,
fieldset[disabled] .notification_widget.warning:hover,
.notification_widget.warning.disabled:focus,
.notification_widget.warning[disabled]:focus,
fieldset[disabled] .notification_widget.warning:focus,
.notification_widget.warning.disabled.focus,
.notification_widget.warning[disabled].focus,
fieldset[disabled] .notification_widget.warning.focus {
  background-color: #f0ad4e;
  border-color: #eea236;
}
.notification_widget.warning .badge {
  color: #f0ad4e;
  background-color: #fff;
}
.notification_widget.success {
  color: #fff;
  background-color: #5cb85c;
  border-color: #4cae4c;
}
.notification_widget.success:focus,
.notification_widget.success.focus {
  color: #fff;
  background-color: #449d44;
  border-color: #255625;
}
.notification_widget.success:hover {
  color: #fff;
  background-color: #449d44;
  border-color: #398439;
}
.notification_widget.success:active,
.notification_widget.success.active,
.open > .dropdown-toggle.notification_widget.success {
  color: #fff;
  background-color: #449d44;
  border-color: #398439;
}
.notification_widget.success:active:hover,
.notification_widget.success.active:hover,
.open > .dropdown-toggle.notification_widget.success:hover,
.notification_widget.success:active:focus,
.notification_widget.success.active:focus,
.open > .dropdown-toggle.notification_widget.success:focus,
.notification_widget.success:active.focus,
.notification_widget.success.active.focus,
.open > .dropdown-toggle.notification_widget.success.focus {
  color: #fff;
  background-color: #398439;
  border-color: #255625;
}
.notification_widget.success:active,
.notification_widget.success.active,
.open > .dropdown-toggle.notification_widget.success {
  background-image: none;
}
.notification_widget.success.disabled:hover,
.notification_widget.success[disabled]:hover,
fieldset[disabled] .notification_widget.success:hover,
.notification_widget.success.disabled:focus,
.notification_widget.success[disabled]:focus,
fieldset[disabled] .notification_widget.success:focus,
.notification_widget.success.disabled.focus,
.notification_widget.success[disabled].focus,
fieldset[disabled] .notification_widget.success.focus {
  background-color: #5cb85c;
  border-color: #4cae4c;
}
.notification_widget.success .badge {
  color: #5cb85c;
  background-color: #fff;
}
.notification_widget.info {
  color: #fff;
  background-color: #5bc0de;
  border-color: #46b8da;
}
.notification_widget.info:focus,
.notification_widget.info.focus {
  color: #fff;
  background-color: #31b0d5;
  border-color: #1b6d85;
}
.notification_widget.info:hover {
  color: #fff;
  background-color: #31b0d5;
  border-color: #269abc;
}
.notification_widget.info:active,
.notification_widget.info.active,
.open > .dropdown-toggle.notification_widget.info {
  color: #fff;
  background-color: #31b0d5;
  border-color: #269abc;
}
.notification_widget.info:active:hover,
.notification_widget.info.active:hover,
.open > .dropdown-toggle.notification_widget.info:hover,
.notification_widget.info:active:focus,
.notification_widget.info.active:focus,
.open > .dropdown-toggle.notification_widget.info:focus,
.notification_widget.info:active.focus,
.notification_widget.info.active.focus,
.open > .dropdown-toggle.notification_widget.info.focus {
  color: #fff;
  background-color: #269abc;
  border-color: #1b6d85;
}
.notification_widget.info:active,
.notification_widget.info.active,
.open > .dropdown-toggle.notification_widget.info {
  background-image: none;
}
.notification_widget.info.disabled:hover,
.notification_widget.info[disabled]:hover,
fieldset[disabled] .notification_widget.info:hover,
.notification_widget.info.disabled:focus,
.notification_widget.info[disabled]:focus,
fieldset[disabled] .notification_widget.info:focus,
.notification_widget.info.disabled.focus,
.notification_widget.info[disabled].focus,
fieldset[disabled] .notification_widget.info.focus {
  background-color: #5bc0de;
  border-color: #46b8da;
}
.notification_widget.info .badge {
  color: #5bc0de;
  background-color: #fff;
}
.notification_widget.danger {
  color: #fff;
  background-color: #d9534f;
  border-color: #d43f3a;
}
.notification_widget.danger:focus,
.notification_widget.danger.focus {
  color: #fff;
  background-color: #c9302c;
  border-color: #761c19;
}
.notification_widget.danger:hover {
  color: #fff;
  background-color: #c9302c;
  border-color: #ac2925;
}
.notification_widget.danger:active,
.notification_widget.danger.active,
.open > .dropdown-toggle.notification_widget.danger {
  color: #fff;
  background-color: #c9302c;
  border-color: #ac2925;
}
.notification_widget.danger:active:hover,
.notification_widget.danger.active:hover,
.open > .dropdown-toggle.notification_widget.danger:hover,
.notification_widget.danger:active:focus,
.notification_widget.danger.active:focus,
.open > .dropdown-toggle.notification_widget.danger:focus,
.notification_widget.danger:active.focus,
.notification_widget.danger.active.focus,
.open > .dropdown-toggle.notification_widget.danger.focus {
  color: #fff;
  background-color: #ac2925;
  border-color: #761c19;
}
.notification_widget.danger:active,
.notification_widget.danger.active,
.open > .dropdown-toggle.notification_widget.danger {
  background-image: none;
}
.notification_widget.danger.disabled:hover,
.notification_widget.danger[disabled]:hover,
fieldset[disabled] .notification_widget.danger:hover,
.notification_widget.danger.disabled:focus,
.notification_widget.danger[disabled]:focus,
fieldset[disabled] .notification_widget.danger:focus,
.notification_widget.danger.disabled.focus,
.notification_widget.danger[disabled].focus,
fieldset[disabled] .notification_widget.danger.focus {
  background-color: #d9534f;
  border-color: #d43f3a;
}
.notification_widget.danger .badge {
  color: #d9534f;
  background-color: #fff;
}
div#pager {
  background-color: #fff;
  font-size: 14px;
  line-height: 20px;
  overflow: hidden;
  display: none;
  position: fixed;
  bottom: 0px;
  width: 100%;
  max-height: 50%;
  padding-top: 8px;
  -webkit-box-shadow: 0px 0px 12px 1px rgba(87, 87, 87, 0.2);
  box-shadow: 0px 0px 12px 1px rgba(87, 87, 87, 0.2);
  /* Display over codemirror */
  z-index: 100;
  /* Hack which prevents jquery ui resizable from changing top. */
  top: auto !important;
}
div#pager pre {
  line-height: 1.21429em;
  color: #000;
  background-color: #f7f7f7;
  padding: 0.4em;
}
div#pager #pager-button-area {
  position: absolute;
  top: 8px;
  right: 20px;
}
div#pager #pager-contents {
  position: relative;
  overflow: auto;
  width: 100%;
  height: 100%;
}
div#pager #pager-contents #pager-container {
  position: relative;
  padding: 15px 0px;
  box-sizing: border-box;
  -moz-box-sizing: border-box;
  -webkit-box-sizing: border-box;
}
div#pager .ui-resizable-handle {
  top: 0px;
  height: 8px;
  background: #f7f7f7;
  border-top: 1px solid #cfcfcf;
  border-bottom: 1px solid #cfcfcf;
  /* This injects handle bars (a short, wide = symbol) for 
        the resize handle. */
}
div#pager .ui-resizable-handle::after {
  content: '';
  top: 2px;
  left: 50%;
  height: 3px;
  width: 30px;
  margin-left: -15px;
  position: absolute;
  border-top: 1px solid #cfcfcf;
}
.quickhelp {
  /* Old browsers */
  display: -webkit-box;
  -webkit-box-orient: horizontal;
  -webkit-box-align: stretch;
  display: -moz-box;
  -moz-box-orient: horizontal;
  -moz-box-align: stretch;
  display: box;
  box-orient: horizontal;
  box-align: stretch;
  /* Modern browsers */
  display: flex;
  flex-direction: row;
  align-items: stretch;
  line-height: 1.8em;
}
.shortcut_key {
  display: inline-block;
  width: 21ex;
  text-align: right;
  font-family: monospace;
}
.shortcut_descr {
  display: inline-block;
  /* Old browsers */
  -webkit-box-flex: 1;
  -moz-box-flex: 1;
  box-flex: 1;
  /* Modern browsers */
  flex: 1;
}
span.save_widget {
  height: 30px;
  margin-top: 4px;
  display: flex;
  justify-content: flex-start;
  align-items: baseline;
  width: 50%;
  flex: 1;
}
span.save_widget span.filename {
  height: 100%;
  line-height: 1em;
  margin-left: 16px;
  border: none;
  font-size: 146.5%;
  text-overflow: ellipsis;
  overflow: hidden;
  white-space: nowrap;
  border-radius: 2px;
}
span.save_widget span.filename:hover {
  background-color: #e6e6e6;
}
[dir="rtl"] span.save_widget.pull-left {
  float: right !important;
  float: right;
}
[dir="rtl"] span.save_widget span.filename {
  margin-left: 0;
  margin-right: 16px;
}
span.checkpoint_status,
span.autosave_status {
  font-size: small;
  white-space: nowrap;
  padding: 0 5px;
}
@media (max-width: 767px) {
  span.save_widget {
    font-size: small;
    padding: 0 0 0 5px;
  }
  span.checkpoint_status,
  span.autosave_status {
    display: none;
  }
}
@media (min-width: 768px) and (max-width: 991px) {
  span.checkpoint_status {
    display: none;
  }
  span.autosave_status {
    font-size: x-small;
  }
}
.toolbar {
  padding: 0px;
  margin-left: -5px;
  margin-top: 2px;
  margin-bottom: 5px;
  box-sizing: border-box;
  -moz-box-sizing: border-box;
  -webkit-box-sizing: border-box;
}
.toolbar select,
.toolbar label {
  width: auto;
  vertical-align: middle;
  margin-right: 2px;
  margin-bottom: 0px;
  display: inline;
  font-size: 92%;
  margin-left: 0.3em;
  margin-right: 0.3em;
  padding: 0px;
  padding-top: 3px;
}
.toolbar .btn {
  padding: 2px 8px;
}
.toolbar .btn-group {
  margin-top: 0px;
  margin-left: 5px;
}
.toolbar-btn-label {
  margin-left: 6px;
}
#maintoolbar {
  margin-bottom: -3px;
  margin-top: -8px;
  border: 0px;
  min-height: 27px;
  margin-left: 0px;
  padding-top: 11px;
  padding-bottom: 3px;
}
#maintoolbar .navbar-text {
  float: none;
  vertical-align: middle;
  text-align: right;
  margin-left: 5px;
  margin-right: 0px;
  margin-top: 0px;
}
.select-xs {
  height: 24px;
}
[dir="rtl"] .btn-group > .btn,
.btn-group-vertical > .btn {
  float: right;
}
.pulse,
.dropdown-menu > li > a.pulse,
li.pulse > a.dropdown-toggle,
li.pulse.open > a.dropdown-toggle {
  background-color: #F37626;
  color: white;
}
/**
 * Primary styles
 *
 * Author: Jupyter Development Team
 */
/** WARNING IF YOU ARE EDITTING THIS FILE, if this is a .css file, It has a lot
 * of chance of beeing generated from the ../less/[samename].less file, you can
 * try to get back the less file by reverting somme commit in history
 **/
/*
 * We'll try to get something pretty, so we
 * have some strange css to have the scroll bar on
 * the left with fix button on the top right of the tooltip
 */
@-moz-keyframes fadeOut {
  from {
    opacity: 1;
  }
  to {
    opacity: 0;
  }
}
@-webkit-keyframes fadeOut {
  from {
    opacity: 1;
  }
  to {
    opacity: 0;
  }
}
@-moz-keyframes fadeIn {
  from {
    opacity: 0;
  }
  to {
    opacity: 1;
  }
}
@-webkit-keyframes fadeIn {
  from {
    opacity: 0;
  }
  to {
    opacity: 1;
  }
}
/*properties of tooltip after "expand"*/
.bigtooltip {
  overflow: auto;
  height: 200px;
  -webkit-transition-property: height;
  -webkit-transition-duration: 500ms;
  -moz-transition-property: height;
  -moz-transition-duration: 500ms;
  transition-property: height;
  transition-duration: 500ms;
}
/*properties of tooltip before "expand"*/
.smalltooltip {
  -webkit-transition-property: height;
  -webkit-transition-duration: 500ms;
  -moz-transition-property: height;
  -moz-transition-duration: 500ms;
  transition-property: height;
  transition-duration: 500ms;
  text-overflow: ellipsis;
  overflow: hidden;
  height: 80px;
}
.tooltipbuttons {
  position: absolute;
  padding-right: 15px;
  top: 0px;
  right: 0px;
}
.tooltiptext {
  /*avoid the button to overlap on some docstring*/
  padding-right: 30px;
}
.ipython_tooltip {
  max-width: 700px;
  /*fade-in animation when inserted*/
  -webkit-animation: fadeOut 400ms;
  -moz-animation: fadeOut 400ms;
  animation: fadeOut 400ms;
  -webkit-animation: fadeIn 400ms;
  -moz-animation: fadeIn 400ms;
  animation: fadeIn 400ms;
  vertical-align: middle;
  background-color: #f7f7f7;
  overflow: visible;
  border: #ababab 1px solid;
  outline: none;
  padding: 3px;
  margin: 0px;
  padding-left: 7px;
  font-family: monospace;
  min-height: 50px;
  -moz-box-shadow: 0px 6px 10px -1px #adadad;
  -webkit-box-shadow: 0px 6px 10px -1px #adadad;
  box-shadow: 0px 6px 10px -1px #adadad;
  border-radius: 2px;
  position: absolute;
  z-index: 1000;
}
.ipython_tooltip a {
  float: right;
}
.ipython_tooltip .tooltiptext pre {
  border: 0;
  border-radius: 0;
  font-size: 100%;
  background-color: #f7f7f7;
}
.pretooltiparrow {
  left: 0px;
  margin: 0px;
  top: -16px;
  width: 40px;
  height: 16px;
  overflow: hidden;
  position: absolute;
}
.pretooltiparrow:before {
  background-color: #f7f7f7;
  border: 1px #ababab solid;
  z-index: 11;
  content: "";
  position: absolute;
  left: 15px;
  top: 10px;
  width: 25px;
  height: 25px;
  -webkit-transform: rotate(45deg);
  -moz-transform: rotate(45deg);
  -ms-transform: rotate(45deg);
  -o-transform: rotate(45deg);
}
ul.typeahead-list i {
  margin-left: -10px;
  width: 18px;
}
[dir="rtl"] ul.typeahead-list i {
  margin-left: 0;
  margin-right: -10px;
}
ul.typeahead-list {
  max-height: 80vh;
  overflow: auto;
}
ul.typeahead-list > li > a {
  /** Firefox bug **/
  /* see https://github.com/jupyter/notebook/issues/559 */
  white-space: normal;
}
ul.typeahead-list  > li > a.pull-right {
  float: left !important;
  float: left;
}
[dir="rtl"] .typeahead-list {
  text-align: right;
}
.cmd-palette .modal-body {
  padding: 7px;
}
.cmd-palette form {
  background: white;
}
.cmd-palette input {
  outline: none;
}
.no-shortcut {
  min-width: 20px;
  color: transparent;
}
[dir="rtl"] .no-shortcut.pull-right {
  float: left !important;
  float: left;
}
[dir="rtl"] .command-shortcut.pull-right {
  float: left !important;
  float: left;
}
.command-shortcut:before {
  content: "(command mode)";
  padding-right: 3px;
  color: #777777;
}
.edit-shortcut:before {
  content: "(edit)";
  padding-right: 3px;
  color: #777777;
}
[dir="rtl"] .edit-shortcut.pull-right {
  float: left !important;
  float: left;
}
#find-and-replace #replace-preview .match,
#find-and-replace #replace-preview .insert {
  background-color: #BBDEFB;
  border-color: #90CAF9;
  border-style: solid;
  border-width: 1px;
  border-radius: 0px;
}
[dir="ltr"] #find-and-replace .input-group-btn + .form-control {
  border-left: none;
}
[dir="rtl"] #find-and-replace .input-group-btn + .form-control {
  border-right: none;
}
#find-and-replace #replace-preview .replace .match {
  background-color: #FFCDD2;
  border-color: #EF9A9A;
  border-radius: 0px;
}
#find-and-replace #replace-preview .replace .insert {
  background-color: #C8E6C9;
  border-color: #A5D6A7;
  border-radius: 0px;
}
#find-and-replace #replace-preview {
  max-height: 60vh;
  overflow: auto;
}
#find-and-replace #replace-preview pre {
  padding: 5px 10px;
}
.terminal-app {
  background: #EEE;
}
.terminal-app #header {
  background: #fff;
  -webkit-box-shadow: 0px 0px 12px 1px rgba(87, 87, 87, 0.2);
  box-shadow: 0px 0px 12px 1px rgba(87, 87, 87, 0.2);
}
.terminal-app .terminal {
  width: 100%;
  float: left;
  font-family: monospace;
  color: white;
  background: black;
  padding: 0.4em;
  border-radius: 2px;
  -webkit-box-shadow: 0px 0px 12px 1px rgba(87, 87, 87, 0.4);
  box-shadow: 0px 0px 12px 1px rgba(87, 87, 87, 0.4);
}
.terminal-app .terminal,
.terminal-app .terminal dummy-screen {
  line-height: 1em;
  font-size: 14px;
}
.terminal-app .terminal .xterm-rows {
  padding: 10px;
}
.terminal-app .terminal-cursor {
  color: black;
  background: white;
}
.terminal-app #terminado-container {
  margin-top: 20px;
}
/*# sourceMappingURL=style.min.css.map */
    </style>
<style type="text/css">
    .highlight .hll { background-color: #ffffcc }
.highlight  { background: #f8f8f8; }
.highlight .c { color: #408080; font-style: italic } /* Comment */
.highlight .err { border: 1px solid #FF0000 } /* Error */
.highlight .k { color: #008000; font-weight: bold } /* Keyword */
.highlight .o { color: #666666 } /* Operator */
.highlight .ch { color: #408080; font-style: italic } /* Comment.Hashbang */
.highlight .cm { color: #408080; font-style: italic } /* Comment.Multiline */
.highlight .cp { color: #BC7A00 } /* Comment.Preproc */
.highlight .cpf { color: #408080; font-style: italic } /* Comment.PreprocFile */
.highlight .c1 { color: #408080; font-style: italic } /* Comment.Single */
.highlight .cs { color: #408080; font-style: italic } /* Comment.Special */
.highlight .gd { color: #A00000 } /* Generic.Deleted */
.highlight .ge { font-style: italic } /* Generic.Emph */
.highlight .gr { color: #FF0000 } /* Generic.Error */
.highlight .gh { color: #000080; font-weight: bold } /* Generic.Heading */
.highlight .gi { color: #00A000 } /* Generic.Inserted */
.highlight .go { color: #888888 } /* Generic.Output */
.highlight .gp { color: #000080; font-weight: bold } /* Generic.Prompt */
.highlight .gs { font-weight: bold } /* Generic.Strong */
.highlight .gu { color: #800080; font-weight: bold } /* Generic.Subheading */
.highlight .gt { color: #0044DD } /* Generic.Traceback */
.highlight .kc { color: #008000; font-weight: bold } /* Keyword.Constant */
.highlight .kd { color: #008000; font-weight: bold } /* Keyword.Declaration */
.highlight .kn { color: #008000; font-weight: bold } /* Keyword.Namespace */
.highlight .kp { color: #008000 } /* Keyword.Pseudo */
.highlight .kr { color: #008000; font-weight: bold } /* Keyword.Reserved */
.highlight .kt { color: #B00040 } /* Keyword.Type */
.highlight .m { color: #666666 } /* Literal.Number */
.highlight .s { color: #BA2121 } /* Literal.String */
.highlight .na { color: #7D9029 } /* Name.Attribute */
.highlight .nb { color: #008000 } /* Name.Builtin */
.highlight .nc { color: #0000FF; font-weight: bold } /* Name.Class */
.highlight .no { color: #880000 } /* Name.Constant */
.highlight .nd { color: #AA22FF } /* Name.Decorator */
.highlight .ni { color: #999999; font-weight: bold } /* Name.Entity */
.highlight .ne { color: #D2413A; font-weight: bold } /* Name.Exception */
.highlight .nf { color: #0000FF } /* Name.Function */
.highlight .nl { color: #A0A000 } /* Name.Label */
.highlight .nn { color: #0000FF; font-weight: bold } /* Name.Namespace */
.highlight .nt { color: #008000; font-weight: bold } /* Name.Tag */
.highlight .nv { color: #19177C } /* Name.Variable */
.highlight .ow { color: #AA22FF; font-weight: bold } /* Operator.Word */
.highlight .w { color: #bbbbbb } /* Text.Whitespace */
.highlight .mb { color: #666666 } /* Literal.Number.Bin */
.highlight .mf { color: #666666 } /* Literal.Number.Float */
.highlight .mh { color: #666666 } /* Literal.Number.Hex */
.highlight .mi { color: #666666 } /* Literal.Number.Integer */
.highlight .mo { color: #666666 } /* Literal.Number.Oct */
.highlight .sa { color: #BA2121 } /* Literal.String.Affix */
.highlight .sb { color: #BA2121 } /* Literal.String.Backtick */
.highlight .sc { color: #BA2121 } /* Literal.String.Char */
.highlight .dl { color: #BA2121 } /* Literal.String.Delimiter */
.highlight .sd { color: #BA2121; font-style: italic } /* Literal.String.Doc */
.highlight .s2 { color: #BA2121 } /* Literal.String.Double */
.highlight .se { color: #BB6622; font-weight: bold } /* Literal.String.Escape */
.highlight .sh { color: #BA2121 } /* Literal.String.Heredoc */
.highlight .si { color: #BB6688; font-weight: bold } /* Literal.String.Interpol */
.highlight .sx { color: #008000 } /* Literal.String.Other */
.highlight .sr { color: #BB6688 } /* Literal.String.Regex */
.highlight .s1 { color: #BA2121 } /* Literal.String.Single */
.highlight .ss { color: #19177C } /* Literal.String.Symbol */
.highlight .bp { color: #008000 } /* Name.Builtin.Pseudo */
.highlight .fm { color: #0000FF } /* Name.Function.Magic */
.highlight .vc { color: #19177C } /* Name.Variable.Class */
.highlight .vg { color: #19177C } /* Name.Variable.Global */
.highlight .vi { color: #19177C } /* Name.Variable.Instance */
.highlight .vm { color: #19177C } /* Name.Variable.Magic */
.highlight .il { color: #666666 } /* Literal.Number.Integer.Long */
    </style>
<style type="text/css">
    
/* Temporary definitions which will become obsolete with Notebook release 5.0 */
.ansi-black-fg { color: #3E424D; }
.ansi-black-bg { background-color: #3E424D; }
.ansi-black-intense-fg { color: #282C36; }
.ansi-black-intense-bg { background-color: #282C36; }
.ansi-red-fg { color: #E75C58; }
.ansi-red-bg { background-color: #E75C58; }
.ansi-red-intense-fg { color: #B22B31; }
.ansi-red-intense-bg { background-color: #B22B31; }
.ansi-green-fg { color: #00A250; }
.ansi-green-bg { background-color: #00A250; }
.ansi-green-intense-fg { color: #007427; }
.ansi-green-intense-bg { background-color: #007427; }
.ansi-yellow-fg { color: #DDB62B; }
.ansi-yellow-bg { background-color: #DDB62B; }
.ansi-yellow-intense-fg { color: #B27D12; }
.ansi-yellow-intense-bg { background-color: #B27D12; }
.ansi-blue-fg { color: #208FFB; }
.ansi-blue-bg { background-color: #208FFB; }
.ansi-blue-intense-fg { color: #0065CA; }
.ansi-blue-intense-bg { background-color: #0065CA; }
.ansi-magenta-fg { color: #D160C4; }
.ansi-magenta-bg { background-color: #D160C4; }
.ansi-magenta-intense-fg { color: #A03196; }
.ansi-magenta-intense-bg { background-color: #A03196; }
.ansi-cyan-fg { color: #60C6C8; }
.ansi-cyan-bg { background-color: #60C6C8; }
.ansi-cyan-intense-fg { color: #258F8F; }
.ansi-cyan-intense-bg { background-color: #258F8F; }
.ansi-white-fg { color: #C5C1B4; }
.ansi-white-bg { background-color: #C5C1B4; }
.ansi-white-intense-fg { color: #A1A6B2; }
.ansi-white-intense-bg { background-color: #A1A6B2; }

.ansi-bold { font-weight: bold; }

    </style>
<style type="text/css">
    body[data-notebook-name] > #header #header-container:not(.show-panel), /* body has data-notebook-name attribute when 
a notebook is open. this rule won't be applied when the notebook is not open (in 404 view for example) */
body[data-notebook-name] #menubar-container #maintoolbar:not(.show-panel),
body[data-notebook-name] #menubar-container ul.navbar-nav:not(.show-panel) {
  display: none;
}

#menubar.only-panel #menus.navbar-default {
    background: #fff;
    border-color: #fff;
}

.toolbar.with-statusbar{
    margin-top: 3px;
    margin-bottom: 0;
}

    </style>


<style type="text/css">
/* Overrides of notebook CSS for static HTML export */
body {
  overflow: visible;
  padding: 8px;
}

div#notebook {
  overflow: visible;
  border-top: none;
}@media print {
  div.cell {
    display: block;
    page-break-inside: avoid;
  } 
  div.output_wrapper { 
    display: block;
    page-break-inside: avoid; 
  }
  div.output { 
    display: block;
    page-break-inside: avoid; 
  }
}
</style>

<!-- Custom stylesheet, it must be in the same directory as the html file -->
<link rel="stylesheet" href="custom.css">

<!-- Loading mathjax macro -->
<!-- Load mathjax -->
    <script src="https://cdnjs.cloudflare.com/ajax/libs/mathjax/2.7.1/MathJax.js?config=TeX-AMS_HTML"></script>
    <!-- MathJax configuration -->
    <script type="text/x-mathjax-config">
    MathJax.Hub.Config({
        tex2jax: {
            inlineMath: [ ['$','$'], ["\\(","\\)"] ],
            displayMath: [ ['$$','$$'], ["\\[","\\]"] ],
            processEscapes: true,
            processEnvironments: true
        },
        // Center justify equations in code and markdown cells. Elsewhere
        // we use CSS to left justify single line equations in code cells.
        displayAlign: 'center',
        "HTML-CSS": {
            styles: {'.MathJax_Display': {"margin": 0}},
            linebreaks: { automatic: true }
        }
    });
    </script>
    <!-- End of mathjax configuration --></head>
<body>
  <div tabindex="-1" id="notebook" class="border-box-sizing">
    <div class="container" id="notebook-container">

<div class="cell border-box-sizing text_cell rendered"><div class="prompt input_prompt">
</div><div class="inner_cell">
<div class="text_cell_render border-box-sizing rendered_html">
<h1 id="Developing-an-AI-application">Developing an AI application<a class="anchor-link" href="#Developing-an-AI-application">&#182;</a></h1><p>Going forward, AI algorithms will be incorporated into more and more everyday applications. For example, you might want to include an image classifier in a smart phone app. To do this, you'd use a deep learning model trained on hundreds of thousands of images as part of the overall application architecture. A large part of software development in the future will be using these types of models as common parts of applications.</p>
<p>In this project, you'll train an image classifier to recognize different species of flowers. You can imagine using something like this in a phone app that tells you the name of the flower your camera is looking at. In practice you'd train this classifier, then export it for use in your application. We'll be using <a href="http://www.robots.ox.ac.uk/~vgg/data/flowers/102/index.html">this dataset</a> of 102 flower categories, you can see a few examples below.</p>
<p><img src='assets/Flowers.png' width=500px></p>
<p>The project is broken down into multiple steps:</p>
<ul>
<li>Load and preprocess the image dataset</li>
<li>Train the image classifier on your dataset</li>
<li>Use the trained classifier to predict image content</li>
</ul>
<p>We'll lead you through each part which you'll implement in Python.</p>
<p>When you've completed this project, you'll have an application that can be trained on any set of labeled images. Here your network will be learning about flowers and end up as a command line application. But, what you do with your new skills depends on your imagination and effort in building a dataset. For example, imagine an app where you take a picture of a car, it tells you what the make and model is, then looks up information about it. Go build your own dataset and make something new.</p>
<p>First up is importing the packages you'll need. It's good practice to keep all the imports at the beginning of your code. As you work through this notebook and find you need to import a package, make sure to add the import up here.</p>

</div>
</div>
</div>
<div class="cell border-box-sizing code_cell rendered">
<div class="input">
<div class="prompt input_prompt">In&nbsp;[1]:</div>
<div class="inner_cell">
    <div class="input_area">
<div class=" highlight hl-ipython3"><pre><span></span><span class="c1"># Imports here</span>
<span class="kn">import</span> <span class="nn">numpy</span> <span class="k">as</span> <span class="nn">np</span>
<span class="kn">import</span> <span class="nn">matplotlib.pyplot</span> <span class="k">as</span> <span class="nn">plt</span>
<span class="kn">import</span> <span class="nn">os</span><span class="o">,</span> <span class="nn">random</span>
<span class="kn">import</span> <span class="nn">json</span>
<span class="kn">import</span> <span class="nn">torch</span>
<span class="kn">from</span> <span class="nn">torch</span> <span class="k">import</span> <span class="n">nn</span>
<span class="kn">from</span> <span class="nn">torch</span> <span class="k">import</span> <span class="n">optim</span>
<span class="kn">import</span> <span class="nn">torch.nn.functional</span> <span class="k">as</span> <span class="nn">F</span>
<span class="kn">from</span> <span class="nn">torch.autograd</span> <span class="k">import</span> <span class="n">Variable</span>
<span class="kn">import</span> <span class="nn">torchvision</span>
<span class="kn">from</span> <span class="nn">torchvision</span> <span class="k">import</span> <span class="n">datasets</span><span class="p">,</span> <span class="n">transforms</span><span class="p">,</span> <span class="n">models</span>
<span class="kn">from</span> <span class="nn">collections</span> <span class="k">import</span> <span class="n">OrderedDict</span>
<span class="kn">from</span> <span class="nn">PIL</span> <span class="k">import</span> <span class="n">Image</span>
<span class="kn">import</span> <span class="nn">time</span>
</pre></div>

    </div>
</div>
</div>

</div>
<div class="cell border-box-sizing text_cell rendered"><div class="prompt input_prompt">
</div><div class="inner_cell">
<div class="text_cell_render border-box-sizing rendered_html">
<h2 id="Load-the-data">Load the data<a class="anchor-link" href="#Load-the-data">&#182;</a></h2><p>Here you'll use <code>torchvision</code> to load the data (<a href="http://pytorch.org/docs/0.3.0/torchvision/index.html">documentation</a>). The data should be included alongside this notebook, otherwise you can <a href="https://s3.amazonaws.com/content.udacity-data.com/nd089/flower_data.tar.gz">download it here</a>. The dataset is split into three parts, training, validation, and testing. For the training, you'll want to apply transformations such as random scaling, cropping, and flipping. This will help the network generalize leading to better performance. You'll also need to make sure the input data is resized to 224x224 pixels as required by the pre-trained networks.</p>
<p>The validation and testing sets are used to measure the model's performance on data it hasn't seen yet. For this you don't want any scaling or rotation transformations, but you'll need to resize then crop the images to the appropriate size.</p>
<p>The pre-trained networks you'll use were trained on the ImageNet dataset where each color channel was normalized separately. For all three sets you'll need to normalize the means and standard deviations of the images to what the network expects. For the means, it's <code>[0.485, 0.456, 0.406]</code> and for the standard deviations <code>[0.229, 0.224, 0.225]</code>, calculated from the ImageNet images.  These values will shift each color channel to be centered at 0 and range from -1 to 1.</p>

</div>
</div>
</div>
<div class="cell border-box-sizing code_cell rendered">
<div class="input">
<div class="prompt input_prompt">In&nbsp;[2]:</div>
<div class="inner_cell">
    <div class="input_area">
<div class=" highlight hl-ipython3"><pre><span></span><span class="c1">#data map</span>
<span class="n">data_dir</span> <span class="o">=</span> <span class="s1">&#39;flowers&#39;</span>
<span class="n">train_dir</span> <span class="o">=</span> <span class="n">data_dir</span> <span class="o">+</span> <span class="s1">&#39;/train&#39;</span>
<span class="n">valid_dir</span> <span class="o">=</span> <span class="n">data_dir</span> <span class="o">+</span> <span class="s1">&#39;/valid&#39;</span>
<span class="n">test_dir</span> <span class="o">=</span> <span class="n">data_dir</span> <span class="o">+</span> <span class="s1">&#39;/test&#39;</span>
</pre></div>

    </div>
</div>
</div>

</div>
<div class="cell border-box-sizing code_cell rendered">
<div class="input">
<div class="prompt input_prompt">In&nbsp;[3]:</div>
<div class="inner_cell">
    <div class="input_area">
<div class=" highlight hl-ipython3"><pre><span></span><span class="n">train_transforms</span> <span class="o">=</span> <span class="n">transforms</span><span class="o">.</span><span class="n">Compose</span><span class="p">([</span><span class="n">transforms</span><span class="o">.</span><span class="n">RandomRotation</span><span class="p">(</span><span class="mi">30</span><span class="p">),</span>
                                      <span class="n">transforms</span><span class="o">.</span><span class="n">RandomResizedCrop</span><span class="p">(</span><span class="mi">224</span><span class="p">),</span>
                                      <span class="n">transforms</span><span class="o">.</span><span class="n">RandomHorizontalFlip</span><span class="p">(),</span>
                                      <span class="n">transforms</span><span class="o">.</span><span class="n">ToTensor</span><span class="p">(),</span>
                                      <span class="n">transforms</span><span class="o">.</span><span class="n">Normalize</span><span class="p">([</span><span class="mf">0.485</span><span class="p">,</span> <span class="mf">0.456</span><span class="p">,</span> <span class="mf">0.406</span><span class="p">],</span> 
                                                           <span class="p">[</span><span class="mf">0.229</span><span class="p">,</span> <span class="mf">0.224</span><span class="p">,</span> <span class="mf">0.225</span><span class="p">])</span>
                                     <span class="p">])</span>

<span class="n">cost_transforms</span> <span class="o">=</span> <span class="n">transforms</span><span class="o">.</span><span class="n">Compose</span><span class="p">([</span><span class="n">transforms</span><span class="o">.</span><span class="n">Resize</span><span class="p">(</span><span class="mi">256</span><span class="p">),</span>
                                      <span class="n">transforms</span><span class="o">.</span><span class="n">CenterCrop</span><span class="p">(</span><span class="mi">224</span><span class="p">),</span>
                                      <span class="n">transforms</span><span class="o">.</span><span class="n">ToTensor</span><span class="p">(),</span>
                                      <span class="n">transforms</span><span class="o">.</span><span class="n">Normalize</span><span class="p">([</span><span class="mf">0.485</span><span class="p">,</span> <span class="mf">0.456</span><span class="p">,</span> <span class="mf">0.406</span><span class="p">],</span> 
                                                           <span class="p">[</span><span class="mf">0.229</span><span class="p">,</span> <span class="mf">0.224</span><span class="p">,</span> <span class="mf">0.225</span><span class="p">])</span>
                                     <span class="p">])</span>

<span class="n">test_transforms</span> <span class="o">=</span> <span class="n">transforms</span><span class="o">.</span><span class="n">Compose</span><span class="p">([</span><span class="n">transforms</span><span class="o">.</span><span class="n">Resize</span><span class="p">(</span><span class="mi">256</span><span class="p">),</span>
                                     <span class="n">transforms</span><span class="o">.</span><span class="n">CenterCrop</span><span class="p">(</span><span class="mi">224</span><span class="p">),</span>
                                     <span class="n">transforms</span><span class="o">.</span><span class="n">ToTensor</span><span class="p">(),</span>
                                     <span class="n">transforms</span><span class="o">.</span><span class="n">Normalize</span><span class="p">([</span><span class="mf">0.485</span><span class="p">,</span> <span class="mf">0.456</span><span class="p">,</span> <span class="mf">0.406</span><span class="p">],</span> 
                                                          <span class="p">[</span><span class="mf">0.229</span><span class="p">,</span> <span class="mf">0.224</span><span class="p">,</span> <span class="mf">0.225</span><span class="p">])</span>
                                     <span class="p">])</span>



<span class="n">train_data</span> <span class="o">=</span> <span class="n">datasets</span><span class="o">.</span><span class="n">ImageFolder</span><span class="p">(</span><span class="n">train_dir</span><span class="p">,</span> <span class="n">transform</span><span class="o">=</span><span class="n">train_transforms</span><span class="p">)</span>
<span class="n">cost_data</span> <span class="o">=</span> <span class="n">datasets</span><span class="o">.</span><span class="n">ImageFolder</span><span class="p">(</span><span class="n">valid_dir</span><span class="p">,</span> <span class="n">transform</span><span class="o">=</span><span class="n">cost_transforms</span><span class="p">)</span>
<span class="n">test_data</span>  <span class="o">=</span> <span class="n">datasets</span><span class="o">.</span><span class="n">ImageFolder</span><span class="p">(</span><span class="n">test_dir</span><span class="p">,</span> <span class="n">transform</span><span class="o">=</span><span class="n">test_transforms</span><span class="p">)</span>


<span class="n">train_loader</span> <span class="o">=</span> <span class="n">torch</span><span class="o">.</span><span class="n">utils</span><span class="o">.</span><span class="n">data</span><span class="o">.</span><span class="n">DataLoader</span><span class="p">(</span><span class="n">train_data</span><span class="p">,</span> <span class="n">batch_size</span><span class="o">=</span><span class="mi">64</span><span class="p">,</span> <span class="n">shuffle</span><span class="o">=</span><span class="kc">True</span><span class="p">)</span>
<span class="n">valid_loader</span> <span class="o">=</span> <span class="n">torch</span><span class="o">.</span><span class="n">utils</span><span class="o">.</span><span class="n">data</span><span class="o">.</span><span class="n">DataLoader</span><span class="p">(</span><span class="n">cost_data</span><span class="p">,</span> <span class="n">batch_size</span><span class="o">=</span><span class="mi">32</span><span class="p">)</span>
<span class="n">test_loader</span>  <span class="o">=</span> <span class="n">torch</span><span class="o">.</span><span class="n">utils</span><span class="o">.</span><span class="n">data</span><span class="o">.</span><span class="n">DataLoader</span><span class="p">(</span><span class="n">test_data</span><span class="p">,</span> <span class="n">batch_size</span><span class="o">=</span><span class="mi">32</span><span class="p">)</span>

<span class="n">image_datasets</span> <span class="o">=</span> <span class="p">[</span><span class="n">train_data</span><span class="p">,</span> <span class="n">cost_data</span><span class="p">,</span> <span class="n">test_data</span><span class="p">]</span>
<span class="n">dataloaders</span> <span class="o">=</span> <span class="p">[</span><span class="n">train_loader</span><span class="p">,</span> <span class="n">valid_loader</span><span class="p">,</span> <span class="n">test_loader</span><span class="p">]</span>
</pre></div>

    </div>
</div>
</div>

</div>
<div class="cell border-box-sizing text_cell rendered"><div class="prompt input_prompt">
</div><div class="inner_cell">
<div class="text_cell_render border-box-sizing rendered_html">
<h3 id="Label-mapping">Label mapping<a class="anchor-link" href="#Label-mapping">&#182;</a></h3><p>You'll also need to load in a mapping from category label to category name. You can find this in the file <code>cat_to_name.json</code>. It's a JSON object which you can read in with the <a href="https://docs.python.org/2/library/json.html"><code>json</code> module</a>. This will give you a dictionary mapping the integer encoded categories to the actual names of the flowers.</p>

</div>
</div>
</div>
<div class="cell border-box-sizing code_cell rendered">
<div class="input">
<div class="prompt input_prompt">In&nbsp;[4]:</div>
<div class="inner_cell">
    <div class="input_area">
<div class=" highlight hl-ipython3"><pre><span></span><span class="kn">import</span> <span class="nn">json</span>

<span class="k">with</span> <span class="nb">open</span><span class="p">(</span><span class="s1">&#39;cat_to_name.json&#39;</span><span class="p">,</span> <span class="s1">&#39;r&#39;</span><span class="p">)</span> <span class="k">as</span> <span class="n">f</span><span class="p">:</span>
    <span class="n">cat_to_name</span> <span class="o">=</span> <span class="n">json</span><span class="o">.</span><span class="n">load</span><span class="p">(</span><span class="n">f</span><span class="p">)</span>
    
<span class="nb">print</span><span class="p">(</span><span class="n">cat_to_name</span><span class="p">)</span>
<span class="nb">print</span><span class="p">(</span><span class="s2">&quot;</span><span class="se">\n</span><span class="s2"> Length:&quot;</span><span class="p">,</span> <span class="nb">len</span><span class="p">(</span><span class="n">cat_to_name</span><span class="p">))</span>
</pre></div>

    </div>
</div>
</div>

<div class="output_wrapper">
<div class="output">


<div class="output_area">

    <div class="prompt"></div>


<div class="output_subarea output_stream output_stdout output_text">
<pre>{&#39;21&#39;: &#39;fire lily&#39;, &#39;3&#39;: &#39;canterbury bells&#39;, &#39;45&#39;: &#39;bolero deep blue&#39;, &#39;1&#39;: &#39;pink primrose&#39;, &#39;34&#39;: &#39;mexican aster&#39;, &#39;27&#39;: &#39;prince of wales feathers&#39;, &#39;7&#39;: &#39;moon orchid&#39;, &#39;16&#39;: &#39;globe-flower&#39;, &#39;25&#39;: &#39;grape hyacinth&#39;, &#39;26&#39;: &#39;corn poppy&#39;, &#39;79&#39;: &#39;toad lily&#39;, &#39;39&#39;: &#39;siam tulip&#39;, &#39;24&#39;: &#39;red ginger&#39;, &#39;67&#39;: &#39;spring crocus&#39;, &#39;35&#39;: &#39;alpine sea holly&#39;, &#39;32&#39;: &#39;garden phlox&#39;, &#39;10&#39;: &#39;globe thistle&#39;, &#39;6&#39;: &#39;tiger lily&#39;, &#39;93&#39;: &#39;ball moss&#39;, &#39;33&#39;: &#39;love in the mist&#39;, &#39;9&#39;: &#39;monkshood&#39;, &#39;102&#39;: &#39;blackberry lily&#39;, &#39;14&#39;: &#39;spear thistle&#39;, &#39;19&#39;: &#39;balloon flower&#39;, &#39;100&#39;: &#39;blanket flower&#39;, &#39;13&#39;: &#39;king protea&#39;, &#39;49&#39;: &#39;oxeye daisy&#39;, &#39;15&#39;: &#39;yellow iris&#39;, &#39;61&#39;: &#39;cautleya spicata&#39;, &#39;31&#39;: &#39;carnation&#39;, &#39;64&#39;: &#39;silverbush&#39;, &#39;68&#39;: &#39;bearded iris&#39;, &#39;63&#39;: &#39;black-eyed susan&#39;, &#39;69&#39;: &#39;windflower&#39;, &#39;62&#39;: &#39;japanese anemone&#39;, &#39;20&#39;: &#39;giant white arum lily&#39;, &#39;38&#39;: &#39;great masterwort&#39;, &#39;4&#39;: &#39;sweet pea&#39;, &#39;86&#39;: &#39;tree mallow&#39;, &#39;101&#39;: &#39;trumpet creeper&#39;, &#39;42&#39;: &#39;daffodil&#39;, &#39;22&#39;: &#39;pincushion flower&#39;, &#39;2&#39;: &#39;hard-leaved pocket orchid&#39;, &#39;54&#39;: &#39;sunflower&#39;, &#39;66&#39;: &#39;osteospermum&#39;, &#39;70&#39;: &#39;tree poppy&#39;, &#39;85&#39;: &#39;desert-rose&#39;, &#39;99&#39;: &#39;bromelia&#39;, &#39;87&#39;: &#39;magnolia&#39;, &#39;5&#39;: &#39;english marigold&#39;, &#39;92&#39;: &#39;bee balm&#39;, &#39;28&#39;: &#39;stemless gentian&#39;, &#39;97&#39;: &#39;mallow&#39;, &#39;57&#39;: &#39;gaura&#39;, &#39;40&#39;: &#39;lenten rose&#39;, &#39;47&#39;: &#39;marigold&#39;, &#39;59&#39;: &#39;orange dahlia&#39;, &#39;48&#39;: &#39;buttercup&#39;, &#39;55&#39;: &#39;pelargonium&#39;, &#39;36&#39;: &#39;ruby-lipped cattleya&#39;, &#39;91&#39;: &#39;hippeastrum&#39;, &#39;29&#39;: &#39;artichoke&#39;, &#39;71&#39;: &#39;gazania&#39;, &#39;90&#39;: &#39;canna lily&#39;, &#39;18&#39;: &#39;peruvian lily&#39;, &#39;98&#39;: &#39;mexican petunia&#39;, &#39;8&#39;: &#39;bird of paradise&#39;, &#39;30&#39;: &#39;sweet william&#39;, &#39;17&#39;: &#39;purple coneflower&#39;, &#39;52&#39;: &#39;wild pansy&#39;, &#39;84&#39;: &#39;columbine&#39;, &#39;12&#39;: &#34;colt&#39;s foot&#34;, &#39;11&#39;: &#39;snapdragon&#39;, &#39;96&#39;: &#39;camellia&#39;, &#39;23&#39;: &#39;fritillary&#39;, &#39;50&#39;: &#39;common dandelion&#39;, &#39;44&#39;: &#39;poinsettia&#39;, &#39;53&#39;: &#39;primula&#39;, &#39;72&#39;: &#39;azalea&#39;, &#39;65&#39;: &#39;californian poppy&#39;, &#39;80&#39;: &#39;anthurium&#39;, &#39;76&#39;: &#39;morning glory&#39;, &#39;37&#39;: &#39;cape flower&#39;, &#39;56&#39;: &#39;bishop of llandaff&#39;, &#39;60&#39;: &#39;pink-yellow dahlia&#39;, &#39;82&#39;: &#39;clematis&#39;, &#39;58&#39;: &#39;geranium&#39;, &#39;75&#39;: &#39;thorn apple&#39;, &#39;41&#39;: &#39;barbeton daisy&#39;, &#39;95&#39;: &#39;bougainvillea&#39;, &#39;43&#39;: &#39;sword lily&#39;, &#39;83&#39;: &#39;hibiscus&#39;, &#39;78&#39;: &#39;lotus lotus&#39;, &#39;88&#39;: &#39;cyclamen&#39;, &#39;94&#39;: &#39;foxglove&#39;, &#39;81&#39;: &#39;frangipani&#39;, &#39;74&#39;: &#39;rose&#39;, &#39;89&#39;: &#39;watercress&#39;, &#39;73&#39;: &#39;water lily&#39;, &#39;46&#39;: &#39;wallflower&#39;, &#39;77&#39;: &#39;passion flower&#39;, &#39;51&#39;: &#39;petunia&#39;}

 Length: 102
</pre>
</div>
</div>

</div>
</div>

</div>
<div class="cell border-box-sizing code_cell rendered">
<div class="input">
<div class="prompt input_prompt">In&nbsp;[5]:</div>
<div class="inner_cell">
    <div class="input_area">
<div class=" highlight hl-ipython3"><pre><span></span><span class="k">with</span> <span class="nb">open</span><span class="p">(</span><span class="s1">&#39;cat_to_name.json&#39;</span><span class="p">,</span> <span class="s1">&#39;r&#39;</span><span class="p">)</span> <span class="k">as</span> <span class="n">f</span><span class="p">:</span>
    <span class="n">cat_to_name</span> <span class="o">=</span> <span class="n">json</span><span class="o">.</span><span class="n">load</span><span class="p">(</span><span class="n">f</span><span class="p">)</span>
</pre></div>

    </div>
</div>
</div>

</div>
<div class="cell border-box-sizing text_cell rendered"><div class="prompt input_prompt">
</div><div class="inner_cell">
<div class="text_cell_render border-box-sizing rendered_html">
<h1 id="Building-and-training-the-classifier">Building and training the classifier<a class="anchor-link" href="#Building-and-training-the-classifier">&#182;</a></h1><p>Now that the data is ready, it's time to build and train the classifier. As usual, you should use one of the pretrained models from <code>torchvision.models</code> to get the image features. Build and train a new feed-forward classifier using those features.</p>
<p>We're going to leave this part up to you. Refer to <a href="https://review.udacity.com/#!/rubrics/1663/view">the rubric</a> for guidance on successfully completing this section. Things you'll need to do:</p>
<ul>
<li>Load a <a href="http://pytorch.org/docs/master/torchvision/models.html">pre-trained network</a> (If you need a starting point, the VGG networks work great and are straightforward to use)</li>
<li>Define a new, untrained feed-forward network as a classifier, using ReLU activations and dropout</li>
<li>Train the classifier layers using backpropagation using the pre-trained network to get the features</li>
<li>Track the loss and accuracy on the validation set to determine the best hyperparameters</li>
</ul>
<p>We've left a cell open for you below, but use as many as you need. Our advice is to break the problem up into smaller parts you can run separately. Check that each part is doing what you expect, then move on to the next. You'll likely find that as you work through each part, you'll need to go back and modify your previous code. This is totally normal!</p>
<p>When training make sure you're updating only the weights of the feed-forward network. You should be able to get the validation accuracy above 70% if you build everything right. Make sure to try different hyperparameters (learning rate, units in the classifier, epochs, etc) to find the best model. Save those hyperparameters to use as default values in the next part of the project.</p>
<p>One last important tip if you're using the workspace to run your code: To avoid having your workspace disconnect during the long-running tasks in this notebook, please read in the earlier page in this lesson called Intro to
GPU Workspaces about Keeping Your Session Active. You'll want to include code from the workspace_utils.py module.</p>
<p><strong>Note for Workspace users:</strong> If your network is over 1 GB when saved as a checkpoint, there might be issues with saving backups in your workspace. Typically this happens with wide dense layers after the convolutional layers. If your saved checkpoint is larger than 1 GB (you can open a terminal and check with <code>ls -lh</code>), you should reduce the size of your hidden layers and train again.</p>

</div>
</div>
</div>
<div class="cell border-box-sizing code_cell rendered">
<div class="input">
<div class="prompt input_prompt">In&nbsp;[6]:</div>
<div class="inner_cell">
    <div class="input_area">
<div class=" highlight hl-ipython3"><pre><span></span><span class="c1">#Networking is done. Then train.</span>
<span class="c1">#Install a pre-trained network.</span>
<span class="n">model</span> <span class="o">=</span> <span class="n">models</span><span class="o">.</span><span class="n">vgg19</span><span class="p">(</span><span class="n">pretrained</span><span class="o">=</span><span class="kc">True</span><span class="p">)</span>
<span class="n">model</span>

<span class="k">for</span> <span class="n">param</span> <span class="ow">in</span> <span class="n">model</span><span class="o">.</span><span class="n">parameters</span><span class="p">():</span>
    <span class="n">param</span><span class="o">.</span><span class="n">requires_grad</span> <span class="o">=</span> <span class="kc">False</span>
</pre></div>

    </div>
</div>
</div>

</div>
<div class="cell border-box-sizing code_cell rendered">
<div class="input">
<div class="prompt input_prompt">In&nbsp;[7]:</div>
<div class="inner_cell">
    <div class="input_area">
<div class=" highlight hl-ipython3"><pre><span></span><span class="c1"># Define a new, untrained feed-forward network as a classifier, using ReLU activations and dropout.# Defin </span>
<span class="n">classifier</span> <span class="o">=</span> <span class="n">nn</span><span class="o">.</span><span class="n">Sequential</span><span class="p">(</span><span class="n">OrderedDict</span><span class="p">([</span>
                          <span class="p">(</span><span class="s1">&#39;fc1&#39;</span><span class="p">,</span> <span class="n">nn</span><span class="o">.</span><span class="n">Linear</span><span class="p">(</span><span class="mi">25088</span><span class="p">,</span> <span class="mi">1024</span><span class="p">)),</span>
                          <span class="p">(</span><span class="s1">&#39;drop&#39;</span><span class="p">,</span> <span class="n">nn</span><span class="o">.</span><span class="n">Dropout</span><span class="p">(</span><span class="n">p</span><span class="o">=</span><span class="mf">0.5</span><span class="p">)),</span>
                          <span class="p">(</span><span class="s1">&#39;relu&#39;</span><span class="p">,</span> <span class="n">nn</span><span class="o">.</span><span class="n">ReLU</span><span class="p">()),</span>
                          <span class="p">(</span><span class="s1">&#39;fc2&#39;</span><span class="p">,</span> <span class="n">nn</span><span class="o">.</span><span class="n">Linear</span><span class="p">(</span><span class="mi">1024</span><span class="p">,</span> <span class="mi">102</span><span class="p">)),</span>
                          <span class="p">(</span><span class="s1">&#39;output&#39;</span><span class="p">,</span> <span class="n">nn</span><span class="o">.</span><span class="n">LogSoftmax</span><span class="p">(</span><span class="n">dim</span><span class="o">=</span><span class="mi">1</span><span class="p">))</span>
                          <span class="p">]))</span>
    
<span class="n">model</span><span class="o">.</span><span class="n">classifier</span> <span class="o">=</span> <span class="n">classifier</span>
<span class="n">model</span>
</pre></div>

    </div>
</div>
</div>

<div class="output_wrapper">
<div class="output">


<div class="output_area">

    <div class="prompt output_prompt">Out[7]:</div>




<div class="output_text output_subarea output_execute_result">
<pre>VGG(
  (features): Sequential(
    (0): Conv2d(3, 64, kernel_size=(3, 3), stride=(1, 1), padding=(1, 1))
    (1): ReLU(inplace)
    (2): Conv2d(64, 64, kernel_size=(3, 3), stride=(1, 1), padding=(1, 1))
    (3): ReLU(inplace)
    (4): MaxPool2d(kernel_size=2, stride=2, padding=0, dilation=1, ceil_mode=False)
    (5): Conv2d(64, 128, kernel_size=(3, 3), stride=(1, 1), padding=(1, 1))
    (6): ReLU(inplace)
    (7): Conv2d(128, 128, kernel_size=(3, 3), stride=(1, 1), padding=(1, 1))
    (8): ReLU(inplace)
    (9): MaxPool2d(kernel_size=2, stride=2, padding=0, dilation=1, ceil_mode=False)
    (10): Conv2d(128, 256, kernel_size=(3, 3), stride=(1, 1), padding=(1, 1))
    (11): ReLU(inplace)
    (12): Conv2d(256, 256, kernel_size=(3, 3), stride=(1, 1), padding=(1, 1))
    (13): ReLU(inplace)
    (14): Conv2d(256, 256, kernel_size=(3, 3), stride=(1, 1), padding=(1, 1))
    (15): ReLU(inplace)
    (16): Conv2d(256, 256, kernel_size=(3, 3), stride=(1, 1), padding=(1, 1))
    (17): ReLU(inplace)
    (18): MaxPool2d(kernel_size=2, stride=2, padding=0, dilation=1, ceil_mode=False)
    (19): Conv2d(256, 512, kernel_size=(3, 3), stride=(1, 1), padding=(1, 1))
    (20): ReLU(inplace)
    (21): Conv2d(512, 512, kernel_size=(3, 3), stride=(1, 1), padding=(1, 1))
    (22): ReLU(inplace)
    (23): Conv2d(512, 512, kernel_size=(3, 3), stride=(1, 1), padding=(1, 1))
    (24): ReLU(inplace)
    (25): Conv2d(512, 512, kernel_size=(3, 3), stride=(1, 1), padding=(1, 1))
    (26): ReLU(inplace)
    (27): MaxPool2d(kernel_size=2, stride=2, padding=0, dilation=1, ceil_mode=False)
    (28): Conv2d(512, 512, kernel_size=(3, 3), stride=(1, 1), padding=(1, 1))
    (29): ReLU(inplace)
    (30): Conv2d(512, 512, kernel_size=(3, 3), stride=(1, 1), padding=(1, 1))
    (31): ReLU(inplace)
    (32): Conv2d(512, 512, kernel_size=(3, 3), stride=(1, 1), padding=(1, 1))
    (33): ReLU(inplace)
    (34): Conv2d(512, 512, kernel_size=(3, 3), stride=(1, 1), padding=(1, 1))
    (35): ReLU(inplace)
    (36): MaxPool2d(kernel_size=2, stride=2, padding=0, dilation=1, ceil_mode=False)
  )
  (classifier): Sequential(
    (fc1): Linear(in_features=25088, out_features=1024, bias=True)
    (drop): Dropout(p=0.5)
    (relu): ReLU()
    (fc2): Linear(in_features=1024, out_features=102, bias=True)
    (output): LogSoftmax()
  )
)</pre>
</div>

</div>

</div>
</div>

</div>
<div class="cell border-box-sizing code_cell rendered">
<div class="input">
<div class="prompt input_prompt">In&nbsp;[8]:</div>
<div class="inner_cell">
    <div class="input_area">
<div class=" highlight hl-ipython3"><pre><span></span><span class="c1"># Train the classifier layers using backpropagation using the pre-trained network to get the features.</span>
<span class="c1"># best method I&#39;ll tell you; Monitor the loss and accuracy in the </span>
<span class="c1"># validation set to determine the best hyperparameters.</span>
<span class="n">criterion</span> <span class="o">=</span> <span class="n">nn</span><span class="o">.</span><span class="n">CrossEntropyLoss</span><span class="p">()</span>
<span class="n">optimizer</span> <span class="o">=</span> <span class="n">optim</span><span class="o">.</span><span class="n">SGD</span><span class="p">(</span><span class="n">model</span><span class="o">.</span><span class="n">classifier</span><span class="o">.</span><span class="n">parameters</span><span class="p">(),</span> <span class="n">lr</span><span class="o">=</span><span class="mf">0.01</span><span class="p">)</span>

<span class="n">epochs</span> <span class="o">=</span> <span class="mi">8</span>
<span class="n">steps</span> <span class="o">=</span> <span class="mi">0</span>
<span class="n">cuda</span> <span class="o">=</span> <span class="n">torch</span><span class="o">.</span><span class="n">cuda</span><span class="o">.</span><span class="n">is_available</span><span class="p">()</span>

<span class="k">if</span> <span class="n">cuda</span><span class="p">:</span>
    <span class="n">model</span><span class="o">.</span><span class="n">cuda</span><span class="p">()</span>
<span class="k">else</span><span class="p">:</span>
    <span class="n">model</span><span class="o">.</span><span class="n">cpu</span><span class="p">()</span>
    
<span class="n">running_loss</span> <span class="o">=</span> <span class="mi">0</span>
<span class="n">accuracy</span> <span class="o">=</span> <span class="mi">0</span>

<span class="n">start</span> <span class="o">=</span> <span class="n">time</span><span class="o">.</span><span class="n">time</span><span class="p">()</span>
<span class="nb">print</span><span class="p">(</span><span class="s1">&#39;Training started&#39;</span><span class="p">)</span>

<span class="k">for</span> <span class="n">e</span> <span class="ow">in</span> <span class="nb">range</span><span class="p">(</span><span class="n">epochs</span><span class="p">):</span>
    
    <span class="n">train_mode</span> <span class="o">=</span> <span class="mi">0</span>
    <span class="n">valid_mode</span> <span class="o">=</span> <span class="mi">1</span>
    
    <span class="k">for</span> <span class="n">mode</span> <span class="ow">in</span> <span class="p">[</span><span class="n">train_mode</span><span class="p">,</span> <span class="n">valid_mode</span><span class="p">]:</span>   
        <span class="k">if</span> <span class="n">mode</span> <span class="o">==</span> <span class="n">train_mode</span><span class="p">:</span>
            <span class="n">model</span><span class="o">.</span><span class="n">train</span><span class="p">()</span>
        <span class="k">else</span><span class="p">:</span>
            <span class="n">model</span><span class="o">.</span><span class="n">eval</span><span class="p">()</span>
            
        <span class="n">pass_count</span> <span class="o">=</span> <span class="mi">0</span>
        
        <span class="k">for</span> <span class="n">data</span> <span class="ow">in</span> <span class="n">dataloaders</span><span class="p">[</span><span class="n">mode</span><span class="p">]:</span>
            <span class="n">pass_count</span> <span class="o">+=</span> <span class="mi">1</span>
            <span class="n">inputs</span><span class="p">,</span> <span class="n">labels</span> <span class="o">=</span> <span class="n">data</span>
            <span class="k">if</span> <span class="n">cuda</span> <span class="o">==</span> <span class="kc">True</span><span class="p">:</span>
                <span class="n">inputs</span><span class="p">,</span> <span class="n">labels</span> <span class="o">=</span> <span class="n">Variable</span><span class="p">(</span><span class="n">inputs</span><span class="o">.</span><span class="n">cuda</span><span class="p">()),</span> <span class="n">Variable</span><span class="p">(</span><span class="n">labels</span><span class="o">.</span><span class="n">cuda</span><span class="p">())</span>
            <span class="k">else</span><span class="p">:</span>
                <span class="n">inputs</span><span class="p">,</span> <span class="n">labels</span> <span class="o">=</span> <span class="n">Variable</span><span class="p">(</span><span class="n">inputs</span><span class="p">),</span> <span class="n">Variable</span><span class="p">(</span><span class="n">labels</span><span class="p">)</span>

            <span class="n">optimizer</span><span class="o">.</span><span class="n">zero_grad</span><span class="p">()</span>
          
            <span class="n">output</span> <span class="o">=</span> <span class="n">model</span><span class="o">.</span><span class="n">forward</span><span class="p">(</span><span class="n">inputs</span><span class="p">)</span>
            <span class="n">loss</span> <span class="o">=</span> <span class="n">criterion</span><span class="p">(</span><span class="n">output</span><span class="p">,</span> <span class="n">labels</span><span class="p">)</span>
         
            <span class="k">if</span> <span class="n">mode</span> <span class="o">==</span> <span class="n">train_mode</span><span class="p">:</span>
                <span class="n">loss</span><span class="o">.</span><span class="n">backward</span><span class="p">()</span>
                <span class="n">optimizer</span><span class="o">.</span><span class="n">step</span><span class="p">()</span>                

            <span class="n">running_loss</span> <span class="o">+=</span> <span class="n">loss</span><span class="o">.</span><span class="n">item</span><span class="p">()</span>
            <span class="n">ps</span> <span class="o">=</span> <span class="n">torch</span><span class="o">.</span><span class="n">exp</span><span class="p">(</span><span class="n">output</span><span class="p">)</span><span class="o">.</span><span class="n">data</span>
            <span class="n">equality</span> <span class="o">=</span> <span class="p">(</span><span class="n">labels</span><span class="o">.</span><span class="n">data</span> <span class="o">==</span> <span class="n">ps</span><span class="o">.</span><span class="n">max</span><span class="p">(</span><span class="mi">1</span><span class="p">)[</span><span class="mi">1</span><span class="p">])</span>
            <span class="n">accuracy</span> <span class="o">=</span> <span class="n">equality</span><span class="o">.</span><span class="n">type_as</span><span class="p">(</span><span class="n">torch</span><span class="o">.</span><span class="n">cuda</span><span class="o">.</span><span class="n">FloatTensor</span><span class="p">())</span><span class="o">.</span><span class="n">mean</span><span class="p">()</span>

        <span class="k">if</span> <span class="n">mode</span> <span class="o">==</span> <span class="n">train_mode</span><span class="p">:</span>
            <span class="nb">print</span><span class="p">(</span><span class="s2">&quot;</span><span class="se">\n</span><span class="s2">Epoch: </span><span class="si">{}</span><span class="s2">/</span><span class="si">{}</span><span class="s2"> &quot;</span><span class="o">.</span><span class="n">format</span><span class="p">(</span><span class="n">e</span><span class="o">+</span><span class="mi">1</span><span class="p">,</span> <span class="n">epochs</span><span class="p">),</span>
                  <span class="s2">&quot;</span><span class="se">\n</span><span class="s2">Training Loss: </span><span class="si">{:.5f}</span><span class="s2">  &quot;</span><span class="o">.</span><span class="n">format</span><span class="p">(</span><span class="n">running_loss</span><span class="o">/</span><span class="n">pass_count</span><span class="p">))</span>
        <span class="k">else</span><span class="p">:</span>
            <span class="nb">print</span><span class="p">(</span><span class="s2">&quot;Validation Loss: </span><span class="si">{:.5f}</span><span class="s2">  &quot;</span><span class="o">.</span><span class="n">format</span><span class="p">(</span><span class="n">running_loss</span><span class="o">/</span><span class="n">pass_count</span><span class="p">),</span>
              <span class="s2">&quot;Accuracy: </span><span class="si">{:.5f}</span><span class="s2">&quot;</span><span class="o">.</span><span class="n">format</span><span class="p">(</span><span class="n">accuracy</span><span class="p">))</span>

        <span class="n">running_loss</span> <span class="o">=</span> <span class="mi">0</span>

<span class="n">time_elapsed</span> <span class="o">=</span> <span class="n">time</span><span class="o">.</span><span class="n">time</span><span class="p">()</span> <span class="o">-</span> <span class="n">start</span>
<span class="nb">print</span><span class="p">(</span><span class="s2">&quot;</span><span class="se">\n</span><span class="s2">Process Total time: </span><span class="si">{:.0f}</span><span class="s2">m </span><span class="si">{:.0f}</span><span class="s2">s&quot;</span><span class="o">.</span><span class="n">format</span><span class="p">(</span><span class="n">time_elapsed</span><span class="o">//</span><span class="mi">60</span><span class="p">,</span> <span class="n">time_elapsed</span> <span class="o">%</span> <span class="mi">60</span><span class="p">))</span>
</pre></div>

    </div>
</div>
</div>

<div class="output_wrapper">
<div class="output">


<div class="output_area">

    <div class="prompt"></div>


<div class="output_subarea output_stream output_stdout output_text">
<pre>Training started

Epoch: 1/8  
Training Loss: 3.84909  
Validation Loss: 2.65052   Accuracy: 0.22222

Epoch: 2/8  
Training Loss: 2.64970  
Validation Loss: 1.65787   Accuracy: 0.72222

Epoch: 3/8  
Training Loss: 2.01650  
Validation Loss: 1.27941   Accuracy: 0.38889

Epoch: 4/8  
Training Loss: 1.63696  
Validation Loss: 0.94846   Accuracy: 0.66667

Epoch: 5/8  
Training Loss: 1.40599  
Validation Loss: 0.81376   Accuracy: 0.83333

Epoch: 6/8  
Training Loss: 1.24792  
Validation Loss: 0.69218   Accuracy: 0.88889

Epoch: 7/8  
Training Loss: 1.16921  
Validation Loss: 0.59335   Accuracy: 0.94444

Epoch: 8/8  
Training Loss: 1.05826  
Validation Loss: 0.57497   Accuracy: 0.88889

Process Total time: 23m 3s
</pre>
</div>
</div>

</div>
</div>

</div>
<div class="cell border-box-sizing text_cell rendered"><div class="prompt input_prompt">
</div><div class="inner_cell">
<div class="text_cell_render border-box-sizing rendered_html">
<h2 id="Testing-your-network">Testing your network<a class="anchor-link" href="#Testing-your-network">&#182;</a></h2><p>It's good practice to test your trained network on test data, images the network has never seen either in training or validation. This will give you a good estimate for the model's performance on completely new images. Run the test images through the network and measure the accuracy, the same way you did validation. You should be able to reach around 70% accuracy on the test set if the model has been trained well.</p>

</div>
</div>
</div>
<div class="cell border-box-sizing code_cell rendered">
<div class="input">
<div class="prompt input_prompt">In&nbsp;[9]:</div>
<div class="inner_cell">
    <div class="input_area">
<div class=" highlight hl-ipython3"><pre><span></span><span class="c1"># TODO: FOR  validation on the test set</span>
<span class="n">model</span><span class="o">.</span><span class="n">eval</span><span class="p">()</span>
<span class="n">accuracy</span> <span class="o">=</span> <span class="mi">0</span>
<span class="n">cuda</span> <span class="o">=</span> <span class="n">torch</span><span class="o">.</span><span class="n">cuda</span><span class="o">.</span><span class="n">is_available</span><span class="p">()</span>

<span class="c1"># DEFAULT CPU</span>
<span class="k">if</span> <span class="n">cuda</span><span class="p">:</span>
    <span class="n">model</span><span class="o">.</span><span class="n">cuda</span><span class="p">()</span>
<span class="k">else</span><span class="p">:</span>
    <span class="n">model</span><span class="o">.</span><span class="n">cpu</span><span class="p">()</span>
    
<span class="n">pass_count</span> <span class="o">=</span> <span class="mi">0</span>

<span class="k">for</span> <span class="n">data</span> <span class="ow">in</span> <span class="n">dataloaders</span><span class="p">[</span><span class="mi">2</span><span class="p">]:</span>
    <span class="n">pass_count</span> <span class="o">+=</span> <span class="mi">1</span>
    <span class="n">images</span><span class="p">,</span> <span class="n">labels</span> <span class="o">=</span> <span class="n">data</span>
    
    <span class="k">if</span> <span class="n">cuda</span> <span class="o">==</span> <span class="kc">True</span><span class="p">:</span>
        <span class="n">images</span><span class="p">,</span> <span class="n">labels</span> <span class="o">=</span> <span class="n">Variable</span><span class="p">(</span><span class="n">images</span><span class="o">.</span><span class="n">cuda</span><span class="p">()),</span> <span class="n">Variable</span><span class="p">(</span><span class="n">labels</span><span class="o">.</span><span class="n">cuda</span><span class="p">())</span>
    <span class="k">else</span><span class="p">:</span>
        <span class="n">images</span><span class="p">,</span> <span class="n">labels</span> <span class="o">=</span> <span class="n">Variable</span><span class="p">(</span><span class="n">images</span><span class="p">),</span> <span class="n">Variable</span><span class="p">(</span><span class="n">labels</span><span class="p">)</span>

    <span class="n">output</span> <span class="o">=</span> <span class="n">model</span><span class="o">.</span><span class="n">forward</span><span class="p">(</span><span class="n">images</span><span class="p">)</span>
    <span class="n">ps</span> <span class="o">=</span> <span class="n">torch</span><span class="o">.</span><span class="n">exp</span><span class="p">(</span><span class="n">output</span><span class="p">)</span><span class="o">.</span><span class="n">data</span>
    <span class="n">equality</span> <span class="o">=</span> <span class="p">(</span><span class="n">labels</span><span class="o">.</span><span class="n">data</span> <span class="o">==</span> <span class="n">ps</span><span class="o">.</span><span class="n">max</span><span class="p">(</span><span class="mi">1</span><span class="p">)[</span><span class="mi">1</span><span class="p">])</span>
    <span class="n">accuracy</span> <span class="o">+=</span> <span class="n">equality</span><span class="o">.</span><span class="n">type_as</span><span class="p">(</span><span class="n">torch</span><span class="o">.</span><span class="n">FloatTensor</span><span class="p">())</span><span class="o">.</span><span class="n">mean</span><span class="p">()</span>

<span class="nb">print</span><span class="p">(</span><span class="s2">&quot;Testing Accuracy: </span><span class="si">{:.4f}</span><span class="s2">&quot;</span><span class="o">.</span><span class="n">format</span><span class="p">(</span><span class="n">accuracy</span><span class="o">/</span><span class="n">pass_count</span><span class="p">))</span>
</pre></div>

    </div>
</div>
</div>

<div class="output_wrapper">
<div class="output">


<div class="output_area">

    <div class="prompt"></div>


<div class="output_subarea output_stream output_stdout output_text">
<pre>Testing Accuracy: 0.8328
</pre>
</div>
</div>

</div>
</div>

</div>
<div class="cell border-box-sizing text_cell rendered"><div class="prompt input_prompt">
</div><div class="inner_cell">
<div class="text_cell_render border-box-sizing rendered_html">
<h2 id="Save-the-checkpoint">Save the checkpoint<a class="anchor-link" href="#Save-the-checkpoint">&#182;</a></h2><p>Now that your network is trained, save the model so you can load it later for making predictions. You probably want to save other things such as the mapping of classes to indices which you get from one of the image datasets: <code>image_datasets['train'].class_to_idx</code>. You can attach this to the model as an attribute which makes inference easier later on.</p>
<p><code>model.class_to_idx = image_datasets['train'].class_to_idx</code></p>
<p>Remember that you'll want to completely rebuild the model later so you can use it for inference. Make sure to include any information you need in the checkpoint. If you want to load the model and keep training, you'll want to save the number of epochs as well as the optimizer state, <code>optimizer.state_dict</code>. You'll likely want to use this trained model in the next part of the project, so best to save it now.</p>

</div>
</div>
</div>
<div class="cell border-box-sizing code_cell rendered">
<div class="input">
<div class="prompt input_prompt">In&nbsp;[10]:</div>
<div class="inner_cell">
    <div class="input_area">
<div class=" highlight hl-ipython3"><pre><span></span><span class="c1"># TODO: Save the checkpoint MODEL NAME  &#39;checkpoint.pth&#39;</span>
<span class="n">model</span><span class="o">.</span><span class="n">class_to_idx</span> <span class="o">=</span> <span class="n">image_datasets</span><span class="p">[</span><span class="mi">0</span><span class="p">]</span><span class="o">.</span><span class="n">class_to_idx</span>

<span class="n">checkpoint</span> <span class="o">=</span> <span class="p">{</span><span class="s1">&#39;input_size&#39;</span><span class="p">:</span> <span class="mi">25088</span><span class="p">,</span>
              <span class="s1">&#39;output_size&#39;</span><span class="p">:</span> <span class="mi">102</span><span class="p">,</span>
              <span class="s1">&#39;arch&#39;</span><span class="p">:</span> <span class="s1">&#39;vgg19&#39;</span><span class="p">,</span>
              <span class="s1">&#39;learning_rate&#39;</span><span class="p">:</span> <span class="mf">0.01</span><span class="p">,</span>
              <span class="s1">&#39;batch_size&#39;</span><span class="p">:</span> <span class="mi">64</span><span class="p">,</span>
              <span class="s1">&#39;classifier&#39;</span> <span class="p">:</span> <span class="n">classifier</span><span class="p">,</span>
              <span class="s1">&#39;epochs&#39;</span><span class="p">:</span> <span class="n">epochs</span><span class="p">,</span>
              <span class="s1">&#39;optimizer&#39;</span><span class="p">:</span> <span class="n">optimizer</span><span class="o">.</span><span class="n">state_dict</span><span class="p">(),</span>
              <span class="s1">&#39;state_dict&#39;</span><span class="p">:</span> <span class="n">model</span><span class="o">.</span><span class="n">state_dict</span><span class="p">(),</span>
              <span class="s1">&#39;class_to_idx&#39;</span><span class="p">:</span> <span class="n">model</span><span class="o">.</span><span class="n">class_to_idx</span><span class="p">}</span>

<span class="n">torch</span><span class="o">.</span><span class="n">save</span><span class="p">(</span><span class="n">checkpoint</span><span class="p">,</span> <span class="s1">&#39;checkpoint.pth&#39;</span><span class="p">)</span>
</pre></div>

    </div>
</div>
</div>

</div>
<div class="cell border-box-sizing text_cell rendered"><div class="prompt input_prompt">
</div><div class="inner_cell">
<div class="text_cell_render border-box-sizing rendered_html">
<h2 id="Loading-the-checkpoint">Loading the checkpoint<a class="anchor-link" href="#Loading-the-checkpoint">&#182;</a></h2><p>At this point it's good to write a function that can load a checkpoint and rebuild the model. That way you can come back to this project and keep working on it without having to retrain the network.</p>

</div>
</div>
</div>
<div class="cell border-box-sizing code_cell rendered">
<div class="input">
<div class="prompt input_prompt">In&nbsp;[11]:</div>
<div class="inner_cell">
    <div class="input_area">
<div class=" highlight hl-ipython3"><pre><span></span><span class="c1"># TODO: Rebuild a checkpoint and model.</span>
<span class="k">def</span> <span class="nf">load_checkpoint</span><span class="p">(</span><span class="n">filename</span><span class="p">):</span>
    <span class="n">checkpoint</span> <span class="o">=</span> <span class="n">torch</span><span class="o">.</span><span class="n">load</span><span class="p">(</span><span class="n">filename</span><span class="p">)</span>
    <span class="n">learning_rate</span> <span class="o">=</span> <span class="n">checkpoint</span><span class="p">[</span><span class="s1">&#39;learning_rate&#39;</span><span class="p">]</span>
    <span class="n">model</span> <span class="o">=</span> <span class="nb">getattr</span><span class="p">(</span><span class="n">torchvision</span><span class="o">.</span><span class="n">models</span><span class="p">,</span> <span class="n">checkpoint</span><span class="p">[</span><span class="s1">&#39;arch&#39;</span><span class="p">])(</span><span class="n">pretrained</span><span class="o">=</span><span class="kc">True</span><span class="p">)</span>
    <span class="n">model</span><span class="o">.</span><span class="n">classifier</span> <span class="o">=</span> <span class="n">checkpoint</span><span class="p">[</span><span class="s1">&#39;classifier&#39;</span><span class="p">]</span>
    <span class="n">model</span><span class="o">.</span><span class="n">epochs</span> <span class="o">=</span> <span class="n">checkpoint</span><span class="p">[</span><span class="s1">&#39;epochs&#39;</span><span class="p">]</span>
    <span class="n">model</span><span class="o">.</span><span class="n">load_state_dict</span><span class="p">(</span><span class="n">checkpoint</span><span class="p">[</span><span class="s1">&#39;state_dict&#39;</span><span class="p">])</span>
    <span class="n">model</span><span class="o">.</span><span class="n">class_to_idx</span> <span class="o">=</span> <span class="n">checkpoint</span><span class="p">[</span><span class="s1">&#39;class_to_idx&#39;</span><span class="p">]</span>
    <span class="n">optimizer</span><span class="o">.</span><span class="n">load_state_dict</span><span class="p">(</span><span class="n">checkpoint</span><span class="p">[</span><span class="s1">&#39;optimizer&#39;</span><span class="p">])</span>
        
    <span class="k">return</span> <span class="n">model</span><span class="p">,</span> <span class="n">optimizer</span>
</pre></div>

    </div>
</div>
</div>

</div>
<div class="cell border-box-sizing code_cell rendered">
<div class="input">
<div class="prompt input_prompt">In&nbsp;[12]:</div>
<div class="inner_cell">
    <div class="input_area">
<div class=" highlight hl-ipython3"><pre><span></span><span class="c1"># THIS PROJECT IN, WE USE TO MODEL NAME ALWAYS = checkpoint.pth</span>
<span class="n">nn_filename</span> <span class="o">=</span> <span class="s1">&#39;checkpoint.pth&#39;</span> 

<span class="n">model</span><span class="p">,</span> <span class="n">optimizer</span> <span class="o">=</span> <span class="n">load_checkpoint</span><span class="p">(</span><span class="n">nn_filename</span><span class="p">)</span>

<span class="n">chkp_model</span> <span class="o">=</span> <span class="nb">print</span><span class="p">(</span><span class="n">model</span><span class="p">)</span>
</pre></div>

    </div>
</div>
</div>

<div class="output_wrapper">
<div class="output">


<div class="output_area">

    <div class="prompt"></div>


<div class="output_subarea output_stream output_stdout output_text">
<pre>VGG(
  (features): Sequential(
    (0): Conv2d(3, 64, kernel_size=(3, 3), stride=(1, 1), padding=(1, 1))
    (1): ReLU(inplace)
    (2): Conv2d(64, 64, kernel_size=(3, 3), stride=(1, 1), padding=(1, 1))
    (3): ReLU(inplace)
    (4): MaxPool2d(kernel_size=2, stride=2, padding=0, dilation=1, ceil_mode=False)
    (5): Conv2d(64, 128, kernel_size=(3, 3), stride=(1, 1), padding=(1, 1))
    (6): ReLU(inplace)
    (7): Conv2d(128, 128, kernel_size=(3, 3), stride=(1, 1), padding=(1, 1))
    (8): ReLU(inplace)
    (9): MaxPool2d(kernel_size=2, stride=2, padding=0, dilation=1, ceil_mode=False)
    (10): Conv2d(128, 256, kernel_size=(3, 3), stride=(1, 1), padding=(1, 1))
    (11): ReLU(inplace)
    (12): Conv2d(256, 256, kernel_size=(3, 3), stride=(1, 1), padding=(1, 1))
    (13): ReLU(inplace)
    (14): Conv2d(256, 256, kernel_size=(3, 3), stride=(1, 1), padding=(1, 1))
    (15): ReLU(inplace)
    (16): Conv2d(256, 256, kernel_size=(3, 3), stride=(1, 1), padding=(1, 1))
    (17): ReLU(inplace)
    (18): MaxPool2d(kernel_size=2, stride=2, padding=0, dilation=1, ceil_mode=False)
    (19): Conv2d(256, 512, kernel_size=(3, 3), stride=(1, 1), padding=(1, 1))
    (20): ReLU(inplace)
    (21): Conv2d(512, 512, kernel_size=(3, 3), stride=(1, 1), padding=(1, 1))
    (22): ReLU(inplace)
    (23): Conv2d(512, 512, kernel_size=(3, 3), stride=(1, 1), padding=(1, 1))
    (24): ReLU(inplace)
    (25): Conv2d(512, 512, kernel_size=(3, 3), stride=(1, 1), padding=(1, 1))
    (26): ReLU(inplace)
    (27): MaxPool2d(kernel_size=2, stride=2, padding=0, dilation=1, ceil_mode=False)
    (28): Conv2d(512, 512, kernel_size=(3, 3), stride=(1, 1), padding=(1, 1))
    (29): ReLU(inplace)
    (30): Conv2d(512, 512, kernel_size=(3, 3), stride=(1, 1), padding=(1, 1))
    (31): ReLU(inplace)
    (32): Conv2d(512, 512, kernel_size=(3, 3), stride=(1, 1), padding=(1, 1))
    (33): ReLU(inplace)
    (34): Conv2d(512, 512, kernel_size=(3, 3), stride=(1, 1), padding=(1, 1))
    (35): ReLU(inplace)
    (36): MaxPool2d(kernel_size=2, stride=2, padding=0, dilation=1, ceil_mode=False)
  )
  (classifier): Sequential(
    (fc1): Linear(in_features=25088, out_features=1024, bias=True)
    (drop): Dropout(p=0.5)
    (relu): ReLU()
    (fc2): Linear(in_features=1024, out_features=102, bias=True)
    (output): LogSoftmax()
  )
)
</pre>
</div>
</div>

</div>
</div>

</div>
<div class="cell border-box-sizing text_cell rendered"><div class="prompt input_prompt">
</div><div class="inner_cell">
<div class="text_cell_render border-box-sizing rendered_html">
<h1 id="Inference-for-classification">Inference for classification<a class="anchor-link" href="#Inference-for-classification">&#182;</a></h1><p>Now you'll write a function to use a trained network for inference. That is, you'll pass an image into the network and predict the class of the flower in the image. Write a function called <code>predict</code> that takes an image and a model, then returns the top $K$ most likely classes along with the probabilities. It should look like</p>
<div class="highlight"><pre><span></span><span class="n">probs</span><span class="p">,</span> <span class="n">classes</span> <span class="o">=</span> <span class="n">predict</span><span class="p">(</span><span class="n">image_path</span><span class="p">,</span> <span class="n">model</span><span class="p">)</span>
<span class="k">print</span><span class="p">(</span><span class="n">probs</span><span class="p">)</span>
<span class="k">print</span><span class="p">(</span><span class="n">classes</span><span class="p">)</span>
<span class="o">&gt;</span> <span class="p">[</span> <span class="mf">0.01558163</span>  <span class="mf">0.01541934</span>  <span class="mf">0.01452626</span>  <span class="mf">0.01443549</span>  <span class="mf">0.01407339</span><span class="p">]</span>
<span class="o">&gt;</span> <span class="p">[</span><span class="s1">&#39;70&#39;</span><span class="p">,</span> <span class="s1">&#39;3&#39;</span><span class="p">,</span> <span class="s1">&#39;45&#39;</span><span class="p">,</span> <span class="s1">&#39;62&#39;</span><span class="p">,</span> <span class="s1">&#39;55&#39;</span><span class="p">]</span>
</pre></div>
<p>First you'll need to handle processing the input image such that it can be used in your network.</p>
<h2 id="Image-Preprocessing">Image Preprocessing<a class="anchor-link" href="#Image-Preprocessing">&#182;</a></h2><p>You'll want to use <code>PIL</code> to load the image (<a href="https://pillow.readthedocs.io/en/latest/reference/Image.html">documentation</a>). It's best to write a function that preprocesses the image so it can be used as input for the model. This function should process the images in the same manner used for training.</p>
<p>First, resize the images where the shortest side is 256 pixels, keeping the aspect ratio. This can be done with the <a href="http://pillow.readthedocs.io/en/3.1.x/reference/Image.html#PIL.Image.Image.thumbnail"><code>thumbnail</code></a> or <a href="http://pillow.readthedocs.io/en/3.1.x/reference/Image.html#PIL.Image.Image.thumbnail"><code>resize</code></a> methods. Then you'll need to crop out the center 224x224 portion of the image.</p>
<p>Color channels of images are typically encoded as integers 0-255, but the model expected floats 0-1. You'll need to convert the values. It's easiest with a Numpy array, which you can get from a PIL image like so <code>np_image = np.array(pil_image)</code>.</p>
<p>As before, the network expects the images to be normalized in a specific way. For the means, it's <code>[0.485, 0.456, 0.406]</code> and for the standard deviations <code>[0.229, 0.224, 0.225]</code>. You'll want to subtract the means from each color channel, then divide by the standard deviation.</p>
<p>And finally, PyTorch expects the color channel to be the first dimension but it's the third dimension in the PIL image and Numpy array. You can reorder dimensions using <a href="https://docs.scipy.org/doc/numpy-1.13.0/reference/generated/numpy.ndarray.transpose.html"><code>ndarray.transpose</code></a>. The color channel needs to be first and retain the order of the other two dimensions.</p>

</div>
</div>
</div>
<div class="cell border-box-sizing code_cell rendered">
<div class="input">
<div class="prompt input_prompt">In&nbsp;[13]:</div>
<div class="inner_cell">
    <div class="input_area">
<div class=" highlight hl-ipython3"><pre><span></span><span class="k">def</span> <span class="nf">process_image</span><span class="p">(</span><span class="n">image</span><span class="p">):</span>
    <span class="sd">&#39;&#39;&#39; Scales, crops, and normalizes a PIL image for a PyTorch model,</span>
<span class="sd">        returns an Numpy array.THE PROCESS CONTINUES ON THIS NUMBER.</span>
<span class="sd">    &#39;&#39;&#39;</span>
    
    <span class="n">im</span> <span class="o">=</span> <span class="n">Image</span><span class="o">.</span><span class="n">open</span><span class="p">(</span><span class="n">image</span><span class="p">)</span>
    <span class="n">im</span> <span class="o">=</span> <span class="n">im</span><span class="o">.</span><span class="n">resize</span><span class="p">((</span><span class="mi">256</span><span class="p">,</span><span class="mi">256</span><span class="p">))</span>
    <span class="n">value</span> <span class="o">=</span> <span class="mf">0.5</span><span class="o">*</span><span class="p">(</span><span class="mi">256</span><span class="o">-</span><span class="mi">224</span><span class="p">)</span>
    <span class="n">im</span> <span class="o">=</span> <span class="n">im</span><span class="o">.</span><span class="n">crop</span><span class="p">((</span><span class="n">value</span><span class="p">,</span><span class="n">value</span><span class="p">,</span><span class="mi">256</span><span class="o">-</span><span class="n">value</span><span class="p">,</span><span class="mi">256</span><span class="o">-</span><span class="n">value</span><span class="p">))</span>
    <span class="n">im</span> <span class="o">=</span> <span class="n">np</span><span class="o">.</span><span class="n">array</span><span class="p">(</span><span class="n">im</span><span class="p">)</span><span class="o">/</span><span class="mi">255</span>

    <span class="n">mean</span> <span class="o">=</span> <span class="n">np</span><span class="o">.</span><span class="n">array</span><span class="p">([</span><span class="mf">0.485</span><span class="p">,</span> <span class="mf">0.456</span><span class="p">,</span> <span class="mf">0.406</span><span class="p">])</span>
    <span class="n">std</span> <span class="o">=</span> <span class="n">np</span><span class="o">.</span><span class="n">array</span><span class="p">([</span><span class="mf">0.229</span><span class="p">,</span> <span class="mf">0.224</span><span class="p">,</span> <span class="mf">0.225</span><span class="p">])</span>
    <span class="n">im</span> <span class="o">=</span> <span class="p">(</span><span class="n">im</span> <span class="o">-</span> <span class="n">mean</span><span class="p">)</span> <span class="o">/</span> <span class="n">std</span>

    <span class="k">return</span> <span class="n">im</span><span class="o">.</span><span class="n">transpose</span><span class="p">(</span><span class="mi">2</span><span class="p">,</span><span class="mi">0</span><span class="p">,</span><span class="mi">1</span><span class="p">)</span>
</pre></div>

    </div>
</div>
</div>

</div>
<div class="cell border-box-sizing text_cell rendered"><div class="prompt input_prompt">
</div><div class="inner_cell">
<div class="text_cell_render border-box-sizing rendered_html">
<p>To check your work, the function below converts a PyTorch tensor and displays it in the notebook. If your <code>process_image</code> function works, running the output through this function should return the original image (except for the cropped out portions).</p>

</div>
</div>
</div>
<div class="cell border-box-sizing code_cell rendered">
<div class="input">
<div class="prompt input_prompt">In&nbsp;[14]:</div>
<div class="inner_cell">
    <div class="input_area">
<div class=" highlight hl-ipython3"><pre><span></span><span class="k">def</span> <span class="nf">imshow</span><span class="p">(</span><span class="n">image</span><span class="p">,</span> <span class="n">ax</span><span class="o">=</span><span class="kc">None</span><span class="p">,</span> <span class="n">title</span><span class="o">=</span><span class="kc">None</span><span class="p">):</span>
    <span class="k">if</span> <span class="n">ax</span> <span class="ow">is</span> <span class="kc">None</span><span class="p">:</span>
        <span class="n">fig</span><span class="p">,</span> <span class="n">ax</span> <span class="o">=</span> <span class="n">plt</span><span class="o">.</span><span class="n">subplots</span><span class="p">()</span>
    
    <span class="n">image</span> <span class="o">=</span> <span class="n">image</span><span class="o">.</span><span class="n">transpose</span><span class="p">((</span><span class="mi">1</span><span class="p">,</span> <span class="mi">2</span><span class="p">,</span> <span class="mi">0</span><span class="p">))</span>
    
    <span class="c1"># Undo preprocessing</span>
    <span class="n">mean</span> <span class="o">=</span> <span class="n">np</span><span class="o">.</span><span class="n">array</span><span class="p">([</span><span class="mf">0.485</span><span class="p">,</span> <span class="mf">0.456</span><span class="p">,</span> <span class="mf">0.406</span><span class="p">])</span>
    <span class="n">std</span> <span class="o">=</span> <span class="n">np</span><span class="o">.</span><span class="n">array</span><span class="p">([</span><span class="mf">0.229</span><span class="p">,</span> <span class="mf">0.224</span><span class="p">,</span> <span class="mf">0.225</span><span class="p">])</span>
    <span class="n">image</span> <span class="o">=</span> <span class="n">std</span> <span class="o">*</span> <span class="n">image</span> <span class="o">+</span> <span class="n">mean</span>
    
    <span class="c1"># Image needs to be cropped between 0 and 1 to avoid interference</span>
    <span class="n">image</span> <span class="o">=</span> <span class="n">np</span><span class="o">.</span><span class="n">clip</span><span class="p">(</span><span class="n">image</span><span class="p">,</span> <span class="mi">0</span><span class="p">,</span> <span class="mi">1</span><span class="p">)</span>
    
    <span class="n">ax</span><span class="o">.</span><span class="n">imshow</span><span class="p">(</span><span class="n">image</span><span class="p">)</span>
    
    <span class="k">return</span> <span class="n">ax</span>
</pre></div>

    </div>
</div>
</div>

</div>
<div class="cell border-box-sizing code_cell rendered">
<div class="input">
<div class="prompt input_prompt">In&nbsp;[15]:</div>
<div class="inner_cell">
    <div class="input_area">
<div class=" highlight hl-ipython3"><pre><span></span><span class="c1"># Show original picture</span>
<span class="n">img</span> <span class="o">=</span> <span class="n">random</span><span class="o">.</span><span class="n">choice</span><span class="p">(</span><span class="n">os</span><span class="o">.</span><span class="n">listdir</span><span class="p">(</span><span class="s1">&#39;./flowers/test/6/&#39;</span><span class="p">))</span>
<span class="n">img_path</span> <span class="o">=</span> <span class="s1">&#39;./flowers/test/6/&#39;</span> <span class="o">+</span> <span class="n">img</span>

<span class="k">with</span> <span class="n">Image</span><span class="o">.</span><span class="n">open</span><span class="p">(</span><span class="n">img_path</span><span class="p">)</span> <span class="k">as</span> <span class="n">image</span><span class="p">:</span>
    <span class="n">plt</span><span class="o">.</span><span class="n">imshow</span><span class="p">(</span><span class="n">image</span><span class="p">)</span>
</pre></div>

    </div>
</div>
</div>

<div class="output_wrapper">
<div class="output">


<div class="output_area">

    <div class="prompt"></div>




<div class="output_png output_subarea ">
<img src="data:image/png;base64,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
"
>
</div>

</div>

</div>
</div>

</div>
<div class="cell border-box-sizing text_cell rendered"><div class="prompt input_prompt">
</div><div class="inner_cell">
<div class="text_cell_render border-box-sizing rendered_html">
<h2 id="Class-Prediction">Class Prediction<a class="anchor-link" href="#Class-Prediction">&#182;</a></h2><p>Once you can get images in the correct format, it's time to write a function for making predictions with your model. A common practice is to predict the top 5 or so (usually called top-$K$) most probable classes. You'll want to calculate the class probabilities then find the $K$ largest values.</p>
<p>To get the top $K$ largest values in a tensor use <a href="http://pytorch.org/docs/master/torch.html#torch.topk"><code>x.topk(k)</code></a>. This method returns both the highest <code>k</code> probabilities and the indices of those probabilities corresponding to the classes. You need to convert from these indices to the actual class labels using <code>class_to_idx</code> which hopefully you added to the model or from an <code>ImageFolder</code> you used to load the data (<a href="#Save-the-checkpoint">see here</a>). Make sure to invert the dictionary so you get a mapping from index to class as well.</p>
<p>Again, this method should take a path to an image and a model checkpoint, then return the probabilities and classes.</p>
<div class="highlight"><pre><span></span><span class="n">probs</span><span class="p">,</span> <span class="n">classes</span> <span class="o">=</span> <span class="n">predict</span><span class="p">(</span><span class="n">image_path</span><span class="p">,</span> <span class="n">model</span><span class="p">)</span>
<span class="k">print</span><span class="p">(</span><span class="n">probs</span><span class="p">)</span>
<span class="k">print</span><span class="p">(</span><span class="n">classes</span><span class="p">)</span>
<span class="o">&gt;</span> <span class="p">[</span> <span class="mf">0.01558163</span>  <span class="mf">0.01541934</span>  <span class="mf">0.01452626</span>  <span class="mf">0.01443549</span>  <span class="mf">0.01407339</span><span class="p">]</span>
<span class="o">&gt;</span> <span class="p">[</span><span class="s1">&#39;70&#39;</span><span class="p">,</span> <span class="s1">&#39;3&#39;</span><span class="p">,</span> <span class="s1">&#39;45&#39;</span><span class="p">,</span> <span class="s1">&#39;62&#39;</span><span class="p">,</span> <span class="s1">&#39;55&#39;</span><span class="p">]</span>
</pre></div>

</div>
</div>
</div>
<div class="cell border-box-sizing code_cell rendered">
<div class="input">
<div class="prompt input_prompt">In&nbsp;[16]:</div>
<div class="inner_cell">
    <div class="input_area">
<div class=" highlight hl-ipython3"><pre><span></span><span class="k">def</span> <span class="nf">predict</span><span class="p">(</span><span class="n">image_path</span><span class="p">,</span> <span class="n">model</span><span class="p">,</span> <span class="n">topk</span><span class="o">=</span><span class="mi">5</span><span class="p">):</span>
    <span class="sd">&#39;&#39;&#39;</span>
<span class="sd">    We will classify images using a trained deep learning model.</span>
<span class="sd">    </span>
<span class="sd">    &#39;&#39;&#39;</span>
    
    <span class="c1"># TODO: Implement the code to predict the class from an image file</span>
    <span class="c1"># move the model to cuda</span>
    <span class="n">cuda</span> <span class="o">=</span> <span class="n">torch</span><span class="o">.</span><span class="n">cuda</span><span class="o">.</span><span class="n">is_available</span><span class="p">()</span>
    <span class="k">if</span> <span class="n">cuda</span><span class="p">:</span>
        <span class="c1"># Move model parameters to the GPU</span>
        <span class="n">model</span><span class="o">.</span><span class="n">cuda</span><span class="p">()</span>
        <span class="nb">print</span><span class="p">(</span><span class="s2">&quot;Number of GPUs:&quot;</span><span class="p">,</span> <span class="n">torch</span><span class="o">.</span><span class="n">cuda</span><span class="o">.</span><span class="n">device_count</span><span class="p">())</span>
        <span class="nb">print</span><span class="p">(</span><span class="s2">&quot;Device name:&quot;</span><span class="p">,</span> <span class="n">torch</span><span class="o">.</span><span class="n">cuda</span><span class="o">.</span><span class="n">get_device_name</span><span class="p">(</span><span class="n">torch</span><span class="o">.</span><span class="n">cuda</span><span class="o">.</span><span class="n">device_count</span><span class="p">()</span><span class="o">-</span><span class="mi">1</span><span class="p">))</span>
    <span class="k">else</span><span class="p">:</span>
        <span class="n">model</span><span class="o">.</span><span class="n">cpu</span><span class="p">()</span>
        <span class="nb">print</span><span class="p">(</span><span class="s2">&quot;We go for CPU&quot;</span><span class="p">)</span>
    
    <span class="c1"># turn off dropout</span>
    <span class="n">model</span><span class="o">.</span><span class="n">eval</span><span class="p">()</span>

    <span class="c1"># The image</span>
    <span class="n">image</span> <span class="o">=</span> <span class="n">process_image</span><span class="p">(</span><span class="n">image_path</span><span class="p">)</span>
    
    <span class="c1"># tranfer to tensor</span>
    <span class="n">image</span> <span class="o">=</span> <span class="n">torch</span><span class="o">.</span><span class="n">from_numpy</span><span class="p">(</span><span class="n">np</span><span class="o">.</span><span class="n">array</span><span class="p">([</span><span class="n">image</span><span class="p">]))</span><span class="o">.</span><span class="n">float</span><span class="p">()</span>
    
    <span class="c1"># The image becomes the input</span>
    <span class="n">image</span> <span class="o">=</span> <span class="n">Variable</span><span class="p">(</span><span class="n">image</span><span class="p">)</span>
    <span class="k">if</span> <span class="n">cuda</span><span class="p">:</span>
        <span class="n">image</span> <span class="o">=</span> <span class="n">image</span><span class="o">.</span><span class="n">cuda</span><span class="p">()</span>
        
    <span class="n">output</span> <span class="o">=</span> <span class="n">model</span><span class="o">.</span><span class="n">forward</span><span class="p">(</span><span class="n">image</span><span class="p">)</span>
    
    <span class="n">probabilities</span> <span class="o">=</span> <span class="n">torch</span><span class="o">.</span><span class="n">exp</span><span class="p">(</span><span class="n">output</span><span class="p">)</span><span class="o">.</span><span class="n">data</span>
    
    <span class="c1"># getting the topk (=5) probabilites and indexes</span>
    <span class="c1"># 0 -&gt; probabilities</span>
    <span class="c1"># 1 -&gt; index</span>
    <span class="n">prob</span> <span class="o">=</span> <span class="n">torch</span><span class="o">.</span><span class="n">topk</span><span class="p">(</span><span class="n">probabilities</span><span class="p">,</span> <span class="n">topk</span><span class="p">)[</span><span class="mi">0</span><span class="p">]</span><span class="o">.</span><span class="n">tolist</span><span class="p">()[</span><span class="mi">0</span><span class="p">]</span> <span class="c1"># probabilities</span>
    <span class="n">index</span> <span class="o">=</span> <span class="n">torch</span><span class="o">.</span><span class="n">topk</span><span class="p">(</span><span class="n">probabilities</span><span class="p">,</span> <span class="n">topk</span><span class="p">)[</span><span class="mi">1</span><span class="p">]</span><span class="o">.</span><span class="n">tolist</span><span class="p">()[</span><span class="mi">0</span><span class="p">]</span> <span class="c1"># index</span>
    
    <span class="n">ind</span> <span class="o">=</span> <span class="p">[]</span>
    <span class="k">for</span> <span class="n">i</span> <span class="ow">in</span> <span class="nb">range</span><span class="p">(</span><span class="nb">len</span><span class="p">(</span><span class="n">model</span><span class="o">.</span><span class="n">class_to_idx</span><span class="o">.</span><span class="n">items</span><span class="p">())):</span>
        <span class="n">ind</span><span class="o">.</span><span class="n">append</span><span class="p">(</span><span class="nb">list</span><span class="p">(</span><span class="n">model</span><span class="o">.</span><span class="n">class_to_idx</span><span class="o">.</span><span class="n">items</span><span class="p">())[</span><span class="n">i</span><span class="p">][</span><span class="mi">0</span><span class="p">])</span>

    <span class="c1"># transfer index to label</span>
    <span class="n">label</span> <span class="o">=</span> <span class="p">[]</span>
    <span class="k">for</span> <span class="n">i</span> <span class="ow">in</span> <span class="nb">range</span><span class="p">(</span><span class="mi">5</span><span class="p">):</span>
        <span class="n">label</span><span class="o">.</span><span class="n">append</span><span class="p">(</span><span class="n">ind</span><span class="p">[</span><span class="n">index</span><span class="p">[</span><span class="n">i</span><span class="p">]])</span>

    <span class="k">return</span> <span class="n">prob</span><span class="p">,</span> <span class="n">label</span>
</pre></div>

    </div>
</div>
</div>

</div>
<div class="cell border-box-sizing code_cell rendered">
<div class="input">
<div class="prompt input_prompt">In&nbsp;[17]:</div>
<div class="inner_cell">
    <div class="input_area">
<div class=" highlight hl-ipython3"><pre><span></span><span class="n">img</span> <span class="o">=</span> <span class="n">random</span><span class="o">.</span><span class="n">choice</span><span class="p">(</span><span class="n">os</span><span class="o">.</span><span class="n">listdir</span><span class="p">(</span><span class="s1">&#39;./flowers/test/6/&#39;</span><span class="p">))</span>
<span class="n">img_path</span> <span class="o">=</span> <span class="s1">&#39;./flowers/test/6/&#39;</span> <span class="o">+</span> <span class="n">img</span>
<span class="k">with</span>  <span class="n">Image</span><span class="o">.</span><span class="n">open</span><span class="p">(</span><span class="n">img_path</span><span class="p">)</span> <span class="k">as</span> <span class="n">image</span><span class="p">:</span>
    <span class="n">plt</span><span class="o">.</span><span class="n">imshow</span><span class="p">(</span><span class="n">image</span><span class="p">)</span>
    
<span class="n">prob</span><span class="p">,</span> <span class="n">classes</span> <span class="o">=</span> <span class="n">predict</span><span class="p">(</span><span class="n">img_path</span><span class="p">,</span> <span class="n">model</span><span class="p">)</span>
<span class="nb">print</span><span class="p">(</span><span class="n">prob</span><span class="p">)</span>
<span class="nb">print</span><span class="p">(</span><span class="n">classes</span><span class="p">)</span>
<span class="nb">print</span><span class="p">([</span><span class="n">cat_to_name</span><span class="p">[</span><span class="n">x</span><span class="p">]</span> <span class="k">for</span> <span class="n">x</span> <span class="ow">in</span> <span class="n">classes</span><span class="p">])</span>
</pre></div>

    </div>
</div>
</div>

<div class="output_wrapper">
<div class="output">


<div class="output_area">

    <div class="prompt"></div>


<div class="output_subarea output_stream output_stdout output_text">
<pre>Number of GPUs: 1
Device name: Tesla K80
[0.993171215057373, 0.002223358256742358, 0.0005978391855023801, 0.0004937804769724607, 0.00040827333577908576]
[&#39;6&#39;, &#39;102&#39;, &#39;21&#39;, &#39;26&#39;, &#39;59&#39;]
[&#39;tiger lily&#39;, &#39;blackberry lily&#39;, &#39;fire lily&#39;, &#39;corn poppy&#39;, &#39;orange dahlia&#39;]
</pre>
</div>
</div>

<div class="output_area">

    <div class="prompt"></div>




<div class="output_png output_subarea ">
<img src="data:image/png;base64,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
"
>
</div>

</div>

</div>
</div>

</div>
<div class="cell border-box-sizing text_cell rendered"><div class="prompt input_prompt">
</div><div class="inner_cell">
<div class="text_cell_render border-box-sizing rendered_html">
<h2 id="Sanity-Checking">Sanity Checking<a class="anchor-link" href="#Sanity-Checking">&#182;</a></h2><p>Now that you can use a trained model for predictions, check to make sure it makes sense. Even if the testing accuracy is high, it's always good to check that there aren't obvious bugs. Use <code>matplotlib</code> to plot the probabilities for the top 5 classes as a bar graph, along with the input image. It should look like this:</p>
<p><img src='assets/inference_example.png' width=300px></p>
<p>You can convert from the class integer encoding to actual flower names with the <code>cat_to_name.json</code> file (should have been loaded earlier in the notebook). To show a PyTorch tensor as an image, use the <code>imshow</code> function defined above.</p>

</div>
</div>
</div>
<div class="cell border-box-sizing code_cell rendered">
<div class="input">
<div class="prompt input_prompt">In&nbsp;[18]:</div>
<div class="inner_cell">
    <div class="input_area">
<div class=" highlight hl-ipython3"><pre><span></span><span class="c1"># TODO: Display an image along with the top 5 classes</span>
<span class="n">prob</span><span class="p">,</span> <span class="n">classes</span> <span class="o">=</span> <span class="n">predict</span><span class="p">(</span><span class="n">img_path</span><span class="p">,</span> <span class="n">model</span><span class="p">)</span>
<span class="n">max_index</span> <span class="o">=</span> <span class="n">np</span><span class="o">.</span><span class="n">argmax</span><span class="p">(</span><span class="n">prob</span><span class="p">)</span>
<span class="n">max_probability</span> <span class="o">=</span> <span class="n">prob</span><span class="p">[</span><span class="n">max_index</span><span class="p">]</span>
<span class="n">label</span> <span class="o">=</span> <span class="n">classes</span><span class="p">[</span><span class="n">max_index</span><span class="p">]</span>

<span class="n">fig</span> <span class="o">=</span> <span class="n">plt</span><span class="o">.</span><span class="n">figure</span><span class="p">(</span><span class="n">figsize</span><span class="o">=</span><span class="p">(</span><span class="mi">6</span><span class="p">,</span><span class="mi">6</span><span class="p">))</span>
<span class="n">ax1</span> <span class="o">=</span> <span class="n">plt</span><span class="o">.</span><span class="n">subplot2grid</span><span class="p">((</span><span class="mi">15</span><span class="p">,</span><span class="mi">9</span><span class="p">),</span> <span class="p">(</span><span class="mi">0</span><span class="p">,</span><span class="mi">0</span><span class="p">),</span> <span class="n">colspan</span><span class="o">=</span><span class="mi">9</span><span class="p">,</span> <span class="n">rowspan</span><span class="o">=</span><span class="mi">9</span><span class="p">)</span>
<span class="n">ax2</span> <span class="o">=</span> <span class="n">plt</span><span class="o">.</span><span class="n">subplot2grid</span><span class="p">((</span><span class="mi">15</span><span class="p">,</span><span class="mi">9</span><span class="p">),</span> <span class="p">(</span><span class="mi">9</span><span class="p">,</span><span class="mi">2</span><span class="p">),</span> <span class="n">colspan</span><span class="o">=</span><span class="mi">5</span><span class="p">,</span> <span class="n">rowspan</span><span class="o">=</span><span class="mi">5</span><span class="p">)</span>

<span class="n">image</span> <span class="o">=</span> <span class="n">Image</span><span class="o">.</span><span class="n">open</span><span class="p">(</span><span class="n">img_path</span><span class="p">)</span>
<span class="n">ax1</span><span class="o">.</span><span class="n">axis</span><span class="p">(</span><span class="s1">&#39;off&#39;</span><span class="p">)</span>
<span class="n">ax1</span><span class="o">.</span><span class="n">set_title</span><span class="p">(</span><span class="n">cat_to_name</span><span class="p">[</span><span class="n">label</span><span class="p">])</span>
<span class="n">ax1</span><span class="o">.</span><span class="n">imshow</span><span class="p">(</span><span class="n">image</span><span class="p">)</span>

<span class="n">labels</span> <span class="o">=</span> <span class="p">[]</span>
<span class="k">for</span> <span class="n">cl</span> <span class="ow">in</span> <span class="n">classes</span><span class="p">:</span>
    <span class="n">labels</span><span class="o">.</span><span class="n">append</span><span class="p">(</span><span class="n">cat_to_name</span><span class="p">[</span><span class="n">cl</span><span class="p">])</span>
    
<span class="n">y_pos</span> <span class="o">=</span> <span class="n">np</span><span class="o">.</span><span class="n">arange</span><span class="p">(</span><span class="mi">5</span><span class="p">)</span>
<span class="n">ax2</span><span class="o">.</span><span class="n">set_yticks</span><span class="p">(</span><span class="n">y_pos</span><span class="p">)</span>
<span class="n">ax2</span><span class="o">.</span><span class="n">set_yticklabels</span><span class="p">(</span><span class="n">labels</span><span class="p">)</span>
<span class="n">ax2</span><span class="o">.</span><span class="n">set_xlabel</span><span class="p">(</span><span class="s1">&#39;Probability&#39;</span><span class="p">)</span>
<span class="n">ax2</span><span class="o">.</span><span class="n">invert_yaxis</span><span class="p">()</span>
<span class="n">ax2</span><span class="o">.</span><span class="n">barh</span><span class="p">(</span><span class="n">y_pos</span><span class="p">,</span> <span class="n">prob</span><span class="p">,</span> <span class="n">xerr</span><span class="o">=</span><span class="mi">0</span><span class="p">,</span> <span class="n">align</span><span class="o">=</span><span class="s1">&#39;center&#39;</span><span class="p">,</span> <span class="n">color</span><span class="o">=</span><span class="s1">&#39;blue&#39;</span><span class="p">)</span>

<span class="n">plt</span><span class="o">.</span><span class="n">show</span><span class="p">()</span>
</pre></div>

    </div>
</div>
</div>

<div class="output_wrapper">
<div class="output">


<div class="output_area">

    <div class="prompt"></div>


<div class="output_subarea output_stream output_stdout output_text">
<pre>Number of GPUs: 1
Device name: Tesla K80
</pre>
</div>
</div>

<div class="output_area">

    <div class="prompt"></div>




<div class="output_png output_subarea ">
<img src="data:image/png;base64,iVBORw0KGgoAAAANSUhEUgAAASsAAAFtCAYAAABfpUzFAAAABHNCSVQICAgIfAhkiAAAAAlwSFlzAAALEgAACxIB0t1+/AAAADl0RVh0U29mdHdhcmUAbWF0cGxvdGxpYiB2ZXJzaW9uIDIuMS4wLCBodHRwOi8vbWF0cGxvdGxpYi5vcmcvpW3flQAAIABJREFUeJzsvVesNet53/d729TVdi/ft79yzuFh06FIUQzDRLRplUSyLEuGoYso1lUKous4uTCCRBdOAuQ6uQtsJ3IMSIGNwEVRYiOJYoeiKIkUZbbTv7rr2qtNn3lLLvYRceJY9oEKi8/+AQtYmJk182Jmnv+8T5slQgjccsstt3y3I7/TA7jllltueS/citUtt9zyPcGtWN1yyy3fE9yK1S233PI9wa1Y3XLLLd8T3IrVLbfc8j3BrVjd8m1HCHFPCFEKIdS36XiPhBA/+s73vyKE+O/f+f5ACBGEEPrbMY5b/mjcXqRb/sQRQjwC/v0Qwj8CCCE8AUbfibGEEP6r78Rxb/mjczuzuuVfGcQNt/f0v6LcXthb/kQRQvwScA/4e++4fv/pP+t+CSEeCiH+byFEIYT4R0KI/04I8TfftY9/XQjxeSHESgjxFSHE59617v8SQvyXQoj/B6iBF/4l4/nFd+/7Xct/VgjxO//Msv9YCPG//JFOwC1/bNyK1S1/ooQQfh54AvxUCGEUQvhv/jmb/S3gi8AO8IvAz//+CiHEHeAfAH8V2Ab+MvC3hRB77/r9zwP/ITAGHv8hh/p3gYdCiA+/a9lfAn7pD7m/W/6YuRWrW76jCCHuAZ8C/vMQQh9C+CfcCMfv85eAXw0h/GoIwYcQ/iHw28Cffdc2fyOE8LUQgg0hDH+YcYQQOuCX3zkeQoiPAg+Av/+H2d8tf/zcitUt32mOgUUIoX7Xsqfv+n4f+Nl3XMCVEGIF/BBw9Ads/0fhfwB+TgghuJmt/co7InbLdwG32cBbvh38i17tcQZsCyGydwnWybvWPwV+KYTwH/wh9/+eCSF8QQjRA58Ffu6dzy3fJdzOrG75dnDBHxD4DiE85sat+0UhRCSE+AzwU+/a5G8CPyWE+LeFEEoIkQghPieEuPsnNNb/EfhvAfuOS3rLdwm3YnXLt4P/GvjP3nHj/vI/Z/2/C3wGuOYmkP7LQAcQQngK/DTwV4ArbmZa/wl/cvfuLwHfx21g/bsOcfvyvVu+2xBC/DLwzRDCf/EdOHYKXAI/EEJ4/dt9/Fv+YG5nVrd8xxFCfEoI8aIQQgohfpybmdR3qr7pF4DfuhWq7z5uA+y3fDdwCPwdbuqsngG/EEL48rd7EO+0BQngZ77dx77lX86tG3jLLbd8T3DrBt5yyy3fE9yK1S233PI9wfs+ZjX5YBakDEy2I6Qa8MJz78EJ8VSD9fje0S16Lp+sGarAdRkwRjHJErwbqFYlwYJ30AZB6B1JpNCxRGYBj8UFjesDUih0JtG5INlRIKHrLMFK0iTi4ChjMjaMRjl37+6RpArb9bhecPZ8w9npJR94eZ849yyW5/gQsbPzgP3dhwjTEccx3oFSGik1QggM0NoO5z0Xz66IZcZET7mTbbMJLc/Wc+bDkrP5GXVVMNiAcxZtPHGk2J1OePHOC+xu72BGBiECSTRmHHbZjg95cPBhJkmGlBJrLdZauq5juVxydTWnLEvWxYbVZsPvfPlLXFxd0g4C19WkqeLhBw7YO94iO0gYVMHqukSGhAcnxzx//Aa/9g9+Hd8l3Lv/QZCBNI84ur/H7lGGjuF66fn1X/0NHn/zHFEbxDvX1cqA8gbpNVGkCXGLSgPjfcG/9RM/yqc+8zGeXr3F4HrKpqRqap5ebqhWnvVyhbcbgoOhllRDx+HBHmmcUC9KTp/OKTcdMaAigc4kxhi2RjMSlZAbzWwyIdIx90/usTPZous6mrKjaSpUomhdx7PLS+JsShyneGtYLi65e7TPyw9fpK96/sZf+yWW1x3KCJI84cd/8kcRypOOMipb8eT8lAILWoL1REFwtTwHYC/J+PH9D9O+ecn5xQo9GXPx5S9x/95dvnj6BtuvvIiYF+xcVGhToawk0SOckixdoBWBby42pMcpv/Af/XtcfP5LKNtjd2LmL9/h5HAHM3R87df/Me2ja14+us+YiLcevUWsoNuUmBAx7G9jswT1sT0ujWVlLMJZtIcgAlrH/PJf/Q3xB9nnu3nfi5WQkiSXTHcymn5N3fV0tsMMEUNnqdct9IrxZAufKgbXUZcFm2aDkgIdNAFJ3/eYRDBIj0kNh3dm7J5kdKFg8DGL84LlvKTrPF5Lcj9BJgKtNV3TMdia9aanbQKXVx0ulGR5xM72lP39A5IsIc09egKDdAzKMBodYEZTrssGoVqU6ohMgpSeti2w1pLIGxHTWtO3Dc+eP+X+8QvMJls0Fsp+4PHTOU3j0WJMvpUQScGLu1N2pzlJZiCPIdUMziF8QPY9eqSJsxgRe4QQ3/qEEL71sQQ6Z0Er0jzj7t27rIsNUnhkOiaKA14GLq8XXLx5wfnFFQTNneN9JommH5bs7EteOPkgL738SfI8BQODb+lDS9uVnD6/4unbF9hOEocUQsDTEQlPCAOBHi80UvV8/8de4eVPv8De/g5Fs+bNN1+nakrKpsZai3cjmrVj2LRksQYv0EJjdaBe15S2IE/GKKVwDnwiyGcjHrx8l52DLbYmY67P5/hekeQj5pfXVE/eYppNCc6zN9ljtr+PMYJIC473jphfLnj29JRX33pC05ZsLvc4ffoMKQxmlMGyY/AO6XvefPo2JosYdzmLeo0jIJXEDQ6so6gbxtGMgyzjJM3Y8h61nbOXaH7tf/8/+cQLL/Gmr9h+5UWeXDzhno8ZSUi9xDtIU0WLRDOAd9yZJhzt3eHNX/sn3I9SVq6jSBM+8H0vkkQx0gc++9N/gS/8yt+jdC3bOqGvWrb2d9B9IFIxbZ5Ta0WU5EzHCutrhA/4vqP3Dmvte7bV971YBeWRsSbIniAdQkFZVwzO01YDQz3gO8HYzECAURohFF1bksQReZrjO4HwgsK1KKVQSoD26MyT5DHCTAgh0LuB5bxCaUkSG3papFJEscA7cWMwtkfFnqptiGJJWZbEcYxEYJJA2ZWAp/eeTV2zKc/Qakw/FERRhNYRQ29p2xZrPQezmOlsTB4lNHXN48ePmY0PWLQNp5fnXC6WhF4wzbZwg0UrzTRNuLN/zDhRdKHBakXvLKoTSAdJlrK3tctWPsNIiRAC7z3eewC894QQcMERREBKgVKS2WxKniTYrkEpiReWi/kVbd8yX1yzmDf0bU9uYupNzfHxIcurJWW54fd+73c5vLPP4ckeKIFzA9Y5lvNr+j4QqQSsQuBRUiJ8j1ASNOjMM4hANjF88CMvEYKjGdZkoxQVCZI8Q2vN1UVLt+lpvSTSiizJqdaWomjoeouWkjTJUfoaoWG6NeGlD7/E9vEYHQvKrmRRLxl6TTV0bKoNooerywVaGpxVBCXIUkVqFFkUszOdsJWPCUKyKlYU1Ybrq0vSbMrgA8oYBlvT2cCbTx7x/T/4/Wz6itZbpFaIEHDDgPYQS01CxK5MeCnbgatrJklCWZd87OEhOlKULrCyHd3gGI1SWG+wRhKARgU2tuesLnFxxNFkxnaUMJX65gEVa3oN6TjBB4lQCZKY0g34qkNMtum6jt46RpMJzsGmrmkjzVYUMTiHNjH0AzpKCMERhv492+r7XqziiSPKB7zuCd5i+8D1qsO3G7IoJ3hNV3k6NgjvaRoIypGOE4xUKCOw1uFlQDqFlIq2CyyXNUnpieSAtzUqN+RTQVPBbKzZ205ZOUHfdyRxhNGSu3ePsX3Po+dvUJQN3nvW6yVNV3Owv006kZQrz2ZT0nY9m6Ikz7aBEi0cZQj0nSUEgfcB7z3l2rOzmjGJUt569W2qsqPuLV9/9IjV9QKATCXkKibOJmwfjUjSCCLNcqhRWuIbj4oMcUgZpzkPdl7gzvSEWKdIqf9/nXnfEi83kGiF7zt2JmPiEJjv7SH9inW7AOFRsWaSzhAkbE6fY/vAw+MXuHtwlyTvODp8yD/8tS/y5pO3Ob5n+Imf/hFG05g4jRlai3c9sYG+tMQBJIEQLFGsUanmpe9/ESd7np+/zVV5wXV1zShL8AwcHt28ZcZ78C4gwhrXrvBDS5YHkijCdpB3GYvrNVYZ1qqgKEr29lK+75UPcnTvmKvinOtNifdQtQN1XzNfXiOcRHWSbtMRelgtG548Szk82GJ3a8LudEpqEmQkeeWVD+OD5fT8nGfPzlmtWmzTgQzYYPHC8OKHP4CPBIvrAhEbhHeoAJFQBDuQJilZ0fNBM2Z0uWIn0lTFir5YcX9ni99elVTjjKtyw9jkZHFOF5Wsug6jDJHSLNuelQt4ZzmoG6r1Cn1ywnq5wOxs0YeBr/3TL1NZyXh2xPFoh7279yhfexWHAG1ohh6jNEEqrJYcPLjH7oMX0LakcA2hHXB+QLoeYdv3bKvve7HaOxwz2BKUJ85itnYOKNea1eUziqIh0mMEmq4fQDgwGi01SWyIlSK4gG0tTlqU0ghiBND3jhBShI7YNHPatQUnuPdgi9lsTJoIGhshZUBJiCNNlmXkOzuISHB+fkpRdEynMWVRk2aaPE3Io5yQC5QcsH1DcD27O1vEWjMMlmJT4ZxD6wilFNLEdGXFcr2mKnviaERdW8pqgUEyNC17uxMenpyQJBFR7mh9z7xZs+kLfOcwDWxPt3jpox/k/t49pnJC7BK0MEgUvOtN6r/vDnrvkT7ggURqjBfsjKc8OLyDCxpdesYHIyb7YwiK80fXPPnaGQOKt157RJL0vPDBA0bJIZ/77M8gf+vzNN2Cvu8JIaLpG0ajjO975WXOXyt4vlqhkYDFYml62N0fMzueUbuKj558hLsnxxTVisvrmlFuSDON8AIQSCnRkUCYwGgrZ2tyM7PKUo8Pa7ra4b1kvS7Ixyl3To6ZjTPm56c8unyGjA1SRAQf0Q4Fo3yMDpqrxSVDZdFBsXElzg3EiWBTLHmqAtuTbcbjMWk2JstTJpMJL9xPuIxWPHr1MdUwEBRMZmN0GnG5uCbKY0prwTkSJxAItFTYvmdMYNx1zJoBZQMiOGzXE3vB0giu6pauD9xPthEYbBLRNx1aGYJVKB9hfI93EaNxSj6dUOmAjATpKCGJHKfPn/CF330dM9rlz3/uz3Lv5D6/99WvECLNn/+Lf5H/9X/7+/i6Ymtvn/2jfaKdbTrnQWlSnaEMeG/RwkFXvGdbfd+L1fZ2xnrdooIjT3JGmWbkHG4xYeHmIJYkJgUR0RTgASVBoYiShOAHqrYD2eP6CNcPGKGJlaTZbJhMx+yN73Bln+Bzy3g7sD1OCJVmygYvFTYMaOPBFyAD+1sjpN/h+vqarhuQStEMA14FIjFiezpFiA193xKCJcksR6OEoAzdfopWObKPsR08PzunrjriLGZ3f4uhBds0SDvFiYE0zci2YswBNK6iCDVF3XB11dLUls3Zintbu3xg74iT2UtMzTbGpoBiAJSRpF7gCDcxKy1xSmAlOAxaSYxp2Z0ZIiXx9QibL9hup+STMZXzrIqW83JF5QXV4Hj19UdczS/Af4L9gymTCXz4xR1ee3TJ1fwMlR0j4pg0ypGRRyqItEB7QEicUGipaa1juVnRq5p0e8JoO2FmBN2qxJsUkY8J0mFdjw8OIwPZKNAaicpGJHlGUT6nd4E4y/Ee2k2J0p6mW/HoqaIqSxbzNVk+Qo81wRiSJGJ/OiMaNGeLt6kqEEnKVm5xwiDGinaoOF8sWdYl5tJwd3+fJEvphkDXWuI0JYoFsvdoNUbYCO8r0jTQ9h7RWoyQdMIxxIbUeuR1ySflDtMgEKmmaQrWqyUhiXi6XPFIK5wTtF1FtDejblv80NHEkh3VEdqe3IzJgmWkAjuzfSbG0FYF8cEWtR3YunRsXpqQJTl10aIdJCrGWcGpc3zyQx/i6n/+W9y9e0wzS2h0YBJJ6DXBWkISaHyPxBKLgNfvKbYO3IoVWZZibY63LV3X0dVXEAwyAoRHakkyinEN9DZgK4/rAt5bVKSIjSTNM5TReG8JzjGZjsnGGqlubuzJ1pg4P6brC/Z3dtnJd+g3gUwkCCGou5rVaslyvUJEku3pNlve07YtQktGowhvBxZXKyJj2dnZRauIPMowxrA7mTHND9FZRJSkEBTz0xV9U7E93ccQcXl5SVcbIpkSupwgHGWzJp9uk05yzhdzlpsVy4sr+sFTVY62chTXK9IQiNKELBthooS2aYl8hJYabwNBgfj92UngWxk5FTnqaoUQFY0UHJ3cZev4Q5yUL/Ls9ClnV+c8fet1zi4XFGdLgqjY2om4c3TMZJrQuYFN3bBcXXFwcI98NuJidc78fEVlB4JUdBcD588XCG/obYcwgXScEU0M3jg29YLxTsp0PKGrO06vS4qiIh4cgw0keYqQirru+Po3X6dpBwL6Jv7mLVerBU0X6K1HyQitFW3bcHZ6jek2hBDY2tpiMhtTe4uXMJtOiLSknK9uwgYBsJ6275GRZlM2uODQJqFuBsrNkuuzK4KSmDiCoNgd7zOezKi7BU6om4TF4KltTe8igoAQAjIEhqZGdZ5pgP0H96mvr5FScHZ+zfPrS8TuNlddSxMSrsslWSrJM4NqKtJYo7uA7ju0SjEq4WR7D0JDmmXMdrZ59dHrzPa3qduGVVnQvC25F00onUcuC+qhIxGKrVHG//TX/jov3H+BJEnwxIzSLWwNm+sl3kg265qgBW1bg7M4cxuzes9sNhtsf+NjD66n3pSM8xmjcYaJdgHwg6cYKrwWxHFG29W0bY8xiigdEWUpIpJ0Q0WSZIymKXfu7TA68AxihYkCFoFHI7VExxLSACK6CZ63kiAcRV0xuJ52aJFGMZ5NkQTiSBFQeO1ZlSXaJAgLRmvGcc4sm5AkE0xqcMLjB0fdFFRtwd74mGmes74q6PqWerAQD+iRxtoOGwYW1YKz5TnL1Qa5CXTtQDt47OBYLhest2acX1+wqStU0FR1Q57mxFmMVhoXwrfcPyVvDEsKgcehYsX1ckPjS3QuODk65m5+h1QnGDRP3niCrDvGwfHSC7scHO6zs79DN9RoIzB5SnftefToMbO9GXfu3KNzlquzM5rOcf3GGnpJbBJ8AJMp7jw4RM0cjg5nWrIkYjaesFkWLOZnhBBQZUW5rtk/2kcZzdXVhvOzKzrrcEESpLgp0xjlKBFYLSuaukXHGkPKMAz4ZkBKUARGcYz3jkEPRCqCMFCUG7SBfDQlKMNkGt1cIwQ+SOrGogaJ85KuH3DSE5Skqkr6Blar9c19lmU4F+j7Hus9zjukVoTgkD6gQiAaHPe29inswGZVsGoaFquKbP+Yb9QrykhTth1RqtFiwPVrbLch9ZaRMhjXYW2gdBXhnRDHaDqhamriOMYNFnzA9wOzOqLfdGylU5avP0KGnlgofFuTxRrpA3aANBpRdxCnKadnC3oRGERgwDO/vmY+n5Mfvfc/OXrfi9X583MkkCQj9rf3yXTPaDQihJj5fI4QimZoyUYps9mMsTzk7OKcp88e0XrB/niLprPQC+JM05QN4+khRyf7HL6QsGrOWFc1IQSE0gzWUTQ1XdODFIhIYBKF6CTSgtSBpitxVpAkMcFCWZS0TYk2Eu8kddkxznJiDNPRFkfbhwxKImPHanVOXVV0Yc1oy2B0hXcCE1sGW2OtwIxHaB2hjWRdr7h8+4Lr5QqCIl5lFGVLWa6YTFN+4OMf4aUPvYjIJW89f4vEJBTLgjs7RxyEI3ZmOyilEAicdwAE6xDWI8KIwQdIZxS25Hdef5OrouH+pOTk+A6z7Y9zZ/+Qs9NTfvuLv0l8J2PTVDydXzBfzunswP6dT3Ny7wF/+1d+la2dET/5M3+OoCVtC289ekaxbDHSEHxAxaA0dK5D2BalPXtbM15++AKr+Yqu69ndPUQJSbVcc/r6M+ZPF0RZymqzxg8CKSIcoJVhPJmxtzsj1oH51YpnTy+oq8D88qYeLcsMUaxIYwW+Q4eG4AYiJ4mUwWhPPhGYSBIQxGkgzhR101PXLfWmRfQWLRVaKDyW1pVMtqdsTfa4vFoym21TNJ5hGHAuMFiLDYokUoRhIJYa6o5DM+KV/RMWj0/5wud/kwj4+L/xab568ZynRrMcWoKANIcf/qFPMVlueHJ5RhaPGDz0QvFs1bKwLVvxmBfv7oJRPHvyhAcv3KfrbuKj6/MrurdqutZx3YLdneJywyjVdOWKcRZRVxZlIurO4tJAXdcc6giHwErJEDyR6nnzja9w/uy92+r7XqzwksHepH39oElMdHMBG0m7HqjbCqk0WT4mjnOMEiSZIJ/GpHlKNksYipbatrRtTdcF2rbFe49SiiRJsAh612N76C0UdUO9KfEq3MShEoP1HV54rPD0XYkIEVpCX/dcXcypyw3j8RgXQaYDbgiISJLnY3wQKO1Z1yuePX+bpmlIVEqexgTh6QZL53sG0TI4RxfWhCEGIajbhnWxIfSCvrS0ixaEInSWxGg+/omPMjmY4LznzfPH2L6lKRrqtqB3A/k4IY9mOH9TbyUR4APOOfASJSO8VPRCEJTkuljjh4pW1OxuHzDZnzKEjoPDXYgtWazJZyN2DnZ4dnqOkYJsNsNa6IcW63rSeERsEsLgaYcWJQTBO9zgGYD+tMWtao4Pd3l4dI9EGMbZiChyNyUN1jMxGRsiuqqnaQeGtkcOEmEMcRpjpCGKIpIkwaie/YMZxhi+/rW3qKoC7yUhNcR5TJQatIGxSlBpir6JIBMnmtFWjB1apNAIYWjLjrLu6dqA6y0REikEQsBsNmFylKNVBF7gtCP4gLUe6QXe3yQwpJB4HJFShLZDO88Lx8ckvUU5TyThlU9+jFfnzzl3LXMnqBGY0DOaKD704YfE53Muv/Iq9bLHoHHGUOJYe9iZJkz2t9gUBW3XobXG9hKhNLZu2VIpRnUc747RaYxWHuE8Iji0VAijcVpQDRWpzllXcz76kQ8hpaRuGvrgiFPPix84ZtlU79lU3/diFYmcq1XBul8R+pQkiSlXDdQRxWXPel2SjidM05y2cAzyDG0sJw/2SfOEeKpYtR3FUDEMECcJXkjm10vkaUU0diih8E4xWEE/9EgGbD/gaPE4TGKw3tLblutVT2Kim6d1ACk1UZRRDhXlqkaYwLr1lKrkEx//JPlkilOGrun4xjce8fbTM4QQ7IwMfT1Qlxds1jVlLfAyp3EFF6sFk3iMTzVt5xBe4NYBtwoIKxHCkceGFx8csb0bM68u2FQbLp47ynqN9IEhNDjlyCcJO5lllOcYqUBIRAhIH9BsUKIhSltCOqA1iG7DMg4sFyvGxTn72T7lYsW8umarj9k92GNvd4K8OuMrv/tPebW3fO6HPssP/8gP4nEkRkNwxEqyt7NN8bCjm1foDqpFhfcBWzaM4xF/7k/9JD/8Zz7Ns8sn/B+/+Y+pbc/+OEIFQVfWJJ1nkuWY8ZhVueGyaGi8I1hJU1YEG8iimCFYTCoYzWLiXFIPHXmasXNvl6O9XfbyEbESpIkmyeKbQkcp+MCLjsE7uq5FCMHidM1mU3F6VrDoCopuuJldD5LZ8Ta7J1NqViw2C4p1YLyTUj9qCUHTdze1c04FUILBtkRofN9zNN1GVQ1vv/WIjyYZP/rZT/NmveTNYUkRxXS9QgSBDi0//mM/hvVrxnnEIAIEw6QdIDZIbhIVL9x7wDhSfPGNr3N8cEgIga5uSGLDOMmIhWKcjACJD56AIIibB7KXgl5AkJpoO+WyesrO4S7tlqVvGwbV09gaO3Lc+8w+H9Dj92yr73uxaipJUwBBcX1pEcLRViUjpgQMRia4oeH66hqkorRLsizm4N6YRm5o2oLC1RBDtCOJQkTZd7z5+DlPrxq2DxN8nDDLM/bTPVbrJUVTUtseEQtsOSA2FeBJphlOgDAB7x390BKrEbGICS3k0ynTWUIlKnRuyHZTdGpYlwXP5md887Wn4FKa2lHNHZv1c5rCYoeWvd2M3d0JaWapNhW9W0DpiU1ADgr8QEgdcVOA9qjc0NFwer3ktcePKeqasjUY5dGyQ4xqWnnKq6cb7s0+xQNzH6Fi4iTF6p4+aunjimEokepGtHrTY40ljSU0EWW/4fpJyfxiweuXZ9zfj+kHGF674u3X3obLmsl0j2me8kN/+jNc1WvqYFkulrz5+A1E43l4Z4/04V1sP3B+dkZdlHgb2D8+5Ps/8TJxZFG+5k996hXeePKIvUjTVx2vP37OalMQBYmPEjoZc7i/xcX1iqJtcZnm+eUlznhmI8XWbIyWME5Tjre3MDJnlCUEBtbNNUZB7RXKaxKxzWhkMIlHAqO9XXonOTg6ZBgGPtEHqk3Ll77wVZ68fc7x0V3MgeK6LlkuC5xzTGdTSl1yHUPSGIQTFJUlnhpSqbAypapa7kZTXtl/yBf++t/hUw/ugpG8uVjxTTGwUAlN4/F2wAXP9GQL9jO2724Tv7XAEpjXFXGvmE1m7MY1r5zc4wOTGY8ePSZCsru7S9m39EAqNaEbKFOLcANSGhIdYRQ422K6KUJKZOwxY8m1XSFePuBqFnPZPkGqG0HDeJQWyO2EwTfv2Vbf92LVtxZvbzJYTVOhJTjf0bsCYUBoC3iatsb5QOM6BtsxqiQxEjwYYchij+sV0mr6dqCtB/rVmqBbzGjENE5JTMT2dAYyMJQDfVHT+0CsJEopiG6qvRtrQQVkkKwXa+anF5SbjunEkOUzus6jlSHPc7zwFMWSy4vnNOWGtgk0lcf3S7rWIkWC0gFjBFmWMJ1khN1A3yquF1doDQEHfY8RYESMjhTeNNRtx5Onpyyv1wQkEgPcZKEEiuAFzjmcG1BKoCNF0OBxDFgGLB0DCIHUCpCEIBDuxiUSQuGsp+97kjQiHaegBOko4vBoF6kDB3cPMVKghUJLQegG2rLi2duPkYMgm21z/+4JaRYzm00Q3hFHEfkkobctZQuD75Cx4kMf/RBvfekrZHHCEDz5ZEwxOMrlmt4HBtXSD5aqqhh0j/UNZbPhYDZGngiW1wvW1yXB3bj6V5eeOo5hqNFSoIwiaIldIudUAAAgAElEQVQMV0xmMXEi0Rqm2wcoPYJ3/ix6nOWkuyM+8YOfIPiv3Mzm+5piU2EHf3OOiDA6Q4QCrSS97RiGjlhqQggMw0AcAhMpGHnHxMCdo13O5nOKTNK9kz2UAYIPCAR5NmF1tWauApNFcVNQKm/KTwZnOTw64uHD+9Rdy7rcMJ3NyPOc+XJOJAXDMLzT+nOTRAFP37f4ICBYghY4dVMJP68WZHf36YWgLhvi2OBtQAp507sqIBAQInrPtvq+F6uhkCinkVKC7dCpYms7J8si4sTg38m8NK2nLBt8BdoAtmdoPBiFtJJYRlS9p28GQiMR0rGzu83xzhGTnSnTccxsMqIfCgIdwTfYpsMDW6MdtIpoWsv1esPSD6RRRKZjNtc9509a6jXYekFZS2q/4uj+Hs7BopzTuIKtVLM3Tam1w8aKYtOTRYrRbEaaRRwdzdjb2yVYRwiSmcl5+8mAF5Ygc56fXQGKoU5AQms9Re3Q1y1GjHDOMRDAB4SAEBRJMmJ7usPBzgxtAq2rKduCi+aS6+6KldtgZYtS/ubG9IFUxYg+h0GhRcZ0AgLL3YdbTGbcFJnWAZNJpls5+SjFVRUugoiArSpc2XCye0RXdkTjEUeHuzhnWS7OCLoln8SorGfenGHLmI3fsJ6XWCCajXj1tbc4+sCLlG+cUl8uKDtL5xxVWxKkxEQRXdXS9yDWnva05PLNJV03sFkUVOWA7SHuDONkhHYGIzW9hbqp8VnJ7t705pzUJTqco2SG7iXGKA7uTNndm7G1u83xB/e5uLiiWlV472kbR55PyJId0kixGb0Ja0cfBpztUTLHWYsSjpkLfO7kHvHVnL/wZ36Q0/PnzPcPeG3+nCd9R9laEq+JCEwmE9bLmmdvnHMnyjn9xjOyQaK1wmqFSg0f+siHkdrw1qvfZLI9I89T4thQbQrynW3aukIZjRYBKTVKabTWRLHAWsGyXpJu7bGeGtLDQ8gShPBspylWKqSUCAHgQfh32rLUv8g8/z+878VKOoGRBqUEwkA2jtjZz1GxZzrN0ZGibXvS1iONxwqYTDP2jrZwvqcoa9xgsdbTtgOuFcQiI4oSlIzZnh6yvTMmjiRZFiNayyjLkcrRBkPX9ggVUw9Q1oHV2lE0A9YM2HhgflrRFALhJE0ZOHte0AwlWTbh8tnipsteDNyZTLh3eMhoskdZ9pyfXbMpGkQkmUwTDu/sUhQFm3WJUhEyFiRJhlCQjXM2mxYfFBdlSd/2uOCJQkTXvNODhkSGAek9QvKtPsAgoCzXoGCwlkF6rooLFvUVrXJo5Qk4RHCEIDAqIgwxfgBjIhpbog2Mxgan2xs3woPoAja09C2IOGWUZ/RNiy8aRDdwvL+H2JFUsmc8SWjbmkBPP1TsHT1ktDuldzUiTegri9OOvus4OrpHNEp44+uPqH1H6y1Vd9MEvJvlCAnD0GPDgAqa0ThHtoG6sTT1QNcEBDCeRBzdnSGJaa4tflD43tM3ASdBqRwVCaIgWZ8X2KahWwVUFFgVc5bFlOw6pestRVfStDeJjXw8IY5GOK9o6o6qKthPD2n7hkgoFArhQTvLT//pH0H81teYBM/Z5RmdcbxWFMyDpFMGqQSKQK41O1sj3lqe4Zsd+tXA4tk1ergp+RgUjGdTJpMJbz9+xOAsoywmG2c45+i7BiVu2rd0pInxCClQUhJFEVGiqKqe0ewmDnr84YesxEDnAmmc0TuLRKGEwrkBKRUECX7A3BaFvnd0JFCRQqea3cMdpjsx7bDCxZZkZ0KWRYyswQ6B3cOc2k2wrmW2lSNlzvC4o24HgnVMtiN8C9WqouwrbJny/PwSaSwPX7xHlEXIOIAMaK1oNprF8opmvcF6yeXFmqZskLWkdBvssMF3YC2IIAjOYayHkPLNz59y9XRF2dXce3GX6KWE2ewIYzLSPcWqbJCx5uj+PpPJmOvlnPlqwXpTE7ymYMC6Dq0Ck7aH7qZ7v16vqKqGOMmwzcB4nCO0vxmzHwBP8D1a3ixr24an6yfIMqK1A3VfIVSLo4Mgsc4hXQ/BEylNtWkJpSfYgNcdVbEkHWtkpHBAbzukDDSi5XJzDXVAuohx0LSXa55+/Zsk+Yjd/UPqpqfcLGmaK+I45uDOFl62xHnE933kFcp+wxAGkklE4woSKVg2V6TjnOOX73LdDkR9T7xq0XqM0B4hAr5uSCJDpM1NhtB72tJSN54sG/PRjz/gxZfuMN1V6JDw1S8+4fe+9Cp1aQnOEjrN0MPx/WNGE0N7UrN4Pue3f+MxRni204xlseJ0fkrXC4xOkSpCCIVSBusc3dAxmuToNObyfIEQipiYw9Eee6MDfvbf/DSLb3wDrTRX56fYrSmPV3Oee8fVO/V06XDjor/yqZvkxPPyERdPnnEuI9anG+5kM65W55y8dI+HD+7z6PXXePbsGWqUI4MnyWKW1wu0EogQsHZg8AOjm6cV3t8E1BvvITgGV7O3fYciUtC3JEnGEGBRlHztd3+Tj33sY2zvzJBCAoHYxIRwG7N6z0R5oLcOkxuSmUHnCle5mwLRviPKDUJ7RmmC0TGNiilLiDJBrA3jIqWobyqTkyilb26yNkMLja14dvEMZSqyrYTc5/jQs16sKJbXzJ+VPDu/pPOCKMnxg0d5hfaKrnM31eFOIxFIIcB5XG2RaLRPWT+3DBIuTcfzuGC5dEx3B4L2tH3DwfERh4cHKCXohpYgY0xacXVVUHQbjAZjDFIMbE1imk1DNNzUgympQQuc7XD9AOqmNCGOIybTMUJ4+r6mJmCERAVJ7Rq6UCOHBi08JhhCGBAiICQ45yk2FcX5KZkZ0ZsYJQNZGiOkRXkNCFzwDN5Rdz3Xp0uMGHNSK7qiIlcRBMemWhDnGS/tH3H35BhpDLsH22zv7FA2DadPL/DKks4iggQtPVbam1aZdsPO/gGz3RFl3dE2Dis9RAIRBuTgiaObWikpFZHSbIoB5z37d/d48PIxs72YWGq6IrC4XFOub9xGLwOiF7ju5tUn4+2cOArkyR5PTxv6oUSYQG87nBPYThIGSZorrLVIIRlsx2A1OkpobEBJwyTLca3jcHbIj33mxwinj6nPFlw+ekySxSyC5LkTNF1H31kQDq1gdzbm/kvHrOsNJ/WMwUFTNrgguFwsme7u8uDBA9bLBc8evY1EoYMgzzLqrqUfWvQ7GV4lAkJJbN0ynmyhTIyXgPF01tLVNcX1nPjujP0oo0Hx6PwZTy7OiCPN1myClvKmM0RKwGPfewH7rVhZ2SIjUMZjxYCTgvHumLZPaO3ApihIEkmkBYnWpBOFU5ooligR2D6Y4UMMQdP1DcXSkkyBiJvWFxOYry6pv9ES5QngKVdr2s0GdaVoCg+JQArIMTgh6IInVhphHb23CG6C4CGACh6cAWcQpJjIMWxinj4uOLwbs2muSCYRL3/0I2zvTSlWcy6uLhFKkmbblJVlXVyQjlt2drc43N5mFCSyGmhHBldJ2n5g03bIVDOepDDqSfOI7cke060xSaqxTc/Z+TPuHNyltAEZWsqqQqmBrUwinEcGh/UOoUEiWW4KXn/9TTanl+xu7bO/vceDBydkWUzvWyKRIvF0tqPuWsZbMy6fr/ji7/wuHH+QrYMpL99/CCPJ+O4uMjaMkoCQBqFiRuMp+WhCUbV848uPKPolu3enxLliMhnTtyVVWaJMRD+UfOSjHyRNztksv0rXdHTaEbxnNImRQwBvsZ1noKfpOybbW7z4gYeMthOsrLl81PHWN0559evPWc974nREUJ7JOGF9veTJ44CeHLC3NcJoySc+83Fef+PrGFMxUjPOny9QLmWS7tGGDVXTMRoZpBEU9YqTB8dMdndYzdcoHfNzP/vv8AOf/BjNRcvj3/4ar371y9TFnML1hPsnXIWY1fUVRIHEGD784ISf+JHPYiaB0ZCxu6eI4y0uXn3GdTOws73PD37mX+P62ZvMH59ikBijUUoSS8nvfOOrpMpgesfQtURRxHg2xnSWrqmZJslN+YO8SRyI4BFdz/z1t9GzGf8ve2/Wa1t6nec9XzP71e/+9KdO1am+2JMiRFKiHFKWZVqQJTsW0hmIESQ2AuQP5Ca5CpArI0huEwROkAAGFMmGZVEkJVElRmwkNtWcak5/dr/XXs1ca3Zfl4tVRpCboO7J8RMWMMYa8xvv+z6PZlN+cvSYtfB89bVPMyiKzTEHj1IC7wX9+Pr/T3f+f+vnflhtb2/jpUNkHi86VqXnan5A0i9pyppq2pL0c1rT0KzW9JsBMQrlJTZYejohHkdoobmsQWMJLqGpLYmKiaMU41bMmwsUGiVjhA/E5BTbBenAsixrgglIlWG0xUQObzpCEKQqwgUBkaZzFuc8XlWoGFCOye6QO3euISaSplsQZ3D11lV29vaoq5af/OXbvP/+Aw4ODhgNVyyXJXa6QK9j4jSlVo5omJJEmjiPeH7Psa4EK6uQecbWjX0mV3eIEk2SeYwLGBOoTE3kJcunc+ahozEVcazZOdimDTFCCegavJLYICFIShOYXsyxJJSmY6I9US9gRIUXUOkaZzyLy5K2NCRxj639A6yImYoFBMHezoRknMJIYbWn0xHSCqQ3WGMRUvD42UOezB8xHg8RThGT0t8asVzP6cIFVVXSqTO2hpLnX9zm4skezx6fYTuLTgqChrprEU5RVwaxEkjR5+q1a/R2FOdnc54+PuHDH5+xmpX42pLlGusNcVygbaCx8OFPn+GQxK/mTPoD5u0TdN6iRUGie6SxYlkuWa9mNDagGkESReQ7Q+quJnGSAwp+69//Cr/9G38HOzvl9Lvf4ejBz/CPzshyyU8WkuTac9RZxsPpQ/ANhRZ84fN3+c3f+hJVO0fGoNcrhjs3iGaWH7z7Np/59Ce5Pr7Kk3ee0JxdcFFV9LKEEOD6C9dZ5goOtnDHM3ZUgomhMi0jpYmv7DE9nzJdXDIYD9BZivOCgVH0Zi167jCFoVqekdDRBUN+ZcRC1JvNTWhiqYm0JpLZx+7Vn/thlSQRUZIiM8lyXbEo18huRjFUuFpQryzjWBFkwIkWF9ZEaYIPFu8sIVgioynShC4pqGVDFicIp9AatHZI5Yh0hIg00imC9Tg8GYo41lS0dDaA2phehRV4K3DWI5CIwOZT0EuiWOBw6BSu3drj7svPMdkZc7g4wnjPtStX2d3dxlvL/Q/f54N3j1mVsNQddn5JVTV0Vcf8o80lRJuH7HFR0JkVZrqxuVy99QLjvV30MEdHmwuZ8huFdLteUS0X+M4Ri4h1G9CZIh/0KesaE3uscGRy47dM84Kutbjg2d7fQVrNcNAjHxQ4relEh5eKzGqs6VhVDc45er2E51+8xa3b1/FVRRxLokGGTDQIjQ4Ba8E1Ftc4VsuWqm6QIuGN519kNBki/WZbapqWNO2hxZTgDM4E1tWSBMkLd29zfHiCsopBMWC6vAQfkBIiLQg6RsWStFCs12s+ePcJZycNTdkgkSAlwTmkFPRyTUEMTuKC5fyDU9T122gUzC3taUNtakzSwcpShJR+OmS2rOmNR7TeImTGRGv2RI+7X7rDVz/9CR7/4NvUh0+ZXZxh245KOao4xu/l6P0Bhw8eEqqaOA386r/3eb7wpU/S38nRxrGuF+Q6pr6oWJ0u2O2PuTLapTybcvr0EOFrLIJGQK+fU0Xg+ynXX3+eRj4mnJZY61Feo2zAx5pi0Ge1LLGdIXYJ0gUKYnKnEcFTLmqupAWH85I7L9xFqJSmC+RJTBAaj8KKCG9/cQ382NU1NTouwEWcPL5kveh4Wi3IYxgWOVhDzxTs3RgyGAxJhhCk4Oj0hKrtKNKCWEp86Ggqx+Vxifee8WSEjgN1U0GWMhiMqMqKoycXtDNH3KWopCTLe0RCsaoqTOXpTKBbeECgRERAEClFJDVCeIgCKrKM9lJ+6ddeZTAqWDUlrEtu3Nzh5VdepFo2fO+7b3Lv7fcopwmCnMvDhmWokAH6eUZTrzg/m1GFmny0GazG1Vx98YArV64RZz3QGpFoWtHhRIuJFSKNsA1UoWHdrLGdYRTtMclHiHXD9Mkh2zevUBQZ2jvyNEPPA08fPmX2+Amfu3mbaDxgOOoDnj4x69bTest8XhLEJok02+sjhCJSGr+qiQfZJiOrl2O9x5QWZwNNNWd+MmMxXWAqh1YJN567Q5oIppdT2p4kTiW6N8LbwDgfYZqWZTelWs9I+gkvvX6Xq9e2+R/++f/CWguUh+FoiBSCmbmgFjFpL2JVXXD20xnHDwyh3aEQDa11KKXQyaaVnKtZG8liXaGzlElvxOzJmrWs2NEDIu1ZNy3NZcfv/u3fplys+OlP38I6wep8zcwuefbkkL/9xqf42q1PcPb+B8z+8ltUTz+kMQ1Na1mqglkqOLclT9WaxcMfY+eGK/mIr/7Gr3Jw44DZ2pDUECcDkjzGVSvGUcxiPef1a89z/4c/4/LojCItIE+YXszwFbx+8wpmkFNc3+f47DHEniA2+e4qTlnXLUFtYoDycZ+2LGkvO0wA34vpvCCSikJAYhyFjzHTmuk7J7jO4FuHFxKpIogUrCz844/Xqz/3w2p2Ocf6gBcNXRVwrcQ3AVM7FquGSMBFvCbPcwSaLhcY6zidW+rGkMY1vRQi5SlPK6YnKybbYyIR432FkC1CjQhe4qzENAFBTNU4orBGRpoAaB1TrQwIRRTFCPH/Jm46Nu56HQkqU9Prw607VygGESEy2NbQH+TsHVyhLg3vvnWfez+9z2LuiFSGDxatFIkIRFqSJglOtNTNGlE52uDQwaJs4MqXPsG1qzfwUtN2ltlqjnUeKcFmilgo0kyxvzXADfKNaXnq6TVrBnHEjWzMNZsydjnSSPq6QDnH3WIfc2fCcNCjThOCC0SxIuo0axuz7uBHJ1NkEjHZmSBiTQe0pkHEQOvobMdytcB2jsvzOavlEt+uMasWaQTSaqxfs3hyypFYM2tmjK4PN0JGoRFOMBxfo2sDy9WMdbdCMSVVx2zv7POpT73M+cWUrD/AW4ftOuS4z8xanKswjaFazsn1mK6GYFtiKZjs7GCsx1nLdDolT2OyXkZWpGz3J1yeXpInCQHYHe3w1uN7tF3H99/8K7yHZ4+fIEPK3rjP8XunfOUrn+Dv/fKXefbjn7IPnD59TGMrFnHgTHker+d0MtBoQG1AHa+//hp392+QFBPmJSgjEClkqSRXMXm8j3JzuvmK9rxmenpG17ZEUYJ2EuOhN8jIiz5ea86ml7xz7z2GZzUvpkMWrgXl6PVjgpbokBBwxCaisxuWQek9re3oxRqUJJaaNEpJopwb+Q5dqLmYntM2NSH1TBdzytXiY/fqz/2w6lpFUwk629GuPcIoYh8R4ZFW4ANMTzvQJfpkTfdgjtIpnZOsG0lVztgatmRpyvqsYnkZwDaEoOjvOLI0Ih3nSAGRyEhfuY7vFHUFzfmSxgfqlWG5rolUQfCSVhhkqoniGITHGYOwFiUk2gVG2zlXb+2hComKEyZFwcRPcJ3m3/yr7/Lw/acon5DKBDKBRhElghA6OuHYOijYyq8gYqj8GusbytMFo7TP9vUtfOQ+uoJJMq8J9eakP6gremh6RjKIhhR5gmgtRbQBFsRCkWd9MhQsLJoYtS4RxqClROUFsJFIeO+hMdhFQ4vHRZqd/IAQKc4ax2XdceE7unVFnKSIAHa15rK6YLVcU14sEB6qpOXa/jUiK5gdz9E65WJ5iRxIrt25SSMsn3rjZY4fn3Nt+yZb/T10GHF4ekQaBc4vjugXPY4ulvyT//Qb3H90zDe//T0efvAM6QNvvPoK+o7j6HTJrFxiQoTMAq0pEVYQ5wWT7QnL1ZrxYIvrBzex5YymqtFK8vSHf83+zi5bOzn37n+AD/dJ+wV5mnPvg3uU647BqIe9POX1K9v8d//jf89777/D8r13MJenPKPjw8WcJs84qjqmq5rLcoGM+nR2c63+8mufZXvvGlE6oHEeGWLMKlB+cEkSHFG1YNTrYU8ecPrj9yk6uWEC4FmGhgkxBPjMJz6Ds5YH797nUXXBs8sZuS4wQ8WqJ5jSYO2S5/LrDHINtgVbo6yi7TyzqkU0DaKXMpwMyLzkxtZV1GDIp194jVRHlBdzTs4veO71V+kkvH/vBx+7V3/uh1USF4SgCN6jwsYS4pzHE/AelJSUywYXgc40aa9DRwJHQrVoqFcdxieIqMG1CoJmverIejHXbo/YPsjpEo9rO0glSSpwPiZuoF1pyssl667FBo+wDhkkOlaoWKEyhVAK0Xlk69BCEFvJYJgzGPZQShGlCUqnBNPwNz/7kHtvP6CrAuP+kEhoQmTweILyqFSQFwU7N7c5GE4w0lI2S9p6hZ2vGCU9hOnQOqJaLtEqZhjF+PXGVnFAxpbSjDpPPq+Imgo6w0QFsl4fqRUeRVlttDNpookkH6XxWbqmwUaQBk0i1UZXlGQgBEYGtqzEBElfSkbS002nmJVlkmS0Gi7WFxw9OSQ4T65jdrd2WV2J2O5tQe1ZO0+iMgqd4KgpJn1Uqnn0+DGJL+hlA0yjGOS7vP7qp/nhW38MeI5PnpCnOd/+03/NcHjAajnDO4M1nrqu2Rsrbl+/Qm/aJ48EmUwxE4lrPMOtLXxS0B+OOD2aUk5LbhaSVAq0C+jBEFW3LB89Q2uN0ppev4+MI4yCrYOYRbnka7/+a/zdz3+Re9/7Hk+fPcCtFwwQvFeecG/ekWY3Was+TgsiX2FRxCqlIKI8mjKZXKNNPKeHj7h++85HsUUd1lp2laK9XPLw3Q9QizXDYrLZyBRESYRSEduTEUWaMZ1OqeZLlos5dBAPUxCKZ5ennOiaoCEsFbfGfdJEk6UJdeUISpP7gMPSLVeUXUe+t0fceeZHF7TBMS6GBOtJ6oqLcobq93Cu+ti9+nM/rNIdwWq5xHSKWEZ0ziAF+JAgpSUIh9AOZyxJnpJPJkQyZnZcERYO0cL8YkVWxAQ/woeUrlpRVS1FssPWYJvz9SPwCVKlEAm6laFtGnSvxK4qRgcZ2UBwdlIBEq17SCU3qnECNgRaZXFaokTKwdV9RuOCrJ8SPhISHl5e8uGjx9Tdxl/Ymoa46OEzj29bYjw9FdgZF1zZi8mLiEjlbNuCtmk4NE+ofIe3GyGhkA3aVtzxGaNLjW5S3PoMWXUkLYxVSqIikiLDWIUoHfg1cRxTKGhMx4VrKDwUxqKCI+4pWuewzUaeISKNbSUyjkBHDIUgdQn9ps8NnXGQbDOP+rTC8/12xqovyJ+/Sr8TbMcp/fEA298iEWFjnr3qOT+dQtuSyITFkwWqTMjEgBc+9QZnl1P24h1s2/HqnS/zzrtv0YVHVKsjTBsgDDl/esIbn7zJv3r8lEgP6I2uUmxNmB4eYcslB7rHXn+LeCuhTnt88PAxH779gELG5KuGL9+6wxu3Juxt7SCcRwdBlMRUbcPTpqSRgQ+qBWdVyahOCbOa3/vV32ScKt7+3p9QPznFisBZAX98+hhfTMiuTLhYTGlq+xHiTKOoCQRaPIvzE06+W5FkPY7nax7fO6WfSQ5GGf2tMWdVxfHhEemiYyuJMH6Nkg2xCCQ4cBV3r11hfXrK7OKMTjasmsD4uR6DTmHajoeu40JKsnlgbc849XOuTSY8Nxigm4YsVgyjhDIIGuM4PVsySQZE18Z8+PAe/Z+9y42Dq8hgeHz0mPMHS7au7lL/Ylh9/CqKHqZ10HicsAThQSq821h3Q/AIFJ6A1Ipe1kcRs5Ie3AphBM0qgGtJ+wapAt7AetWyXNQcPj6nbDukVgwGEd561uWacrEgShV7VwYMkl3Wc8fi8gldG5BdQAhPMBbTblTD3m+MozqKyfoD4rzAYTHWUK1mLBYLkiRie69HvTBoAQEDbYtwHqINecSrhJaIkY3QSYbIBCQKnSlE0yKmC0Yhoh8i0rWlf3xBb1oRmw1lRaIYFD2sc9RasLQ1OIiEQGDpyku6j/LidbphKlZlReQ84cIicbg0JwiJjDRJtNk2gpZYrVHa4DR0VAyGfZI4ZmErroiUSgXKcUzsJIM8I8SSrPJoPEpCOhpA13E6XTBMRzw9f0Y5u8BZ+PpX96gXR7z46nW+9/0nzBcrrl+/yuVbj4hUStuskXFFFzyr1TnDvsY0NXvbBcJUYBr29/YodMEoHdDWHVGU0S4q7LLECM2k6PH1X/kiYnVOFimiOCYYS9vW0HXsKIeINaZ2RF1Hg+NzX/8KR0+f8fBbH1JVFV0ecSY6mv1d4tuvoh41TKdTVmWFtR6tNwZwIQTGGiIUrjWcn52gVY5Ocy6PTjhvSw4+9zqx0pyfXzI7m7KrNsLcxapmECdE0hErTQiOyWTEhx98gDWGpJCM+oLd4QSmLSvbYvAopQGL6aVMTYesVvREzMD7jQRBC4pRn7ayVPOS8uKcdH+HrUixmp5T9wuyIiPr52i/xgSDkR8fCv9zP6yc8RRpRioCplpC5XDCo2SCUhK8ou3Mxl2+uMA9W6FFglsrIpGCVCTZJtHA5nbz5pX0UELwzt88IssjZvOG8faQa9dTWrPmfHaG8x1vfOE5Bv0J5czStVOUCJskh9ohvcBJQyeazSepEuAlQUPnA1VnqKsl89WK0/MpMkgmWwXVrCLVAlcHgmuIO0eap6ADi9bQzVZsuwhHBlIRlEXQ8lyWMNIJr515epdzxOElybImrTq2ByOs7YgHBVEUUc5LrIIahxGByBiquiYWUGhF7g34AN4TlCAkCtd2pF6SmsCyWm8U+QF8cEghccayThOk1KSDITrv0SskJAnatLzqI8Za8STWXHrHs9U5LlaMkz6TZCNjSLXj4CCn6i7Jy5Ze47mczpmaiMMPT/jMZz/Pd7//+wTheeu9x8jYcHX/gNOjhlxFXLZPiWXGujzklz7zPOeHM2R7RtrGfPLFF8myLQ6fznjzL37A9PySu9v7LD88Ym3mrZcAACAASURBVLvteG5/xH/xj36HxFToVCK9xbUVwnkSII8CprXYsuETTvP6aI93T4/57r/8PzmaVvhBj5UwzBvHzvWbyAZWh5dUFyuqaoOrUpEmjpMNvSiKQAiU0BjjGeYjlouWqFuzvTMkzlNyEfPWD3/GnVu3UfsKsTwnN540k7iqIVOaTKcoZahNhXMdUgR0gOujMatZiSXivCupY0fnIJaCRZGxO97DSMXjecM1lfLeu/f5ldefJ01jCJpioLHrFjm94KXBkGeLSyJ9Ex879CghVT2qruXp+hcP7B+7ltMFSgm2JiN8myN8oFx2COdQShM8pFEKcUPSk1RujW1WyCYBr4i0YjQYMhwPqLOSVdngzSZCZXk55/zZCmc11XTG8rRBRAZjK6JU4taaqJeh44YutMR5QpLk1NaAtKAsSlmSOKIxG6y7dYLj41NkalGp5bKc4wjEKiJOYWs3plspFuc167Im8tGGnptJhG82sNOLOWd9T3c0Z7vQvFKkfGnvOXqLDvHuKTESM1sgvUNPeoS9HONjqlVLYgypUoj1Em028TkRkKQZjWkITUvXNRhjqKKAyhJMogmJJMpjtoYj4togg8c7B7bb+OmMxZuW4FrWszV+Dm11Tm8yYavXY0jCuJX005gHvuJoOuPJs0fcee5lDlD0qpZsviJTCS/N17x58pR8XfP567eYO3jz3/whWQSX5QeU6yXrrt7kdulAkfUoF3OKuA9OUWR9tJNc27lCaDq8UVycLnn4+EOmlx3Hz86xdcvjxz/i61/4PP/o67+Kape4+TnVcoYXAm8+uuAKifOeWAqCTEiiGB3ABnjj+l1KA8of81diAYOCbLDDZVfTPppTz9cQiQ00F4hjidIbmo9UHkXAOUNXGyQNbdUw7PeoZkte+szrvPfePYos5c5Lr5KmGe/+5Z8gjy9Iow053DlH11n2dwecn59jvSMSkp6ISFQMpsVpmCYen8dESjHICvSoD0pReU+cF6yIeVxafnR8zs7umN2iQIzGuG5GdTlH9DJcL2LZrGh1y6yueXR0SFvVnFS/8AZ+7FqXFUI6JsPeRoU8KjAddLXFiQ2PLU4i0rFi9/qIJnXMThcsnm1+5GA8KoEoFayco65rXAtKaFzrUIAMCt85FhcrlHYIJfANnD6Y0k+36LzHuA0ZOibFtoLWtiQp7O5uo+KI2bSiXFfYrqWrGxbTOTJzJKmm9R3OWdI44cbNA5TXHKVTnjw6xMw9VVNTpDnjXkYUHO5yyuWDxxwMU16/c53PpwPiJ4fIlSM3AmsbwNPfGiIGKScXZ+g8pZenuLpmVS6InCNVEq0163XLbHGJzyJcEcOwoLOWy64h0pq6XDPoF9y98zyLcs7WICWKFLbbINAEHrwjNY7gDLapCM5Try6YNSVZMaDYv0G/9RxkKaWH18d7yKdnvHHSkM4WZOuGYWPQQRDHKelzBxzOSx6vZxAnvP/+T/nOtwIHr2qcMERZYLFckEWaNI7wWUJrJU1lsDaCpCCNh1TrFknMg4dPWKwc9+89ZBylTBcXfOkzn+Q//w9+h/rR+8i6pL48I/MdHRA6C84DEinYeOqk3cA+Io304LuGz790l8++8jJX7t/j/fNTfnL/GSYvmDkQk5x+Z5A+EIIjSgRK/btYLE+caAQxxkCmPYMsw+PZu3rAfLVkUVdYCT/74D1eevEVZuuSK0phqg5jHFGaYghkWc7Z9JQoije5260lSChizdo71jrgIk0UxeRJwSDKcdJjgsWGQEWgi+G90zlTD+76hFHeozSXeBGQJtDbGrMKjrNFzdnikidHp2gbcP4Xn4Efu/a2d3C+Zb1e4L1EJwmTnQnNak296vDW4gCHJctHpLsZKvEIC+3MYteWdTdHrDpKb6nWLbYOSARFluKVRUcRjkDwYJwlhA2/7ejeDOmPaPOO4/MLLJIilwSjoAPVk9x84YA0znggD2m7iq4OFFHGMB/QiiWuswTXIpKEKBaMBhmxSKGDrq05tS3T1ZzBdo9rkxGZDKxODvnN4S1++bUXWT5+n6uVpbxcEqIMsoxeXhCUxDpDpiTXfMr6rMSk601AXyJpuoZZvSLtZ7itEcs059h2zIoYPxhyuVyyunBcS/t8ducOe1FKsvBsMWJVnW/+ANIEoT3eWzpTYSOQXhGnMcp5ChsROontKurZBZkq2GsCohhSdPDSnU8RvXuP3FoSHXCDgEk1p6JheHFOojJGWyOeWIPfGfDs2Vus8pQApEUOeFzryKViNOxhF0P2X7rKJ9/4ZZ48OqecNbz91j0eT5ecLQzPnp6iguJgkPHP/uE/5RuffQ1zeU7sV8zPnqDWSwDawGarCgItNsF2znvSROBaiY0jRBQzSGJU29DWHb+ye42v3HyR487znZ+9xQ+eHhL6GQvZIjVEkSJJFVIKolgjg2c83uLGwW0+9Rp8/y/f4fjpBZVxGAnv3P8ApGO9WvKdH/yQN3/yFrdSy5bIUN6jo4iybZBJH2tAqQTbtWgizo6m9HYHpEPFsV3jJynbB9skMkLMOzi84Gx5QWktaZaie1coLdCfsEx6zOMc4R1Mdji9nDMYpszKEndseNpVzBcldIGw6qBxH7tXf+6HVTwWaNdnfVoTG4m3hvEQ2iLiUjSsFh3ep5SV4MHTJbeLPYa9IdXegtBvCGVgeRmoK4HoNCoAqUUgaGVMECk+dgRv8a1B6QghFc5q6lZxcdrQiZKu7ji4PSZKGvLMcXZqaDtNvYqw2mGaBRKDkTDrlvQYEXwfF0pSLbC09HxC261YJQ3t2DO8lSGWgoHqY2crolFMv53zX372DbZXgebRPfZVjFlasnSAjxQuS7FWst0VuMsZjZwyHVW47cCwBG0Dy7Jm3h9hbj3PYd7jWTrnuJfzoFxh1oHPm4T+IuGLL13l5WjM3/zPv89bTy/5xj/++6yD41t/+D2u3jzgi1/9EsgaQY0joLohWgaUWCOUg9YhQkzkJNGixccdxs0YzmMOJgfM64aT9RIdJTgV44mRRrOVJsh8gO9KrnYlV0XEze0rfNtn3K8l+0LTu1gy+PQO98snZN7RDxo72ceEnNZcIRscMNlL+IM/+RF6aVkdHaHqC57fH/BPv/ppZj/8c/JbOyyPn5AuTxnZGXV5SddZ6n5Hr5JEVhJ0ik00LniiboDA4bzDWUtSxHRtIM9GdJElUh0344j/8HOf5IaCv37nAadX4FKD3hrSSciJyK3E9nP2rl4nCSCF4xtf/xLn0yX/x//+R5zcf4yxgWQwZFWtiNMNKOOiXJHtRgglue8lp3jyXszIgDU1eEVtIlonGEjJ+6ljahRbw12yJsO0jvefXXC1Vlgrab1kKxtTnVXkRcwqKtnZ2WKWp5x1DaGfkMoRRZHST8ZcLNcszi+wwaMCREpTx7+w23zsWkyrjYm4hWHSozcp2N4ZU/uOLBpwoReczxbs7+6xfW3M1iTDBYO6dg3vPcuLhifrM1zXgMyJi00kiYoShMzoWsB6rN08NmupEEHinEPguDybUmxpnrtxneu3r9GYhsv2kiKXlMuKv/nRW+SFJtgKa2HvICdKLMvFGUnaw/sO6Q1+WNAGmB+eopKUW1tXGO4O+cHNE3ozSXf/kK/ufYIv3/o85m9+iPIxfSnxXUPRH6J1hOs8OI+xNY/rI6JCMow0202KnbU8ruZUOOz+FsknXmaaJJRJTJRtEZcrktMF3cNDdu+MefHFWwxVgKbjyku3mTx3BZtJBknGl778S6RFukFbRxk4QdHL+fGbbxNpeOmlGygtQQeWpwu+8+3v8Xd++2uUzQoRJNV8RRLXHN1/xCDLN5AI7xBCEqyjrRucqcmKFOk6mtaSrFs+fbCHtRYdSdbac/Tjh0SJp04Us0wzHuTcvHKDD995hx98720uLy/R3nB6co6vLQfpiBeHe/z+v/iXvLK3x+roGfXZGatHj2gWc1wcsUAjmz6N8bRdoOocoe5InMdFK3SskVmM7VqsaPAiwbiOrJdvrnxS4nzgV37lK7z+mU/xp/d+yLvlBesAa5WQ5T2ClewNd+jHfSLr2N0f0NWe3a0BX/vGV/jTP/sLZBxzcTmnP8wBx3AwJl07GqmwOE7LFZed5eqdWwTTIkOgsS1l3SAyTaUsvWHBcLLLvHWcPjpkvazQUUyT6E3yZ9jEWhuz0SQWozHJYMDFuiRJYqJeRh0CM+XR3nE4vUBFCc44XNuRJxs818etn/thVa07FucrMgGTawV5kRClikgPSJM+SVywamv6g4xBr49t1zjh6Pc2cEbpYg6jM6rKkKZQDAqKwQQpJcvSsawXRIDBbegvkUIEhVu3EDzCW5SIyXSKsJL1rOH8vMR24DqFbQwr01D0NdvbBTfvbpONNdZLVqXBdh29JMKEiNm8ZjarGA4jMhRRa9jZinjvrw/5r77yJT4zHFP+9c+4biADyCNaLbESlPNELiC7BkmD6BlkBMtFCVOJMoppr4++uoX61Auc7Y45rht8ltF1HVo5tkPMy1sHfHZ/hwECu2pRTnD9tRcoTUM0LhB1x/7d2zx9/z2aZy37z99GpBleWLLemNn8HJUNCcHT2Y7ejVt89us57OwyiQ8gOPpVjZvXaBuIs2hDkwGshyA8wgsa6/BVy3YvJ5VQzleMk4Tnxlsc2RV2e5te7RCnM6rM027HvPLcNV578TX++R/+C+yqY68/4O2fPcALhfbw6rXbhMMj0g6iOOfo/oeYxSVxB9lwi3OpmScRapViQotIJa12DLRDNzW6MVhjEP/umpc4VKrYvGxtYnSc2mTNt6al3yv42qtvsHXylHcvzzlLYnyUIIoMqRNqs/mEMiIgUk15OeP2a3f519/5czLlef7ubU5PT7EB5uWS3EuWzuG1ZmY29OgsynF1icBibMN8bfFbCdG4z2R7yMJbbNeQxwkkgXWQxNtDei4nE5JkHajKM6y1G0qTkMg0RaSadpM5QRMlnJ8dYSU0rSGEDbegaQwi/kXqwseuWEXs7424urPFtf1dsjyhajZYrTTvsXst5uHRQ5p2zeWZZ9EcM5qMuP7cDaI45en0FIRjb39ElA9IMsXN568gheb8omRRl9h5xdbemGJQ4LrA/KIkSkB4QecMXVPTtTX37z3i6OiUsg4M0xF0msjHCOGItKY3mNAbSLxoscbTrAyxDCSqR9ykPD4849J1hMLx/vETtqXkxsmSf/a7v4F+6wn22TGZdBR7E0RjsXlKpzyd9sQ6QVuIq5bEOtrFgia0PKgsj5Nt1PYEf32b88gyLZeUq5JgLIWMiAY9XlMZn731Mndbi5rPiLQgXnyUbX91Qqw6GhHIhYbacTi/IHMDtkOEUhmNcTz/6c+hIgXSI4JFB4GMEq7eugvCYqqaxZNnbGcZTx69Tw+oy+WGnozCfYTAEiikVmwNRijrSJKYXWsYT0u8TYi2NNMopdeOGLc5T+sS2xtz+mjOH7z/h9jlgv/4d36Pb/7Rt6jPZ5xry+3xkF6aoFcGqWIOblzjxTdeJJiOh48f8fbjZ7y1WvPECqazhovZjGVbc96VfOWVHa64hr/b2ycYQ+YFMRpTd1jVgo6QJhAV0QYAGkU46wHDtkoY3nyRV67d4bvHhzxt10yNZ+o7ahUIvuXD5QmuseAFLJZcf/6Ah+8d86svv8zzzz/Pg6cPOTo5YbpYsxrErOuG1QawTFNbrGtQMtA6SwvEoz4XwuLPzkknYxKV0Ov3iGRDGqfI3T7bWmOqloiapT3BIxjub2GkQ2iFVwKXSrLxiNW6YtatyIqCOERoIpqmYn/3gGz4CxTXx65bNydMBn1uXtlHS8GqqlkbGPfH5L2Csq6ICkG9WkDXIJVCmAjXxDx9dMSzp+dsb+9xsLfPbDVjVc9wfoSMEvJCMRzHmGC48/J1skHO08dHqJXFrBqskOgYXnj1NpOdEQ8fnuK8xLSGJhhUJ5Be0JmWuu4wtqWq4WJ+xulJRSIKiiwidgFNR3PR0diOs/kJWYBPv3Sb37vyGtO/+Bn14Rm7r98lHvWp0oS42JBoUjyRr3F2Te0s00VJaxrOO8c8iXlvNOTJzoguT9nv58yd4/6DI04ePWGsY2RdcX3Y485Xv8ZWtSb3EtkfUa2WfPsPvkm9XvEP/rP/hNAT6H6KtwKZpnzha79OQNJZgdYFeRxBLjeUlI+AqWrj5oYAoQ1cnszYm+zBYk63XoI36EgipCQASIn1HmtbRBpj1i1WBKxw5IOcsKjYPX2GszlHcoemUVQrwdbgCnuj26xmJU8ePiCLY/6b//a/pqscnkBIOi6SitNkzUv7Q+xFwye/8Enerk54ennCO+0p3c0RJyvFT378gEuVcdY4aguNFDwqcqZVxV3Zcv3aDmpZowK0qwaHRKUZIupwAaJRDysDcSRRCDoEedBcFTG/cfsVfnZ2zE+nxxzHjnXdoFO5CXWUnmpRMTt9BLZjd5zx5p//GTefu8N4d4/B/g7h8UMyaRFoikiw7ALn1Zy9NCLYFiFThls5UyuJ45xm1RASBSJCphG9ok8jLG1ncZ1Fd3B5eEawgdHuLkUe0bYtmVJ0VYkWjtYGjg8PET5AJ/C1o7GBq1dvsb29S+N+IV342JVlgqIQpFnAWkfnOgajIePehCTPaMMmh3w1X6CFJO9PcEZy9PSM6WKJd5sF3hiHZMPoa6olpPlHKCxPf5CyfTAkyTOmsylONAQsrd/gvIfbPYbjHttry9nZkrIuAfDWYeoVIgGpBC5YIr1F8FPaBpJEEYxgOV8hlSWPezTLhriD3/vlT/Lrd+4y/asfsTw64/bBATrJMVYyiUc00qG9JxeWYBvq1YKmqyiD5jx47u1tU+5voZ+/zZZz1KsK4WK060gbja48ITGU8zlfvH2Hm0mCrBqk1qBiaiJ8iOjlY+gEidU4FDJJaYwg7fcRXpJGGfPDY/Ksh+4lgCAIzSbBaxN/G6zBzFfs9obQtfi2w5kG4xrqdkNaiZJss1UFCMFja0PbBpJ+gezllF3FXhaxvVpRLww5gnVbkI9HbI22ef3KC/xP/9v/yt0X77C7u82f/9mbmE4yGe/T9iX7r9xCpT1iE+hmjqdHz/jR+fusc0F1Zx812aE/z2h/+ozZxQw6j648vTzjxt4N4jrlg5MjTB3znI6IvSRNU9ogCNagUXTOEUmxkSmoCBGgyzNE5dDW0Q+S17b2WJRz1t6T9PtUXYXsBPNZxfzZOafTY0QnsOtAtYKjZ4fYWYxVnrtpRNpZUq0plKDSgcq3hCjF+xYkBK9YVRa9aun3JjizyWFTaYoVgQZLYiWZjkmUYtn6DTgiSRDBYJolCSmDJCaJBMtygTYNSkVkOhCkJ5+MSbMIoWB6fvaxe/XnflhpM8DUKVWrCAK8kBRFSm9ngDEG7zdreRJnTHZ32L9xjdl0yTtvPUSKiK10n/nFlGq1xpUd8TAhyJTKe87WM2Q/4tpglxvXdpBxwNR92nJIcXNCF+YY4xFqE1ETxIooVqRiExMsM3AS0HD9xi5Xb1xla6iItl7myk1LvDaIYDg8OcIMe8T3L/jMAv6jL36Kz0SB8vvfJKtbru710FmfXr5LsTtkTU0UOvzlJWLdEJUrnmrHW9rx11rAwZjw0jW2JnuoOhBlKetIYc88wioOdq6wF2WsP/iQv/WJX+PXr77AsBvTthYbWQIN41HG1/7J13E+EIYpyBhrAkQ90kjCuoMk4q03v8ebf/V/81u/+/fZzyYYBeQZkQuE8zVoDRKiaEg5nZIHT1Mb4tEIU5ckpqUsS9qmIokzPIEsTYlUSm06lvNLMlMx2BpRKkU7SRk3HZ+fz/lmfczpaIfPfe6rfOubb/J73/h77Oxvs1gvEQQ+8cbL7Owc4K9BnCpC1/D+s0vuXB/z/X/7R1RXDyhHMWeDFq9XmNmcV1++iX3nfaa+YeFqiv6A+2fnXHnugOPZGcfzOcNim6w19KTGxZpOBSQdqwBu1dLTGVGc0mlF5jxt4uh0h/UtSWf52sFVxrMT1pXj4OUvkG/vUnmPD5bupOTk7JzTixn/17/9Yy5nUwbpiO3xFtXJIdHOiJ413FKBeQ0PVpY7A8XOWpBbw6yrOKwjQtMjK2bk/R7bB9t0CA4fPSJTmlkIjNMhKgjW8/L/Ye/NeiVLr/S85xv2GDumc+LMOWdWZc0sslicqSbRLbVsC5YN20BDuva1YcC/xhce7gxDUkuWIQ+ihGY3KZLN5lBkVbEykznnmU/Me97f4Iso6Lp8TS4g/kDE/lZ8e633fR9ETzLYCTjqp6hJn6AXE6cRoYKHv/kNW4mmUJ68nZNtD5CqZbo+4+TqDP54s/ritVqtkMrTdT3COCSKIoIgwDUGhSBSGuU3zLM4SZhMtjCtpasr6npFfzRAaUWZF0Rakw1SpHIY71FA07Q09YYHF0lJ3EuZ7IzZH1/HhxPmsxwRCAyW1nagPDqUREoTKE2SgopgMM7oDSLSRDEYbjOfLmianKaxEAaUFyv0ouAfffcDXtubMHv+KYGQBGEfKROiwYDJ3ja1rZCuwq8WtPl6k4RgOp43NcdBw8FbX0bsDDgWjsuLKZOghxEQaE1rqo0aOwzJBiPiIEOuGv6Pf/6v+Kd/8V8TyGADMw0tBJKokzgpMVWHVxAl6ecuHEMnHKF0XH/jNf7xzWvsHx5CXRJEMZ3zVHnJL3/017z//lcIegnaw+8/e8Db927jnNu87nnHMElp2462bSnLkiAIaHyNCwKcMThvyFdrwiQizXrEMiBUkoG0qGJJnMCnHz9A6oSvf/tb/OY3v+LTTz/lnXfeYv/GdfrjLVaTDttVdHXBeDxGL6cc7ezz22WOjPvUizXrvGJxWRGtFOPtLerao3VM0s84PT0l6Hm2JlssrhbkWrJoOlxnUKmmazrCMMRUBc5YalODVzhChGfzEWLD3fMbkenh7h5GRRsFeVmheinWGEbjAU5CXtfcvn2TB8+eIZ1jdzTmzZvXkE8fbSCrQUmqOmZFycVc0XMCpUI6Da1t6cqCui2YLReMt0e8+d6XuHvtLp989GvOpxfMiykmb7DWb5pWUfPowRN0GBBkMUkvpZ+lBGpAmhoauyKOM+qmoemWBDrFOoG15guf1T/4ZnV+fonUglGZ4YVHhQGtsawu5mT9PkmQkGUZz1+9JOwlTPIt6i7H2QZb1cRbI27cu0cYKxqxRCWQDmNa01EuNGenZ3z20lN1LddubyPDhmyoCbMCE3iCzpPXS9pKYHRFNgkIwiF1UTIZDxkN9tEx9LcinC7pBVtsqwRsyc9fnDAv1qzbguFLxz/52tv8yXZM8/RjAu9ZVh7hE/qjEVs3Dlk3c1y5RBZXpJdrFrLjQnk+8zWrw0OG79xn1kU8eP6MTy5fcHCwR3bvNRIlaOuaIi+xcchOGhM+v+Lbe3d59oP/wDe/+mVs7gjGfaAC4fDA6vmMv/7xj7j/3jvc/8qXcBaevnzEs6ev+PB730GNEsKeJus81ctL1sWK3ZvXEJHg7NVL3r7/OrGEf/Nv/jVfufs+v/v1L/nK/busmoYgTgjTgGq+QkYpkY5pqoqiKAl1gA42w32NxwtHs1gjWkM27pPJmEQrvre3RXXjHv/7R49wUcZ/+9//D/z9736Tn//sZ3zp732dn332W/YnCq9j2rJiMb3EffaI1/bv08xzBrmnUDXPP3tIOQq5+d4H/OJ3H9GWllBEBJHGmpwohvnlOdE7r6GCkF9frXgnSrlWt0ysIXMWYeDq/ILx/QmiNuA6vPV4KxBqIy4VQoAXKA9jJ6mt4+XDR1wZSxkFhFlKZOD49IQHjx5z9951XnvjLv/yX/5bHq5+SXr3Dq+rkHq5YDfrcy/2XFzNeWgNyXiLQT8hL3Ia3eKoGUUxzgt+8dNfc/lqxmRrm5ePTlnLgn7Yx5QWrCbwCSb3rHJD05bk9QVBEPCd73yX9978Fp999hmjaEbdFLS2pGormrpDtC1xb/KFz+offLMKwhAhBOt1gQwkoZSYpsTXkCQJCkFnGoxvuZhfsHWRYEpHPw3oqYA37t1mtDdChrCkw6qWzlV454m1IBCwXOU8fpzTyYLdg5AollR2jpcKlAe5GeSm/RApNYVoqZs1YSwZTTLiVJOONUjHTn9E5jR11CPSAdJ5xMpx1MI/+da3ufp//zmxN1Q6QUZ9tkY32D08wGuPqwqErTD5krasWSTwIoLzrS3SN1/nNAj4m5/8grPpOTINSIIUFcVEYcJqsaSoK2TgEU3Ne/tH3G4C3v2TP+Pg+hGPHzygNhXv/8lXQVq8gMXVklE2Zn/3AG8MTmmiJObDDz6gn/YwxqIc2KLm3/2Lf43a7vGf3LiG9HD7zl3Ia84eP2Y8zIgjzbe+8XXAIQNJMh6QRJJWRSznc1zTEsYpzjnaskbY9vMUVovUAt8ZfGcp2w4VabSAkZS8evqC3ijjyiuWVcH/+L/8T/zp97/FLz/5FS4NOVucs8WY1XTOq2ev0HnFmbfcvXWdSXvG/PKUbQ+7/W1MWdL6DiGh7Sq827AS4yDk2vUjfJjQUdEkKa/ymh0V4suGntY468B5bNsQevkf87SkVwipEGIzcEdoFNCzAuEsfSF5+OIpz8qc7aMjkiDk+fErFvmMJO/x9v13+fD9t/nNrz/h2cuX3L9ztDHdG8NOGDJizmVruKoNrpdyXrXkjSNMaprGEcYRSikuL6YsLpcoJ5FKsJzPUVYR6ACtI0KdkPYm1HWNFjk6iDjafZ2rq5a93df53fGPyfob2EoQB5jUoAJN80e7zRev0dY2Wb+PwzNbLInTlKbpUM0KehInHC407F3bIoxDgp5AK8HOVp/t3oTbB/sUqt7APGONp6Npa7wDqSw3bk5odzNEYpCBoexKrHAgJb0wo5em9HsZYQTGOFaLjuJq4/+bXl0xHsREcZ84CAliTeIEsfGMs4ijnSHDtuL1rX3+u7/4B/zN//o/83oP+zwdegAAIABJREFUgmEf29/h1vU7bA0nLOdXbKmYJ69eoZSlNi1FGvATs+Dns4rRm3cpV1f8+qefMr9ak4Ux14djIqFoheDs7IL56RXrsmCyvcftLOJrgwNGnYKb15m+POOTxw85OtrHmw4hNdZ23PryW9z66jugBYQbkOnhjesIp5Bpj7BtoTEsz6a4uuW9d76J/xzWhOuQbcH+jUN2bu2hbML2wTZI2E6PQNbgGti7yXZe8OLJYxbnp8goJpSSdtYQCYEXDus9KtQ0VYVMAoSUxJEhalpGRmDyObVQtL4h3h2RXp9wR+9gheBiOqP57IrTV88wjSHNtvnlbMYlmg/GI4a+4b5PIBryswdPyQLNoDfg8vKcJI0ZToYc3b1Gf2vAYm1YO8G5NfhIcyk0/balrSuG1pFFKb4zSKFZXJ2TTsYYIwl1Bs7RGo/0ir/+4d+QpSnvfvAVCBXXez0+fvB7bONZW8eqXkEccLq64uKnP2a/f4233n6HTz79mE8fPeG7N46w9ZLD/S12AsnCOi7mS46LgplrOLy1x+Lykms398nrhtq1NHVBZz3KCHRvw5TscFigK0o64Zi/uCSQCik13rf85f/2L7h+9y4oyfn6hMlOn8l+ilYRVVWRlwV1577wWf2Db1ZJnBLECTIw+M/VtNZ6Om0ofIEUICPPaDsl6sUo5VGRJo4UyjusaZnOLinaAr2j0CloFeI/z8bSqabf02Q7QzoaWlnQdQUdYJsGLQN62Yg41gjpiQRc6hphNaEIkQSEIqKtLM6Bkx2LvOKiK/CmYMca/pvX3+HsVz9hFIckgwFrBOOdQ8LekNLlZImmODlFt5ZKGvIo4bfa8nHheRFuUgHyxQWxFhwcTogM6LalK3MW6xVXL4/pljnjyTZ744wJMGBDZC4jQTTq8f43vkrWC/AahPBI5SBxNE1DGPdx0mLwRMkAF4dU65ygdei6Y7g15jv/+B+ydf0I/7ly3XQtoZLgO7yAztUbA691uK4hjBx4j1MSuT3iun6NuirI51OiKCBOFVVVoZMAKQWt6Qi1QpctaIlIFbHrOFQp0dkxkVTMpld87fvfpooF5aogtgouSqSIGPa2iFRK6DaUodWiY97XROMB68dn9EJNc75ia3fIwd4egzii6grefu8+4VafTniSsmDhDHmk0FJzYgUDFzKIAgYOeklC29QkYYJ3FiUFSkDXtjgp8U4SxQlaBpwfn3L37hLZT3jzxi3+3d/+kvXFlCLs4QNNa1vy5QpcwGK6gefeev0OY7eksR1BoPC25XB7zOnlFGEMUW9E5ALiJGGQ9dBpSKgMiQtoXUlVgPYgqg4dBlgEOtQ4b6nbZpPHHyqEs5iuw9Lx7NUjkIKjO1v0+zGr5ZLalBjTYr2DjejkC9UffLPa2plgbENVVchAMsoSEAGFKJnVS8DR0RBE0MsCpN5kLyVRyNFkD2ENq8WCVbWmLS3pKCAdaWTg6Y16XBxf0bULgtEuMg5pmoqmqXFeEGlD1MtQThDKAKUEPnRgNNWqQw9i9sYHRKHi4uwVMhDcm4QgBdEg4ks7r/H6DUf/8QnPHn3E/s4eS6vYuXaT3uSA2gtMPaOa5+jLOaqDcNzHDkMediueuojw4Ii1M2RxTDjqIfoDgqKlPp6zvLzkZZOTGsl2mDLeGTLIIm7pEbIJwVlWmWdiUu6O726eJl8BBuEsVWggFDTagNiswAlCprEndAFaWBAK1zSM37oDZYf1m+G5wGG8QccRXVsQpAlaKsr5kihSWNcivKNEEDmLiiNee/tNTp494/LlC3phhJeC2tQEcoNkz8KQfgOB8QTSMYwlSWn4R2/c4//61Ufc+M/+nNe/9WXafsBP/+8fUlyUNM+nXI4HZNkI7dakjWdCTNwKfvTgY0LrGEQRs5NztqOQ0kmksbz5+h0G4wE+FZSRJxn0KBcFVlmaJMICH18tCbzk3vYuTV0ThgEvnr8guXmbONDUZU5IjFYaZyEMIqq85K233uLR7z5FS0mgA9Z5zv2bd/jxbz7hlILBwYhOemQvxTYwHO2S6JSr2XPSYUazXjMKAzye3a0Rb0SC3z++YjqfE+yOmc1mHI7GLIoFvX6K6gR/+g+/zY2jI/LZlE9+94rfP3pGsW5IEkVdtnTGoGQEziIlhNpR2BIJ3Lpzm+FWn9V6StXmGN/hsRjr8ab4wmf1D75Zvbw4Yb1cU6zWRGnIzn7JcK9H3labzCVviJKM64e36KdbTBentLoiGdTIUKADRX+wTdgb8ur57zk7WbN9fYd0GJP2LcNhQFF6ZtMlzjk606Kk4+DGPsMgo6wa6u6c05miWSmuThY8+ts5qzUs04K8XVH6lqvVMYNhio0PCb3mhoW3m4DeasaTx79hFKfIXkT/YJ/dm0eUixWBl3RXK5p8SSFXtHcPmW3v8XJ7j2pxwfLsiv1GcZT22b0xwnvLQPWwxnPaP2eVV0SmYyVKTro1bwjDu13GvtjCRBFaCvaNwSYdje7wvkNaS9gKpI2IU4XrNqZuGQY4FWJxjFYKaQDvsMIiEo1XAV0PhHMEVY5oHSKIsU6i9QjRBrhQYE2LzdeEoqL2DWGzwgQCupag6rg27BO7XZ49OyNxjrFWOCEIBgNcXVP3R0gVEhnJtM2J+zEfiogPv/9tfnK4xfPuimWZ4NcFs/mUV36KWBXM85CqaNhRPfpZTNcaFvcnjFTMqyfnuEZQFC3vf/UtrnTFylb0sh2iYcZO2iOJYurhjMtzgVl6fNSjSiUXZc71cY/mokG3Al1IZB2Rjfb46S//jrt3bhA5CYHCIUFphqMt3vvGV3Ha0rmKgXT82Ve+wvPTU16eTDEednfv0K4bnLRcTC8pTYdenhH1bmKaDhdAHFSkec6N3oj8+jazFzPUVcnW9QGtaGmahqYteOPtO7z+7k2WxZTj9ilOOpZVQ9yHG/cm1G3N5fycLN3Ecg+yXbwRBDoi60UsV+ecXh1jvaduKwwGoQRCShR/NDJ/4Xr27AlVUYP1yFxgZYtPdvGRxH0uSpSBpjcckKQ9MkbMm47atZjQgW5x4cbn16iKdVcTFRWdMSyvOgIJ2XBInCWsi5zp6hKRKCDEywTnPMtpw2rRMDspWVzk1JUkjhTeCy4uLkCVON0SRhlX1ZI9QkKrCKyinU6ZpD20D9FBzN7BEXVZEEWarqyQswLpHWIyZrUz5HwYczoOyJqMtuhYz9b0773GMB0hhCdMYkzniPKKJNCU+YrQRwx6MdtqSCYy+r0JvjNYZ/DWoYXGO4NQIBqDWRa8fPSMa+/cJkhT6ARtWxNGG7qN9xbvHXiLwIDU4Czh57AObwEEQoWb2Z/QuDBEyA7RNVAX4NZo16ArhQk3hlpT2c3GTMP4cIfy+ILOeIwzDLMepqyx1uCMwLmQYdbHOMliveDo6CaHlcFWksp0tM5z3haYcUpYS8gNmdWEQnGRL5F4fBQxa1rObY4TjvHeiH//8//A3S+/wRt3b5MOh/S2tkBpuq4j6TSpCLmyLd639HTAKBkz0iOcO8a6zau1w7JeFTz67DFxGHHr/i20lCAs1my+O4vDsomJjoTAe8f7d1/jcSHxusfF2RWr6RI6S+kdRsLAbCQoURCAaemaFqUUojHoWNOlEicdYrUilT2M6xDC0zaek+NLzi5PeXV6SbtoGY4+B6I2V4SxYDwWDLcHjMfbbI0PqKuOF09f8OrqBKkERgR471Fq81w7L3DGo/9/tKA/+GY12hoyHA4p1uV/pAeHYYzV4FyH1IJsNKSyLZqOZZFvVNHGklMRxQFdXNI6S+8gQ41ipA+4vFgxe5ETCMGdW2MOjobIJsXmEZGMyGcGNVaYJuXqxYqrkxXz0xLMhrCTJCF7e3to7cnrisPDbaIo4Gx5wZ1snztxD//Zc8J1iQL0cMzk8Dpt66jygu00JF9fsXaGNo2I33qD39ZT8lgx1QbnPFXRkC8K9scnSLdR0jexoGgqjvMpTdvhtOH60SGj8YC79QFbfsSD375g/2ifLE3QQgIN0gdIEYC3/PivfsDqYs7tN99l9uSCh8cv+Mb3vw/JYPOdum6zuBAWJGi1yX+iFajGULce7yVJmOGNR+oIH8UocrQz+OUMzArvK1qbsCCmlBofhpstpHW4xSXZKKWbFVgBdWvYGozIyyWuNbhGIKIQ7z0eAz1N5AwjY5CrloOjQ7KDCTNbcvHJMc3FnLFIiYXnVTVHj3tMbMSz0zNy5fAR3Lp7jS/vfI3J7X2GO9uEaQ8jNRcXVyznS55+9Ji6MwShpsNC1XFvcpd4KZDCoyJBNk4RoaApWxYrT123OAdd16GkRwcB3rTYTuCEIw4VojW4suJP3/0S/+ffPePibEGuHFVbbrKreiFREnHncB8pNkmj2gp0EGxuc97TaosdaNbLCrqI+mJO3A9wAl49O+NqtqC2DWXtkK1kuD2mrlqKvCSMUq5fO2Tv5j5Sah49fMzx6SVIuYn+QZMlIUoGVFWHkmozf7UQiD9uA79wxb2YUIXIz82vw+EQ8fk/vbceFSjKsgSmlGVF13WbQ9xV1M4iLTSiJc4Srg1v0LWOfNbSFIY8qGlWhrNnM3ybMF/NaUVDGvSwa1i0JV1jWZyWLM9LbOWRQhLEiigOkBKGwyHjSYTUDVoHSNMyQrFlBMV8hfzcW6bSmP54xGK1QglNU5aspxfMkpi7H77LDy5fchwIeipEFy3TfEVrOrIwpcwrjo9Pqf0IYSLm8yUn5ydoHXLz+iEH2yO0lqS5RHSCp4+OGfS36Acxjz75jOt3j4jHPZytkEHE5PCI1+6+CSLks98/Y//eHazUKCTWCJQTgMR5QRhqhPuc11V3nDx7iZOC3YN9nNfopAdOE4QRrq2ZXU3p1w2RNJiu44qYmVQskXgn0FJyUZR8eWeL+uSKKIoouobFYkk/TOjFIXlZIADhJWGoCEMHtmHn3n1myzXtfI2tSwLt2Q4kq0iR9BN07ogTRRxF9PZHlJdTtA9wbcNwmKGlYDDMyAYZSZLQOEte1uTriocPnvDyyQmDrTFagg4gbGq2o4SwKBBO0DQNvX6Ko6M/GHNzt8/e3g5CeLRWtKbZeCalJo40rbOYrkHjCISiqQt6wkG7+eMNo4DDnX2yyZiirvDVCnAkYQRthxQbe1IpOpxWdL5FRxLTbWaGTWnQoaIsGnygaNwmYVS6EF9J2kZgOjCp4vJkhYoGTOczjk+vQEq8C1E6BqHpbIdxFi8kaZjQtgbr/IYf+QXrD75Zuc8HuQ7PcDBgONrCBY7UW0SSYF1LWebMrqYoFSGtRwqBdBbvLcZZZKhIehE7k12s9ZT5C/rjlMl7E2anKxYv1zz8+BilBUmmaCODCiTz6ZL55YLlSY4yCgK5oQ+LmqquefJ0gYivsb3XQyNZLVdkZcvBndvUD18R1hajPeOb1xnvb28iOVRE4D3zly+JnObml9/mWZnzsG758bNXHLWGwAnOmjWD7QEHW/vs7R9wunjK4tUUcSqpW8O1wyP2d/cIccgiRynBUN4kP1tw4+gWg96Ii5cvmb14xZ23XoMgRISSCscb3/0uorNgFIdvvsPNd97ARxqL3Jh1wwGuWuEIEDqGzmEaj7ha8duf/5rv/vmfoVUKKmU1r3n02Qve+OBtenFIXda0syXn9ZRKGNxYs7Qh52WLW7YcDvq8Md5m9eIpMq9IRUQvTJkWJcenl7xzb4dAeYqyQscJYRTRH6Vcnb9i8s6HfJhd495rA/7y458wa2ecXD1jGIPNJDIULIs5/e2UKp/x8vKSumw52Bvz9Q+/xpe/8i5CSXqDlKrrWC9WzNc1f/PDH/Ho00c0JQyqjm996TXW0xO+dfcebnrM4tUV62XO/Xfv0omaztf0ZMeb928xGidYVyN9iBQBTWMIZYjA4HE4ZVGBonUd3tb82Xff4p/97Icc3Tnk+r27vHj2ktPL58RZShhIAiVwtiOOIkzn0Drk2K9YGk9PeIzzZL0BdWdo8oJGdSQCcrEg2+mRDvusZy1tXSOUwhrL9GLF0bU9Hn36mLwqUIEkSGJkGBMEfZAKfI21Fmctdd0SKIlSHoLgC5/VP/hmFcUBwimQfsO86/UwyhA7aExF2xZU62LjeWAjLGyM2cSRANY5EpWBUwivUcrR7/eo1yWBFOjQE+iUQHcEShB48LVncb7gsi4xlUOjMDiSXkTUT7Cmo2kKrPUbxFYqiVA0jSUtWpbHl0SzFWnn6W+NiIYDdCipqxZrPa0xdI2hnyRkScavnjyiwvHw5Qln64Iv3b2LjCS9Yca6yGnaGh1pjKrRaPa2J9y9cYswDHHFktBasiAiISTuRZS1IRASYRxv3Xsd1euDsjS2RaUpVd4QBhoVJFy//wY2DhFaIbRAuRAcSBkivQevECpEK8vl5RVbwxFp3AOlQYSUdUGgN7dffMvB/hHxIKEqxlxVS2QIo51tbqVDRjagOj0lP31JV9cM4hTReFQUIauazhqml+cMRlvgPFVZo9MN5v30/JT+746JtiCXBZG1xBpWi3OWswZfWaSVFE3FWEY0+YJiAz/ia1/7Bt/8xtfZu33A+fKKWEquzpasy4Jf/N1HnLw8oWkcNs4wgDKGtO24MchIypznV6ckyQQQOCzedVhXk/YijK0JkhjnLJ0DrZKNQNRvntfG1qA0QkuaruHW0Yi33rhGNxnwm9/+gmJd0huOadoag8S5AGNaHBohFN5YFrrh6NYdivIVq1WNQiDDkLjzOMwmKNJZ2rbhjdfvsRqsWC1LkjDl+aMX3H7tLqarWK8WxKkGbcBXhDpCKIv1FucUAkkYBoQalHcoFWD9HwfsX7jSyRhvBXnjyAZjBskA4Ry1r9EeAm3xLidNNyj3eTWjawy+tmgRoIIE08QsFxDojijWRHGfJK6ZPp+yXCyoO43XLSoNuP3mHfrDjPV6Tro8J94OEUayWq2J4pSt3T2m60tOj0tG4yG7B2M6U3L51NG1kom3eFPhG4dLU5KtPbAxTbBD7HN2qDl/8IzcS46+8lX++uSMs7RH0eQMvMZcLknfzbgzucXD1SesiilLe0ral3ROIH1GFvTpeY1AEo23CS7mDHJFf9wnHW4jjjqioGWvt4twCQQOg0MGCVJvYm20CvAy2aSmRjHWG6SUKA00LZ3xqLCPiCKcafBBSXTnLm+//hoMB+AV1qes3JLetRuoXgZtSHT4GoJTVBMxandopWLSZLCyfHLyhOn5Mcl0gTQxc7HEpgPmjeXJccntox3K45LrsmXUNwhbQZHhlELh+fSj/4dsvMdpaZj0R6Ra8ujjNZPWciElyzAgfe0m83LNqqwRK8H16zf58//iv6LXS+ianLCEl9WCv/3oE548fMrTXz0izcaMdnaombMrR9z229y/t8P28gK9ipm9aHjtO0Nq06GlI5Ia33QEQL1oSOM9ZCCxboUzLT/80QMmt3vcunEb0Y7ooojGFAjXsdV17MiEXzw6Zr4yxEGG1iFOtLhuRahCwq4iEQmzwHOWaeJBxPvf/CqvnudU+oooVuRtAdJvXufEJgOjbTvKqmB7/4BsWCHdBsJ7cXFG2zQEqcLiCXQPEYSgU4zwOO9QRGjviDuITYR0AWGYMm/nX/is/sE3qyJfUa0b6qolr1YsV4p+L8XTIqRDCM9w2CeIFdZ21M2ASFtE4FEESB1RO0ee5xuem/48k8lDazp6/YQkjlFqwMHRPu+89yZb20M+e/QZ7pVjMhpT5zXyUtFax2h3gAok56+WdBWINoHO8fLxc0LdJ95JCUVEVS/50lfepwS6ICJVMXW9wBYl1sPerev4JOaXL59w4ltWo4z33nqTuqywVYW3a27e2GO9Tkj6AU1XcXZxilQVw2CCqCxdYTbX9mfn7O8eINMlUkQYuxlIO6HAC2wQbm5NSmFNSxhkICQi0milIQxRBAinQSQ8/+RTXl5e8p0/+z6t71BRD+808XaJtRYfhQgVoIg4undEL9miMgucbImTEYurC1wRMoh2GSSCamn5t7/6OX/16gk2hNdvbXFoEkYWlqc5l+uKMxvz7ME5/+XX3+PJ1TEfHhzSris6v9mQxXGMO7mgWBquXp5z69236e9scf2dN/irRy/4u9UcoTSVaXA+oOs0ztdMdsakvZDZasri6pynjx7y248+5sGDB2it2T0aImPNqq7ZC1PeHu3z925cI5yfYhc1iIDhXsqw39sEDgqFMR6JZz5f8ptPHvOd70/ItjN0ELJaNFydzHHKcGMSUK0qmkhwPl/yycOP+d73vsHiquDk1QLRjzfG/EhxsHuNtKzIZzP6SQ9nHR0dk8MJ796/SdCXzOopoicJs4iksdRNgxPQdQbZeirTUeUdw4HDe09ZFyxWC1b5kl6SIUJQSqHkBmHXLnOkDgm0xtZr6rZktS5xxmOs3MhS1B+TQr9w1UVJWdSURc18PgXfYWwfS0cQBHhv6ff7GN8ihKCXarwFGW6iaJEBrm1x3uOMp24bnDOEUpENM2Tr8V4RpRGj3YzR7gCdBIhQoqMQtKIxHWVdsH/tOsPtEU1hwAbky5aL0xWmqzA5eGmYdWve+pM/5/TXP0WlMVVeonWA8qCl5Pz8Eivg4PZNfnP+irM2x44ydg72ofXESpE3Jev8ioODI3pJwuX0ivWqwhSeyV5CFiU0q5a6NiTeMaoFg8qTKYvoSlQYgrQbn6DUVFKiP7dZYA1SyI3PzXuUljhvMA6UD2hqz3RaUdYCrzJkAM62oDwiNkjncEp8Dj+1BJHEigLvG7w3VG1JEESk8QRhe/jVgp9++oifvjzmmYBoa8j49i38oqXIa9rA0qQJVsBV/ZyPn59x69oOz06n3Ds8wtmNObiXZUh5RRJovnTvDv0koF3NCIXh+7dv8/xXl8RpwNOuoSgspnWMt3rs70/Iq4LVasHT50/41W8+4uknD9kbD4iSmHCcQiQJZh3Dec2tLKS/XhAWFZaYQlgOb+5uBLLebdI+Hagg2IhjO021bukNJUiFlgHaK7rcYAvL7377mNZZZC/kalpRrVv2dg4JT0+RvYwsy9jZ3XAti7LBqIBOg5WCzjYc7o9RkwEvLl+xajvGSUDratJ+hKs8ZV0RBMHm98FTF4aqKpAI6rpmuVwS91KCQONCiXcO5zaSH+UFtm5BORZXZ2Ag6wVUpqNzgFZUX5we/8dm1YsGCBOiRUqe53RdQ9WuiYKQ4bBPGEcEQUyoNlnjVWGQchN8p6Uk6fXJvAUpqJZrjHfUTUNXlQRRQH8UE0ab9Ww8kDhlaDrLdDnj5PiKWbBien7G1mjM/uexyvliRZmXuFZx/PspoRaYpcDieXJRsXV4k/1BhIwNVVGyO94G44mDhLLt8EqyTBT/7G//muEH7zG5fYPKSYrzKUmgsarB9xRhHFA3ho9+/RltXbG1PSBJEqqq5erlgvnlmmHX8LVYc2P/JiqvESrAmgazkfahQ48lJREBSoBrapxgA2ZQKW23IujHhEGMbyxd3nB1fMX1t95AxBnWVkRJD1tXG56iA+/EpuGZilApjClJ6xZfVYiugtZQHq+wZc3vL17wr379ax47x7QXMLQxj3PDi6Ll0CiydEzVKZ6v53Syx68eXtDQEh5FSBkjpaT+PMjORpJgEDMIYqSokbpFBhC3Df/0a+9zkfX4rXH85V/9HaM0Yf/mLl/7xpf43We/4vHTJ5yfnxP2I9549y5fun0PpQSLsKNs1tzqRdzLBF/Z2yF7cYGoOqogBlqGWwnCVRsNktEkSUbbQJpkfPDBhwyGw8+BpBVJmnLz1gHDnT5JEjG9vKA2jnvvvIHrHMV8wcH+hKODQx7lC/RkwMXFBc9OnsKqYXd3nyDu061XONmRjDKWswIrFYe3+6QuxjUg4wA/sJQmRwUB1lqUDlgvCsJ0k+Ralc1m1omjlY5QSpI0pZcOiaIE23pmswVtVbM1GpLEGq1ASEnedtQW5sf1Fz6rf/DNCqPJ4iFpCHVX03YVy3VBP/ZsjScEOiHQ8SanR1uausIZC50FL9E6IIx7ODyjOMMKyWI1Z3rlWE/naOUZjoc4C8ZsVMFCKIq8ZDlbsWgNrjMwkAinmF/MOD55jnAeJTSmcjjhkJ1Eoik9fPr0Oe8cZaSjjNvZiLwCazoCpWmsId3a5tHVCVe+5c2jPaJhxvnzE5Q1WOlJBz2GhxNcp3l19oLHT8/YGkVcz66hoh5n5wtevVixXhQs8wVfvb5NX3tc0dF0Ben+iLYscAi0SoiFxLUFSofIpkBoie1aVBmgpMHLAqEbhMywxZLQtIimgGKB1Q7CCIUDIYm0pF5XxHFCXZaoWCPdxvAs2gZOz/B2SVm2zNeCX56ccyIVRRrRdRZfOKqrNcu5ZZANcB5mVYNxEmc8SQaLxQIzGZOv12ztHLD2BToKCUKFEJ7OdUSxwjmBk5YsEhxICLqaUkaMhOF7/+mfsv/6Day0LFczHj/7Pcvlmvv3XmPrcJvDgwNsVaETQz51xMry7RuHhGVOVy8xRtPqIZ1tCUSHVhKJpDMOZ+HlixOEUBzsjyCU+MDiafBSc/v+dXQKZb0gGwSUlzP2doYc7W+RpgLbixiPe2SiJooCjo+fsSgck76gBtadQaoQT0detTw5PiE82uHDDz9g9vKC6cmUKA3J4pTOt6zzCu89eIFpO7yP8d5jbItQEAQBo9GYKBZEUYR3CmMtUZqykxxgjME1JbgO2xR4KRj0EjIhGUR/9AZ+4SpWDb1swGi0hZeWql5zfnXMel2SrxsQIVIroigljBQH+7s401EuVjRlxZPHz+htDYmThP3RNmmcEEYJaZzwoitYLs+ZjGOMcdB2dFVNGPcIdUKbO1zrCJXE1o7Aacq6xHY1SRxj65BUa6TwGCeoSkMnA3780W/Yzt7isD8mDDOyIEX5JbOLU8LhgN1b1/nBs4/ZffseLy7PcPNLlpcrRiJkezKkvzNi3XS8evaKB79/Cgo0D3UiAAAgAElEQVRu3LnN7sEunz59yZPPXkKeITrNnd0d3n3rLqZd8MMf/I5VYfjz//wfoAYlQSBALAnCBt80GGMxtkV/vtG8eFlQdysObk+I0gARWGS9JPEl9462weTYtqZuQa8X0G4EkNqHdIuccjEj3OrhbYXRCX4xZfb7z0AWPKxanq4sP1ouWNzc46ysONIJb9+6QWtWFCJGG8HZakqDBOnpCUkSwPtvv05oLrk4PWM43kGlCVZphigSB0oIQhWiooDalDS+YNvHxHWHzCJe385IdEtb59S245PffcxiNadpO4q6YO/+NqUr6MUaIQT3Dm7w5qTH9YeXXExf0rgSl074wU9+ybv3jzja69G1OdY4Ls7W3Lo55MGDR7z91ruI0NDJGic6vG4wEkSkCLINK/KDr9/HW0l/kJB9/V2ypCaXBYFusV3FdHrJZLLLaMdy6/qEW/19+tMae36F7yxPnh4zuyiYXa24dfc2t27eILLQGce0KIhSqBqPsR4lwXYNVSHZ3pkghGAwHCOEwhiDaQ1KSFACLyXGdTipIBDgN0j6KA1wzqKCgMY6gvCPN6svXM28RtsIExnifki0NcbKlmZRU9ctdT0lKxts3ZIkCUnaIwkDgl5G6RVt4Tg/e0kvy6i3W4ZbQ7b3x6S9iP52Sl4LLkyNqS1tZTi6YdEOfOtQLqKzls5vYEyu7Wjna2SnEK4GX9O6kFBrTNBgI4vVil88fcJffO87JGcWkpo6NjhCrk7X6HhEOLnO4uEjwsGYf/+zB3RRyGpdcSMJ+XrY41rtCFTMq9oSRDHZ9phASPpCUaxqmkVFJhPCgWHyWkqUGCgs87NPSbNDZmfPOOz3aW0LrsPMJaENmV/OSLMEpRoCWhaPzzibnrI3/iabjOYlaa/m1vu76CSH0tE3DXQVti02t4dOgz3gs4+e4W2FujUhTVu6okWFlrN8QbWa8zyBB0FD++U9xnHA/MUlPhDIgcQ/7zjKxtSrmqJyGDzCrhlrya3dlHESEnR9imrJvDxnsnOw2XolMXnbMAwkpqsRDrTbQCuEs/SUJm067vb66NNzVsMBDy9OedrUzJEcyR77M0d74TiVl2xHEUke8v27HzCYLsjnvySWioIJy4Xk8rQg/FrCpcm5Fo4wneTy+DlbgxxTdfSSgM40iNgDCm22AYgk+LVFISHbbG0735IGEY1folrFwMM6LxhuS3Zuj6nqNcPDhF6i8FWDw6JEQD/awfk5qhOcX0zZPzzk3pu3OHv2jN89OUfJgDhSFGWLQOGdACsICBCxwjqHF3wugwjJiwYvNq+HVmiSZIhzII3FGWi9w3oLwtO4DuwficxfuP4/9t4k1rb0uu/7fc1uT3/OPbd9776+r45VRbKKFEU1FG1Tlh0bsWMnThwgAw+SYRAE8EQZOEiQBMgwQGYK4CSCZUt2JDOmGpoyxSqKZFWxulev6vXv9vee/uz2azI4TxpXBhkE5Bqe0QbO/tZe31r/9fvPJnOsEWgVYmnSDdqc37qAXPecnZ1xcnLCwcEBaZrS7/cZDNaIoohu0qaVJuyeO8fDH7zFZx9/SjNq0Ow02Tm/RreXECU1g2aT2bJgejZjMVvyafIp7UaXo8NDrKtXVZVxnB6e8f47n6zQGpXEG481Dlv7lb2RX/Vxslrxkwcz/vBH72PvfszOxXO8+mu/TDMNuPHyyxwdPeLo8JCvvvgyv/Xt32f+8IilEmSAun4V3e1RdzosjKUMBGEcs97pUWcFp6MxdWUJ45h+p0WzH3L91jXEaEKgBWuDkHufPOLl16/gKosOLdUyJ8wlT+4e89MffcxLr7zE2uUGcVdz790fI0KFrGvquSdsR3hnaDdyqE+wC0tVVYQarJ2vpAlBA5c/5rMffYd22uLW+lf40ffe4slkzutfuMn+2ZIayT2z5GyjSXdjk9x7up2C0ZMzPl58xrbuMg8ck0mGVCnSVjSiCDeecWHzHCbLSNTKiHZ8NqGztYlzNa1Ol2wyI89z2mEL5yxJGq16aKWhLCoaqeal7Q2ObMn33v+Yg6MT1HLBRpKwdmFIMewh52Py4wP6gyH/8Tf/Ex585x3+5A/+DV//4jmEWPHQnj15QqJBSUmSNsgmGUnc4fadmwRRyNb2gCBUeL8CF2khqdzzK5P3COmQbgVYkVqBcVhX47yg9oadrXM095/SbffZWD9HVWZAxJOnx6wXgkBKdCjZ3NmkPTogTkLmeD7+8C5funWT3mBIEN3H2oreoE9pTpHPjTyMMWRlsdqbVQrEc+yyUsQ6wfkK4x22rlnUc4xxiLpAS4EWKxG28YbCVqvr5eeMn/lktZwtcVauaIdhjEs87V6XuKfpdnsMh+u89dZbHB0dk2U5o5NTtFIM2j3SaKXO7bdbTEdnLM+WVJMlYZFT9UJaPUGSShrNBjZOWI7nvP/ue2xs7KCUotWOV6P6yiOt4GR/jBIa4SMCsTJGtVZQVx7rHVIqUAlTafjdtz/mb71wk3cffMrjf/2HfPNXvsbuRpeN3XP4MKDfbvHif/5f8e23fsJv/cvf4/58gc1LKiF5UFR8evSYRw8+IyggqhxrG9v01nrcbA+Z9k/Q3hI2FOPphLqeIiV8/Wu3uXNtSb9fY7MnCCPRMoHS4GYTTh+fIa7PiZ1FFBmpn2NqSWgLpI1w8xJnCxK5wI4z8qlldjZnsNZGhUu0WoP6BGkrXr0d0Y46BPWc408eI9dTyqxkETXZtxXv2ZzjRcFF4UkaLdpr2yz2DQd7M269cJuTswVOpGgFVWUpi4zdbgpVgbE1tTPoUGCWNcenUwg1rrYsipLL25sU+YI0SQCPDmKcrajLjLjKudGI6WYF3/noiGYoeenqRbrnt9jeWWd5ckIvM3zjK7/KreY6P/3t7/Dj77+DMDl1aUiSiLqcYqsFX3jhCu1Aky/GtKI2zhva7SZeKC5cOEcYCVCrKxZS/CX6SXi/2slUHoTA2QrhHAJBIEMSrRgf7WNrx/H+KWEUkaQxJ/MztmtHrBK6QlLZCq8djSDis08fUkYai6etApphyIUbO/T7a9SFY1EuyWYlgoiizrHeYIzHG1aCX/F8OOIt1tV4bxEyxDuDtxZvLNY7nK0Bh/E1Arfil33O+JlPVk64FctqOiUMA5Ikwtd9pNA00oRAR1y9cp179+4hEMxnE7rtVSXydP8Ez4pA6ayj2QoYdNr0GjFprNC+QglF5SviSNNqNRhXC6R0DDe2aERzZpM5s7MlURQxW84QGuIoonSeQFbUzoEQeA8IhbWWXCnuj6ecv/Minz74mO0wYP/pI3a3X3muZtYElcCXJd/60i9z8/Id/vH//D9gZwX33vmQsNzm/t5naCGI4oAYT6vTpNHuEIQ9zm0Nefr4E0azEU8e1/hBjJc1KEG/p5B+jiBDGIXHQeiJeoJrt7s0egFW5Xix4Ktfuo1RCukKqBzeWbwtqF1BQI/P3r3H/Q8fsr7R4Su/dBvaOfgKdMbu1RUWBrdg58IA0wqIE8Xd8YjDWLFva4o4wStFoCO6bU3dWyBFE+E8orb42iFUhEBR25rWoI+RFaH3zCdTgmaTNG1w+OyI7tYmi8mCbrNFURmKoqDZjFf2VFKgo5BUCKhLfJmzKT1XdYTZGRC9eg3ZCNlYFHRPl7x8/iob04pgdMzd730fgohcl7SaKVmREUrPjavnUVGffDEmiMxzqYYGVvx6hMHaCikUHomzBqEU2Oc6d+vxYuVAvXo5PEo4TOXQSlEuF2g8xjqePNqjmaQc50tu3biFmOU459Ba00hS1jo9ZP0A52pEoABN7QRGO5q9JseHRzQ7IVVVgfEUxhIEAdY5arcygLferRivApQSgMYaj7cOZyyuqtFaYatVspLC0ew0f15Z/b+JrYubTKcLpvMpsyczzmanyMCxZnqsr6+TJAnXr1/HWsvBwQGzxQjlHYFWhIHiwcMn5LUhDQIGOzHDZhO3yBHeEYQhpTWgDYPBgN56m8W8Ik1atNttSjICKVlvd3C5QwUxtrSoylKLGnyNkKtlzyBRCOFoeMtgOOT2pYuMqjG/9I03ee+tP6FXT+DVGxBrKgOhTJgczZifHNNpJPyv//i/5Uc/fZv/7Q9+h2cHT1CR4PrtW8zyJQufsT85wwWK1rBDWS0o7BirJctxQJl4ZOJBFQgECIXwBfgY4aDWNcOtkPXhZVRoKfQc42sa/SUECegFiADlPZFZUJoSlyueffqU4rjidHmK+poiL4/BGZS0OGOJQ4FZznn9K+dZLJZ8OjvgM6YcJW0u7tyiqSPC04rg+JSoMjQNrA8HLPafcqm3w0m1YJTnlHWBCxxH1ZgiSpAIoixajfpnJTMlCVuWKGmydX6H0bMnbGxsUBQLwkgjA4nBo9IGcmHpxhpjCv7WrYvU59d4rEtcmXGzhNtpQjE7IS4dLGry+YhlrPjFb3yJZhpg6hod5DTTAM+SQNVEkcPWAA7na2prQdQobRGsZALeWZx3COTz3KRA/AVSxiO9xbnnCc9VXNzd4qIueTg6JV9U2MIw2OjQCAKwcwIHtTUspzM2ekNaQcx4kqGbkr29EwbDPr63coj2qkbFFRs7DQ73JuhAPl9MXj2bw+FWcrUVJVasiLvCeWKl0VLihaBaLGgnDaJAcfnaZXqDHjKrPvdZ/ZlPVpeuX2Q8nrP37JDx6Zjj0yOe7jXw2pGmTYRQNBot1tc3WSwyZkfPMGWBCWukhzROkMqgo5DeToNe2iQ7NORZhq8FURKRtC1xqoiSFp01gTWCvMjJ3BKra9qtNqojubC7jqtq3FhzNpry6PEhpatw0tHptvDC0arhpZdv8frtmwwjCM+WvPHqTa6316FYkBGikh6LZc3DB3sc1bC5vc4LzYt8484XePPll/kn/+f/wlRJ2lGTII4Ym4yPHn7G6eEpW1cFyk/J6yWIFp4IVxuMBGRN7RShc6vGqLdgPcJblClWLKnKgPXoUGPDBaUpSG0DQYg3FlfOULFAFhXWFFRZRSORmHKKDlY9jFCGeCOgXKC1xOXPkEaAFixTEMM27TRhWAnkSUYsBIGDXhDTRjL3nrjfpCNj7h6NmdkFItHIfspClHivSOIQlzu8cYRRzOhkghFz5pMJN89trnRiWuOcwQmLf27eqpImgVopzFNy4mpJZxrjXE2jzCmlpSYkbqaYquaV12+xffkandhj8wlKO7Ry1HWGEpq6XrAoM+K09/zDZPDPqxTna7w1CAnWCqzn+TMBHpxc8eW9X+3f4R3CAV6QpopXX72DuP+QTx/sEUcp53c28SYjlBLpDb5eJSsZdkiDmEjm1MZzdHJKVpe0oxaFMfSGXYp8QSNskC1y5pVZ/S/WYZxhVX6CFxL/Fww4VlNunEd4RxRGDLZaXN7eopkmLJYzqixnN+5+7rP6M5+sttYG7G7vsLu1w8HhCc/2j7n/4JDp8gylPZubGwyHAxotyXCjyelBG6tDMlFTxx7dV3SCgOFwyPZ6i1AEPJkvmEwy1qMuG+ev0T+vAUEcp0Rhg+l0xocffshoNEIYaOoG3VaHW1cvEwhoI3jyZISzBWcnBRLBWitBK0g7De5snUelDZ42Sjas5vXmNlE2Zrl/n8a1G4Al6rVprA+Qx0ecnoz5TA/w3pI2Ff/13/wv8Ooxf/jkPk+UZDxasDd/ykTnXM7OyBqOwmjSuoA1zak3zOaGXr1A6unKeLTcAWUhPIQqwbkzlB0AGaGqqWa7WHFAkgYItQAbI0SAF0uCeYD0OTdur/O9Z0+4eqeFlmMms00++eBHfPnVXerxiLDdpzSGIipITUUwspwLbrMfKXocc2HURecJ/UTSiSUNWROpmuYr5ynUnAeLCQcHDxk/nTNfg+63vsYn00PioxGvujkyrCh9SbdKkKXBJzk3r2wTdCRnRyMGwwtkS4sWC6SU4ARxkOBNhZARF9pLFssxHdMn8BZrQK9dRsoDitKi+m1e/8oGviox5RIj9oi1JqraBIUh9xlmfZ2R81yvNVktqQJDVk2I4gSKFiZyYMxzcJ3E1+a5yD0C68CClAIhFEJqpiLD4Bl0u6hrPdLbXfoftek32vTrFsu3foo7PqOUCZUSTA9nlFsxWVaw3RkwPLcBTcnx+ID5aI/7n45I+gGDrQGihht3drl3/xitJUIEuHxV7UVRjFYpwjp0VWKyjDrPEChirQm04vzGFhfXr1OXS8bjY1K3Gmx93viZT1a1rQllSH/YIUhSojRhmS+oyoKz0zFxEDLsDpBWEXpNpAOcsZRZifMGrRTCe7L5gnB3i0THhPEpOlK0Oi3OX9gh6Tum0/mKox2GBEFAVRqkX5k1TEdTUkKyLKOVhITNNlEjptNrU9cBGEezkRAFGh9IrHdMF3NSadjWIbPZlPLojCuvvEA5WxB2EpbFGf12zN4JTCcjJtEJT57tEcWS1958kYub61xbh7NnT7AHczbClEsXL3Hh2i779ZjaLWnakEa3xfj4gJlXLE0XgUIXq76IKRS62sSpKUpYsOXK7KEyKCfxaoBzBmntSgqAwdU1rrbIsMHF8+uEvybodWLwjqMHMz5+Z8FatMeV65epygLd8IQ+x9gaFERFyXCesCNCGjOLigP0iiFAt9VGK0GzmVLls5XdVivlxuWE98fHsMggr+g1GwSLbCVNQK6eUQaEYURVVdhpQRRFTMZnBEELa2ukjJBqJWPw1mBMiSRFuIT337tPgOG1118kq2aEiUBKEN6BsM93RS1eJmRljQlijhdHNNsBlI5mGFI6gxYBdVXiyxqCEOMN3ou/fFf/gv20unKt+lSIlVjTuZUEwNUVUgUopahdjQwVrUiTKomcVoxPTrnSW2MxL3AqYFqUdJME7y2z+YQhQ8CRNlMag5C4E1EHK6KoKSy9bp9Bz7FcLnEOAhVgKktZ5RhvqYoSWZVQGUId0O62CMMQLWKklxTLDIFHOoFC4n8uXfj8cXi2R5qndHtD+lt92msJLqw5eTri8NkZJ/sjZkdzhp0OAYpYBuRlznw6XtEblUAHksWiZP9gTr8jCJMm5y5eYPfKeTprTQjBTZ5fk2SADmOEDpAmROKp8prR6Yi95CntdkxwQWNDQXu9y2RWsNleZ6ffo1wsOKwynu3tMVQ7XLtwjsP7x5SPjyknGb0cEu2Zj45pDyOajRTcJrNZRdTsMp2dkTab3P3wHr36MvbA8FcvvwmfLfnB2ZRfe+kVpkOLrQWRrjDHFTZukq2d48d3H/E7/3yP125v8yu/sEVWHfK9P9mjm7zB668v0ckSFWnwilBHfHbvCY/3A77yy9fQ6QTlClzp0bVDqxK/2CeQAefPRwjpsK4kGQ8wRzAetTk8bvDo8X0uXWzQ7+UII8n9jOFC83V/nvFP3uPaxiscyoLYGJoioRmmKCVQIiQNYjppwlY7YvfWJc6fdvnqy6/y0w9+wvzJY/KqpKkE2jmKckocpPja8uzpIdfuXCLutHn66QPOX9thMV2QtNrUmaEqMhpNjRSSJ3drvv/jdzk8zegkcGF3i8GVDsYIpADlK7wtwVcIUZOZNjYO+MmnT3jnJ4f87V+5SlpIgtxSJxFkDl16wtojWpaCAlWv3MCFFDxPT6v8xF84GXuctytjWe/pu4j7+4dkfk7r+kvMsyWLp4/ptocc/viEK5sX0F6xdzxn5EouXb5Co92g2Wuy1kroDWNsA9ZbXVoXO1Si4mD0jLr26DDi2dNDHt4/JNIBURCznIzBraQVvbRHP24QJT2W9ZyqMuAS8tzAckE37CLqFcralTVmWTEuRp/7rP7MJ6vT0xOSJEXpkCCOCOOI3d0dyCMW04zx2YinlWeejlnv9+l3B8zkhOVkRjYvuHxxG2MMi9mMg70TTGFppYokadBqNTBVga010muSOCHSEZnPkB688bjaUS4KYi8pspI01iyKAitBRQrjSipXI1CEYUwkoSgqams4PBuTZIbrF67zvU++y8ajIy7udmm1U+r5EUEYs97ssd5tYXSDx3sBp6NDOp0OUdzlgx//ETdrxX/0zb9J/LZncXhMuNlHG0cnSfCthBMZMatLeoNtRvUe73404qtfPE9VzJmN4fFnT9ldy7j0goTaYqoQGQYU8xkP7y148WVL0gVrSkSpkLUAWSIQKFchpUIoSVEUrKWGTgKDwYDTs4x/+0czol9WrN0cUlVnpEnI69evcfbgmEtbF5lVNbE0z7EqglAHqEDjhKTTGGA2ImxhWGuFVGXK9P4D3rzzKh+XBlmX1NkC5QSVqZBakYqIyhiM9YR5Tn/QAQrScIPRQcHH798jLxZ846+9iZTw4N4n7D/OMIQsbQXWY+oCZ1KUZDX9NDnSC7QQCNlimmW8d/8xVQgySpDLksAKjk3J9OkJl9fX0AQ4IbC+Rnm50lo5UErinhda3j4nbAqHd25VyQlwy4LQQrYsacuQUTXl2uY5nnz8KX3fJk5aPDs44aQ07C3nNPOKaL5g5/w2g60ejV6DmZsRpCGLbEpNjbUW6RVVXvH0wVPMwlH7itxnrA+GSCcIlCb2GpcbTsYzppM5tfQsjaeoCxpOMhwMqeucQEvCUNNoNGjGnc99Vn/mk9VyXHF2MCOfG7JFRX8woNfrsT5Y5+4HH1MuS86qMcViSZ7nvPj6C6ytrWFKQxiMuXLhMpPRmOnJGcefPuPo3mOuXT3PpcvnEQuLUTnLWoGTtFotUpFyMj/GZ47NTpcgiFAbGuEhTWLisMVkknN2NmExzUlaqyZ41GrTSlr0W4qwDqgDSWu4yWazx/TRHsPtW/zZ99/hxcvfQlflcwV8gopDCBw1htde3SVbbJIGCVJXXL21y2effcCgpflrr7/JWbDkvb0nFAK8jMmlQdWOOBN88cIdHl74mOLJgvnRMRvrKbeuZ7z/0TGJ71EsHELFjMcNmh1Frx1hFw+ppqdQBohSY5YBdeZothpAAbLC1AtAo0iJB0f8nb+3i4tqjs6gqWFx2uFHP6jp7SSEQ83yeETc7jMKaqpQMChqFI5WnNJqtcmtpdkbINCU0ZhkesbGZgcdeLKy5NzGOTa/OeT73/5dqsePCKqC0hQsM0OYxGxsbHN4fMbupU0a/Rbj0RPsZJt//jvfpSzghVcuYY1EBAHjsyOSGLy2vP6Fa6ytncNaB1UDHTtsOUI4j689deFxteFk/5Bs7Llxde35OF8jg4B/+4P3qOfQ276EEA5hCsIgBGuRSmKcQfhVdWW8I3g+cZMKhJKAW0HyQsl62CEwOfbuERd2hvzzd97GZBXXzl3m+x9+wsliyVldMa48f/r2D3j5zm1e++JtRFSyqGaMFqfYJYzNGWm7gQwEsUwYz2YEdcC5te6KjS8l6+sbzGYLnj17BsYhvabKJJWR5LYmH00xosaogPuHD+lvpzTCENGQbF/docw/v85K/eZv/ub/Byng/z/x3/1P//1vzkYZk7MZdenJ5iXCSpazJU8eP6IsMoI4QMcBFsfWuS0GgzV0oAlUgGDFQ2q12nSjJr0oZtho0U1aREJD7SkrcKXBlY75eEy1zGinTbbWe6z31hBWEqkYUz7HqJQV3kgGg03O71yiP9gkTjogI2QM5zbOsXPpAiJUdMOU8aN9dqIeFDPE8pSttQ5SVDhTYqRGaY9RNVLUtEJB5C3ajOkPGqRpgKoMF1s9+l7T0EMaYYLXkOgIvOA3hhe5VSoyV9GTp1xtt1FlQLubsH3TsZ12IZ1xdJLwe/9in7gh2FjfoBsdsr4OURIj6TI71fzw7Y/Y3NgEPNYWKEqktegqgCjC2BnSntBKFbeuXCPpdPkXf/wRP9pfshYYYrWLaQwItKGXe6xdMOj32N7ZRKUpYbNN3OvhdYcycBzPDtna3qDRbnO2LNi6eguXJoRrXR6++wEdHbMoMnwYkOqIbq9LbSta/ZRlNiFtBZw8mXD/wRm375zjF3/li6hkigjn7K4Naa5Jvvr1F7lxfR1qwQ/fOeKnP7zHg0/usXt+B1ss0SQIE5ItxlR5wc7GkBcu7OJmY2wgeDo+5XufLVk7f5UPDve4u/eQ3a0N/LwkSBTOmlUTXa6a6eDAqefVmwfvVvRP56gTQVBb2oSYyvPH332bSS0ZbF/m7Z/e49CBHPR5+c032NgYMDo+QKkmO+c2WVZjnh4+pvA1aatJsyERWJIoYpCuEdqYpI5Za3dZzqcc7J8wy2eMFzOcEuhmgI8Uy9wxKwq8VhS+QgSCzkaXy7cusHa+Q+mWHIwPcNozLh2/8Vf+/n/zec7qz3xlZSuPFiF5XjI+mbJclBTZyr69KjLSNKXZbNJopCAco8mYZrNJmjbJGkuK5ZI0iVerOIlEeMe5zSGNZgqBwGKpnCTLMqosp9FIaCYN2mkDfIFzkulZhkIz6LZppilOVCvypo7RKqGY1ZyNpyg03SRZNSyjkFAH+EVOf32T4MmYcxtbpPGCxWRK2ouQkab2hqLK8EGyMknAg9VQZ7RbHa5d3iU2ETj46E/f5rS7TnStR3+9i2nA5uUe28+WkJd89ctf5rd/+GMm8Zigu4Zt1uhkhqkalIUlTXpoNWd/b8TO1jo72xHxait2VXH4mJMTS201ymu882jlwUOZlcxrQStx+LpAy2OioIOvLDqAZws4O6m5fCnFxgnUE6Jxju9rOt0WcZpQi1Vi9EIRJClx1CJqpMSdBjb3LKuCu5895PYXX6RpBySdHovDE7rdPsfLKXVtmUymXLi6hbUVQaBwznJud8C3fv1V2p01VCog8dhyTmtrnVfW2xCG2HzB6UHF2z94n8VZxfbO86tYEiNEiHcOJSyba12Gasjx3gGNKCQPNafzCa0woFaKh8cnxKvtGdpRynQ6Io5jVBAglFzpmrxbIaERK9mCdRhrEEKQGcNQh0ROcHA044XLN1lOxhwcjZgaS6YE7XYXlGRja5OXX3qB4zPLkyfPqOWI08WIczd30XGEtQsaaUySNmmECUfTE5bzjPNs4SUAACAASURBVO5WC5zF2hVsD+kIwgAZCYTVEBZ4tSKMWrcSq/Y3Bly8cYV+L+DspGRZZTx89hihh5/7rP7MJ6ts4hBSEYkYszDY5Yz90RQfNNAqQesVDjxthFSV4aNnnzKyMy7t7kAHFouM7d4WSRAT9CRxnLI13EHrEImmLGpQE6KkhfeCTpTSTGIaSmCNovKW1vUdoiim32hBaShNTVkbRuMxe/vHiCBk/cI6SbNBvxUh+hFElsRJXBCQndskzsccL86Q05J+0KSpJKJl8PYMX8WozBDpNiSKRcMiZZvQQUyFtzUuHXCkG5hxRf9Q8GLvCseTQ+Qo57gwdG5dp93p8x/0z/E7/+R/pH/4GefPpfRMi0kwoi6hsk/ZvR5hq4rJ/BGduCQyEXq5BAFSrnA208XzXpPJ8c5S0eDde/Ddd0d88xc3uTSMKKuK0o0IiPgbX455o26huyFZI0MUU8pZTdWz9NZaBJFCKkvYSpHNBN9qUdeKelTRICLSLWyquHb5Dt/78B02z+3QDdd47dU3uPuDP6LMM/q9NYaNbRbzmn/129/n3/v33yQIUoRTPHm65Nvffo+19ZRf/Rsv0dsOqFybIPFo5cBMKAvFd99+n3yq8c2KV19/iaYWaLOkpGKhNKdxiw8+esiDez9hq9XktRvnKBcZqYq5cXmTDw5HGDTtVFNWCX/26UMeHY74tdfWWe+3qEjxQqLrjDGS+w/PmGdLXr1xgb52FGVNXzmqKKVOmmTjKWm74ubty7zz9BmPHjwjSmK2fIU/ntDZ2aR/5yUuTqbk8xlHLiVd36S50cMXS+o4pdNp0+32cFVMsNbjk/cfsyw0Z6mjHsL2i5cZbm4QBAHtJKDODN//N3+Oy3PqqqLRClhbH7Ddj7DLEwodUZU5hXNs7+6QZT9XsH/uEHKlYRFC/iXhUKIQVhLoGOkttrBk0+L5xjkcPz6mE6QoKWjGHXwt6fQGOBSNOCFIVmaeCIGS0FUDnFA4r9B6BSDzrNYlFNDQIUoF5NVzkaIKaEbxyhJMBwRxwtrGBmmaEoceodVqNJ1XK3NPaymSNjoLWMxmPI0zdDeiM3EkgyXL2RwTWaJWhMsNBCE27GKsR3iJiiKUFLz20h3+4J/9a/xiwu1Lm2xEKePxGaEIkLoFSFo3bjN8/Q3e+f0/YH+S8bXXdqAxRwclUtTsnutR5xItCqoZ5NLhrcGywDvJzhrUxrAoDYFT1DWgFDpNsOWS+3cLthqbzPMZ7z/eZ2tjnXbSh0IwPl6QDpY464i1pZUGxGFEEMWIIEZGbdAJ3q2wOgiFDBOsELhAImLJjbVt3vr2d/j13/h1otTT3+5QLBM2dy/y3X/653Q7PZzWqKSJc44nD0/5/tv3yUoQYZuz0ymdYYdAepyY4J2GKkSWESePS0ITsTmMuHx+izC0kCskMQ3d5M8e3mP/dMGkgDvXdzFCU5olvd6As8MSNz8jdY7t/gBT5zw4HHEIFEGTeW4In+NUpK14MBa8/+CISDvy3YJaLxHOkBtBFFuSMKAVNZidZeiu5/DuU+oSup2ANNC0k5hsNGbY2KRylk6jwdPDfYJmQFEZqjJnrd2m3WwTypDaaaTRzE9z7tdPwXmMgSSO2ej1EdKjhKVcVCwWM7CWyxd3cbKm027RChpkk5LTgxOiJGStucF6usF+dvK5z+rPfLJyvkJKSZzEeLdaxrTWIqygqiqcq5m7konKSZMmKlY0221Ck9DrdGj3Glxev0Qchvh4xZM2SoDw6DAg0pLIKAoLeW2pjMVYRykdVVFTVRWz2QScI41jmo0Gw6RNt9ulv67YsrsIpQnDEKkDymLOMsvxbqXHqRc55TLDxIKWs1x/6Qbf++Q9fFRxTQc0ZUaju0aJIxufknbaRFVFRYwz4IRESUGVZww7Tf7Bf/jr5FVJImtCK0g6QyCGs4KjxQFBd8iv/pf/iLmq2fvBD7j3dMmlrqPVkzhvaco5hTHohacoY5a5RTRq0lTgzR6Xt0HWZ9jcIrzB1FCYgkFnSLdxhBIFWV6zKBXvfgLv3z/m5Vs7PH54iqXCP5hy8+Y1Ni5sIYRFOI8MYkSzB3EbghTpNFCgtSZp96lEQBAIglRy+fI2v/cHv8s3/8rXUORsdRr0Ll7k+3/873i6P+HpyZi/9w9fJXczGumQt95+j6NJm9yGjKYZa8Mr+GqBkuCoV/iTQhBpxa9+dY1Gq8/GlSHanlDO5vjaoEJJXQpGe8/IRyVffPkOV85v4M8e0vQ586xCzDJ2Ikd3a8BWLyKfnxAB5wYxabgawNx7dISOGnRbIT/9bJ9ZKdgIQoSxwBwpamrRBCVXS9NG41DcfechvSLm6pU2+JBAOPLpmGw5YzQ9xDn41a99jfunDzk6m6LWAga9Pmu9ATiHsiHTcc7eZ3uYGVhluXP7GovlhHf+/M85PXhMI4kYz2fkWc1kWbC5vcbtG9c43HvI7OyUM6mYZUuEgs3NTb5w41Ump1P85OeV1eeOIAhWL5yUICRgn2+TG6Ra/S78irtuK0ez2abT6NJKu3RaXTY6a6Rpi0hHVFqsegrC4YXDAMY47NIyzQrmeUWNQylPXeXki5zpbMzs7Axna4bDNYbrA1pJjPGOkJAwXG3de+OZLabUtsQ5hzGG+XhKleUESrM/H3Ozn+Iairid8PDgCcPhJnKhmOczZL+FNBXOnJES40pHI2ki3cpFOWyk2GKMaqXEtSevJwihee+nn3Dh8h36UcJaI2KuLHVL8Lf/0T/grZbm7MfvYuol87EkUFD7kkA1qErP0moWeckHH065eavNVi+k0SyhXKKEoixXh10ISWUybt+J6MQaWx+jVYOd7YQ47XFwMCXzIa7yJFFNIC1BrHA+BGdI2x0IQpxWOFOhA0FZFIRJTHkqcD4g0BAJi4o9X3j9Dj/+8TuYz95jYOb0di2vX9im/IpjfXudrYtNcDMQ05UbspkhBGxtrdNIFUoBQqJtgq8Nwi3BzLhxp4GnRoglWhVUIieMFVYUaCUIlyUXuoqXr+zQjWA5MWRmTljX7K71EXrJcK2J8iVhYNhcg92dmKhacDor+GhvxqKe8c1f+gLKPSXEsdFu00k0ujSgLLnUIAKEUMQ6pnQl08MztAq4cP0cp6cz5tmMpm6wKBbMs4xG1CLPFjTihMgVSC9oNFoIEVCaHFdnK2ebxQItobeW8tLLN5FScO+Tn3J4uIcKezR7TXRsuRL2qJeeRTanEUeEdCiWBWcnY9J2B1cHBD7FzE7IRj+H733uMLVCa4WzoLQHZ/AUeBUTpSFRlGJsRbassAKiIHhug10ynsxohE2SoKI2DkNOVVsq56itY+/omLKuSK3meDxlNFuyzDOUdJTLOYvljDor6DZiOq0W3VaMtU2yvKSqLUJaXGWp6xrha7IsY1YuVmYM1jI5G5MkCTLQdDoXORicMNSaL774C/xf/8c/4+3yjBv2MqfO8OiDj/n6SzdZbzrk5JQoOsIsYsL2EO8iqIOVEj87QSKQZsUDf/rpPZ49OeP2C69wK71B7EKKzEES8ov/8O/zZ/WM43d+yPJEggnQSYiIJFZKQh2Q0eDubMGjd2Z840vbdM2cQTNgNHVUJqE0innhsLoiDS11XiJijbOWv/6NN3iyd8xny30Ggy2CskU/yUjNAWpsQbSI1s8TtroYpSACrQXV9JC8FnR762idYisgErQFMHnKF9cH/Nb//oeIkwlXB3DrfJOo5/j6r2xgRRMVGJQO8NMJ3/qrlzkcGc6fu0IjkXhxQF3kBDKFOgJX4dwEGagV7lf0CIgpspIwaOKFRYUrdtTf/eYvYKMGQWeDk4On1LCyYw9Sorrm4rCDrya0E0epIb22RrsYMSsjPno847AMWV9LiP0xb1yOGc9KXr62QVpM0d5gpEbSwNkAi0SpgDqfs5iP0f0hr7zxGvcePuPB+3fZz5ZsXdiiLEOCWnF0fMyF7XPUM8n+0TG7mxt4HeOqimeHB5BLrt3axRtJc0Owe64DUtDsv8z+ySZRkiClZDpdcvxswd6DfT598ilXBkM6rYQPPnlM7QTeBxQFPHu0x3j/hIOjn18DP3/4FcrCyL+Al9UIafE4hAKhIA4T8mI10ZpMJggtsLJittAEKiRWMaGOqMtTqtpwOs14unfI+x/fIy9KYq2pHJSVeW5b7tjZGHLr1i22BgPOD9dopCHtQZu03SCOepjaMpvNMLWjLg3OrVYcfCiQCMosJ26kSKVwShCYddIbr3DvR28TBDG3r36Zf/rt73J4UVOkMcfzEevxY9Zf2qWeTFDtDKFbZEdzos42plYEUYhdTglUhLYBpgp47cYNfv87b+Ozmo/+9D0ufPXLbL/5BXxkCUXF7TffQF4b8C9/+z3mI8/DR08J10KsEsjjguHFHXRvyHgxZVzE2Fxx7+GSzY2UKG5xeJrzyYMFIs742uU+saiYzhaoVPPRO29hfM7OELRcoL1CLyZstKA6e4xULTrXXoIohkBS2BJtDYvFEbqxgwwCkijFlRYoyc/OSD75ADWNqB7P2egP+No3XsJ1D1iYQ1qECJWQzSu0qIilptdq0FsrQU7xtkDK+XNipsNWJVpbRAB5ZhB+nUePNHuf/oiNrQ5Xrp4jaWmIYpy1qKSJitscjDM+/PQJslhgVQenIijnCCpiWaPrcjUNFgaBZl6HzFyTRrfBS9fbDM3HNHsRFwd9ZDFCuwrhBWhFGDQRMkLIAGcLvHD0Bj2OTM7aWh/RaNJutrg03ELHmj/84Z+SPRyxd/iMnlxn78lTXF/QjBtYIQnTBqdnZxSznCvnb/DLv/YmhT/BuwUEESIUBO2Ew9EZR3v7LBc11VKSNBu4ckmz3UA7R1ZmVF4TOUdeljx6+ITp4T6n8/xzH9Wf+WTVigSls1hRg/IrN1oDThmsqbBOEmpFI44oTI71muVsSTtMGLa7NB34fIZVirTRQ8oKbIU1EnxAoDVIiLAo5UkizVq/xysvv8j2Rp8gCOgPBoRhSNJsEAQBpqwpipXddp7nSCmp6godCQIdYSqPijU+tMhIYrVlkZ9SLjSLo4rzawV5qNAbHd7JM640G7Ss4+O779MN5rxxfg0ZV5RVjXERiZgTBR6TKZw2lFVGEK8RuJLuQPKf/t1fJNURv/+d73H/+8d0BhnDW5tQQNc1qdcu8saXDD96+11Ua4PFYsFGs8u+ncD8hNd7EtsyXOi1OOQCb80+5XasOC8VohOTbM2ZnHpO5Yikho7ocDLKoB2SFIoLOqDUGaKRYFsDRqaik0iybErQEiwpCZtbxHmO9paqWKIaa9ATtKuc2ScHhLNjlouPqdpj2o2U/+zvXOXuE8XdvQmkirX2BiLwWJETBjmBWwl50RYw5FGJN4p01oR6zjKc0KxboAIWtkGG4uRoxr/7wV2yM89fv7YBgYS0xkmPC1pUQYKWCX/2f3+PRw8ecvNai36qyBcTrJYIabAyIJMRTkDKagewETlubRiaPct6tKSqGyRhBXZMGUhGQlPUAR2f0rIxWWjItCXwklQ12GjVPHj4GccnR0TDNbZv75KEES0heGVzjUfHS7wX9BoD5MKRrqfUriTxMab0mFqxvn6OsBERNwQN3ccogXGG49GI/YMTRqdjjuYLFJpOGtEOJL3uJsONAdkiIwhByoTSCEaLktDUlAjKnxtGfP5IkgTMavteaNACjLPgV06yRVUQNgO63S4y7HF2ckZlc3Kbk7QTwmZMKQxBFNLqdPCLDOMOCcOQW7dukDSa1HXJfD4n0JL1wYB2u02/1yHDYvOK2d4RcRQx6K2S12pxVlLXNXVd455zg5IkWXnzUaJCj04ExIbS5Zy4HBGE3PzWl7j38YccPz5geGEXvbfH0BQYW/LSnSt0I8fe4wfI0yZVDK1hk1k5pp1myP+HvTeLtSxL77x+a6097zPfc8eIG/OQQ2VWZla6qjyUqzwbT41om5ZoLEwLwUPzwEtLCPEACJAQQkgtQA0SICEkq7vppo2Mraqyyy6Xa7CzsjKrcs6Y487Dmfe891qLhx0RdvMAyQMPULVezo0b99wbCu313e/7f//Bs/SkBG1hOsFgiQMHT2soG37x9ef482+9yf5X/gmnb0q2ti+xs3Udtz/g6ude5Ma/8CVKbfif/qv/BlFqbjspjvAwdUjp9viDb3yf66++SL/vspyvaCIXV5Tc3BrQdAyR9miM4cgJeVhr7r+T8OIaxIMRH+Qwm0xZizUv37pIZWcMBmscnj3i6s3L1JNjTJqRN0sKCoJxBuGYLIn58HuHDE/v8akbPoQV6IBZYvijNx8yWB+yWib8/E/eQkWL1nxTKTQGaw3SsUhlcHSOLO0Tz3CDKx0IJqAd1NJjIEf873/0JotFyMsvOFy6MkKIBZgSKwIcZXDcHt/82ne488EDBkPJ5UsXmB0d0DQVyvMBixWi7eotGKBSgljl3N5w0CSIrLXfaTIX4XbYP1txulyye2kLZ9DBOG1Go5UuvquoleDyxXVOmymnBw8YuJZVUXLa1JgsRTQ5g4sDfBFjAsvu9Uuc2SlNYbE9QVFXrK+3OGq359Hv+VTG5ezsjLPpio8f7LOYF22IbRmglCIMYrY3trk8GhM7DnmxYuvSmMr4TJYVaTHHCyKu3LzKpif+ry/oXzs/9MUqz3NqDMIV+L6HpySlNUgt0Lp9YKySBEFAYyp6vZimaahNibYN1ROlufJcsqomK3KKusLzXEbDAY7ySMucIPJxlUMUx0T9LqU27J0cU+UFTVkRKJedjU2G/QFBrAiCgLqun1iDKBzXxfFcqsJQNTWeEmhRIaTFihwZluRVw4nrojZj9L5PfZQxlIaxp9DKkhwd0tvp0pgKnTX8yTe+j99/l89+ehc1MsS9mNkqJ3YC3EZQYWlEgaxXqKZGupIv/vgFlAXte3ztzXdQ8RYXBgNk7KFDi7825O/8O/8m5+9+TDl9j/17p7zxrT1Op7D7wgY/9XOfYfkHK6LlEl85KErqImHoOpB7WBz2FwvmuuH6zQ36SpHVDbNVxXSl2Vzv8vGjIza7hkvba8zODrlarHBxoU7IyhS36+BUM0j7/P4//CqPvvEWr3RzXrh2E/+Jc8H+8QmplpTzlPUwwXW60JxjBGijsUKijQYrULZGVgoKAw0I10UYS6aXuLWPUymqYokp4IUXt/nMq32EyvACKOoSz/XB1hSTCY/v3mVzzef6zYu4jkYKgyPBmAqkaCU19omRHWCUj2cyPFO1YaOOR9oYPLXJ6bLinfsL8hquXutipQNSt2Jn6aIkCBocafniFz7LWyqFpkDXBcfHh6TTGZe3NggilyzLsOUMr+dj5oKjoxOGyrJczEFo+ms9OrFP1WQsEs3Dx4ccn82ZTXOEjUiyClNLnMBBF0Dd3q28Ljg+O0a4liLLqRtNWTYMOgFhP8aP3U98V3/oi1WapuC2ynbXdfFdh9BzKYqG5aLNODNYyqq1Jo6HfZRSFGnBwcERWlvytCDJGorSJU1TGm3xw4DQ8wjiiLDxWCYS54l1h0UglEO3M2BWzyiWGassYTVPGI/WuHx1o81aM4YoivA8j6ZprXaNdlv5jwfCbXA8ixGCkQdK9snzFdWaS/fGmNOjd9G+4bmXb3H2/SVpfs7e/ZyL6yEymvK5n7zBBw9O+O6bD1n73KeZHOa8MZ2TTXNeuv0ZvvatbzLc8viVn7rNwJdo+T5FrRjUXZpFn+Qk57/4+/8Lr76wxt/87X+VTr9HbUvSZoHTVwxe/3V2SsnNnzrjzW9+i1/8+c/z8f232L16nfe++ic4kUtH1TgeWFHT1y5IQZqsGAx9nlvvU08n1E7F53Yj8q0xh2fnLHPDxsY1zgofJ5ly/61vc3n3MmaV43sufqeDuH/Ct3/vB/zgj7+Ll+eE1z3SsMEXFpRmZ9sn+MESU8Onn7+EyZcYmeFKhUDS2HZLKV0HpzaIskeRO8zTgkFfQLqiEQJbC1wjECLn1//GBrJXsNaJsKKgbCq8KHyyadaY7JRuoPnc659mtNFntdpDCY3EgmgtYBprniQgS6qqQuK2Cw8p0QaKrML4HR7Oa947O+VhDb/+xc/RFTmelFBX4HhIDXWtCcOQxizY3ekzxqUQDs0sZ3fnAkkU0+/3CGVr6CccH5OnrHXX2D86JHcNcRBgrGWVJJRlymoxY3+v4s79PSojkKJLMq9AO+TLBbWrcDqGh9ljzjzoBB7T2YzEaPwgpjdq8x1FaJg3S9LFj5xCP/GRUoKUz+gARkkC30M0kpXIsEBWlfToMOz3WR8McByH09NzlknK4d7pkwBIl6I4eeY55LoujuOwtTFGWCirMaenp8xXK4qiotvtEroestunWWWUvqUuSlZpQlZ0cX0PKSWGNiyi1m1ogKuCNtaeGl2bVtHv+KByfCBXlsq3bD+/Q53mPP6jv+DD82N+7ic+z7e/8VWUspxMcvwU8mSCHw44PVhxel7RVII7D5Yspw1NM2GyiqkDwfsfnfLqzcs4UoCUNLbEbwpu72zxR+8+5u3vTNga/Qlf/NVfJo4utjYgCrSNkMIwXu/z+mde4jt/9g3uPviIM7VL2OmDsAjPxQ0k1uQUumBRtA/v7toIO19SVxl0Jdl8Rm885oXnb7JKMu58dB9dwy/97C7ZfEoy6rW8MO2Qn6Wspgu+/dVvQ5lz62aPm7djlFtSBxG2avjUrRG/tExwvJhXbqzh2BW11hhrMWXTctschcUi84rFRPCX7x3y7vGET19T3BpJNrcChNtlutJEcRfPlkReinA7YDVKKqTrU9cWF0PUsdy8vsblS0M0BZPTJXVZIa2DRaIEtL18m26kpItrBKWWaBGjgpBaaHRdMxUVb50V/OpvfYYNL8DeO8GNu0gUPh5YF7ShNjVatkJ24bvUac2jR4947uZzuMrHUz7CWHAEjadxXJc4jHEShzzP6Pd79KI+ncBH1xWHB+fc/XBBktYgPbQtqVYVoqmRlUUB2SKlShJ8x3Lj2kWE8EnLAi0snY7PYBSSJAkHZ3tUPwqM+ORHKYVwHApTtF1RWaADH1G28ULY1gx/OByyvb3NOOxRFAVnekqTNShHsbV5Ad/zmeYryqKNAW90hVRwfn5O1/Xw/JBht0eyzHj88DFWKi6OR4zHY8a3b5HnOcdnp+R5TprnrK2vo5RCW0tZ15RVhRWCqOuim5q6qagbjfEcPMcniwVhLahLzePilDzwGb44wtm7ytfvf0B5dMAvfOFLzM8nHDx4hFdJ3vloyqRasrXR46PHDwgcl9Gwi2cLHj064ObtF/jowV9ydrQiGXeJJ2OavsIyQ0z2uOoN+Td+6SL3zlyKBxN+9z/7B7z+az/Nzdeuo4HHX/0aZbJEr5YMOmM+dfPH+cqX7+DdgjKvCRyXIOiAMGRFRhj51N2Iy9shNodsmbKiYr82qDNBP1uhqyOGoeK53TGutYhJij8asn+yz+54i2Y25847D7nXBHy4P8WX8MKtmHVvRq9wOIkUgVPSrx/w8y9FrX95fR9kQ1UbRKVxG4Hr+ZiyIskLepXg+99t+Nr7Cw4cxZWdgJ4fUs8nTPIc07vJDz58zE7X48Ura1Sc4UY9HC+kqiyeG1GmGWf33ub2rdvgpGTpgsn5KY500FLSNBaURNg2OVpIiQREViE7WxxnDR/e3WdtELC77lMOXf7uf/ovcTy7g54fs+U3yFWOH/ewBNTWR+uKqtEYx6FAs8hLvvOdt3jv3WOqZcOw22Ozt4YSliD2aTogZY0QDjeHNzm6e8rp6Sne9g6RF1PVDbN5STm3ODJCN1AmGUorpLEoz0VKaKqKRkLg+OQlSBFS1JqyrmiaBQhDQ0WmE6wTfuK7+kNfrCohEI3BVSGqUVgjKYyDFQ1SubjCIIEsy5gtU7JcM5vNOD4/wxjDqN+hdhushLJuyMoaV2mko7CrlPl8TugE9Pt94jhm0ItpNsc8ePCAczRhGNDtdgh8D99zSZKEMFI4CJqyauU5UqERdMMIDAg8HCVBS8TKttayWcUymFKXKSKBvfMFHxY5X/q1X+buH3+Lk4fnHO+nvPDyy+TZktlZzoVxTJSW3H2wpNiI6HRi/FHB6awiHm2w5fl84dXn0c09ssO7fO3cAbfL51//KQLxEWv5Ma/pGdc3u/zBxxnffaj57j/4Kn/rpxPGqiHcnbHWG6HDDYSIODjYA5OzpirOQ8nBdMH29nPk8zMi5eBRtZiQrcAL+Pgk4cI4Zu04RW97WFvRzWGtcnCzGhspFnLFVtZn5KwxnwbcOZryj954zO3wKtsSLoXwXKPpLQNQHhvFKSIDqiF1F3Jf4ycufh0SF3PSOsT1QsiWyKpAWYGY3SBPHyEduNzVfO7GFYJ6Rr4MuHDpC/z3Xz7lwX6Xz99IeHF3hlcHUF7F6C7O8ISmOGL6uCa++RqpVPgN3HnnHoEOaYylpsFaiTaWSgiQ7Tba2BoTjDhcGd7bW/A4gfOwoLPTZ/vVF5g5msjfxuoFuVOinJo6djHW4JYaUYMSIaKQyCSmIqHMItaHY7LTgkHWQ3ZDVsEZnrEEnQjX85inK5AaRUyyOCAJZ8wOjplPEg7vnZJVAUoZHOGgtEFZi+cF9HWIrisaGgb9DllZMD9YopRDv3KpG0WeWpYnC/w4pKw9+tvN/90VfXbE/5MonP8/nsHO0ArRYgJPX1sluUapFsuCdlx0HAdwqKoKIQRBELRbwidjJMJ5oi20DPo9hr0+09k5yWxFVVVsbGywvr6OMaZNypkvCMOQy5cvc+HCBXzfJ89zGp3R6XRomlZJH0URrusSRRFGu+R5/kQTmOMHEikNJ8Ud4m7Eo8PHTBdzatPg+z4/eeXHuTlY543/9n+md3jCmmN56fpldl+4wNH+EYf7B+STBJ3XOAgmOiL1Ir43SxAi59Wu4TODLjEOXz9vOD6bEYTwcz9+G1XO6PuaME+ZyDHvHyfsnaZcWxuj3MrPWQAAIABJREFUkwWNY9jd3WW0uYZVEnwHJwhZlTldv8/kcEp6Mmn5OG7N7PyY2kLtSlAholGoUqDTEtvxWNoSo0vWOh7KMZhQ8OImeP3L1HLE7/7+X1LgMU0rbgC/+S++QkctiKTiz39wn4+Whp/7+Utse5ptPaFyJKV06JJDXXNaXeD+ec1snnGtb1nvubieIHUdVqcaUXqMel0KfYJyCyK3z5sfTPjm+4akgV//wjqffV4gNwS23kUFa5T5Hg/u32W99yJf/kHNnQ/fZbMPr7ywhmMSqrykrkFoD2MVDaJ1KxAljdFU8gJ/9O4BD0rIe/Dca1f5jd/6Sb78xnsYadjM4fVwA+/REdqBZtBF+QGe8smXCZMyQd8YUHYc3nRW+O5F8mXO3bfeJigdhmpMaWtOqxnbL+/Q3eozb+ak5YpiGlBkCavZOck8I11UKK2oq/Y5j4IQW9aIpsVW+16XNF3huIKLly/y4P5j0qQmCEJWZUZZV6zyAuG1lt9eEBCOLXf/9PgTrQR/6Durp0VKqSfpt6KVzLQO0Qol2oJVliVVUVNaSxAEdDoxQghWefaskPjSp65rijxjVte4UhH6AbnKqKqqLVDLJcPhkDiOsdpQFAWPHj2iLEsuXLhAEATtb/YnJ4oi4jjG932MMVRVTlmWALiuT+C7CKkZudepdYVnEy6st9IH5Up8p8NBVrD5C79A89EDpgcH/PF7DxDvv81v/sYv8+JLL/Hh229z74OPcIRDuefycHFA4kKnD5mAv7wzQ1Yuq4tXuHRjA688463v3+N82WA8wS9uWaxzwuXQZWvXRzcZTU9ydAz3Pjrm69+5gwrg2vMX8AIHiilNafBlxPxkQZVV9CKBH3h4rouuG7JlRoBDmdeE0kdVlqUsMRHoyAANYRgQhR2OFg0LXTJLIfYq/sZPvMhVeQ+v+gDpQB1s8MaR4TtLybu/u+TV3YJ//acN5aLLqhmSheeYYsrXv3fEXz42LAz8ygsDPn9rhEkm7A+nbCrN2AO1PMbEigxB1pSsX/D4yaBgY2uT9a0hTc9jaUEnhvN33kEW51y+do2kkLzx3RPA41M3Oyiv3TLaqo1KrGhoY2scjDEoT4GEmV6xdCC8EPATf+tXePWLr/Do7CNufeHHKJZL9JsfI8sKawWldPCcAKlctNS4scBVBqfvMG8SamXxfYPfVSjXUK4yjldH9MWIKq9495sfMr42Zni1z8ZwjNMbcP/+Q45WFb3eBoHXkMwLhBVtVJrycXyHxeKMLM0ZX+4QBi4nZ2ckq5z5Mgfhs1gsqFVObcDxwKDpdbpEcYda/siD/ROfp13R00L1DCCX6q/+LMERDo1t8B2F73ht2ICjUFKhkMRBhKs88jQjWyVUjqLf7bE2HrK2ttZiUWlKWZYURcH169fpxh3m8zmz2YyzszOGwyGu6+J66hm36ilQn6YpRVHQNAbXCXEcl04nREhNo0tUE6E1DLoj4p5Pf73VqflFSGYbThrLZ7/wMziTCd/7Z/+U7kzx5a+8ycWdTX7+l3+Wc9nlT7/1Lbwo4uLoEjvVgtiu2PJ9TtZ8TpeGu0ePGFPx+YsRF4Yj1j3NopQ0ZLgSpDU0usT1Iozrce1al7zW9Hc22D854+P3D3AVdBVcvBBQZrM2vFNA3OtTNw0IjzLL8aWDzWsix8ETkhSDtuALUGVDTyq6JqQsBzy+f8TFG5v8wmevYKoZt9aWRCICVji2xuZTrowcHhUNRaVZzgqSIuCDRwXff3gITsKNKyCNT21yHC+iP1hnfjZhTRWMbIgSOXOj8WOohcSTETb06HV9drZClGPxew659nj8wOPNr30LEvhXfuN5Op0eq2TBejChE1mubLrEaoXODbqW2NpQK4OwFmEUVgoaYzFK4vg1l59z6b36Atc/e4VJeUx3q4OuQrpjB3c+orpzyjCWFNT4jUI4rU97VpZIYTk5P2U/mbIXSiQpW+M1bn3qGsVJxuEHEwKt2Yz7BL7P+tqIS7ubBF3FKjPU9Qwtcm7cvkhRNLz/7vskCwNNTVUrhp0+pXQQusEV4AYhZyi0FhirMMKiAg8rSzxpWNsYYqwFqZFKkKU/2gZ+4tPmsLWWsE8LVhu79IRvYy3WWlzXRQlFFHRaBwQpkUjqoqahIVUpvt8gjKWqKvK0ZhnF9DoRjuPQ6/WAJ7yuuibPc9Z2LtDtdmmahtlsxuHhIdZawkrh+z5BEOA4DnVdkyQJdd3a4Pq+367VpYOxBmskgRuiHIkXaGTQoCjRoiTw1qlqSW99h7nfpX8x5rXf+dfw7k348pf/N77x5sf813/2LuGFNaL151izOaQ1P9bdhb37CFOz9Fz27IpxJ+B6r4dvUuQsY9OJ6SNJckO6rEmKhiSB6xdKdFNTiimNdDmc1syXcPvqRahKQnGGXhR0oojuOMYYqOqGGo/5LMGXLrZs6Hk+1JrIE5zoCiOgryShAdfvUYoO35t6PDxJsepDrm04CJWgVwvO6SMdRWFrgjrlZ66Nubpesz8N2B4EJHPNm3en3J9Cx1OMBxfYHQteDATHq4S79+4Q78Yo38E7jsjWIoqwxsqCnvSIjY8oMqRTEg0cvMBBuD7f/LN3+P5bJTtbHq//7BW6WwOq+Zx6ecJPvWxYHyp6wQpXKmalxMUB11LVNUJbrDEIFJWylMJyGuT83N/8DcT1i9zXU2qj8VJBQcNoEDF+YZvZ4SHRSuPg4BnRgvRKU2IoXZdXfvZn6czPefThu3x49wHdvsNrr7+ETAwHx3/M2dECN+yjpSHJUnqdDm4Ap+eHJOmMKHbpjwN2ex2WxWPKakm+0uR6wfbuDdbDmCrL6TkeiyRl4HUgDqn9DK8f4IYBRsVIpblydYe61nz84SOqrCGvzCe/q/9vFYH/Lx0pW1P+pwVLa416Mg4+LVZPi5ivHFzZdj6YNha7qqrW/cDzcBwHJSTCcUiShGS5Ym19g8GgDXN8SvTM8zbC2/M8Op3Os4K0t7fH5taQra0tPK/NVHs6pgJPcDODtTz59z5xa7Sy3Rh6DZ4LQpS4qkFojbKGQEaUtWXmWJzQZee1m3yq92tEH73LV/7wyxzOE5zax0/PCFTAxZdv49aGo/MHpEZQlZZN38erIa0NKEFSpShH0dSKggAbBzgypawkNiswocNsVRN4HtubCl+u8L0cUfotV0y5zLOEIIqwUnB4PEWXsDMIcIVCNAaFxdYNtTR4T1wwait5kK64ezBj0kh+5rkrDAOL0Qt82SGvLcZYqkZRipC4EagiZ+Aq4gslgZVQhly93MfpJFwLNhlpxdxa5smKR0cTohGca8sik4SRwqsM5DXdEEyYsxIJIymJIh839MD1qdICvay4NoZPvzZmtF2hmXJyeko+W3DpAnSCkCqX1I2L8QxalVRVg6oAA402oBS1EBTA+NOvEF69wmNTooMYWxts0Wb1zVc1AZI6jDG2xCfEOBLjCBpPUlkPE3scVJpDbXFEwMbGBnE3YllMmZ/OyEWCFoJ5mrHQDQlQly4Cy/7eGWUB47VtPD8kjCMuX73IfHnA448LXF+QFitcIAxj3LyEvKLf6WKigIUqGV0c0h8PWKVzlNuQ6RVlXWNUTZ6WCPHJSaE/9AD71u6GtY5EK4sVhroqWsmFCPBcF0eqlpZnLRKB47XYlrYC+8S0v3nigeUrpw0AeALKG2Po9/tsbI/YGA9Js4Tp2YTp2QLPC9na3mZtbY26aQ3Lzs/PMabhhede4saNGwD4vo/rus9kN8Y0xHGM53kI0XpuWWtpjKWpBW6cQ7igiRKk5zNa7VDmLnmlkEEDEly3R5xXrLIVUlpsnvIP/7v/keN7e6yvd0mWKZH0yJOUtdhjYxQSeIoXFyvKuiHodBC2wHMsZdbwkQP9ysNLDVeGY2q9oJEVqyBElwWbnZhQwNB1KecLZqqmn0HkBpx4IYd5SVQH+M4KF4lbN3jCYitDpwN1Aw9RhAH0AomWHnfdkDcOz9nLFb92acxlryE0GQ8e5lzb3SArStbHA2w1Y9yN8HSBznMyt8TWMJAddOZSaYelkeB5nOuckRTYyQSn16eJe7x5v3XG7ImGn/hUh5vbCkemdLsxuuqzSGZsXxjQFBnLxxP8HE5vwY2ty5Sp4d7BMXlWc6Hv0dUeiWxYyIKggbjusmcVJ3VJXea4hSBKoCwt8/Ux75YC9cvPc+P52/iRz8ninPP5GZUuCJch7iBkXUD8aMbWMUgZUHQUSgnc2OW9+QHRc1e479aclTmVSRgPu5Rpgqo0rgo43jvk9MM5Z+cF57MG6yq2buwQdT0OiyVRV3Ll9hpRR7E2GELtYhcldz5+RFNKHn10RDOp6TgRUvUZhCEv37jOcXrGfXHA+OYQ15Pk2ZKN9YtMjhOO9ifMz1eUZY2jXY7eOf8RwP5JjhBtcKUQPHkV6KZByhbHenpaXAuKJH+S/+cghEQo2RYu245/dV3juu6zYvLULSENAzzfo9frUWYNWVYymUwQQjBaGxJF7biotX2GTz39nDGGsiwRQrSx3cY8+zlPMTfXBd8LcWPImGOMRjcFtamQjo9rFaBRjoMjXIxj6a4NWa0WuL0+f+8/+g94/NFd/vN//z9mY+Cz3u1jpU8+m3JhPKLvR5xUC/ywxyytCR0X3xg8X+LkDWWuEY1iMpmxvR5jGtuGuCqXTtyjqUuOypLMWqwSBHGAweMsTXh8WnOpD5GkzcBTEqEUVhQkBozbhpEqTyBdh0a4nC8TztP260PPxXchVAFXrkpso9nbX+B5HqvZko21ISYrqZsGicBVLrWWpFgKBx4tlxwd5ng9QWdni+4wwlOWrE7YjKEJ4YUrQ9aH0CiNDDe4d7bif337MU4Jv/WFddKTJYGS7F69wNUdSKcpZ8cLirQmDhUCh0meUTqGaC3Cry06r7BG4mqDU0JVw0pJdF9xIA0Pqwru7yHdDmlRcDQ5IilSRusDZJKSnxRcUIKX5BApnVZXai1StV122OvQHfSpVidEnbh1kVjrY7ohnhH04h7CWPKTiumiAKEpipp79x7ghAp/3GFjewelXBzVPpu+lHj9iBc//TwnB+c8vrdP3A85eTxhfbOHE/jkdQUK+v0hcRxRNzn5qmQv2WcxqZlOF5S5xlqBNJ+cuvBDX6yejnnWtpKHtjhYBAKMBQy10dBoMBaDbukNkjad11pc2XZTbb1rQfGnmr6qqphNazpRSBSNWF9fx5Eue4+PyLKMyWTCxuY6vd76E3yqZDlf8uDBA3Z2dgjDlu27WLQ0hygKyLIMpRRxHANtIa1Z4WLIlue43RLbZNQ15KYkcGKkligcZCORFgg98qamu7lDksw5kQ36wpD/5Pf+S5aTGfnhBBYpd779FxSrFdPlGe9WmkhVzCY5PQmBhUBK1ix0RiOKQFE7ksD3yZcZmy5Mk5ZA+95Byjkw3O4Q53BnmjCOJWlV0+1B1FF0ckHTNPiRS2kaKs+nFIYKg1I1+B6F55FZj4M0IXWh50AUSUxZYFXdaiVtw8bWFkmhyYxgf5oT0XD7+i2O7u1TFYaT2ZI5cFrCIhDsVfD5rQ1Sanp+g6gTOgJeXAfRNFwazBiOQ6w/4v5Jhz/4xiHfrRW7Dnz4zoyr/S7XXhpgBobF3ZTjo3PqEtYGXYR2mExSbC8ijgMcXWPTHMdY4sJQ5DV15nIqFNWNHZphhwdZzeOgoLw75+OP3yTNSoqqoT/sUcxgZiZsbA+4FkRQtAnQeJbYgFEOk3zB6KVdjpuEyhWkumDci9oNsRfiq9bmZrDV5+pLlym0Zb46YTXTOGFIkWmGQciw06cbxgjbMDtNWB+EiG5FEHmsu326H7vE9DmbTfH6EUmTc/9kH9mTOLHLKl2SJnP2H84oU0NTOpRFg5ISKWm3np/w/NAXK601QrVFx1HtulhrA1qANu022RiEtsRhiBGmlWQYWhM8a5BOyzTH2meA+FO8yRiDqQUnJ2dICRd3tllbG2Kt5eRkhrWW5XKJUoL19XWCwOPw8JTpdPpEepOzWq3o9/t41ifLMnq93jOcK8syiqJARRUOFunWeNrgux6udNGlprGtjxbWUuUFLh4OgmEQMTmescoWTEjIm5RlRzG6POKg3MP0NM7mpzjZP+T09JS/+5t/jz/92te5nBmcFH7/H/0Ju6OIZJVw8com7939GGdZ8TkZcXG9Q0fk2KhPZQJGWy510iDqPmeTOZ1oSKZ8AgGxMNhlTmJ8BsMR09kRvVGPWbbEOC5Op4ty53i9iGUpsfGQs/KcwvHZDho8CZ4DYKmqgrrQZJlFeA6NG5NZn/v3T5lOP6DjxQRBhKZg4ETECggCbm/VDGclo47AMwWuD/1xl7jfQxZ91voZnchQ5pZwUfN8p89NoWlcSxFkHIUexYMDnLRkMW27D9eDcmExSlDFY7SWLPfnXO/3kIVikRakeYNLxN1eF/fFW8SvXOf+8R6P3rrH4dGUxekSJQPqWmFwmC6WPNqbIS4annvlRdYdBz+dEfouK1MSOxEpFVlHEq3HLJIpaV4QDwdEno+poRGQzBJc2RI1u6N1di7WqKbLZJpyOFtSJQmnB8dcvLhDtgiYzk5I5gvK9ZrxVZ8g8lGhy+s//TLVHDp9j5N908aCWcuqyDi9M+XKtQ2aouZsL8PBoxsPCHxo6hTPhTD2PvFd/aEvVtbaZx1RC6j/1WhojW21YRY6UdSC5AqKoiBJc6wF+QSvAp6B4EKIFqRXLf1BGyiLmsVixaDXJQpCfN9/JlCez+c4jmQ8HtPpRPSHNYvVisViAQcHBEHA0HGeaNfMs5/RNM2zTaVwBLZSuDIicHy009rbVlpSFDWeqKlNhjUa5UW40iGdzcjnS7A1VlWkq3MG5z6y1lRnxyRlilYKbxDypR/7BR5mDwiu+Hz+5R/njT/+Lt1rPqkW3H79JW599nO8+U8OqOY1d0JNGmmcPEc0Jf1uhwcnC5LEcnm4SWdzjVyXzNIZ16IIH8s8bc0E78+OCAS4saDX6SGkS5pVRHGMUQrph6xqTW3BIgn81l3Ac1xEUwOytUmuljhODJ7HqqhRCqyVFKZdsY9GA+p5jq9cbFpAA5icKmvo7/qY0CEYbXG2TDl4vOTWbog6XTI/OWMyVSgCItnlfrbgLyYl+qjkkgOfH+0QBoKZzem4Dk6WI/GZ1S5vv/EIlcPwpR5SBpyrgIMqpSwaVrd3sGs96irlvEzoxS4Xhz2qJGG5LLAiAqeV/MnQ0B/1cR2JKEoCC6apKRX4sctZtcRudtnPFyxthesplDZI7aAQlLnmwcdHnJ3OqAtLN+xwfGcfEnCUz9WLO6ijY/ayCYePD9C2YTKdU6YJsnbobl3EcdvOTPmS0WaXYb+PcqcsTs5Z7w2xCRxMzxCNIp1kiAYsijKp8RyFFAZXSiQ/2gZ+4qO1RlgHpZy/hl8JhAUsYA2S1pEh9ANG42FLI6iOyYoCKQTGtGOkdN2/VvT+arx0HB8h6mfjnCMVUtpnbPaz81Mmkwm7u7torRmN1yiqlsG8TFYEUUhRleRlQcfzWveFJ3QLx3FaZb0CjEc3VvhOTlpCWRtIJXXeIHyNFiXCacAtmTYZWZHhdyI6ccx5uiKbr5h6llJagp0OsdNFoOh2xoRBzP7pPufJMTps+J1/+9/i3/33/kPKheF79/+Q00nGb1/9O6wNR/zhP/3HvPaFn2B5fI5AsThfciYzdtZ3+Oq330U1YEcSfxygw5Braxt85923OcmWjIbw2Ssj6jpnW7n4TYOjIOj1yXGwlUuaVLhIHGPYWttCWtF2CUahm3Y50osLVk3KfJZyfg43xj2ydMmnbq5xdHBIFIZokVO11uU4rsQOLOPtDUYXtihqj8LG/N5Xvk4VCu7OuwSOQ5Z5ZEBaZby+M4bM0i8LXOVxY2eXo/1jznPNuc2IAvjbr93mnR98zHcWlqIP66HPeXCBHzy6y1eOZmy/cJO1nXXuHn7EqOfz6ksXeX7DZ/dCRvjBPtar+PDuKVmd4fR94jWP3lbMZjzi6N5HfCoa4FYS5cR0Rh0e1Qvq7T7mYp+F04a3jjwfSkMxyzlbpswmC779zQ+pCkG/M+LYLInKkL6whL7PK595mXD4Bb7z4GPe+v73+cGb79PtRpRFQbE4ZFVUXLi0jnUKuj2XW5eHOIHHteuCxyTYqsDYmm7QY3mcMTtIUEaCkeRZTmE0vYElDkKSIvvEd/WHvlg9BdHFk83e09enf9d6AwnKsiTPc6xtXReUUljdjoBS/JVy/On7/zodQsgW9ASNMQ0I8wRvCttIraYiz1NWqxVNU+FFXXzff0Z3AFgsFi11ott99rkwbN/fNA21Bk84YBVNDYi242ierMQBGl2BNJSmJqkySl3hBCG1bch1ifFgdbFD5SnEeEAchJi8oSwVpa0IvRBjLGdn5xxHp2RTgygDcptRUeD4ivPpOZ/67Ku8/egOA69PGIZsv/Icr/UjJIJxNWXy+JjNl2+xyFO8/havfOFL3P6Xf5E7hyd4VLy6EXOjG/Doz77Jw+9/SCcK8DwPrTyElmhdoaREWE2/28OzJcoYaiTYtrMSFlwFUeyTZxXWCHQFt69c5fzwiDzPcTxBklqiEISyOBsx/WubHJ0v2Lu/pBdtMwgiVn2J011jkRTcn06ZAN1RTOMuWe8phqJPk6V4J3cIIjhnA8cpGa4HJHXNaH2bzXDJcafDeDDmz95+j7vLjAMftnYv8/7JjCAM2d29zPr6Gg4hvU7JWVZRFAXLXHO6zAjWe3Q2fYJhg8wMui7oxxGhbvA9DxtHZPMl6xfWeahXaF9QVQ1e0VCnJZOjFSfH58ymKYtJgqt6nGcp3bjHVm8NL08wZcXs9JRG1FzY3qGoKt78/lso5SClg65Lzk6X5GWOGzVcvDSkKDIW52ek85y6SpmdpKRNe3fSNMXBaxdWuiVXK08hRIExNeIT7QHb80NfrDAVFoVRHnWl0VmJ3wiUam+41hrtSvK64vD8lBJBt9vF8UOkWz7pbp4UJiWw1uA6LiCwT5jxWtcIBMpKVoucbljhux79fpfaGsJRn3yq+fj+A9aHI65fj1kfDnAFLKcTpqcnCCEYDoeMr14lCIJnesGqqmiaBrSlFnOapk/ThCjVwXccsk5Gk+dYWRN5ay3NIdHYWrEWrtEJQ6o6ZXu4xdb6GGNmlMuKRvg0aYNnBKHjkiU594+OcRyHN97+C9575308HXBp5xpRLEizFVq34RZ3794F4OL1DcKOz9liD3dYM0+m/OrvfJEHDxPeeOMvSMoF9fYah6Mpnchj50q39evOCiau4P3pKRs7F+hpl2BthCwthWPY//g+cUcyKCs+9/JtksM71Bby+8cE0tAs5sRBnyZZEZuSjgtVleAEDueVYiUDsqokCkJU1JCuSl753GeYmJJVucZXP3zMw/0FFzdcMmkQpxmxiajqmvXddXrZjIHb4J3VSFkjdYkrW2qLQPGae4pxJKxK0uSQOHB41cuZpwlqdYo2Q7yRQ2GXrB7f4Xqwhrl1gUu3uqjhnKzMEcLjwk6PohwQXBlxtJyxbGrqssDWmiqfM1YhAxMRG0vtKn5wfI/J5U2sK6msz2wy42SyYO/hCYvJinw1x9E+TWIxVUBalIS+hysWeL2YRVpiNBx8/QPmyyWLkQWhiTsuPhbH85ilOU0F0zIn7AqyoUO2Uuw9PuUHb35MJ44QroulwBeG0eAqKQ0kMyDAOCWNSFCRR2IC6jT9xFf1R8UK2gCARlMVBaasUVYicJ5gThJoRz2wT/Cl9r/tKVnzaTjqP/c9n4yUzz6m7dTSrOB8OiOIQowxOK7DsD/AVQ5H+wckSQLwDNPqdDrPqAphGDIYDJ6NgFLKZzSHIIieMNv/SjL0f+4S/7oGUjkCz3NaDaRw8QMfLTVn8wlFVaNViZU1EkuuZzSV5vjshLKuKPKSSK0YRGPirkffixkPRiRZwp37H1E2KUIISlXiex51UWFMw2w5xTkVFKWg0TmeD9s7G7iewA8cFnlG7Lo40md6uqAhRERDPv/ZL5HIGt/x+caf/DndSLXOAsBv/u3f5p/9D3+f/OQRCIXAIoQhFlBZgxIgHYExGkcpvvXtb2C1RefgupZaQyrhm3c/5rhxOX5nnw/nBYsczo5O8QzsGEllHU5mp3TckIvdgKG1qIVCmApfGlxXUBuLlgZfdMmFpEZyVmVs+R5da9DdDG0tt9bGbOaGq5kgbQzdWFJ3HTxR4xJQSYcPHt1nMc0pN3qs9cbMHwmmJ6fUonVwjYqGrbUuUe2gBByucr57uM9xkzNaLun1elSN4fH7RxxOVlTa4Lo+wroYqTFNho/LlY0xyeyMw4NTTKNJ85xUawwWu9AgGow1NNriBT6+dhDWoo2hQrM4T5hvrEA4KAeKqiQOfYajNaLQo5oLKlthRfvMKeHRmBZWKZt2WfVJzw99saq0wdEaW0p0UWNqQ6MkQrejmwW0AflEK1hVFfP5/J/jOlVVazmrlNcSRx0HR0isMW0hExZocaw0r2jsHC+KieIhnvEQ2rDWGyA2GpbLJXt7e8+2faPRiMFgwHw+J4qiZ46mxhhOT09J05S1tTXiOCaKomdF7Kktsud5z0D4p9+zLEtc6aBEW2h9L6YsS9Iqp9vbwpMpi+qANF9xerbH6eERAKVRKE+xeWGDzf4mserw8qsvsB1e4Phsj4PTA67dvEQ8Vuwf7nG42uNwBYNel4uXdxB+yQfvv88qVYw3YqpKEUaS/4O9N4uRLEvv+35nuWvc2HOvrK27q3cOe7pnejgihyNuJkWapkgCJmACepFt6dGADQMGDPjF1pthGLZeDFiwYBiCCAOyCGoBQZm7SQ05w5leprfaq3KPPe5+7znHD5FZU6QgoPk8c4AEIrIioioLeb/7Lf/v9ze25JNP71PgMYq7/Nkf/jk3o21+9Zd+nWJWsPvWV9nt+1BmDD/5hP39Ptts6jxyk+rdAAAgAElEQVQXdTl89U2WgeJitqLMlggl6bSOvAGpwLYb92tPgFQCaQWjboDvJaxlC92EZejxO09P0XJIHG3z9k6XpJgycjkmTNCBpG4007pgQY+j8xXzpGLsW24Hjr5yaCUpneLbfsDjyYTzGmwPXjYtN6zlRTPkO+dzPqo/4eXugK+Nuqz7lk+nHyLe83jp5Zv4NuRR0/Dh0wf0Dq7x0nCHux/eg8mS7rQgT1OGoWantrw7OqS3kpTG8U/+7R/xZMvj3tmE/lnAXmfIF++8zZZOOHNrpJSkrUDXDR3fRwvH/jDhR7/wOn/x/ns8eHxC5QSlNdS0GAz7ImJrd4+969tkdcoqz0hdStf3iJMe63JFPi/44MO7KF+ytT9GqoD9G4ccXBvS62h+85/+HrN5hqs1ceBj6orKVMRENFWN+mvUgd/3wQonqasWWzQoK1DSQwqF8nyE0ijFJWIYpBRouQlYUspnX/7lmo3Q+lKbtelZeb7/TMzpnNsEvUtbrlVe0lpLrDXDbh+tNVuDIYvVks8++4Tj42MGgwG3b98mCAJWqxXT6ZQHDx6wv79PWZYsl0uSJKHf7xNFnb/0bynLkrreLIleURuklBu0TNsifAjDECU0Qjpm8wuKNqeoMxbplIwT1tU5q2xO0u3TiRLCqEfST4jjiFhFePjc+/QzPkjfYzI/J+mHxAOfs/kRlVnx1ptfJooioihCa81otOnBzeYVYRSwWCzwPI+nT5/y//3RH/DuOz9Fuliy7Q359b/9a1wf3OTkdIYdDjDUIARrW/Prf+/vcj5bIDwfMdji9S/9CH+xuKB1isYKaFpyKvzIo24bLOB7CqwjCDrUTc0iL+kGMY+OZuhxQOUMf+fwZb7x3qd0t6BZXpDS4sWacXlKZD1udSRFGzLp7GOiF3l6/gG2srwz6NHJM1ym8L0hdaIZDw9QjeW76zOKbkKnk3B00vJgrXhfGCbZglf3HN0y5QXPEF5IPvxff4PZdsI7v/bzfP2F1zmyGdozhDsxtutz//SI86MpL427/PLr7zDIKz74zneYKoO8Mybpaw56C1g0BNoQeoYfefsLBHdDTmYTlqYlW5dEwqN3sMXh1gFBrJEBVLJhmjc0WLxQMhgm7HXGDLcH1K5iViwpbENnb0Q/ijdo74uCoixZpWt64y7dYUKal9x7fJeSEdvjhM4oQPo+2YlhdjFHtC3dvg9sKpHGVJ/7Uv2+D1ZCCJzZEPqV3DRoryQIz58rkWfg67+kbH+egdVaizObPpVC0Ot2N1lQU1M27cYxR4B1jqKsqaoKmXTpd7u0dYPw9LMy7eozjTGXCnWPtm3J85zlcolz7lkT/uo9VVWhtX72urZtieP4mTg1CIJNz6ptQQhkRyMQWFuhtKGtMqpsRhTCeGeHeQHjZkigejS1wJeare0xdVPS9Tv0gi4PP3vEpJ5SlGuOFzXy1DBfnBGGAV3PJ4k6VG1DayxV2xD3u6zWhk6n8yzLGwxGXD+8TSQCZFPx6guvcDDYocxTdOTRBgJdS5zW7N48ZO+ll2mnK1oU+CHxcIu9wxt8bC1KeaAl66pBBh5l2wCgrMQZS1sKnPBpfVibBhXCftJDa8Wb27vc+bkd/tG/+iP8ERQNnK0N7w5DhnIDRLSrlO+cfYKIt3hl/xa3fYddn4DT1F7Ig3XDrJhRrhvG0R4vDa/juxpKidcveDGKkLnhWi8kaWqCxmzomuuCcRihZoI//J//KYc/+zav7Hc4Ov6EpqhYZJvdxjSFr75yiJ4tOH54zLpe81SX9F54hcligs5LPBUihcfR2YRX+nv88Euv8VJZcFrPyCsDRrB4NKFYFZwtJ5TkuAB8HRFpTZwoet2QTiehcCXTxYSLYobVEs+3aGuhFWR1BlrhTI3yJEJL8jJjmaWYoxSpthjtDKliqGdzLIY4DugPE4q2xjYWp36QWX3uY5wDu6EeShQoidQeSkv0pRLdicul4UuFe9u2mynfc/2hqwB2FWScc/i+T7fbpcxSTJZvxKRKIZWibgynp6cESrM7HKOF5OT8nPl6ucnShHhGWfB9n1u3bm0WoLNNsNJac3h4yHg8JggC2tY+y5yuAtfVNDLLsmcSh6vemlYbjZdpa6wrQDT4oePmjRsko5Blc0rPBZxOZjy+O+Po6QWH29tgHK1pWNslS91Bo5BdR15m5MUSsy6JOwGDQY9ylWKrlmTQxwpFGHrUzWxTwp5dUNc1oedTVy2vv/4m23KH6eNjfvbHf4o4Tjg6e8L4+k0a2eK3hrqp+MqP/zjBzj62PiUZ7VK2llAp9g+v4/khRlcUZYHViqoscWyGH8KCsNA2gqyqqGMBpqI36ODXDSot+SezP2a43+Xv/Be/gC0CFqcN//qf/wEX+x3EbMYoULx8MMREA947nfIXj+7x1FrsHrgGJoHjz23Dvna8+8brnDxd8OBiQtvm1IHinVuGlyL4qhnQLxWybCgjHxv4PK5TBlLjTVPe3B5w/tvfIjxIiGdLYl/SU5pX+vv88p2XObhXcmYe0FU+2ze3+eqv/gT/4N/8BtYa4trHOs2qrrg4PuLw2hsc7hzQ6ooyWxBFAVIFnD484sGjz3j7rXf4obHGJUfcf3pBr99la9TBU4amMqyrNSaCoJMQdDt4nYSuAA8fpzd2cZUsmM7Oufn2W3R6PXqjAcovGXQ1uukxOU25+50jpNzYyQVBwHy1JAgGlO36c1+r3/fByncaHBtRpXRI6RDCYHBIJOqSWSWswDpLYTfLwMhN9nWFDmudIRQegefhLhvuRZqhhSQKYqTUpOXG9gvpUJ5mXRYsVksWiwXdTkTgCTqxTzc+ZLFYUFUNsR+ThAkgNvTQrYaz0wlKeXSSPmHcQUpLpLtUdUrtKuqqRVlB2wrSrN4QT7XCuJbWNgi1WRYu5YqGhlbmOJWxM+ywv29QqkXl+8xXFavzhg8+e5+GluuDCOcpKCsePX7M7u4+b731FsHCZ3kypXAbymW3uw0y4PG8YZD4dIddQq0w0tGNB1SjDnW5ZLW4YLmYUAUJUTgkDE/oxY5ofAvT1MjI4Q1i3NYdOPqI9d17xG//JAtl8MnoeSOUp6EXE2+NCZwiTSssMNWKpqhJdIBGUNYt2guQKKxUdIQkTQtm1LTjXdrAsW8k9x4uefrpI37xa19DvxWw85agfmD53/7v36LberwuxuxdpIim5beFJROQtYqh8NC1z7yq2TEh0XnNDyuJ161YSLjtQpw1NKamjBe0KFqnCXSFNjX3LfzF2ZJhZ8jbZcA1QtyTmtAFbJUC40cU65KqmPJ4kTIaBVxEOf13XuYb2SNWUrAoDLE/ppw2uLVFFYanHz2k73nMFxfcu/uURguQHU4+WaAKTaJrcqspxg2T8zOwS5pjRxgEXI+7iMBxJlp0LHGUeEbQiIbG+bReifQ9bu5cZzY/wwiPmy8cIKmxRuOh8QJFEDcIryFMDCqwpEW5ce9htdFffc7zfR+s/n1HWLdx/WDDYMcBCFxrniGOr4xIN3/yvaxKXE4Is8ux7LA/2KA5yoK0LDbgfGuwTcv5ZEoniNjf3SVKInb7XXztcfPmTaqqwbTusgzcMLSiIGBvbw+QdLtdPE/h+RrZ+tRGgfE3KvtmTVm0oDdmF0op0jQlyzYSAy2SjbreQQN0On18F1Nnm35d09TMZnO++Wd/jgZuXr/BeLyLaByuMdy+9gav3nkZzwb0+wVvvvImJxfHSOWR9IZYC5PVglVZ8t4nHxEEHsrTOC3wAktTCU6OV3z07Y/ZHo/Z3Rpgt/f4j37yF1FZSpun9Pu76P4hhR4iypx1vmacxNDmzCZz9m53kN0+9skZ9SLnvC4oBxHn2nHvYc524lFZgde0xNLD1I5crsmKhsNBj3Jl8AI4Pjrl9ovX+c3PzumMEn7z9z/gG7//Ab/4S7/Al/7mV+i8rPmxX/hJ3vuT7/CP/+H/ySKOyPshv4JPJFqG6wxlSvTI44UIntqSJ/VjXtUxL0YBrWjYKVu81UbcUGpB5YWUraafN4TOIkRIKFrS2ZzTYsnuboeybJBeje9rnKhYnM0pLOwdjFiaNcHtPZb9gFWoKZzEVh6zVcHF0wWUioEe8N1Pn3B8MSXLU06nR7SexbqIydGKYeyRlZaLi3PKNOPdL32RrahLs0y5/+ABj9dnDA+2UdKjFS1YR+QH+J2YLKvAE5RVAZ6g0x/QjTwCT2CNQykwpsZXkuG4x7VbA57en9JJNFlaXW52XOkPP9/5QbD695xny818T+B59fh5ScBVWXXVu/L9DZq3aRqqvCBNU3ztMRgNiaLocq9wIz0QKNrWss4yxOSCXblFV/eIuhGdzgZKl6XFZSm4QcWk5RKEQl5Otjb9NYsVm4xJKg+pLktXajylENJe/p3tJqBqsLVDSbkhoFpNHA2I/Q7CeLTGcjF9wt0Hj0niDv3RLvt7+wijWUwXvLB9kxs717l96xbHx8dUakISdxl3d+nEPdARddMy9XLKuqRYpQwHPcJAb35Wm5GuHLNpga+3qdZwlj7hWucmNw/vEDWCyeScrS++C14PoRPW6xUq1ORpiu9LphczZBhSKwlFRb7KyEJN/4UDPn1wj6dnJZ2DIZQt+dmMpG3phgmRMiTjiLptOTzcompadGyI45jQgZ/VvHXrRWYP7vHtP/ljVtNTdl/a4ub2IS/vbfPaF17l/3n/u0xNiRf06WoPazTdtkXNa77Q6fN+uCQoW0Sdk1iD0QavBVmHGC2ZCMfENrQq5HbQQwvDltC8Gnsoa9mRFaZN8XwfT0BjWtqyZc/3aDxNbhuanS7br73A8VaHQjmEDhGmoCpbBsMR+aKmaWCaZpRtS2salA4ZbiUI1WE9KWmcw2pFf9Tjlb2E8f4ukZOsJjOO5+dkaYbsBoTKIk2LbVqi0McqS9QJcUBxPuViOsEYw245xpkungaHoLEtVZ3jeQF710esVkuoW8BeSn4c9gfrNp//PDOLkBL3nHGE3iyT4awFIfAuUS3qylhCiE029dx7gGc9JuccFZtJ4nK9Qp2e0h8N2d3ZoZvnHB0fU7cNwnPM04yiqdG+h/YC4qii0+lcst03nxuG4YZdhaGuG7T2sbbFGImQAmMypBKApa5LrKswNqcb9TYYF6VxThFGCs+3tI1ABGwmmIXE8xTaC2jbkLRY8Onde9x78CkvvHid6zuHbI22uchS8qrktRfe4cWbt1hnC7770cc8qT+kmGeMe7tc/8KrrMqSR8ePmRQzcJY6L/B9n7CXUDeG6fExj+4vefJ4TSJHVHnK9f0u/+mv/+dsBT1YnvHwyTlbP/0CjYyxZc58PefmizdJq5o4HpEEHVS3S+EcujUcz8+5+bNfpuoHpPacrdvXEHGHm1v7/N5v/Tbvf1IwkAWvWkVgJV23IXI+mUzIkSzCJb/6hRu4rCDxCtIXh1jluP/BN/mzfwthAeOtgPsVdPp9sqzhD8uSQDnGrWXXD0iCDjMpeMVGDIxEC4VQjlrkXDhDrDxaz+cJFY8awflkyjKE67HPgSjoexFVu0YLkAHkeUMVbtoNgYTYwEK0LJOIz2LLpF1s1OiuxQ89KlUw3OpjaocRlnRWkFY563LTr7x5+5Abd3bo9kbUxnB2ekQdO3b3D4nDze+xXRcslwssFpM4ClHieT7KGKqyYL1YUoiS0WjECy8c4mnJk8enWCOZn12Q+D7be30cksZY8qZGNYa4HxB3PVZnxUYOZCRaagpTfu5r9QfB6nnh5nMZk+JybQaBdGywKu7y+8+eO7SQXBrqPtNe4dwzIugVLiZNU0ajEVvDEXUnYT6Z0lQtnhfgpCCratK8oJvndJMNBgbkRkohJXmebz5bb7hZUbQxrBDSUdcVQhq0DqE2NLagNilOVjgatFbEUczGx0uDLDBhubEa1w5PtaBqrGxwBlpXUpkVyWBjSNEP+xyOrrG9JdgL9tkbHxDFMSezI/7s/T/jqLlPX3e5ffgqzgrOJxOyck0cRRujzTRnvV4zGI9om4aLs5xP755CA0KCLjN+6kd/mTu724RVwaO7d3FxD/wE5yRBtaQoMmQwJAgCmC64feM2hbWEgcYqwZPZGXY/4axa0IaWeDvg6z/x49wcbPPWj73Nf/n3/zvuL1uavCXyKvbjmLWFI6VY43hUpCg55UYyQncC7p1fIIQg6XU5HPm4ZU5uDCtlaVvHbjKiqmtOFucsY4/zvETZhjNtCacOf7DFsjWYqiLpxgSeweSasm44zyumzab81lGAjn3UMkWbGgfYGGYNtLJLqQS1KRh7krZsWIea+V6H++05WbXmpb1XCLKc7p2YU31OYzSn51MS5eGFinLdUMwr/KTDrddvcXA9odsbcXNyQDgUNFFLJSytE9RpTnExY3Z2Aa0h6GiiQOP7HnWaI7Ak/R43dzbGJtZaenGERlBULZOzCUkUs7U9vLyWNKZtcdIgtIcXxVi7ekYocU4QeD+gLnzu88zN5rkl5uczpedLvuefX5WFz5eLfhQAPLN+f2blpTZCTmMMdVlR1zVaKoIgQimNFeCUY7lc0o1iRsMuWZZR1y393vDS1abZTP1sTZLElys+hiyrqOsCq9domTCZzMmyDBVYOrGm3+/R6UR42qeuSxCWqs5YeWdYV6MUSOVh25q6rZGl4HjylO5QkmztMYqHjDpjtrsHbO/u0Bw6vDDibHbMX3z3W5QyJRkN8ZuQom6YrhaUpmC43UNFA0xZstsfcX5+xuTsnMq2LKbQNqAU4DIGPckX33iDhBLKJQ8ePeHdX/27ZF6PwBao7Jg4iRDBRsrx0fsf8Npbb9BEIV5b0Wo4q6bMPbioU77241/hzpffRDuBrgvk2Oe/+u//G/7x//HPCUSHTuDzwQcfEPuCWT8iuX0DnST8iZryWSpw04pv3m8ILPzw3havDRriJGapDA9mC9rG8O61W0zzz+gI2O51iEooLtaMjM/HyvDQGYq6wNQltwvBYSfiDc9H4HGj22GkI/K2Zcdb4TcFJR0i49H4gomtOW67PD5tONU5YRdeHQbc2e5S7Cek79zipfEbbPc7RKLEKVhlU4LEUixm6LBgsDPiYrKmcRUDP6BtM7o7Hbq7IbiCa3fGDG8lFF6KIyCrW+5+8CEXnz5gnPSJQo9bN2+wu7vLg7sP2d/eIun2Ob2YsDyfMrh1nf6wzzjp0/OHnJ3OefjgMx7ef0Kvl9DpxwglEHhUdUNjNA6PujEIp5ASpHb4+gfB6nMfJzaLyrDJmiQCaR3GmWcSgitJwJUI9Pnl5yscDIAWmwZ7EATPWFNCSVA+tTRcLC4wtqbb6bI12iWuU5ZZSiMdzkLRtFzMF4zGMVKDvUzhPM9HX4o9R0GHKEhAClbFjMwsSOsFOkjxvAGZaFADS79vCAIDUUrjJH4doPGpnSUTGsMcqzcmr1hFgtg48yzntDZHiwYpfWLZZyvZYZzs4KsOYeihvJD16j73Hj9k/6UbDHc8lANcxqR9iJcInBQYWeH7fbwqwOVHiLAmy0pCFLta4QmIk4SvvvUOP/rmT0C94OmThyQH14h3blIaaI3hYn3OeOc6xh3SsUuenH6D10Zfxys7tK6kKCouHh7T3dliP+7w5Xfepq9DzlZTFrbCi7o0g4bomma+mHKR1kxVzdALkduapXqANILu9gGLgWE8GPNj+3uUUQMHUO31CDpduk7z7knO+acrbGfA8PEW3SjmjZ19BkjqR0eoVc5n5Yr31nOWLQSqQ9o6jlcWRg1n6ZqpbUm0x23haBDknsSKlEb4lJnABT1mjeVcV7QW9sZdxq/scP0/eJtvHT9kOVty6/qQxDqaeUk5XVPOWxonKCofYy1xZ0SvUowH2yRexHK+4MOP/4THj/r0+wPSdclkMsMBHp9QpZInj04wxtCJGg63RhxcfxFTWB58NqPXa7n1QpfhsM86zbn3+IheLyCOY1orQSosAYvFxmJ+ywzwfInFbSghpYSsItwAmVAipq4dRdl87mv1+z5Ywff6VlcZ1fPPnzc5fT5YXe3aPR+4nnfJuWq2e56HYUNWaIFVmuJpHz9JNtZbUcjFYoaVEtqNj+BisUBKRb8/JEk2bjpNYzDGorVCSoW5LDkbYy4NTyt05Ii7GsSGT9WIGtdsuOaGAid9nNtkfaa2WCswWqAQ5HmJXVuy9ZogDsDVKLXJBqPORtyqPXCNA9vgewolNpPOYW/Tz8uzDHtZTQtAXZbLtjVsWn8SHQYMrm0zShLWx6f04g4//Te+hpQK8pzvfufbvP31X4JQIzW4uiE9XzDe7VJXOREVy8kM/M3UUxhHWqSESYeirYl7I7wooqxbSlPhMJi2QqsWT9fkiyllXlPZkrTQeEbgWYt1DbPslJ29bUprOZkc4w0VvTZiGXRwgYWqIrcNmavx6hSpFXGvi+xGOBR5N8DYmu3hFj+cpLy0KvGrFtH1OW8K7hceJu6RNxVZmtIH9joBoedjbENtW4JeQumAtqLX03R2tnn1jQPe/dE3WOuS0/MzTsqCwzdv0uCYrdYssoy8rKmEoFzVzFdLimKTib/64h22egPy4YCj0xOkUxzfPyJdZXTiLmVessqXpGlLEkSgHbv7W1y/fkDQwkefPGL2NOPUpCwXKW999WV2D67hqCjzNR988BnpCupS0ZgN6vv4dIrwBHHyPZ+Adt1imhbtKaxTGAcGR1v/AGv81zp/NVhdQfP+aiallPpL1l3AM1EoQF3Xm1Lv0rEZeMZjT2INbMSai/UK5XXYOjikL0as880yMlLSGsNymZIk/b9kxwU1SgmcE5jWgZR4nk+v00M1lqmZUDQrTNMifYP2W/AbpHNUtkFLjdJdjJW0RY2UCbZ20Gzubp6FKIiQgUftDMPBZrJXLSVSK2os2rXgDFI4eknE66+8yqQ4wxM5JRbpay4uLqiKgu3tbXpaEQqP8d4BXgB3Tz/GGsfaK7izt80uAV+89TI/9UNfgTLnw3/5rzi5+5Ctv/8GuTK4ek2HmpEM0FLhew0Pvv1tRN2CF+CExUpD2uTors+3739MVI45vHaTKAywvkKaFmFL+lHDT37tdf4iCPjux5+xXDrKOuPa8DpfOnwJz1hScmZtyvsPH1ClOS8e7BMPFPlAoBREfkghUmazc1TcMo46jIcjtIDCGVb9kG/e/xjPwI1hxO1rmt26ZSkcwoT8+UQyXUyJPJ8Xx9vc0hDYBa7O8aTCacf9bEUawqwHN956hR/9+R/j8NqQyeqM//eb32YRwmJZM7mY0/Z7nOc5NZBbS2sl9cphMkle5mzfGhBrjWxz0sUZx/dP2d3aw5SWrkt4de9llIEo9pmtUx6dHbNuVtx+4QatKfjwDz/mu+8fY5YJMvRYziyPHp9weCMijEOqpiLNFWkJuACpFAhDmq548mTKcBSj5UYgzTqjLavNtRVoDNBKiHTnc1+n3/fB6vne1NXjK6jdVc+pbdtnj+3lcvLzZIPnZQ1XrzHGEAQBVVXR9WPiOKaqSrwwIC8roqbCCtBCcOPaIZPJhPl8jg58pND4Xog1UDclCB+lBXVRo9WmxNyo6X1aaWgbSyNaRJ0RaA+BoW1r8CS4hsbllHZOoCSokDDSGNPFCUVZV0BLU5b4gxAdbpyfk06fpDMiuCxPy7ZBVYZAhjjTksQdbhzcYv1gjbM5bWMo65rz6ZTZdIpAkmxvE3YCunGXuhlspBhZxuPHD1hPPuPleI9f+Xu/SOyHsFryyfsfMtg5BC/EKEHkMqrTJ3SEQGqNWc05eXQX1VhoW1q/wZOO9XqBEXA+nzAYBGRFxbpc0+t2cLWlMRVhqHnhpX36nS12D7b4/T/6FvOnOf1OzCju47WQTjPwFdY4amcgkITdgCAICJzGpA35ZE0sNF0dsNcbo4WiqgoaWvxeD5MEnK8dx0XB4wjevTXETzXRuuHGYQ/zaInNa1S5JOn3iS6lJZ4fU3sGk6SEB31+5ue+xvW3fwgrcs7I+eDxQ+5mU7JWUoeKMm9Y2DXrsiZNUxyawA+xbYVtwbYbaORyPmVW5hw9ecz8wrCYpvSiLl3doVgVDIKYrXhMURieHB/R30oIw4jHj0/59P1jbAGaEIPGNTXTyZqmfcr29jbzxZK8sBincdYSBSHCaYTqYmlYLnICz0drn9ApsIKqrBFaYLVGBgrd/qBn9bmPUupZJvV8M/1qsvc8qhj4d/pVz5eKTm16VleuM1dLvL4fI0SL8j1MC2EUscpSPrt3l+3xFi/dus3e1jYf3/2MVZFdyhJ4FhQ3fbEG5wzGOOIgAimosRhXfw/9krfEfoz2Q2oC6rLBVw1SOkqxZrlKKQvBsLtPoEa0jaUjewS65SR/zEU7pxYlYRDRNpIqN0hiyrYhqwo8v4OSFqQAA9f3brNYrzmaL3DWY5WteXQ6YXU+JfS67PeHlLqhqhraqqHNarQVDBvDz3z1x/jaa19muL0FreGzb32TFPja136CigTfgJo/pDi7S3c0wBQFol2xPH5IN9is/TSqxitqTo+fslrP+NK7Xybe3wJrMbqhrktU65BWIAMFGoaHET96/Utcv3GN3/lnvw9ZxaP0jCotuTg7p3OtzxfuvM7dJ/docahRn7gC0TiW5xmP7p+wJbpI36dwNare/HeUZcO0LZg2LaeBhzroUh3GyKHPeFoy2O5zqPqUakExr5E24MhZHgG1dXR1y+Fr1/n6L36Vzs0tLryKBUs8YSkxhAdb3BZvslwUZB/ep5jmlEHFfJ1TNw7VtFhbIbXaACMv18a2dg4QTU7ghxw//ojaOWZFCqGiFJbctZwcT3n//qdMFit2b1ynzDxOHq2xRmAd+GGDiwVe5LGclGTTKcf3zjHOEfViomAzJJJ646UpsDgLZe6onEFRUYqWttlIc6zUSOEh3OVN4XOe7/tg9XwT/a9O/p63cL/KrK4yqWd6rEu2lbX22erNVbmolML3fZSQWOcIw5BIxVpi2dcAACAASURBVBRlRZq3ZEVOUhQkUUwwCFika+qTI8pyQyU1ZmNAobUkzzcUBa3DZ7ZgUmt8z6cr+5RthClrlNUEMsLhqJsC41LwBMY1G0X5rEa6kFiAr0K09giDmK3RDqt0RuMs2homkymRbhh2fYRQm8ymhYYW41qk7xFqST/ZYZomTLKS6WzNfJ7hrKKqHVlVIsyKfHaP4+N71G1JW1Z86fYdvv6Vr/DOK+8gggDX1Pyb3/oXjA53GVy7hTEeMRJWU7LZMV3fYv0unqtpiox+93DDyJcGW+TURc7u9g7e7R1SZamyAhOUlK0hZOPl6IQEBZVt8XBsD7uMhzEraj6dPeZiPqdPRC/cYtjp0gs7ICStVngyYL4qePD4hIssZ7C9w2mVMa0KPCGp1yWlaThNFxRKEPpsGFDrgifrKfHhmOSgS7fdJz0/4pMHK7yypGcFpiOopWXczfj6YQ9155Daa4iNwm8N2o+4e3zEyeMTZudzfBWzH/aYnU3RSUBtDWVd0ZUx7aUXJNLhBQFhHBOEETv7exzs32AxsXzzo0+IehHjvX0KV7OerakvSo7mF3T7Y5LBmMcPzpmdFTR4qFCQ9BS1aKmMQyof0Wx2aqu6IOltRKDGNVS2RlhH29RI6xCtQjQOI8BKcK1AWLmhtoqNEW1T/4C68LmP0JflnbuCrl+uzWi9mQAqifQ95GX2pS+/b61FSIkONnKFpmloyxopNUp5SLlRpzeNodU1nucz7A7Z2R5T1zWnx0dMpmtW0yXn0wm7u1tsb/exNufuZMJnszMqTxJ0OgQih6pBInBjQd6uMK5FGIctWlrr0LqllJJJbtmO+iTWxy8L0rAGCZUryFxKKQqW5RM8pQi7gjDSICpMuyL0W1S4Rd1WfPrwI8q84gt3vsTeaB9pHV6oMMZS1SWubWnbFi0qaBuqLGVxfopShtFBj3CgePLoiEn6MSPdp5c6xiqhjRP2yy5fuPMuSaeHvypZfPopdz/+mP/sb/8aw8OXqU2FnZzz8Ft/gK0qqsEOnliyvDhhy0VYP8JpQ2e2pJ4ucHnBNKjZDjQvqg6VJyniEOoW22yIFes83/gRorHOMW9qmkEPpy0P7r9HmlWIMOb4uOLT1X1qWTLwIsrvWo7UgkfvP2R1scarJB8+eQSBxok5wgcZeVhf4EWaOHHEpiFKJDo07O5vsbOXMOxKZsUTsniK1wfh9zjPIIgUpSlR/YreKzfJyNHGIa0l8Do8Tif8zp/+CeeTBfvDfa7tjCnKOU8enhMMurSxhxM+Mg5ZZTPWy3pTyvU0y3TKh/eWcOdl+t0eL76zzf3FJ4xHmsPrfdJZwd17D5nngnU6Z8eLUW3L8dEFy1VLrx/w6gu3+eIrL3NycsJ7H3/MwrSUbZdVtsDXHt2gw7KY0dJQiY3K3TmBEhJna6TXoISkqC+rF2ehsYi2pikb7A+oC3+987zW6goFcxWYrrIk3/efUUGv0C1XTXb4XsnWNA3r9Rrf9wmC4BkhIYk7VHFJ5AfsjreIfZ+ivMc6XXLv3mcURca1wz2uX79JKTVPHz3m/OSUcadHEkb0uz3CMEIpCQKE0BjX4pzEtgohh2iR4pRhtZ4QJQeE/gArSqqqRAlJRJd1mWODljI6Q9sKSYJpHDVrOr0AP2xoVkt2D0LyFGoz5fTiUyDn0NunaWrOpkcsiimtq6naipXf0j8Y80rwCt5dxfTkhMn8MdrrsFyn+ArU3KCqHC/2uPOzf4PdwT6eabj7rW/wv/9P/yPDgz2u37kD0iFMjrANjx885qtf+hKeMVCWHD+4R6AU0g+xFpSTSC1I85QHF4/41upTfuatr3D9xVeQoY/VDT4ST2l6QUJa5KjGUpWG+XTB+ckFpydz8rzC04qsqlmunhJ4Ho3IKadLZn92im0qRn6HnYNtjo9P0bLmzhdeY/vgAOscQa+HUBJlJVVaUGcOKx2EAum1NK5iWuSkleDwxduMg5DJk5LzswW5XRIPI37+P/w6129ugWoxpkZ7MWVR8eDjU86frmit5tHsgkfvndATMf2tAQ2ComkIk+4zCkiYhEh/gyuarVJYWs5PvsH+zi4vvXzI7Rdv4/s+WZFR1RW7eyPiRct5vULYivX0jEEcMVOGw60t3njpJUZJj7Zfc+vwNnePT8gwpGVGd9C9BFP6aBTCtTjtkKhNY106TGvBga81bVVvbvIWTNvie5sk4POe7/tgdRWMnse9SCk3vKfLxeTnS8SrJebv2bnbf+d19hl7fRPMhANnDG1Vo5UiDiNMr89oPMC6lvV6zXw+Zzwe0e/32e0NKLoL0tWaPM8IfQ/hSYwGjUEgkEIjpEYrkNpQ2xGCBuPWhH6MEhpFhGcHSFokKZEo8d0C1zpab0HuarAFDoXfcxhVMpuf4YSlP/Tp9QIiF6C0oWpWzFaS2XrG0fwRVpcY1yAVFHojjE+6Mbf29hGTJc427B3coVjnDAtNPZuypTrceuFVfvVX/hOoa6hqfvdf/Ba0LT/05S/jDXpgShSGKl0QeiGB1JSzKeFIMTs7wS9LQqVpaoMylqYtadqKbrfLhcg5OT/j4MVXqcuKKq+onERrnywtyMqKoLJMJjMeffaEs9NjFvOSMPSp6paiqTGXK1bdUUBvKyTuSagremECxkBc8uKLe1y73aEzctStRXh2Q18XAu1rVGDJqhLpS5yvqBsBRiKCiKgvyM8rKpFTiZRWWw5f3OaNN14gjB1VneIpTWsNZ5MpTx+ckOguRmiOTo5YnjcEuz5be1uUtmU9m5Ku1hRWEimP/laE9EH6G4oIxrKapVRPJnihz3hrF8/zuHh6Rl0XhFGE30j83RG+1mhh8WTLMPG4sbPDqNPB1pvsaHuwxdHJnLQ8wwpHQ0uWFTgtQGk8JxFCIRxII2lrg7QWkDR1uYEAOIm0DiU1w37/ChPwuc73fbC6yoCAZwFICIG8ZFL9JYU7PAtKVxC7qzvaX83IrvRWSqln49uiKDg9PQXrCMOAnZ0xvq95+vQpk8mEbreLtY6dfp9qPOZJnjOfXoCwDHdGlKZCC+9yQmmQl838MPSpmxGNWdG2C2zbILRCyZBEHOBkS2WXEAsYOwqzRkZrpCepAaVDVtmSk9MjpPPY3d9BKx8hPGI9ZNS/Rj/ZomyWrOoC05GUTYuPpClr4kjgN4KxDNnRQ3a3X6YpK57+0UMmD5+iRrskyYApLf/gv/5vqbMcz7f8+R//Lt/98Jus1ym33/wCXq8PnkamE977k9/l9de/gKsNQVtDZUmnZ+yohCj0CX0fSrHxPLQ1B9d26Gzt0K01pxfnxMOQdVZS55b5+Zxy3dCNu6hVzen5ObPjM3qhJthNaJ3Pw0cz8BvqqkH4MD68Rr8XEkaCbjSmE8YgHC/88DVMWINfsaw9nANlNzQO01RUVQOuwiiB9iKyusZahRYBbW2ZXsy5e+8p5WKzbvPWl2/ys3/rp0h6mqJc4SUBrTUY2/Lo6JSko7kd7VLUDYOuT5lXaCcxymFqR7/fBafJlgVKBwjRUrcNUiqCKKSTJPSiXaaTGe+/f48vvvMavnbYylCmGTqA3aSHNCFh0kUpjSlrbh5us7c7pq5LVmWB9TQEgqxOUT3LtYO9jUzH1EirN6hsJ2nbCtdurpu2Nig2mVPTZkjEZkc0jCjzfAOLFMHnvla/74PV85IE+J7m6nka6POPr9ZmroIUfI+8sBE+fm+h+ep9rTUbYmUDJ6enVHXNtYN9tNZ0OjFB4FMUJaen5xjj6Mc3iKOIJEk2Bg1ZTp5mG7UwAiEcjWnQvkKoGuUUzhYoBJ4IEcLb6LOcoihrEBbpNKEXE8cJ04tz/Gaz7uOcpihb7j98xHI5581Xfpgw6F5OOQOiYIgkoqkki2LFdDXH9gy+DoidoqoMYZrR0wmicnzwnfvo1kMh2DchO+MbHL78CgsFP/K3fg7iAL9IefDZe/xfv/GPmLYpN186ZLR3QNVYApPBesJH3/4GP/TL//Gmx5EtuJgtSYucXZmgFTgqhLOIpsY1DdJKAi9CGcFqmbKsVkzOp0yOFyzOlnilZisZE8sAzwTsDEZ0hhG377xEKzx+7w/+kI+/M2N3P+D6rQNuXd9HuAZTFzQmZ7JKiZIO1oWbfTdrqGWEq1t8BMIJ6lpSFQLnQV00uMLRtI4iKxFWkGdrqnVDrD3iZHNzfPHmDa7t7mDNCtNKsrTcTIJNTV42qMtdUKk2GZyOBMa0tK1EBYpuGCLxoJUb/0RrcW7zOxL4mtDfZOBJHJCtHNPzGZ4A38K1rX20lXT8DpO04PhiTpL00NbiCUjrEr8Xs7AZ83TNbJlRRzWR0gjVQG1QVmPqFlO3CCs3Mpq6RqDAuE125yTWXmZ6SBrTIjzNIl3hEX3ua/X7PlhdMcuvsqqrc1XuXVE/rzKupmloL5vLV5nTVbDyff8vBb4rV2arJZUz2Naxmqx5OjnjYjHl1s1rxHHC9vY2eV6wWKyYTuac90O6ScKt2zdYLBZk65R0NiMQApf0cLRYV1K1FQZB4HlILyXUCq22Cb0E07ZUxTlZ7RBYfF9ipMFI8AcRoeij2wRjHPc//pjJScqrr73O9m4PJ8AaC6bBDyRNW9LWhix7gtYpFSW+Abm2DAp4aaEZdEIePzhhf+7x23/wp7z25puMxgN04vjow+/yxs/9TX76V34RCgfLc/7h//I/0L0eorf3eeWVL9If7eJaRzY/5f6f/janDz/DKc16taCrDCfTFYQBpjF4gcSZHNEK6tWKNlvTZC22FJhCsqgqHq1OOT2+wK4c+XnGlw5+iG0zQHsJOgLygp/4yS/T3+nhwoDrL3T51//sj+hvDf5/9t4sxtI0ze/6vcu3ne/sJ5aMyLWWrMzauqen29PDMINnsJs2RgzcIIGvEFxwgRCWQEIgC5BA2AIJCQ8eBhkQwiBZDFgGYzEjC2sMs7jt7qqu7uraunLP2OPE2b/t3bj4IrKzB0vUXE+9qZDOxYlzUnG+83zP83/+C7t7OwyyHGUF2sMynHN0uuR0vuDp9ILh9oQsyxCpI4kiUq+pNwWLsynH51MKE+j0ulRVxcGTObuDlN3RhGvbE/JJTnwto1k0HB+fcvDJY/7ASeTAMhp32dkfUBQFs/mG0+kcrCMIRRBtdrHTEbVydLspeIHZOIILnJ6e0el06Q+7iDinsSWJBuVrTLnBlgvyKCEUBisCxWwDsWPcHXE4mzNdGWYVnK5nZBJU8GykQZ49xkeGWhnKUFAOKhKdkEQKGVJW0xLXONIkxlQBIQJKt667QtKOhUKAu0yAEgoToDZVO7G4L9NtvvB5mSf18hjnLwvRFah+da4wqqsO62X+1VVBu8KsXkR0RRqkJIhW6+a9Z7FecXJywt6eZjKZ0O9bnAs0tWVVbMjznG63224AnUf4QLDu8nUNzluEtAT8JeDeENFBxRlappdhqo7GN8jQ2tDWtibrdNjqbxPbHIHCO0vwmsl4l24+IIovNYlaYipLUS4IRqPoUJsFQdWkKbhZyfnRlPOPnjNwI/7h588QxBxNN/SijERlhCzm8wefMb62z7/8r/4rrQ6nqvnod38HHQXe+fo7LFYzru3eoNPpwmXs/W//7b/F63fvUVQlUWg1O0XTUJoGFUfIy3xGfCA4S7UpmJ6u6eylBKdJ44zatpbQ09UFZlMzyId0VQcZd5mtTrl+6zq7OxPIIKSCG3d2+eY3vwpaoSJNKiKkhchJnCgYGGiCYlVPOT6asrO7y2SQkqkIuyhZzC9YzM9ZLddULmY07lKXnqaA4bUhN7auQ95gNobVxQXUikE+4Hsf/ohHD58xerXHV756D0eDC5bloqWu1GUgzRI8YJ2gsg1WaoIUiMvEpKZp2Gw2rFcVQgQmu2NINPFlsG5drSmLJTJorKmRLqC8ZH42x8wNBY6L2hLSHBskxluMMUxXC3KVkw1j9vZ2iNKI5XqFNxIZNMW6ol4b6rVpo+qEaEX7Ul4GorpL9xJJLBNkpAg4rDeoS3vw8GXI6Rc/4hJM/8M/+nJL4b1/gU21nVZ0OSoGnGsjttpMwVbQ7AUECSBAa5xqhdHBOxrvEUETKYmrYXqxQkcz3nhji+1ej/H2kOl0ilkVyCCJdUI26RDHrWVMbR1x09CEArQhSh02ckzrNZEdENiQJgXOR1RhiIw7RHGFNSWVXrEzGiG8wjT7GFlT1yWJcNza3qeQa/LRgMqvEEgwYC18/PgH+EqSJRm7NxIKGoRRFKs5xWrG8eKU3/vwIf/UN3+Z7733ASGL2cr3ePTZ5xzZDdduvsZf/h9+E7XVpzp7wP/x3/4X/Pd/46/zZ/71f4Gycryt7nDn/p/A6EByfsrx2RHH4wF/8utvsdVMcauKOu8wPThlbCKWeaCrPbtrCzUoEXgSVnz6/afc60rU9VuUhWFgNPPGo9Ievd6Iju+iyZmXJ6iO5eabr2DyS4PCOqEnM+6+e4v5rKRcBcqyxvmaqlwwXRYcPl9wMSs5OJxR1BvmxyuGD7ZR2rMuzpgvNnz9a2/wtW/c4uPPP+L48Yx6qUlLxdlJyXz2jNVmjneWFM/uaIJyCc1aIquMzz/esL54yLW9Hs6XNGXBZlPiYsX1t1/FpZLVekNY12zpId1Ohmks3mnOj6fU04imdJSzI1Zna6I4gHZUtqZxHqEjgjWsGtBRSiQSauVJRI1NFDaVOLGhrgpUHrE1HvPmq/uMt8dkfY3sKDwBHd1hvTJ8/OEDlrOS5aLEW3HpPqsIKrSFVFh0IggiAI5YRuionUxMaTEFiBDTyOYLf1f/2Berlzuil7ukl10WXnYD/cPJNldRW1cYlbQtdwvZFr0XwmYh2gis0LozANjGsFosqYqSNInod3NirVjI2YuuDlrjvavRs6rWBG2QyqFVhI4inG0wtUYqi+6CEB4ZLN4arJ8RZCBNeygSRIgxRtDRXaQscRgGWY0IgVRHNKHtVryFYtOw3hSsLtYkScbk+jUkglR3iHuSrZtDer7Hcvoj/v4nHxInCevTJY0raaZLdt+9x7/xH/77NAnEJ8eYg0d856Pf52e+9VXW9YqcnMm160z6Y7QLuPqC6fqUd969x3jYwxRLiqaipmJdFnRFO1YE24Z8AC2fJwSGow5CydYriRY3wQciJJPhCHV5M6lNTQgWHbc3neADNniUapO2i3XApTBfrCmrgocPHnI0Mxw9nbGYV1SlJe/GVEvLg+cP0RGoFGQE+bDDYGfA7nyXH/799zGbCImmXDmWbsO8LIkkyCTmYlbjq5qq8QhbYX3E00cXCNeOg2k0QCQxFR5fQbEpKFYFooJolNEhoxaOg4MDDp6csL6oUMRIDevpivGoS5xFrJclRkKUBIIXGO8J3pJmMWmsiSXoTOBVS9QcDHrcv/sKO1vbbE06xFmMDzVBWIxxRCGm2DQ8f3bIYrbBWdFmFAiBVu3f2AWHuDS0tOHyuyUlbaB869HWhIaAR8kvx8AvfK6EyVcF68pR4WXA/SoG66rLunreVUTWFWXB1A1BBRKtMdYhVCtMVkqhkwQlJPjWWSHPOiQxmLri+PA5Iuwhg6fb6xBtbWGMeSGIbprmhfWMDQVxpImThAhoipJqZYhCQpymxElN4ys26ynrtUBmJ2RpHxF61GuJCikJOToIIj2grNZMuop6tUJ6T5RGrKo1R88vOHp2SrGuiHVE3u1C1GYQKp8xHO+RDjTnT1dUMtAg+fEnz2iilFoHkq0Jv/bf/DW6925Qr85Qmyn/03/6H7Hz1S3M3gRZBYIT3Lz3JknU0gIeVU/56OgjBpMO/TxmdXJI2utzZGes6w0d78mjvE3pcBaQaODmrRv80s//k5xHFbNFwWR7j1g4nh1/n0k24Vo8optm2Bq0jggaBoMBVhVUZY0SkCQZwkCW5RwfnvHRxw959OhzDk9nlC7BVoqq8CQy5frOdZJU8un0c6JE8eZbt9m7vcXNu/vUriKOU5QSbBpDfpmSHbwEFeG9pDYJvpFMRmO6w8D0Yon3ijTOyPU2r11/jV5Xs7U94vD8nIeHjyjXJdWqoRflxIMe509WHBwc8+DHz6k27ZjvnaQjNNfHW9y5sYeOBD9cfcJpUSDQCB21EIHzzOdLEgVZJ6PxFfkg4c7dm1zb2WZ3soUSEqctjd0Qy4AIkkgknB2f8tlnZ5yezFAiRQjderJ5S9WsccG3ErMswToHLoCShCAxjUEHRS9NsKUlIBHJl8XqC58rfOnqvLzhuypIV93Ry89/+feuKA6xbrEpbx0E395HpMQZy7puUAhEaF+jKgoG3QFpmkJwONugZMvHugLur97jSu5jraWuDUqleCPxSiEcxAQINZKYuvTU1nI+P8c56HU9QgS8l8QiRZEQEbGp1ngb8F5gCUSRIoSGTbHCGIuxgbPZgocPn/LqK/vcvfYqWa+HVh1yPWLUHeNrx6ws6Pf7hLkBEdHZu0Xv9Rv8pV/7zxlu36Scn3D+/nf4S//ev8Of+qe/ybNbmgf1in3T5d71N4jyAZQ1lV/yD568xyYqmfRGJEKBVOhuwmpxhhEe4wLCQbGsWrGBcG0nMhnSGeRQVwy2RmAFURDs9kfoJmWQdJC+/Sw8cD49b+kNscKGVs9WlCXeaGYXS37n7/0u733wGZWBnd2EbjTh+dMztFbEqWD/zhbrzRQvHePdHb76ja/hRcXBwSG1qck7MZMbPdLc4OoKpME3MWotsJWjNCCUpjYNKjP0t8CVjiyL2R4OyKOELIoIVcNOb8Sj4gG5idAops/nfH7+gIuLCy4WJVpxiTgogm7TkSIBZ88PWK0WaKUYdQcYIVBxTOMFzjiKdU3pGqpFgek5rr/yGtf2JnTzqO2kfNsVOe9oDLjKcnI45cefPOHz4wWCBIEGFE1jWvQk1kRCkOSd1s8sONSlE2ioLK42+JUBnaA99EY5Pv7Sg/0Ln6tx72Vd4Mvun/DTNjBXheuqkLxc1HQUo4SgsRZk6xN1FRDhjcWFgLwkD7b+6h0mk0lre5tEOGepawhevQDqX46Ab7u79i7trMKuXUvACxnoAukzmlJigySEBToFKWII7UUlpEAScKaicWskEUKJ1hxNOtABGSRRlJCmHZIsJ0oVVhhqZ0AkSJGQxznluuHo4Bkq0YitnO/93Q/ZyUdUQfLrf+XXSSc9MEuyquBv/5Vf5/7tG8y8YXpekfYSrskhtwf7ICKwJfPqlPNyQdrJ2uWFcfTzHk3wnCwuaGybgxi8wNcWvCcICL7dytamwUlQccTh8yMOPv2MG9dvIzYRmYmRDrRUVEXF2cWU2XxOvDtot8ChTeJOopzVYs2nnzygrEHHYJxCqRqlDDLSbO0O6YwVBxenWA1OOp48e8xqfcHhyTNGoxGdoeT23WsoH7OanxElGiH6PHhUcfL8jLCWOOdZbWbkI9i5MaK+aLCNQ/iS4EoSFRO8ZTQc8u7d+8zWS9arGlUqDp4cU9SQXNrkIFpKQ6fTQUUFxWaJsY5YCXysqS7pOAiPMZ6mtgRLi1+61kYZ2hTvJJbEImmvExcATdMYlvOaZ8+mHBzNKUtLGnfwtg2ObaPnBEK223OhI5x3LbtdtdtxYQ2harCbBucqfATkKSr6Um7zhc9VpNaVDcwfHgOvHv+jUpqBn7KNsY3BKYcHggsvuiopJUmWYeoGSYtBbU+26A+6DIY9+v0uSZJQFJt2g0hMVVWXImb9Eya8EOTdfiuMdgHvPCHItmPTJdZkVCbCCI+OM5LcQlBolbWdWHAgLLapqf2aNOlSN5ZHTx5QxM+ZhJhs1BbGJMsZDsf0BwO6/S7n81OW62to66jOLOfHJ6xWC7qDLuk4Jdp/SC/d4df+2t+EzgBrAz/6/H3+l7/wH3NnvmCpS56cGPauv0sWBd4Zv87+tVdokIS64uGzT2mkwzUFnc5tVFCotEfdLHl2dIzxjjRNiaRu01rqBp1FRDqiqgqWyzl1xxGphoOjQ05PTrj75rt08wHTT05Y2wgV52R5h16vR57nWO9xwSOuYAAfWsG49QwGHYRW5L0umTSMxx18EAy2Mw7OH7IJc979xpsMhjk/+PCHnJ+VDAbw5uv7yO0N3XibXtqlKlLSTsRy5ZivYk6PjkEobDBIajrdiF/65a9TnM757KMHhLChqdd0si2kCuAso16XXp5T9R1bnW0WJ2tKG/CuQUYCoQRJR6HzwHpV0OlmdLOUyWjMRVlQ0mYAVJsCY2MQGkFEHGUkWpGMI+azFZt1l1gr6pXBmZZTCLCYr3n2/Iznz05BdVFqg2kCwTmyKMM6DwRq40ikxrpA01iUighS4XxAeX/JA4zx3gCe9XzGHyEv4stidVUIXnYEtdaCil9wrZqmeUH41DikECh9JRMIbSSW1FTeEoK9BBQF1rZcko6+dF7QglhJJuM+2ztDup2ESECOJtQGFTyNNThfXirXE2RIWrcCrQlasn0JtjdNg7p0DfXeo3wP5ccoFJWZEncTLBuyuIMQinoVyLKUuNPBRo6o7iJ9gm8cRRVQ8QDvYlZnJTqLCXFJNGzYud3ltVs3GeRd0iDxouHB8RPW6zVZJ6e2a8a+Q37vVf7Nf+s/gXEPtOb48Cn/87/7l/nuH3yA/8or9LpjiqcLjjc/4M17b9P5M/v42BDPl9jylCfLJ6xzQ69OGZmUTqRYRUfM9Ibp+pS+HLJe16jrirU9QXc92EApPcwbBqrHaafGa8lb+3vMTs5ZrjZoFOfFOU/Wx0idkr3eZfLWNR4ePOT14Q3iKGVdOTp56zQ62NZ8+1ffZvfaDlpLkiRBq4zD41POphcsiw21EXTqDreueTpxn8flgFjWjK7lpNdTMrUNVAjdBquuLqDeSKbPH2M2JcJIdIgItUKWCd0w5o3729iLDcJmbPW36EdDbPAkkabZlPimZpilDNMBP/eNe3z3k0+ZXTQIpZE6QgeF29QkoUMSevTSLtQKUcTYsmSUTliYagXNrgAAIABJREFUksJqDBqdaGQCg3FOf98Q5xJnG1YrkEYgg+SUElMZLs7WzE5WVEWJxtOJQMaAD2A3WKpLwXiKcJ7gG6IYpPOEwiNtwDet+4LpSEhTTGFQRFTFl5jVFz5XDgpXYPbVSJhEim63i9aa5XJJUVzGv2vx/3ETFZexXJH9Q0ESvo29cc4RnMcHj05iRqMR4/GYOBIoSRvJJaGpaxrvkGlMlndIVUSkYqS9/H1nKUTxAuzv9XpordlsNlgX2oSbSJKnmiY0iFATy31spcEqJIpIJ3gsWsXUtUUT8e7r70K/ZrY54uOD36PT6dAdDhgmQ6KeZDfbIVMxm9WaqmoIZeDs6YI3Xtvj9u1XeL33Kn/+X/sWMutgG/jwf/+b/OZ/9Rs8+OEPuDHIYV1wfnFOvjOkq/p85e13GPcG+BCoqPiHzz7jONQMshxtPDoSlLak9IbzdUFRSzqNb8M2gwEVE3y7cVIBOjLCLjfk4xQvNNdu3eJ4uuHs+ITJfgeVej7+0ffZv3OHTv8tZJ7w8OQzzoszdna32N+73UpHyg3b2xP+9C//Co5AkqYtdtg43nj1NZCSoiopy5KnB8/5+KMHvPf99zk9n9ObJNy9/wZxpqCpcL4GIsrC8/GHTzg9WHH6tCJUgiROEELhXcHRcsbvvvf7/Mo3vsLO/j7j7jWKleHw5JDhZIiyKZ1OGxBSVQ1JHHP//n36Ozs8fXLIoyfPWzpAU4NqrVgqZ6hqw6xYcLFaY/Oc6zdvckvt8sEnD4mlBunJUs321hD8BZqIsqhZLNc0jcU2jtV6Q1U1NBsHTUSqc4SPsL5p8UMCOHBeEqRARTFBCcwlVUd6SWg83gZE09pyw6UWN5VtE/ClrfEXP1fEzZ9IZq7GPwd4tJZoLYnjtsMyV1pA0XZaSoCSPxkRr8D2K/Z7XddUVYVEgPCQpS+NmYogBLU1OGcpyxKEQCWKEKAygbpsLl9ToqTEuZ+EV1wV2bquUQpC4tBK4oUFb1oHA9vBGUUc5UQ6ae07VISWESIYRIBYSkKa0DRFK+qtS+RMQeOJmwgzb7C+ZufmFpn2nDye08w9XTngG/d/nndvfwMhE2QTOP7wQ/67/+wvsnn2hH4SkQnH4uSYNE1Zn8759rf/WXZ39wimQeqYTw4f83Q1JUzafMBunANtfNOmbFiWjigdITbtRR2UwOBobE0sM4RQdNMOobR0RIIVChkku+MdirMFlakYbOf0rnUQ3QaZa1auwEvBxWpFlKT0e2sEikQLnPUt61pJqsrisUTGk6SKIAKJhHw4oJelnBzNmc0+o7EBJSN0JKmqkti38W2mtlycLXn+dMr5UU3UZGgvEV4gI8h6XXS2YdmUnE4X9NIBxgU2TYXDMZ1PiUXEYNCOrYvFivOzGednS4rGYhrTvk9Vk+YZvX7OsloiUEjd6katDyyXa4wx9Lp9rPVYarKOYm9nzNZwyGK5YjMrWFVgg6M2rbVRs7EtL1Bk+CDwVmBqw7quCCGgRQuhOC/RUiF1i4GCI3iPaRz+8ieybSgKVwJ/JfDCE72YUP7/z5fF6qVidSWdaZoG7xoEDik8g37+4nFVlC+oDFEU/RTlQQYIPrTJx1EbkCB8aFnrAYQMrFYrptMpvV6X4SCn00mRSStelQFs3eCkpzKmvVP5VvyZRSlxpJFx/FPhFO2I6iGoNvQ0OLR0qBCTiCGUHXx9aRYoA4j2OYQGlEPHDY0r8K5GCMN4OGR2vuD08Tk6RORJiuhJpAgsL9bIoEis4ld/+c/yK7/0p7n36psUSpM8Pebs/Q/5jf/gLzAeAdf7xERIY1FW0JQVt/de5etf+VlEohGVpamXPHj0GVPWSJ/Qq2HUiYixICybsuLoaEES7aHFOdDglcMqT2FKks64dZ5wknpREhmQSuGEBB1RWcP5/JT967u8+vYtfCwQ2mGbChdgNNpiNNlqv4jeU5WWclO1nYRKEUnC89MTNvNzOqmg10+5trdDJBOUipj0d5EhJdQF0eW/zXpFEI5EZzTOU60lm7lvWd8+wobLm5INyE7C9vY1+v0O55vAx5/+mPXpgp2tXe6+8QpSSYILdDod9vev0TSW+ewRBwcHPD44bMN3424rGraOLM25/dodzGrFJMtYzxecXCwxZc2zx8+4OG+VDUmi2RqPuHPjDqNBTuYCT86fU9UllQ80HqRMSJsckNjSUC8qyk1FXTaUJpDmEVGmEVISX4Lk3kuCc3gciEBkJdoJvJc4W+NcK8cJMuA9BBGQ4ssx8I98Xo7ViqKIXkextzt5QfbspJr1eo11UFXVJRAv0FFEErV/RhcswXtcCFhjEEC43BoqqS4DSRvOzs4QAsLNPaQe4yVtR+Q9qY5wyzXdbpcmeFSng9QRtbN4G9CNeCHzueJeee8Jl+p2GTzeCGI1QHtBInpYs0FEAW9L6qak9garS5SwoBucXGDEGpVV9PwW0TAnbUZgBCoRdCc5aM/8cEa5rPjVb/8zfOsf/zah8FBsuDj6gP/1v/yrfO+3f4d7r7xGtr+FNUOa2hHKknp2AVHgn/sX/3lkepkCva54/N4HXOsP6PWGPD55Ti8RTGRMZCtkMGxWBUfPp3z6PPCzwwilW8dKmSQ05jLCKYm5ceMW33v0Pn2zj+xoSmc4nJ0y2Bkx6mSk3Zw33rzPvFgyW85JpOTO3g1GW20mY5ACIoUk4tmDR3zw3R8hoi5Rf8APPv0xdVhz81af116/QREsB09PePLkgNVTx/qkZJLtEEqYHS1ReaAUNTJNWa3XPHpwTLAKFQSFr0FAUACB5WwJwjHP1/xo+phyUZIFzXrtuXH7DpNel2GWviAfd7tdoiii3+8jp0cIEWFcu+Hz1lI9f0aeJXz1/hvoxvJkWZLJhF6iKOZrvKxIM4VSkp/9yte4c+Mm3/3Od1GVQzUdVBDEWFzVSr9EIxBCUi8svghENsYXARsc3U6OMpra1khNS4JW7VZQq7a7FcYhrUA4RSMTZDA0zuKdAymIOjEyfEld+MLn5fCHKzrClXd6r9d7wWa/YpQv1+ZFAfLeI4WAP+TQ8DIrHn4C3l89ttYynU7RKhCEpzscEEtJ5H17hwySxXRKd2eLxtn27hMkIJCX/1+tNckl4dB7j7GBEDzmMu4oljlaKLzxiABNU9EY1eoBlaUJNTJUBF9i7RSRGoKs0SIliRQ7W0MSneJVg00LPIY86/KLf+IX+VO/+Cdp5muoAicHJxw/+H0+ff4BzQ3J6mbKbLNksyhYSUFkGoadmJ1rW+zf3kd0ImzTUD4/5O/91t9htaNJ7+ywmi8YvtanM9YEY6lMQVVVnB1Pefqw5KvvXG/jymgVAqtyzVbfo9OEbq9HcO0NxwlYFiWLYokva27u7oKSWGNIog6pMu3nYh3FqmC+miM0vD0aMjtZcnh4Sp722TSSZw+PMbVkeOsa11/dR3cklXeEKGJdG4pFTaa6jLtbrOszHnzykHw7Ietp1tKwWTiOnp8RyS5ae0ISuBLDhXCJZzaeGsdqbQgGvLFMRppOp4d3P7luzs7OqGvz4rMXCrx3GC8xtBbBvobHDx/x9u1X6HcysJ5ISMa9AdPVCmMqeuMhWZojpeb46JyPP/wxdrEhGqSIjsB4x2ZdtHCBi9BS4huPdArlfNs9KQ11wNQ1jauRupXYKK1IszaJyJoaaksoAiIIvPQE2mvVh0CUxmj9E9H/Fzl/7IvVy4Xk5ZHOO0dZFKRpShppdBLTjSKUkSyXSxabNR4oq4pGtMVLB4EitNfjJZ7lnEOFS2a8kIgoxoTQgpfrBb52vHY/h1iR1BX6bMHmyQmfTw/5yrd+CT/pYowkkxk4i8nqVgAaRdi6aRn0AaQsCSJCiggnFJ4UY8E3BmMDkYLKG2SoEKIGeUblDVZ7QhoRrCa4hJ7vorMe5DEqXlE1T4jYYmv0Kr/yc/fpxh04LjlefMJnRx/y4PQTNvmQ7Cv73Ha3UOMJ86rh9Nizmk0Zi4R/4s2f5+fuvkPU6+JEQC82/N3f+j95/OQhf/7P/dvUwvFX//r/iBqOGVxPSNKCwjrOFhmPjg2qnyJUhMQT0xoQLtcziq0S2Qhu5BN2REymJIWA2WpNZxGYrSuWe5YQHFW1JBLQj1sB+uNPP+Wdd9/FBcGmamg2JdOLU1bLglF2nUGqUfUxN8dj+m90yXcSGgpqZen2B2wPdxjc9SxOCjZnp1SbimrtOTuZ0VHXEWpD3SzJYti51qGsWrcDhKKoHFXpsSWkcUK5KZAe0JJESfb2t7l94xrlZsFqsyY2LZXlyZMnAMQdiJIeZdHgXUBLhXEW7wzzNTw8PCa6fR2bCEgCw3GKTD3FpuLt66+gVMQPf++7nJxPefZ0Rpwoul7izt2LqaHdhF85i0REUUzjTFsYncXVocV1RUCrCBw0RYM1ILQkWE9TNeBdGzNmYow0WB2QkSbu5AQLPvkSYP8jnz/smrBer2ma5tL9IEfLdh5P0w6TasDJ9IL5YkFtaoy9uuMlP+UY+nK2oHMOreKf2hZWzjFbL9lsNmQ+QQtBsZhTzRZsFkuWF3NknoCO8MoS6wRDq2Xz1rAuCxKf4AgIm7UCNaHRMmo3OtajqhpBIIokQtR4V+EpEMERCdluG0ObhCOCpMq6CN1DNQFRF2yrCV+7+3X2d15H2hl1s2Q6O+f/+cF3OFg9xfccm8UF2zd2GeZD5h7m0xm7t65x6+Y+nK949cYN7t26BVWJx3L+9DGf/vgT7rzyCuPBmJPZlNgpJr0usQyYuqIqG8qqompKhns3STsZrllhrcc17eLB1pZEaNJulyTJ6Mkc4VJUETGUI1Qac/jogKyfEWeCVVMykn2wcHY0o/sLE9LhFgfTU54fTXn85ISDw3OqWHNr7ya3928QlEVmEumaFhAOAVNbekmG3YswTnBxfEITPINeF+MrNpuS2sxJMs8bb9+gN+5SVpbSGKIoorENZVkSypzyvGY1r3BOEKGYTCbs7u7iabuVl1UMV7ZEaZoipaKuDXUTUBKMaxdCDnh2eAjeUm8KNo1FeRjv7KHOPJ2sx8V8wfPnhxRVTberMLaVdDVN81OqjatJW0pL0xikuMzMDFc39SsrpBaLsiVUpsYICd7irW3ti6SiDg4nPDrRREmEisHLgCb6wt/RL4sVPz0KAi0AqiVV2eD67QiYdzLqqiCKBVmnA5EnTiWOhrPZHGMbItSLFOYrEulyuWxlGnGM0Kp1eQC0dxS+ZrbecDGdMxl2KcqS5ZPnbI7PyLsJTVGxeH7KYDIhzROUFlipsK7GNaZlKV++X+zz1u7YC0zdgujeOTQBHQMdTxWtsKxxoqQbMkKIUOQok5MUkgTNqKsRdaALjDvb/My9d6Gx6Pkhn04/4fTsgqfnU+ZRg+l3mdkFUWTQww6VClgtSUVKqBpuJXtcu9HhZ169ixYe6iU/+tH3+c2/8dsMBl3e+ce+yflsxYNPHjN7cs4oj1C2RgYLznN4cozBIXCknYSmmNPNx0xNxWa6otoqSPsDom6X8WiXox8esQqKMBfc8Nco4opDd4YxFptLTBShTczW1hY39qa89/7H1MJzWq1AKz76zo8xK8NJuaGjUq5tjxCNxRhBItpOoq5LFrOS5XJJ9+Y23b0UdSxJaoXOBbGJKFaeIAPb+yO2buQ4saaXQ1YNQbdLDUSKnWs+fLbAVK0NMEi6eY/nB0cEX/D2W3fpDQZUVUWUJPSHw9ZeaLHAljWmclgLXnmMbbE3peDhwQGHB8/RUuAJnFYHdPpr+lpzdr7iYrpss/4IxEmMkD/t5Xb1UEqQso17t8YTQo2UGiEUIIGAcwZjWnulKERgPC44QvAoqUFG+AAh8egsotOPCMohL4XMlF8y2L/wedlt4WW7Yu8Dm01JWdTYvsXaps3t862oOE1j0ix+Yd4HElObF9QFpdRlsGm7BXnRXUn5E8tjHdE0pt0OJhphLKoxjHodvFacn5xTTybopEsnaqiUphHtWnm1WpEkCXFsybIM4y3atrFdOpKEcOkDn/bQmcRkhg0bkBVSWxrr8dajnCcNEcpAcHCzXuGd4f7dG6SZxi6XFGLF+cUJ33v8MV5oqijGpRItu0RGksgVAUXpGqyMSRKFqwWJhe1el0GcQWNYlUu+//AThndvYcuaG1+9z1Zvi+lyjikrBr0Micc2DatVyWq+YjyeIPt9UJIkyYhEjC3XHD58zu2tN9nuT0BpJlvXOHz6kKePj+gOb9KLengZ2BqMMF3PqZmzKitqcgiKGzfv8ODwGbNqQ+EbNnVFVXuSNMfWJQenx5imIE8Swm5GVHpC0n6Ga+84XS5Imh7dbs79d+4yPZ1hrWV9cYGQhp3dEaPdPip2CG9RIRCrjDRVNMIjRWBaWVYLT72BbpYhpeTo6AQtHXn+KnGakHdyatNgnKU36ONcG7017Hapi5r50qEjhdAK4xq0BGcaiFqbl9p5Di8WNGYJnQ7J+YLGBhrjuDRC+yk/t1at8fKGThC8uMRu2/FQCtkuiIJsk5yEQCBp2YYKY027BIqv8jglXnnyPEVGLVYXrGtxrebLkNMvfK4AyytpwRWYThAURclisWI4yJHCIAkIeSlxUYosy0jiDEFEUxcozwvL4yuJzng8pixr5vM5XrQR8y/eV0Vo4anWG5YXc5ZNg69KNuUa3x+w3pSs9YaFPQWpOF/MSAe91onBGNabzQvOVRx3kBJ63ZbioIQjz3PiTgcVSUq/QUcOJRXah0suUEQiY9SmJqkt2jZsbQqynqZ5/jFzGfGgWfHB/AdcVCck6Zis2yXpTgixJlKKnU4PHzSy9izLBUVdsZcMCK7h3mDEz712DzMvMKbhb33wHv/37IC4f40gPP/bJ9/hm6/f54cP32d4s0dl63Zjuq44fHZOTIefuf8Gdd4hkgv8TFCVgcVFhY+7PPvsMXfv3MXriMFkwjso/q/f+l3u/fwtvJY0wpF0IqyqWc8Kjo6mxLlA5zn90Rh/8Jy9nT0yX/P5gwdY72jMhvFun85kzNODY7SH/mTCbj7G+jZNaLkoaepA9WyNjQz33niHOzeuM59f8IMfXVAtNtx6/SZb+x2kWpH5DrmMGHa30bGiZMR0seH3P/gu1doRx11cE2hcQy0MEodQcLG4oFhvWvlTkhBFra3NW2+9xeu7N/n0s4e894MHLFYFy6YhloJbOxO6ccwoz3nt9h0Wm4L488fMVitWqw1F1eBptZRCCAb5gLqsXyyGrorSlbUb4criWyKleGF3JEW73XbewKUJoLMtPuiCx6uAlYGGVruYxJAmGqkCxjhM6fAbiau+DDn9wucKY5KXHc8VzqRUjLOB2WyGdyW3bu6SpdElXaDtpJraARrvFFLEOFcCvEhy3mw2ZFlGmqbEcUzZ1C9cRnGSCE0WR3RjhW0qEBAnEc4JSgLjyTZPFwt8VbOpVvTyDq8PB634eTDk4uKC6XRKuVnjvEaJwPSiIYkE/V6Gc4GRKMAJ0l5NlEGKJDIa6gZfW5RrELMGXa2Q9ZrvuRh1UdEbx2zImHcmuPF1IpURvKaONDKWrV2XCdhVRRFKUqnJkpzIOwY+5vVb9/mF/bcwsxWL+YrPjw/5g2eP+MBWvDaMOXx8xPLgE+Ke4tSd0b2ZEXe7WLNmU1imZ2uG+T6NUWgXMV1cMG4sdWkRTlKtK06eH2M2BqRke+8a6/mcP/vtb/H903NcqgmxRcZQVhvmZxesZxuafMxFsSLKM0ajEVEn5frOHQ6fPUdpiHOJ6ipcRzG+tY+0En8+R/QbdHpJQ5k2TEKX+5PXqaxhcXhOLSxBWVIN2zc67N8akeaSTMfsypxx1GecRxS15fFxw8GnB8zPCrwE6w2Z74IXqCiiN8hbb62ypHQlw+EQoSRREuMJbO1s88orr3BjZ4dhf4uHjw/55OFjyrri1taIm7vXoK5JnENsNqQ+kHlYhICz9aW1kcAGz53XbhGR8P7777+w7FaqNZQMXoBoKTpwOYEE+aKYXeVstjhXIGCxeFAgI42MJCFusTctA8JaqtJSlQ12EwiNQvJlsfrC50o2c+VVdUUSbfA4LyiLirLc0B/0CD4n6whsUdKJMvIoRguLlBVeNih9NeNz6UfVei69LM+BdtxMdIKOJLGOibMOUgcuTs8Yy5gk6kB3gNWC/iDjbHVOYwJ1FZFxB1kvyaMIn0CjHdZu6G4KEI5Ut0GSSZWQ2TFL3WM7GTJYCPTM44KlcZ79qqCsC4wxrJcFh2cV89MVhzc9X/v6zzKLctLBTWZNTdTbQlvwogIUm6JCJSU+GE4Wh8xnGzr9ATd2r3M99HlH9nk1GZHMIDjBp8tj5mPJ6Kt3mf/OY45PpkQu4fnTGSdfS+l/8x3uHZ+hF09BxMyWipnroEdjHCmRyJEIfLWipx3ClJzNa7LudUoxpTveRixjhmHMOzcT/s6n/4AsBpHGjNMhvhFcLI45aRaM1RaEDWkxZ297zKJYs162lsQ6lmzvTkhShfMLdq/vo7xk9nDJ4qigM+qC9Ggh2bsxZG9/yPnFik8eHrKsS5KBZGlq3rh7i94wwXhDUClZb0IW5YSoomhKfnz+jI+OHuGjCNYJsVNYuSBEMN7ZZ29rn+3xTUQzQ4gMgcaagEdhveDpwTEylVQu0OgNy3BBoyu8D0S2xJZrqtIyXVQcTS+YmoaN8IhIIQloJWhMifYwPXxMEncxdY0iBhVjbYO49LAKl+G/raKjVWFoF6MuGTsSiTe+tdGWGi0kWgukAOcNSkIUK7zUNLVgM6uoS4PwgkjFYL94CfpjX6xejtK62uK1nKoI71t3zk255vnBIat+j8lkQL/bxagW25JStpiRs5jGIiUvmO11XTObzUiS5Cevf4kPGGMQIibKEvI8J8KTqoRidcx+JDmbL4jznDuTMb3g6USB7VGfG8FwLU/Y3t5ma+vtFyTBXLSq9iSOqKuCYA11VTE7OWQ9X7KcLpgvplRmycYs+IPIo7Qm7w+4/var/Nd/8TcIJVSfw2Jq+NU/9y8xLUqybszalcSJoKtGlGVF4Rp8EzABrFEcn15wyygmA8G9QZ83h9fIHBw/fsCZWSN2c84WZ/THE968dZf33/uQrohQIbBZL7l9fcL+9W10vaEqDfPjMy6eHNO/s4scdjg8OWRLNlzrD6iEReeSJ4+fEMYD3v/he/zcN3+BDIVKJTe2b2Cakve+93u88jN36dxKWGxm7Oxvc//W1zBeMOr12e4MsOuSLFVYDdvDLnffeIvJzoiyLmnWBfvbu1SrmrNHT/j882fcuXuDe2++zs3rWwx7fVSd8PTwc3740WeISBF1JZO9MTf299FSoeKIbpySdXOElZyt5qwaw2y5oiw9pvR0kgxXO4wXaALBNGzWS54+fMRb93dRUUpTFnS6OSq0qTNnhwc8nT1CRAkXteVkdczaG5JcUdLwdHrEYrbEhZhVbSkAIwKdfESkrkJPNEF4Hj+e48NJmx0ZZZcpfvZyvPtHS2E80DhzOTY6hAitM6hor/EojlCJJGjXbv28B+dpXEPTWJzzKK9aHNh9CbB/4fMytwr4KTthwRXJU3AxW2CModPNyLKAblqQPIkixoNhu/Zt/Asg/WXTvivQHSVJ4haUN6VjXWywdUMaabYGPfr9Pk2ckdIQyorq4oJf/ta3yEcDdiZ9OnFEX7dawzRNib0lVIbNZsW6KRBCkEYxZVmyXq4wxnC2OGC1bFitHI2okV1B7/aIrVGfTrePEJrjqeFpAwoYFAmbmSfTOUlUUfuGKJYEJYiF5mLdUBhDnCco2aGbjxn3VlyPe9wm5c10SLIqqOuG8/UZ1956nR9PH7GJQMUpr19/jedPpxw+PqTX1QhnUcaglcd5Q7CBBEWmYtazBb3hNsSBZw+P2L15rZXMpOAyx4Va8MGnH/KVr3yFTHZQHU3hCt68d5cfnP8ucVfhpMFS89prt9l99Q7nm5JgLEILqqZAKUkeRVzf3mJ0fYc4U/8ve28WY9mW5nf91lp73meMOSLnzDvWcG8NXdVd3W67sYHGWEIMsgQSL7QlhAQSQkgIJBCSJYQQPJgHEC8IYSFAMviBSe5ubJoeXL7VVdV1b1XdOW/OERnDOXGmPa6Jh31OZN42w21e6y4plZEZkXlCcfb+9vf9v/9AagXxzpB+0qdQkjuv3OBidYqQLfsHW2yNB+RpxvJ5haFBhZDkIeOdPtdvHJDnGWnewzgLXtC0GmMspYdZUbO1u8tr9wL+5PwBCWCM72xbhGY+m7CcLmjnCa/d3SKOfRfZFodYK/G6IYsCmp7EBR4ResKxIhaaXi9DpBFVWdNG0FhDbTSrxuAESJnivcRg0B4EAickKowx2qO1vgr8/X89wq+v7U1gigfhEHQF0ONwDgKlCAKB9QaHJBABSRRjcQgvwYLxX/KsvvD500Z6m5EwChXGC5zrnFlbJyhaz9nZjLbxjHsD0iTh6OiIdLkgTkI+u/+Ytu2SQTbY12a7qJQiCDtxcxRFJN5RVJ23+NlkihRwkOcsvWeBpnQtVb3i6ekTiuMHnJ6eUq4KtG2IogjnHPv7XbpuURRYE1wtB4x3V9FiOm2RYQ8fDDCxYGtryG4/5KayDAYDFsuKpVeUHqQLiOqU1qRczgsaWmQUkAY5WjhanzCvLUXTsptlJCqgbD13RJ+/+vXvcUem9C4rHj57xtl8zs633uRnFw+YZw4tAsqyZWc05u2vfI3pxYTpvOGz937OL/W+TZh1zOZZseR8WbDSFg+cnR2Tb4+RUZ9WKFrl8dIxPMyJbuR88OFjkB6SkGx7wLS45J/887/BTy+ecv3WPr2dnK3tN1BSUhQrUI40DomjkMnziuJywf7uHq/evY4JQ4ywJGnEsD/qWPHEJPE1ku2Qy8spp2ePObkw7O7tcXN/j9/8577Dr/3jbzEYjhkOh8hAYIWkbi2z2YrF5YJZWRJKOF/WPHxyhmkTkmid9+HbAAAgAElEQVRIL4kZxSlyKLDS4qk4O1sRK+j1c87PJ/hAsjUcAQ6JJw0DWimQ/RQVh8iqZXi0hUlWZFmPspZc0lKEhmlZESYBIoY0ikh6K4plSRKk2LhhtbDoFgIPKgwIEAgBVmvghbHk5lqGNc0H3T3JhcDj1l7qgiBUGKcpm5JExURBgsPihEe6zoPNWkeoApxeGwHEX8bH/5nOy8nLGw8razs2b9u2IAVeSpwQFHWDc3OUkwg6T/JBr09RFGuynqGums/9/y97u191bUKsXRAMtbEUumWGgF5COVshk5hVW1NYQ+GgjVOMV1zWzdqe19G2klRFBP2MuoiompIwlF277bvvYdukGCOxUYuUnnZakez02d0bcLRzE1Of8NGTT5E+IHAJJYJ8a4vKNshEYY3HFQKV9AmCkK3BNsWTx6SlJqkb3siHfPXt17kuIrK64vnTJxTasrSeH/74HcRWRvrmTWzb4oXHKtgd9Xnl1dscP32EniwIVg1hHFPrllo4yjSk7CdUusLPG7aUZ3uwjaML00wJyOOc48sJnz59wMOnz1B9QxKHSKE4yLf43tvfoOwpfKBI44i20UjnUN51bq1KUTQ1ZdsQpwmhcxStxVtNFCYU5ZLVvMBUljCMaHRD29Z4UqyAUtdYtWKw3WPncEgURAQqQCKoXYTRDbrWSBFirMFLR9NInjw9Z/K8JaKHNTBtLkmTmKObAywWI1Tncb+9RdNaZssVCEWtDbEMwHaWKzJMKQuDkBGClLKYUKxaLktFqRs0BpFDf5wxGPTI0hQZVVxOHGEQcRD0qauKy+mCxTm0lQG6wFLnOomWly8cc1+m+HRhTht3Eke0pig4Ol2tkZ2jgsMiZIdrmVp3QL2FxmhMZbpROfwSs/rC5+XghzAMr5xDAzy1EKggQIiAMMpAKrSxLBeXnZOlkPR6PZIsJgoDer0edd1itL0C6z+nPVxTF4wxWDyRVLhQcFkUtFITRCGH/YT4xBMkIYlUPHn4lCZN8Ukfn2XElFffc1kZtKmJoogoDAmcx8iS1q2wYUUUhaTZkGwcMNpXjEcRo6xHP+qxvX2Pg4O7rJYhwh/jTAgyZhFW/Oz4Y/5C+isYYVFygKlCfOuIXcHrw+tc3/bciAR7IRymMc3Jkqp6yrRc0Ds45JNPn/LoYsZPoguO0mvcaS2xEDSRQws4dDnf/aW3Wbx6k4PjKa8ODwnKC85WSxYOPjJzPvY1OQG7PqZ89JT9azfQWhOTkusWN204M3PiG0f8zf/ub/HX/5V/E+slWTwkc5Zf/+o3+YMH73ExXbLwjiCKMUFAP0oIRID3gnQ4RIURs6IbobOoR4Dk6dNn1K1G+pB+NiDOe7jJBXfu3SXOYoI8IMxiWgS0jrqtCIQmxJInfVyoWczn2NYTqASUx1Jx/HTO+UnJ5YnGG4PTFiEN6ajHV37pGlbUrBZHFFPJ/HnLsragLXa5wiDZ7icESrIsL1jVnnnd8ODsOdPlikXV4p2gF/fYPrxB42qivmN73KMXd8kzsyog7EVcO9hjMOgRKMVyuUDPPI/un3P6eIVDYhoF4h/OJ7g6YkMgdQSB6MT03uIQyFARCLcOOBU47/BYiqLpeH1OEqkEAojDZM25/2LnF75YwYvOakOOs9Yi8CglUE6hdYuxFuk9xhqqsqRICmIlGQ16VE2JadqrRJrPGfC9bJFsOvW8lBIZdtwu7wTomlXdUAhH7QT7KmGxKpBpyMXzc2yvjxqHEIRQdT6wks6SORAWJQzCzglFi2mWjHqK3qjPYNxjfOcmw+2QZLgkDS2pD4lagQpSyspSG0GQ5IgwxGlB5Vts6PABOGsRXrFarpAStmIYEHO4fch+u6JfL5l+/DNCn5MPI45ef4Xvv/8h86ahspYnkwnJ9pDrTUucJUTKUwlPgANvGA0GHNSSVMW0ZYt2lsZ6nhdLTpYrkral19tlOwzQTYMwDbppUU5w8viYRayIbh/wsz/5iCfHz3j17j3CJIazC8bjHiGS1aLgYnbB1u4h4aBPlHVcJa11h9FEEa019Ho9nHFoqymKijTrMeyPGPZGXC5XjEZjbty4QWMqWqURUuF9SKM9IZ37hpQpTgdUZslisUCpjCCIsLahWJUcPz1lctHgjEChaK2m309J+z1aV+Bli4oSsl5KnUrSNEeEQWd0JwOsA+stl5dzLouK6WrB9GKBFtCPh0gZIFVI21gaWupFiXcrLl1NoKBxGdZp5suqsx3aLHfSiDjok8gpJ48u0BVYs9kAvrhHrq7pDaQlOs97JzwegVzHonk6wF1KiXEG520nk9LrWM5AkMYJQRCh7Ze5gV/4aF/jBDgZ4FUXG4T3NNbi1gLkAIFqOhKd8QbhPMuqIIhC7j99Sp6n6LqhKAr0uqt6Gf8SQmBNxwR2gUCFkiRShFHUtVvBCCMdUnq0gNm4YtzGZGVD5QLaJOd5XdPYiqQXXhn7LesanEZqi/IhRCU3Xxlz++42N+7skPdiCBokFt14VCMJpcC4hoV/RH3+jOX0nF64pGgXICPSLMAYTRQB1Qw1e85rTY9M5oz9ivLhM07qEx5UBcoGvHrrFb6yvUu5bPjZZ6ccVxnzdIvT1SXHZ+8yrx8S9ve4cfcGYRIxxDIdCUalIpsX3BzmtHqJMg2LZcJ7Dx/xydMVl40iNY5361Oe9lO+ZiRHIiHSEpUoTs5LTgI4EANmmeev//f/Of/Vv/XvE1ZQK0duIn75zlt88Ef/C3HSo9fPQNeoOiXMIpau5NPjzxjlY14/eJ3twTZmNeOyrLl1bZ9k1KdsNfdPH2Ct5XB/n6WqcMKBkygniESEkIIs62GNRwvPvJywuCwx2qFSQ+VWCJFy/tzw7H4BdYh30LqGLFekiUJJx/2flmyNc9I0QkrF+NohTmRkSacFNF5QEYOAqVY8O1uxLEpC2SNN4zWvKcBUGrdwmNIzmzVMX4IggrhEhRGXyYIH/YIkhTgTJGFCqnK094gkQqUCqQVCN1hrrzSJVyeko1gpEIHt9JMSpI/Q1uADAUEn2k+doiwKrIVIKSLbOTb40OBUZyr5Rc8vfLFSYiMSEAjXaZ2gi1B/GcvaAI2b7YUxhqIokMLT7+fkec6irvFeY/TnW1trNVJFBEqt17yeNI0J4ohYhAxkHxNCLxCMgbCtmD06IfSCUFryXsLSaJT2hEFIFHX+8GkUY63tbI2Z8+arh3znz92mN7YEUYHxF3gT44RARQopEsrasSpq2uJTBllOuK3YFgNGe4rJWYu4DJkuLzj5wQfcOMw5nz5gHiqCKKFYXnJ69oQkFrx++1XGvTHpnQOOny1wQcSNX/1lfvj73+fB8ZRPz0+xlwlVBScfXxLZDBE6dg+3yYOArNS0J1O2Dvaxy5JiVbCoDLURqDQiDANcG7JqGxyaB64iCEIq6QiN5bt3jwgnBU9XNUGacm5KfvDZe3zr1j3yYYReGa71x3zjzhs8t0seTS5wIcRhQNobMcwzYiUIpKU3Uhi/YN5M8cqSBhG+Nbiqol0tiEd9WtuwWs3J44R+lpMkCbYBKULms4KiKGiaFoFCiYgoibvxqDEsFwUf/vw+ZWlARERCEAWCvX6PZjVDmgW3gq9xK7lOpWtOLufcf/qQbLDLck+yv7uH9zC3GikltVXUkcLYqEvqvljhTKdkCJy8WsAETl5NDB5PKMdIF1DPGoqLznyxGyYmeAshIdIHnblgLHFRflWsNhtuYwzWddd3L8v4xjff4vz8hNOz5+BirLG0VhPicblG4hDCgacbCb3A4KjLzh47iuIvfK9+WazWOiclurw/v1aUo15UfO89doM9ST7XNQFdqKMK2AZWqxLBqhNDr4+QXcFydm1JIwzaxASJIgi6G1P2U+IQ+mGEOT8lHvVRZc3FdML11+7Qi1Kqyxl4S6AEcRzR7/fXI6tDKslrr99he5ziggWNWaICSxgMMNbSOMtiNWNyOmc5a9jbD1DDlDiNabQmH8acHpeEcY51NU8en9DLd2lVS//mmK2DPR5GA7bOMm6biNf9mFvpDu7DU1Zxys2v3WOB59HknD/56c+preTrb3yLJI0YDHOapeeThx/y5tdeY3d7G19UsKjoHQQo7XAIWq9I+kPUvCQMI2rTMhgPGe+OWNQNJ1XByjTsRpI3Dq+hho7V2QUm0+TjlPN2wYVZIpM+eRAhvODrN+/RPPqQP35yQrq3het121onDE47vHUkeYRpNReLCVEY0s8zytmCZVGSBRHD0RZJGNFLUpIgopfkCOD+4ydcXl4SBhHz+Zz9/UP6/SFREGNsg9Ya6QXzyZLJ80u8V+AcTnuCOGSnP6KVjjSOCJXspDWRYDKZcHpxirmcIE484/ExoYpQapMfaRFJQhJFODp9XlWUWG1o6oqmrK4s1pSSyFB2ttjekGUpSRSwWFhMK9ZyswSsQ24cQ1gHqQh1xTt82fUBL7DGYBpNXZQoIdB1izO+yxBMXth6Kzq8LFCCiJhArGPlpMb5jov4Rc8vfLHK4oR+f4gQgsV8SasNQRhCEKDoIt+9c+h1SxzEwdWbuilWUkqSJGEUhoRhjF8n4RRFtdYAdmm83guE9EjZdVhOtERhTOAtbVkQX9tGC4k62GPy4Ji+kMwWC655j1AeFUpMU+OjkHw44Oa1I6y15ElM1cyoVpqLU0fWDyAc09aashDMq4pZO+fy8hLfOvpBxtYiZ7CdEPYCpqwIehFRVmLrEBHC//h73+cbiyNufnXIdw7vUWRwVMfE6QH5ecUozjl7+JxbB0fsHd3iebHgcbnkwqxofcuNw5t871d/leF4wIeffcB0NmU2r5nPW4aJ4dEHD7jpPWpVIbWmbRw6ysh2UnYsVJMFq0WJlZAORnw2fUBTVLjkDWQArilRleWtg0NWu/DqW/fIru1y4UtCF5CHKcXlJTfHQ/z+PR4fnzDRLUYLlE8whUUvYdaUnJ5fdDdWL2VxucCVnjxN0YspW7tbDMJBZ+kiBYPhiIuLC1arFR98+BGrVcm3v/UdsnxImuZ4JHVlOg0cmrps+flP3mdxUeJ0hKlblIBGGy7rGZeXp/QHEUs5Izd9wrjHw/kJpaxwKiKqIi6ac3RrsazX/UGEzCMCIcEL4iBFJBKnDFo0V8sdoHOyTRKklCzLGZ6SKA4JRINxBuHANhGgcKbLHHBSr62S9dWCqAutCDopmQiRUYz3lvuffIZHrwNzW9JYINOQOI5QKKy2YBSRivDN5mEfIGTQTZJf3Hvvy2IVxzHD4XCtexIsl0UXxeW68MY/7SIKXPm1q/W83bYttZAUbbvOS+sSPKK1X7qxrku6AYTwBEHHes9GEYMop5rVnb2LUjS2JclySrooozDNKWtDHSucVLB2cNiQTjdUC9HEfPzzRzx5ahlt5+S9CO00y8kZMpWMr/fZHQXQarbClGvVLvd/9DHbb+xQ6oKdvW0+/MmMvvFUZYUdwumqJrhQfPTTB0RRwKs6AQNb2ZDPzk4Y9Hukr9xA+ICnk2M+Ky6JjkYMzkbsXtvDxy2FXWClpXYt490dauO4mM2ZHh/z2s1b6KJAmhrTGpbC0gSSOEkI1JIsijGt5uz0lNpYamNZaY0WgjQL0dOCrQxuvnKXgzvXEVHEclGRlDVbUUOWZUgtuNHb4U5/j/vv/oBRf8AybJleLjh+MiHrJRSlYTBKGe3tIG2AnzRYATd2b7FoFkyeXmCd4+Enjznbn3B8drr2OzOMR9vkeX+tWujeG+09ges2Yqv5gmdPTmhKQ2AkXmtEHKCygAUl7RDUXs7W/hicYjVtcF50iddrOyClFBpJUTVYvyYdtw1x2Dl+OA/CCQSKIE2QLxGTZRAgorDjRIkQ6x3GWVQguhRuK/CsgXEv0d51lsSic8F9GQLZ6GelfJHqtImC6/V61M2KKA6RaUoQhgiv0C20jcfb9SjoQIUCh8TiSYIv/ay+8PHeU1VV56AQxxjjOgzIOfhTMfGdFQxXxUh4roJRrbVdkGTdUpXdxq7f79M0Da2GtrFrAWjXIqdpShh5olARDXq0gSLtZcwXDSvnuGxalOksa0/Ozkjv3YFW462maWsWyzknz4+vPNiFC6krwWxZcfJsiXWdpCdOJNuHA7YOE3qJJEscD999j09+54dcZhcc//aEb/1Tv8Y3vvVtfvT9Z0Tzzv53bhpaIkaDI378v/8J0jvG3/tVBiLkk0ePeOvuK7z96pu4VcMxSx4U5zyn4eP5M57bBTuy5tnkIVGS4kJLOkhYnbfMnj3jo9mU4fSS5LXXmZ6dE2KoVctZYzhvKk7bktlshiksWZJTzguEUiR5xvHzE45u7BLnKQQLxHLB/OyE/dcPqMMuleayKDmrJIfDLcy8IOtl/IW3vsvv/L3/gz9+5z2qqmE6Kzg5X6BZ8OTsfyXOJG+8dZdrvSMiLanqlng3JZYJP33vQy5ml5xcFOzeHOECifWOg+1dtnd3CKKwcxLQa1KudsgQpPc8fvyYs9MSZwTeGLIkpEEz2N1F9eHg6IDbr9xkL04opg2n9pJmHoBNcFYwFcfgLEkY4r3vOErW4ypLteb2KaUIom5EFMqiAGktTdPgvKequ+vRiwwnDE1rkE4ihYIgwKLxjk6M7AVWgpQK5V5sADe4Vbc8WodDeIs2DXG8LphAGHpU0ElyjHboylMXriNnOYnlxXgZyIgvLrb5slhRrFqa+pI0ra+AawBMd+E5KbFCEMTdrB1JQHgMHqkkrXU0pcYpf+VbpU23OURY4iQgCweYxHU41prpCxJXRlRJyHaeM45D0riH7AGmpYkVj4oF46xHeT5l79ptvIg7S1kjWSw1jpIsA+MdwtVoEyDcmDgOMbYkUqYLlpw6Zp9d4HcT8nzI8x/NqM4bHjUL3GGPVdkBzIdHI86froiSECdgOZszDlP6W9e4fXCIP1uw8p6j8Ra37r1CbRWucpw2z3AhtA4+PX5IP++RDCQuDyit5dHZGc+fP2c2n2J0TeASBiIAHzLIdhFVyWq2wMsF8/OCyvepFi2ZKkkSh7E1ozjncat5Z1rylaMhsVyS7+fUdsDlxydM8wGjr9+iDjRm6Hhar7BVwXUxoDgtOHzlHv/yv/DX+Lf/o/+YW3deYzk7QywK+luSYRKS9ULy1YiT+xfEZcQ3vv0Wzaoi7sXs9F/hR+/9ISsHbgaHN/rYdkVLRNQbUTQa57qbWAnwSUUQplB75pNupNIyhDDB+BYRamarc3bzHrdG99hTA7Yel+zLAf1dRZAYPns6Z3aiqXWJFDFJmBEoifUCqDGqxntHWTVdYam7xJ0kXI9/oqMSGOs6UrP3RGF15U3lVYBYx2BJkm7R1GqwazUHHqc6fjoIWq9xOAg78qf1BhUIgjgGJXHCoa3A1ZAHjiCwFKuCpvZY7whcx90SgceIBuF991rqS1LoFz4bvk3TNJ2f+cbJMwiuuqqXHROEd0jRhTd4D3WrmVzOCIQkGfTI0pxiVYIH77r/J45CemFIGMdo0yU2z5cr9ra26GXZ2u0zIBSK7d6QNvH85j/zT/O3/+Z/w9JqVvOSe3lM5CMW0nbGacIyL+asmqJrx21LFCbEcUoch+wOD3C+RTQJQWy4/+xTzOOnvDLYxTxq2QoCbLTD1r1r6FmNlvBX/vI/xn/y/t8iVhWpk7SPK76a3mKROFafTTm2F3zt5nV+41e+RxgGLH3DTx59RLkVschTTqcLSiP5ypuvE492cLXg8eOnPHz4tAuJFV3Qa1Wuum2a9IwP9lhenLFczZEpBBns9YbEw5D55AFGaUpviFcpedbj4vKSp5en7OQBe8ME8a3XCO4/5Z0f/4DeXo/br99Bh5rCwP3zFUZrtqIe0/fe46vXDvg3/tl/nt/5/b/PcnKOTGNu3r3LrXvb1NWCh+8+4+LxBFVG9Hp77NzZgtZx9/XrvHp+nQ8ePiRQGmdbAqnIezGhEhjTIHCoQGKdIU4TsIJFWfHw4ePOb0yCFBLlFcJKhj7ldn7Etumz+nSCmyv2t8b0c8WNXcnpszmLcoGxliztRiVjOqtgby2xCgiFw+h1XomxV/mVV2zz9bVrvet+3q5BOwtC0MtyWPc1TiokgrCnsNbS1HU37vkX/mwbnauUEu3WI+ZLyyYhu5TpKAjWmZQe02qcEQRr+GJzNnSel1nxX+T8whcru6YoSA/OdE/BLoSha303vzbYUBB0zoZedW9S02o8jkgqiNo1Cz7CGEO5HgcjFZCkKV4IQGK872xp14XSRp2+zylPnGfIJCHdHvHqN9/m3Xd+SGs0+3vbWAnbfpv5aonWhuWqs3kx2pHKzUga0bQVaTYiz0eosqUSNcN8h0F2xE4pKGrLVpKyrFuWj6ZkozH3vn6NJB5DZPFC4GvoZzmPns3Y2TsiGo34+uA2/8jXv0YUSM6rOT9+9oAfPnnAnfxb6GVAVGWICTz+6TOKYUm1KJlfLsjTPqtqSUONDT15INk72iPJE5a6RschOotpzQSPZXeYsjVKeWyeM68L5q0mmTaIVlLHgj95ep8//5W7pM7B3Zy39r7N0eEdfvLOu2xv38INJLPTlnd++w/55Ru3eWN3n6xtWU7P+PVXv8pbd1/jD//1fwcvHdWy5NEnNZOLU9yxY/lcE5LwP/3Pv8edt2/wyrfvcPNmznd/9S32b46JsoTh9hhjWmQUo3WLbi15GmNaSxyHBKqz/n3y7IT5TBM6QYSkoSWUgr3hmDfu3uZgPOb5J0/59NPPcGmfu9cKdm+POK2ec1FOqKnpDQfgA4qywptunIrCEK/bjpCpJE3TjXGRVOS99ArTTLIUbS3nk4sOO9U1TbNO97HiiuPkpCJSAcu2RQqBWsuR8L6z5vHdthyxFvpHm7zMjX7Q4ZzFGw+qcwF13uO0Ayuxxl7hu/DClknIjbvoFzu/8MXKQ0dL8J5wDSA67wmUuhIkv9xZWdsJbB3rTaD3CNlRHZqmuSpueu22773HCI12trOKkaILPV17aXdbRUMYSEzhIFCEUYi2nv54C60k1ivSLESFAYkQxEmINZ44XnA5m1HXNYGnk91EEVLBarVCSkc/sfRSybYcEAoHTUkrGoyJENZ1Gi0t8NqQ9BW5CqlXJVIGtAhGd24g+o7QZ3zz+i55nlLYFZ9dnvLJ+RmXSnG7TehnQ1at4W7vJk8eH/O8OsEJ6KUZW9kuW/mIZ/MTojxitz/k8PAAYy2tMSAVUZajZhGhM2zFfaw3LOMeVdMiaGkbjUojLqh43sCsKghVxDjIiOMBt9/+Ku//8RMe/vQZWzd6rKaKSkd8dHZJ6zyHUtIT8Gzyx9x49XX+6l/5S/zXf/fvomczZhcFZdMglwqhEpwJ8RhmRUFvPECLliyNuHv7GmGcEqY5daOpTE1RFASyI/yGQYhEIqxjNS85PT4llpCEEd53OA6mpp/36eUhF7NTPnryMQvdsIobIp1jtOPR/BkXzRwZxZ3sq65oG0skOzoATqNU9/B0ApxTtI3FmBZIr1QTQRAQJQkX0wla667IrennTdPg/Vq3iqTddGIIfBCA85/rqOBF8IldS2mUeqGldR6s68JLzZrzJUSXLC5lgDX6yujSiW7iMPbzRez/6/zCF6uXHRdetnXZ1PuNZYxSXYtclDUiUCRZilQKbRpa04Hnge+SPoxxGOOuwHRjLbqs8UKR5hlYT2sNk+Wc6WpB7Q/Z3d7CGYh0S7ysqRYlN67fprXwxlfeZHt3DN7SWsm4P0Apxbjf47LX5+zsjKatyLKE/f09nDMslhOqeoHZj9nub9MjRWvNrFqit8c0y6pr/33IVm+XkwePGedjBmv5iPWCRV2Cs9zIYg62drmeSJbFhOPlCe/NJszTlGllaZqYkRmwH4W8fvgVHn52TmsdkXBkqsfda7cw3mAfQ3aQc2d/j1HSY3U+YV7WYByDvMfADmhFypHaprU1Nt5jaVrMvCZNQirTUuaC7bdfR/WHLB+dM/7plNH+HXrhEd+6/ef58Gc/4pe27/DRsuHbX/91fv7kfZZFxe8/+pSbozE3+gNOPir5la+9TiAdHx4/4KH1rLTiyaTEO41oNVrUCNXj8MY2F7NH9MKErXyIIkLbCBEkVNoRSU8v70ZvAcRxSCw0j08e8fzhMcM452i8S3O5YLGcIiVYUfJs9hmVbBh/d5fdNGZWXJLjWLoztg/75Gmf0w8uuVwUtIUhUml3swP7ewcc3T4gz/qcnp7x6ScPWdUzhHUM1suesiwpqpJ8zcWL45hhL2O1KimKAuEFuE7+4oRHSdmJl9fjmxVdGOnn4unWm3G9/odKiSsIA+EwrQU0RgM4lIhQUbh+8K3xXK2RYfBCivZlyOkXP63tiG5OrMFRAUHYbfrghSbq5ZldSMlmAu82ga7LT6PDvDYd2cYuGbqn6uZjv179OtW165fLBSIQZGvTvjhyKCdQaci3v/sdXn/jFYpySRgqBDGRCjthbmaIghBvNReXfp35Zun1ejTtiqrWLLVHzmpCGRKmA3zkqaOc44tHzE0IzmBagwg8H334AYMspyxrnPKgHXFV83bvGn3naeuSti758NlD2NmnXWiS3hjCFCcCpEzoD8a4OKb1lkzAaDAmT3sIBVtbW2xd22HUSxFNx4KuywpfW5rGsZXt0lYrUhsTOdiKxmRqTmgXWNF1Ycl4wNErd4lLzcJNmL73hDf/id9E6ZQ717/Ce7//ff7bv/Ff8uPTBf/Bf/E30FspD04+4eQzi28a9g9C5qYmPTnmjf190kySmSlLaTk9/oDZQpNHEqE8CEuWh6Q667pisyYxqgCICERIkCriKCVJYgIpkECI4/L8El1rhqpPhAQUUkGWBuwejIl6cHTvBmVPMitXjM8g0RYpQ7ySVGVJO69odYuXqsOrVEgSRQwHA3YPD0iSjMvlEqc8Xkms+/zWzjhL3bYI9SKkZKPK6DZ/3TW8gY2EEHjrXuBQa73f1YN8DZm8PLldOex60yXpvqAAACAASURBVHWVQiGl77oq1yX2OPcC20IK/Ev31Z/l/MIXK79uWeMgXFf6Dr8SUuLWI511HUCppCQO1yOhc9jWgDUdBuW7da40Bi0drdEdKc7UpEKQxDFpFhKn3drMoZEyQzcti/Ml5WTB3miEL1qyO0EX2+U0X3/rNZIkw9gYKROcN3jhQTqSKCUOPfs7u7jI8+zxExazczAtEQGtjpg/nlCYijjt47cvGfRCTmRDW6RoaShPz9h6/wGDu322vrbP4a2URxOPjGISPIuH75N+dQdvLMe65n6x5DweoaUg7EvubscMRIN2Fa2I6Y8OubN7i8fPPuPoxhY3r+9zUT/ntJyg+oo7eY8ydmgT0tiEycUSWWjyUUzaWHZVTDk/pQ0VqJxU5UTGIpUlzCIGwQ7PnjoePXrCQMO1ScVhtoXMBmRv9rjx+k0WT95FGPj4/fv80i9/k34V8YyPuX/8nNZK5qen/Ht/7be4vP8JO0qxle0zL0vSV77O3z7+MUvhCYUC7Qi1Ik96JMkQXRqUtIRSIJWmLBUtLc/rZxwk+6QuZBCOaI1hOi3xJqRnAmRVYmzF1q2Y1167zWuvHRKnDpkpHpyeUVQLZBQTpgJpAqZnDY/uL1nZBOcEeZhhrAYn0N5xtpoTPr5PlvY5fnSCayAJOolNmIAwIBqDKe16QxngdRcx142Kbt0x0SXjCEGaxtR13XU6SpCkCThLVXWR97huXLTWEvtOjiYdKG+ROKSAxluSOOnw2TUlSOuqK1RrjHdjv2RMSxRF/BlMF/4ffEt/gc4Gj3qZ8Ll5+rysDdz8oKMouhoJNwb7m89J3xU/rCOUqit67oUFzWAwoN/vk2UZaZKsMQFN29YUq5LJ7JL5YsVstsCYF+GWV2EWTl99fxtMbGOrvDPeYtDrM5lMODl9znJRUNc187Zl2VRMiylB0hKlDXfubrGXRXzj7m0O4oQ37r7G0+MTmtZx/bV7yASkl6AFZaGpRchZrTlfWWSyRW94gPAJphVEYU6gOn6atQ3DfsLdOwe8/totXnv9Hrt7W8xXU04vzkj7GSqLqRJJlUiKCFYSFs6waBsmD58wffCEyZOnTJ4dd3ydUGASaHwLIUwWU/7gBz/gj374Hg8vppSmpaxWtOWSWMJbb7xBP44IBRw/ekQQBOzs7pFmY1YV/PznH7FcFvyd3/ldfuM3foO/9Bf/Ir5qSB0sL6fQgvQOpGdlSgpfkfaSbnSRHiccra4xTc1qNuGzTz6hWK4QXlwtX2QJQe0YEjIIQopmxdKsOLizx41XrtMbJ/TH3XhWrkpMrQkj1WGRWBpdsygXWFETxi1RYglCS91WWGuZTWY8fPCI99//kMlkcmXNvZG4WGuxxrNh4fi1IP/ljIEoUkRRcOWvthnxNvKaTbDJJgPz/2579yIRp/u7zeu/WEYFV1+3+X1DVv2ys/r/cYIg+Nyot/GzEkKQ5/kVYP4yMfTlVtsZQ7B+wzdft3mjr+Z9p8nylH6ekWQZo8GAsiw5eX7OZV0AXdGp6pbT8wlls+LVV18lz/tEvfRz7XsYrtfLTdtJdtYXWagitrd3KZc1ZVmzXHa4xCKC0BnGmSDbasn7Ld/87gHn788wy4bDm3d457d/D/3qkLOTKTZKqBzErScNcj789IQPLyoaPKZ3nTpyVOUp9x88YT674Dvf3II8RIYQBp7WztneUQy39xjvHFAulrS2gRiG17YoaNFCsLQWowShhH7e56NPH7A/kxhTsVzMKFPJRbNg4ioGN3aIfEVhBZP5HGU9W70+j0rN2/2Ed3/2x3z91W/BKuKdv/O/kTrJTp7w1lffYNDfQqiEX/u1v8z4+qv89Kf/J8ViykezS/7d/+w/5dbOFv/ab/1LmKbld//+f0gvAkJBbS3ZIKeRFf1kwPxywvnplFSGjJIM6x3F4pwHH3/ALx/9OrEIyUWKL1vkSc01MaCfWvyy4tyt8PsBr759k+FOglOa0rdMFjPaQpOqHkK0OCxeQJgL9m5lWB0h0bSLBb5xRCJbL3gCqkqvQesE58xVpxRHKatleXXtgSQMuiBc5zXW+vXW2AECrW23yfMvlBFX3Y81nytiLwwqgzXW1HELkS9Gx80DHLhyq90Qpzeff7l4fbkN/DOcDa606ZA2uNJGqLx5CmyKU0fofPGU8M5dZQG+3IEpKa82it5boiggy5IuHDVJSOOQsixZLecYoTufHyExzjGfF8xmK5SKCYJ2zVIWdMiXo2mqqy3i5iKJZcioP6LaaZhOpywXK7z31HictURpTBBaZGgp50vGexlFUdPMFozTAce1pjib8cpb3+BwHLKaKhQRJ9MlK0JqJELlaGFoNZSrkkF/RJZl+NDQVJ1PV20KLi6PSdOYtqmwVmNsSxzHBCqibQ2pitBFiSoahAjRtaa+rGl1SBgECK0JFRw/fMKyLxm+eZ29rT0uZivmiwIpAzSKUkpOyxmf3n+fNw5ucfb8nObijGGcIc050lmiIKSf9nnl+j2yfEhrF5xfHHM2fYCTgtXiOf/DH/wub9y9i/WwKqANK3pbkp3tMVEU4E1DEAiW5YygNyKIBdLBzWt7nJ7tMkwyBkGPno/RrcaWnrD1SOHxsSQQkO+PSWIFdGnNRVGxLFadXtR4CLvUYyslUZ6weySJoz7WKKoLR5kYps8a2taQ5wOM7hY5gXJY49cP0Y6WEMcpsKRzWe+6nDiOsU5ddezeiw5rpYuBf9l/Xb308HXuxb3wuSIjungu6DaAfq1ffbljetnae5M5uLlPXr5fvuj5hS9Wmx9YHHdWFRsSqDHmqo1t2/YqoWbTPW06stbWV4Uri5Mre44o6EzeAiExcCWLUUIiPQySjPGwT7HM8bazQm7X1jLeaE6fX2CNJ10n9XrvaZqG2XzSgfBxjFgn6WRZRkxEPx8RRQlJlvPo0RPqpiFCEwHSOaIoQagudLLaayk/a+irGDOfkuSS20HOjbLmW3u7vLNYcl4s0E5TygQvFEXTUpZLnG25drRNbxBStOeculVH59CSsmnYOToijmMk3fgwyAdY1xD5iIyIelZwfv8ZydIQLRR56bGN5LmExaokGObYleba4R6VndGuNEev3WQQD6knDYtFSdt0ncX7J4+44XMeffRj3vujHyMuJzgjOdrb5fU7d0gDReAEd7YP2O+P6MWC48kxPzt/FxvNkbZEH/bRB32+//5z0lGMLyQUmsN0zHaQksiW/s6Isj7i/sOHFOWULAwYRz2+8bU3GSVDglnLj/7wHb5yeIvF6QVOGarE0iaGfrzLYGeHkeyTEFG1K3TdUpWaNM5QPqCmwXkw1mIFxMMA5yqkgv5WRi+OmZ8do1u3Nnh0CKFASqIoxNhuuaJ1RzcIwxjdmvU13WUJKBkghcJ51/Uz625Kqs+L8l/WAm7uic+fNT9KuHWXZbuU5asixueK3kZLC/9wmpTRXwZGfOGz6abSNL0qTht+yct41MufgxeUhzAMP0dz2GBaHWjZrZu96ka2pi6R3hH0+qgwJIlDDvcPAMlCLlmWFW1joPVUVUNRlNRVS553F2hVFSyWc0aj0dXrb0isWTLqupcwwnrJqqiYzOaYYoa0lnqxwugUbzPOz+ec1hfsJgo1152vVWj5c6++TjM55Xu3bvL33v0H+CznomwI47yjY+iSRi+xbkF/JIgTg4oamqChKhq8jZBhj9HWEVJEtKsZvV7A1nCH1fSCdtZAYTmZPOX+J58y8hFVkxEtWgJnKZ3DCklSG3pRzPR4wuigz4OnU8JvvEIuYw7724jSUcsAEUlkLkiziPd/8gOK0+cMwgxvIEtTJudnqP0DaAWx9mwpxbfymxyJlHQET81DjJ5z45XbTGeXmAzK2hDTYzsJ+Ff/xd/iWf0paeK5KJaU1YJlvSQZj3h0cYyNe2yNjjDLkkXZMP34Cf/gnY84evMa19+8TSBrnp495/jTB5z+rMsmHGwPyPdjat/xnJxz6LakBrR1lHVLqw1+TSmIEMQqpGoa2ral1Q7nRLd9VDGbXMowDPHecHk5x1pLFEV4B8Y4qqrryKR0V1jny9cPvLD33uhepZR4K7D284ER3RfLLnZedIRQvR77wqRj2r8caffynzcfb15/UyC/6PmFL1asOVVKdjFZ3nucUhTlDLwnDCR4daVAj9dbFyc0CIl7aUXhXUjbOEbDlMGwRxx1zOA6sti6xQtHEgVI4WmLAoliOBhcUQ5aXWGdodYCGUZYFKuyJC1SkjRCOEEch6RRSL/fhQAopcjWQlYXQiM0IvL0Rr2OllEcY4XDLQOi+Q6t8zxqS+RZn6aRpDTIeoa7KJh89oTx/i5hohkoaLXBuhDCGBe2qFlI5LtxVvYlKEsYBlSzGjMLCH2PPBmSiYhG14TpEiEDxnFKRczy7IS5XDBZPmcZrojCjGdNg14VHKQHZGdLbC/ho/mcrd6IjAh9aYkywaRY4pzjoj2lUhVJnpNnfTIbMD68zvTZe/TjBGdgrgSjr93kYn7KaHJMKGNWlWWY9anDhiSX3HXXuZEdcrm8wBYxP/zRuygkvSjANgteuXeHsFzymshYtYrFfImcLAjaiv3De9S25PHjiipYcD3OMFNDdV6j3SXTizG/+Y/uMU5XiIHmvQ8eMLuwfDg7J80ueOubN8n7gjAKaIzunBC0xegu1ELa/4u9N/mVLMvv+z7nnDvGHPHGfDlV1tTdVT2QTXaTtNVqCRZoyzS8M+AJELT10lsb8MJ/gJfeGPCwsOEBsA3RkCAJpCxbJNHs6m4Wu7rmqpzzjTHHnc7kxYn7XmQ1KVdrW32BwKuMzIxX+eLG7/x+3993MHgUeRq6atXENFW5ZZQDpkGIHBUJrDWBYS4VSiXUtYPt6CeERQiLNiXaQJQkoQg6h8dvGekSJSTW2WCq58AoEyYJXh7ZIBQ3KyGKbgT8SqhAdBbbaC6xXUxduzNAm+gspQjwiSC4P/hfj4Ff+mrBv6YJq9S2i3I+Z7lYb/kpNx3YLojebj6uN4nKkaQRnW5Kp5OyNxmRRJJ5VTBdFRRVQ1clxEhMo0n7A3q9HlIper0eQgjm8znCG+q6xHsLXlOXJUfHB+RJcJ9sBdftaOqcw7oa5SOSCEaDHon37HU6PPaei8tLFqsrHn74CUmssadPOIhTvvONOzz+8XsQK9ZO8ry2PH18xl8+fMrRK/f4/PEFx7cOWSwWqFxhpcFj0S4UGBHB5eU56+clw+yAV24fM+j2sbomEpYm0ggHB8cj1sWGdz76OXWqsXLF0e0R43zAsplSJXC+nDEaJFSRwed9zuuSQaRYlSt0N2X5YkHR1Dx7fIHzggcPToijjNgZHr7/Ef1VxfT8EqcyqsGYv/ODHyDihLquUXmEtZr3P/gF2V6frNfn8OCAeK/DG93XWBcX/OTP30OpmKJsiHPBf/if/Ad8MvuUPCvRRcKkM+FBv6GeeewLSbfap3vLsWmWLLnijbuvIdKY9Uzx6PNP+P30B5ROM7m1x3e+/zaPP3/BsxcvmOz1GE96eFGhdU1RaKwRND6s86MoIuvkIGMEMZtZSXFeIExCHGW4yKCbG9O6dlvXdkrtox23lFIgth3PFpPa7WqklERCXoPhLTG6jZEPWOrLeFNwXdjitLIljgJWBCuaAIWFhwrPCQl4H2yXjA1ol3Vo/WtS6Je+WoKasZZGa4y1dLtd0jQlTfVWOmOubwbzhZa4JcyFotEQzj6HVGy3L4JURThjWS+X9OKUXprT7XSI84w8ibHdHGMbBoMexjSU9RpjGpQSzOczTNMgFYz6A7rDDCkjQOKdQGsDtiaJS+IoCzeFaehEkGeKanhIsynR5YzVk4fsx/CDw0NePRpzK97n6oP3uLwqqJTiJx88xMiIlRfk4wNe7x7x5skdLi8v6U16zIslJtpgu4Z1uWa1WvHs2Qt69ZDX3jyiG3XQVYmVBSoF2QnmbiKO6Y9yht0eF+sZ2X7Eye1jEh9TnBd0jyVVVXLharSXlFKhhcbHApVm7I/H+LWmXBXUFQipWEw3RKIk0g2F7LKnIUr7XGjDb/7tH7JYrnn45DFvfu1tFvMlsYhYl2uO+rcptaGTdvA2wqw1TsfUGxc+bHiWjadOK3zusH1BfdmgT88Z2JQHyS0ePy14+NljRt+YkPUUi2ZBcivh2WxOU0ds8pq1tyx1xVVd0tnLOPZ7lG7GeJITZYKyMlSNoWpCIKgWnihJiROJcx6coKwq1nPNs88vGSR9vInCB97vZFFuBfctLaHdQge6yw29JXQ84iUcqj2AxXXXI68LU0t2du5lL7fWTaQtUFJ4Op0cj8X4m25rlxS9C6Rfd2PbAqvkl2dPfeWLlRNb7/skRjuLroOcJk8k3W4XgOVyRVnWgd+0g2O1b0BLZYhlTF3X1E3JauURaCajAcIKkihCCUlRVzQmxG4lOKxpSCJJEikm4+FWUuOwTdjOWG0oioLp1RwsdAbpNY/lmlZhLbZYYlzoAmkaBniuzp5xuLZM+hCPJtzr7nMoIJvNoK6I2fDGa3d5cvEhQkdcntckD/aZlxVaKKI4DrqyX6xIexndg5zBQcTB3pB0I4hsTnY8YeLHTNID9NpiKZG9mixJWUiDSgSxgNG4z9fvv87BbE7+mqfXH3B+PuXR1SX3Jid8763fZdKbMJ0v+bN336VsaqzT3D7c52t37nBWLjhfLREmwyKYPr1CWceDPBwsq+mGTmfAw4un/ObxEe/87Kec3L7Lj3/6Y95+61tkvQQZeR4//Jizs3P+4P59pMz59Mk5Hz36mE/ee4YJExTjfRjcGrNxDVW8YtLrYz+bMv3glLHuM1sZ7kUD/uRH73H71Qn3jg74sz//GfPasSg9Zw5Kb5hvViyKFdZnqI7mwRuH9HodrGtYrddbeyKCXXGeEhiSHuc81arg2eMLygtFtQbrSjKRI0USDiQsTdNcF6xrs71tZugNnymoKyAkJMdx/JKTQsvhS5IkuIBucdd2fIvjcE+HzeGWQiPZUh+25pWjPs4ZNhu7jZoLxn3ebNOZhQd7U2QDn1/gfkWu1Ve+WLWjXJaFTV5RFIHpW1tGwwlKKaqqvi5W10GP1zyWHUmOcUhp0Y3FZeEm9E4QpylCKWQSY5zlYj5lLDxehi1klMREUuJtADjH4yF6G2bqLZRFgdaasixpar2VSYitSDQ4lob23QXjfxdx/vBjiotz7itBlksOexn11QtWmzW6saTjCaerFWsZU6NQPkLXBtNoiEKCToxCV5rFyqK0RnU844Mh0gl68YC0N6TE0XNpSC8WkqbRxB2ojQUR46VCRgopHYNOD9UovLfENkeaNVGSsa4qGh8+OHkakwIzXaEyhYgEfRVz1hh0YcApvPXQaHIE9/t9MquIOx0ezy753g9/SN4bcPfOfd546+s8+6M/4uzilMmgz4NX7/HRh++xWl4hdIVdC8bdIX/x079kdllhPYxGOV9//T6+FlijmAxPsEXF2WLDh599xqvjB4x7IUjhDXUHvamYP614+t5TNlpQK8vR7RjnDHmSk1aaqtBYbej3uyRJwmy2oK4tTeMQIoxxsUrwVJimoZN1QAmqFRQrC3p7n4oIIocwN91Je7UjX1sAbojNN7+/C3K38IX3/rq72QXGd+GN9vVunhPX0IgQAmfBbMNXhZcosS0rArwlRHNF2zF1+7mRW9cF736NWX3py4sQnS0jhcOTZCnr9Rq0Zr1e0+l0rk8brTV2O+u32FW7+ZNSgk/AK4zxWCMQRCiZYYSjM+gRZQlXsxlnZy+4XC+51R+S5zm9wYBNWbBZrfDeESeSWKXEcYLVoVUui5piU3J2dkEv7+GdYNDvh8AJqfDK40lxxqBcxPzpOWPlmSQeM19y/tklDoFJUmx/xJNPLvl4s6SJc5rJBL0qaYymWkwZ3Tqi8hrhDFJIirLBNjXarYjSGiG7mMKTMmKYHePECiWjwDeLUiqzwdUWo4OcIlISGSkylSClZ/pCYzuQ+gm39u7TzDZY7VjqAiEFopNQWokfxkxFw6osqNYrNpsVVqREQpBrx0mvxwMdcBw6Ofmgx92330b4hMn+Hg8fPmTvYJ979+9QNSVVsebunQmjQcrTzz5msHcb4oR/9A/+IYNeh1o4NpuSv//v/33Gfo+TyR3Oz095dNrwP/yPf8zlowVv7M/4wXe+z97gkAdVzWW14f13L7h8onEuxnY3fPftb1KvNqRRQlxK1qdLNs2G4dfuUGvH5dWGphFIlV/jpE5DXZWMBzEne4eUSvJIPqdBYHE44xCxBinxNNebxLZDgi1FYLsACoXKBnqDaPWAN+Nci9XKrYAZbgpeS8tpbZrDr0E3W32hiwP25AW6geVyE1xJ7Q22275ei41Ze+NhtTtu/irXV75YSRm8h4K1hbmRDxhFua4o1xVCCBIVorutugEhW2yglcQEuw1B0wiq2tFoj5XQTUD2EzYFTC8kmJzLM8d68YI8T0mTC4R3wbgtisGrLR0hozfsYYxhOp0yn8+ZzRZcDGY4IUnyDp0kxcUxpTe4akViQUWKxxdziu4AM7ugk6dcVI7RgweIyYTPlkueDlPORCektgjLfPYI6zLmq4a8Z+h0E7yElSnwKoRyXl7MWS3nnDzd597xHY5uTVBG4JIMGoOyIdzyct1gVE5WhTTeupnjK48sU/blCXJY4FXEnpIMH4ypjmpEY6g3llp6VnmMFzmJUiwax7ubBToJJNWujamFYxxlfL17QJbGrBrL87NTvv1v/l2awZAPLs958slfUhU1/+6/9QfEMkW4iii1fP78jCxS+OkLOt2E8/OCCEfjLZQNuYE7KkM9ltx5/VXkMuWnP/6E4qrD0tX86PkCrT7it7/2Fmk3x75YUT4s6Mc9zt0M4g7m4gU//ccLpEp4cXVBkzeMjnus15bVaoX3nl7eIfE5/XiPixdXPLn6hFjAGwdvMfJ7LJ+dI64kycrQuC4NIHNDIj3KxThhrseqdimUJAlGQ6wCjuVQILYkZhcM0IV0mC2ZOE4kQgmkiPDWEYkWxwqE0ZbMGTo4QVOH76m9uRYkK6UQPuj26ib8WSsrVCyQHqQXweEh9jfd39btIXzWvvxn9StfrL7YTrdgJVsAs53jd4HJXc0g3JDepJTblI/AZ6mqCmO6kEoENxrEdg1c18GdoRQVcaLw1mAijReKnuohIkWSZ6Qi+GVl3Q6bTYnWmqIogo9Vq78SW/awUqAUx/fu8PkvPiTay1k0nle//dv0bt2ijBOG2QITLSm8QXroKcWVlEgJwtmXfjbB3yv4HzW1xmjHlZpxODwIHu+dDhut0UUVtkpW45RD+GBsKNoT2oYQ1zSPGPVHyDhCxDHD3pi6LKkWBU2xwTQl2oXvW3sHFq6Wc4bdDKRESIFyjluTMXudjPVsxVyXzJuazmQfj+TO4Ql6ccHp0xes12vSUYyK4OGTJzx+8ZhX7txlNBjw/PyCP/7TH7EqS2aFZW+QcHySYr2hrgtenJ+xKlZ0ZczBuM95cU4lPC/KU959AW8cHXE5W1LqBt0sqCPN0dER09kZ3hVo4zlfVuy/mtHt9dkUa3RTsjce4xvH+rIkSxukk1RLGO4nDPsj6rpG+5oo8cg4JMB4guOmUh4pHbhdbd4N+G2t+SVO0829vd0cGwfKgwggeUhcksgd6dlfBbjvXrv3cjDfc4DCO4NUglhFYeTbsuiRobPSjUGpmJesG77k9ZUvVs5YDBq9Temw1qLrBmfMdfzQrpdPW5Ta+b31umqBSqMtWHDecIGm2wv+2e1rq0iQJBHaOITsUTclwm1XuM5REkz4tbYkSYgJy/OcXk8xHI5DcStDxNdyucR7z2g0QkUKgSDJUlQc8Vt/52/y5ne/TTw+wFQlvq65qAwuihkcHRLHn7M0K6qqoudiju8f8dmTRzhr2BQrsm4KhEBWa01I8CkEaRKzWVk+e/SUWhsO9vbRpsKXmjzNaKiwfUc87KEiSSQVsoHSlyFRJVOoKA3hlnGMzGNEHzbJmjo2uIszkic5w0xwdXVJ1Wg25Rq3yTARpN2IA5lyj4jOfI4QEU/LDeruHT6vK37j+ISenLD3dcHj3gHVuuHMXlLZFefLC55Mz3g+v+Bv/e7f4NnZlP/pD/+QhZbEvQ5aFPxHf+/v8cFnv+D+ybe5nJ9jpSWNFLPFU5KR5Tf/9TcZ93vcO77Dn/w3P+Lzz05RUUrRbKAHvltjbYe6cqzrgkbAYH+fpNfDMGO4N+De0X3syvDxsyc8/fQZroGeTjnIbvH0k6csNytOTm4zOEnYVCW6rMAplIqIpKLakajsMsJDIbrR8H1x7Koqi93KbZzdwY7UjRVMuyzapUCEKeLlYtXe71pr8Ha72VPEcUSkBLEUOBQySYjjhOG4D8Dl5fSabP2r4FXw62IFhBOqFVi2DxlHGO/QRgf/6i3fSgm10x3dyBN2BZ+tp1VVhS7NaIcT7ERnSaJYYIzFaII5vxPgPH675dkUBYvlks5sxtA58jwn73S2CSLxNS9G6+DEoBuNJ9w0RIrSGha+Qa9n9POMptbIWOBw+KYmSyLGgz5llpDXnjsP7vJkeoqbNsEqxDlUFOHqG0PCTtZHKY/zlnVRMZ3NQHoi54mdJPYC42tUJokc+O1pKwxEBEcC7Q2+CGEBTlaIJCGLc+Iogn5Kt+7zyu27kEre1ZrlfI6uKxpryEY9BoMeB04wWhi6eC7LNW7c57PllFuJYmUNh52EbveATVmR9brM1nOePj8PzqWDAVdXVxTe8S/eeQcTR3Q7A1abmm9//UE4XLREiOAPtq7XPF5dMKNg/37K9//GW+zHI5pFw+PTKXG3x3pTYjPojFOMqNEorBJYKVGpI0oSGtvQ68aMuh1SJ5CyyyAe8vH5U5yFtJOxuao4O79ExJbh/gjZ8agOCC0QOoxau/dae6++fKAGrKrFtHZB8Rvf9AjnzcvFDIHf0cHCDWUhmcIb+wAAIABJREFUFJeXQ3/FtmszxiC2rrmRdGRJjMLjrcXjUXFMnOXEcQy0jiYysOB/xesrX6wStX2jdauj8qRRHBwdnUNIeS0n2AUn25NldyxsTyDtNEJ6msYGQqV3DCcj8qxLHJdYV1FVNUJJVBxhdYM1BuEt3hmEitiUFX46w3q4nM44PDyk1oZ+J2cwGOCco6oCnjadTknSlDSJsFXDUjcYLD5WZEojvUOIAo9FOUUqJEZEDIdj+gKS2tKLUn5wMOZ//9/+T9brJYeH38biabxmM9uGUkiHcwGHq2rD+XTGpikYqoTbk0PyKKGbxBRmjV2XpPsxkVZ06eAjh+pl2MbidUNpS2rrMNsuNZIRQnTJVMzvffM3iLMYUdS88+7PmLsCnYCMBW/duYN6dIEoagoDT5Xlg/WaRTfjX3z0LoXT1EeXLKs5gpjvv/U10lkXJ+DJ00e8/vYrAPzi/ff5Z//vO4FJXa+QRPzO97/Ph++9z/3xCaPEkuc93nvvPf78yQecvH3I6JYk94bpB2f89//VP6SqE6yv8JmExHH3jROSgWd1tsRZQ3fQY5h6ur0EIRoO+wPGvT3iImEza3j86VPKWtPp9jHOcHZ5RX+/Sz7IKKwj7vfZOxmi6wLpHLquMUIgVIKw4hrALsvyml8VxzHGNjtyFxe2chBCWL0FKRC2CSnhLhCiYxXhd4mkQBRJvBc7ziPtFvxG4iPxeGdwziKEI0sj9ocjyvWG0+mClShY1w3r1XwLsVikiBBR0CtuzZ6/1PWVL1aSG+dCsV2nht+4aYN3WetJklz/3fZU2m2X8UFmAOEmWCwWSOvJex3UFgQNOq4C611IfMHiCTElXngkCiUlznrWq02Y82UUxLuj0E6naXq9qYzjGA8hodfYgA/FwVCwG6eoyFO6YAgopSOSCbFMyVMJkSJJPPWq4OD4Nm+//Q2cc9y9e5vZcsGyWBFvtpsjr7HG473CCk+lDb60KFuhuyNUXxIJj/Jg6wZf5UQyoat6ZN0EZVPqxiGGhmVRgNUsFwuEUIHCsZF4Y5ns7eGt45X9Y56P9tgsFyzqEjEtsfPb2LM5Rkeso4Q5FYVU0E05XZzxyWlMbNZMp1NefeV1ClvhheT+8Su8fvt1hoOEsqlYzTeMuhmN85SV5fadE3pRRiNjbK05ObjNYLKPUjHd1/f5k0//LzoTx+HkhP/uv/4/cCYAy1EUYZRmtD/g1q0jju5PeMhnvHh2Bs4zHPXIM0ln1KMTdYidwhaW2dWC6XSKkQ6jDJFyJGlGdzzGR3B+sWJTrtGrDsZto9tMBVi8uPGh2qUUtPfjX+cXFX4/Dveb90BIdG6nyl0qTrB5CWLpL+JYjpvRUviwFQRQ0qOEJwLiSAUMVAhKY9BN0ELGUQLS3Xz/XxerL3+1a95dH6tgOexxNXhn8QQbWLl1O9z1bW87rJfkC1GEsQ3OBVlEFVXEUUK338VahzaOxapgU1cEineI1UZ6lBdYH0Y9oRSNNUQkrIoNm6qkqTYURcFgMODevXtkWYYQAuNd8NWqDVkS4aUkSlMSkVPVJdpKVtaikEjl6RuHiBRxljMQCaIz4MnVOd/73veIoojVZk3P3azErbVI6uDbLiNqbZHOgpQ0xrOczUmFottLUH1JL83J4x69qMNIjUhcAkox6mXMy1Pq5YbKWk4vXrAuNty5c5fXbh0TCYkoGrwzHPVHvH7nPpvNiqfFBRjH+z/6C+7XGZtsyCZyPIsKbJaxairMvGQxe87TXsZgMCEbD/j8yUPG6YT7J2+wPxix3FyiS8u3v/EbRAiiJMI3lnu3DkhkAiSsphuUUwgjuXt0l/GeYr78KfnthKvLNe99OkWJQ2KuUHFE3I34xjff4rXXXmVZTTm5fcx6saRcb6jKFdJ16Pc6JC5FOUXTOJbzDfO1xnVg5Uru3d4jilMu53NWmzWbxqAtmFITlwMiDWp7CCql8O7mMG1N76IootfrbomZ5tq6yDlxrdULh/A2vTmSITlZuhCX5VpHh9ZdxBLHYdttjMVuR00vXi6OLfZkDKwWKxJj8NaRJQkbbVFJgjQaYxx13ZCmGf8qvp9f+WIVp615vcP6ABJqa5A+WLlEIqRxiEi9dGr9VcS5aMu5cr4BZ7EGpM/QQlCWNUka7Fx6DnplRXVpsNpsyZ+BS+M9xEmOcAKl4tBxiIhIJAgEq7VjXVyxXJfEWcp40kcpSR73KJ0lSiKIJfHWBbJxa2qruTqb0uv1yKIYgYFeQi4EsdesyxXeWLqRo4pFYB07x+JyymY5w7kVcao47N1Fe0ldaVgZMJ7IwdrVXFUrzNJxv3PMW4evszeeoK0lkjHIONAbRMzKWj54PuVP3/1zsknKZ08/YbOsOL+ckUcJ92/dZpTnxGRMSBh33+L2fp8//Of/jAtRs1ptaEzM+jDmQ7Xi+dri1g1WBKtp5y2lNthEMy/nLFaPOcg9m2VENQ8HUlOV5Jngv/wv/nP++P/55+wd7PPNb36Tdz9+B+Nh0hnxk5/8Cd/91neYTqdM1XNO+vewWvE//6//iMRKtJmzQTPuZrz1W2+wfzxApArTJFgpkd0RpvZU1ZzF5Zq9fo+sF0Fp2ZyuWZ3N6fUSZokhHmTEY4XTDcXpHF8J4k2CaBTKVPhGY51HS7OV+TVk4uUNthCCpmlYrt31hjtOkxt3UCGwNMEnXQoyFfhdgdFeb/Wl0Mm7AQeLE3RtbgD8LRteCIGwJoSfSokj5BYKGePRNFIyRxFnGUZrMluDbvAqQYrWTnkrTfP6lzaW/7LrK1+sdsHE3eLz0smxU5BakLwFJ1vMyjmHbK01jMVu5QiBRBoA96bWZJ2cXien28nZpBmVr6gbTRhIo+0IeXN9cbNjJeADTnFxdo5uKnqdLib35Hl6HcfVemtrHZJOmqZBSII4VUog/Dtq02C9RsggSjVFA05wdXHJcr4ijzKUGtIf9hkP9nBArT0XXlMul1hdEUlJXTesPMjboBKFI2Acfsv7UlISxQmuqBAJOGWRicTEIPspj2YvSN9/l1m54rffeItR2mGc9+l1Ooz6fZpK809/9hMWrJiJhlgaateQJDGbWoOMsK7BYiAOAuevvfoKt4/2AM10fY50MWmc4Zzj4/c+YVlveO3VB8hEslzNiLyktpaz2Smu0VxsbmFjQ9kUfPDRx0zunvDjP38EGgadMT4VfP1br6FyyIcpGk1Dg9EG5wza1CAEV7M5470eo3iErx2bogwR8M4hcPTzjE4vB+eZHIzRBZxVGwwNELLYlQwPIcET02b2tVvmJEmuu6n2uXYx1BYz529UF+29nSQJ1gbIouUM7oajtNvBL+oDd4H49jWVirYFMNl+bvRWpgNJml6/Xvv5+lWvr3yxAq5FlW0qc/vr9rFblHZ9pncL1fV/e49xFkfIE7TeYZzAWI8SgmyLWw27HdzYs1mvWVjBer1GyIQ4SUKKTQtgRtH1QwhB5TRKSEptODu7ZHE15+jgkHxQcnx8SK/XQ6nQHWmtWS6XXF3NSJKEbjenP8jxNDSmRkqoFwViS+DTtiKNJMvFiufPn7NaLhmPR1gXczQ5YO9gj6q2oas73KfMI4rlHOsj0ljRH3RJOjlegcYQyQ5SBkwtVhHCO/JEcfv+Ia+vHnBVhaCEVbGAvuKTy8c8nT6nKVZ8496rfOuV10llsJf+9374d/ns4VP+qHrC8WFCfnfMuJIkQvL5sycQQZYmKJVSNBX3O/u8cryHtmu8lcyKhvHogHW94eL0jI8+/Yzb9+5SrOes5ivMmeHy7BKvHW/eeZWTu4es4wXPTp+wLNcsNjX/4L/9X0gk1EBt57z+5m3ioWOlZ8zKmG53jKahtjUqVaS9mE6asJhfcHq+YBwdEpFhoox8MobpKce39ji+e0RnEPyjIrqcPZ8RxSXeC7zOsHVDgkFFQT1Y1R7SX+ZRSSlpTHP9/K6BnrUWJcMCKNzPAmNA64Ab7epdr3Wv2/Fxs9m8VKx208pfOkidQzgoqzBKVttk51blEbDa8Bpt0fpVrq98sfpiMWrn9RaDak+pdHsy7MoJ4MZnWgiBl+I6xFTudF4BlBbX4HrVaHp5Rixj5nFQx1un8bSBFOJ6K6OiCIQIxW/7Pa13xEJQ1RqrHZdXcwZec3R0sHU1jfGEm6ksQ4vf6/e2RdChdYXxNVjIuoG7I5ynKBdUlaMoV5zNzqg2AdAdDzr0sowsjQIvq5MS+RxpS5TrkOQDxsM+o+GA3rAPUuFVhIgTVByDktuT2uO9pZel3L99h85ixrouyeIOp5eXRFFMU2ve+/AjlBU8OL5LN06RMmxtf/g7/xqHownfffttnl48oTz9nMXZFWk3ojvsIWJBuSmQKuZies7VfEbiDINen2Wxphaeq6sFdVGFgNJyzcX0gvPNGV440iTn4OCA26/dYTwZUtuS51fP2BSa6aykqRSJUqRDyx/8O7/Pi9lDVGw53BsBIY15UW5CYG4WMVJ9dFMQxSnT+ZqH7hJFRL12rDcV2aDHYNQl6yTEETTaMZ8uqTc60FiswzhLGjliNN0MihqqLdG2vdpNdEtO3i1SrazGGIN3zUs8QWths9HXXMH2Pk6SJHTltdmR2/wyZaL9fLRFqC1Au53YriXNrolf+//5qxjwfeWLVV3X11bEbVsNN0z2a/3UDrkObvgu166K3mMIkgaUDBs5pTDeUVQ1i8WCfp4grKXWmm6WMRmnDIYpaaZIUsWm1jgLsXzZcXFXRyV9EAwjJSIWNA7mjUZtNqzXazabDZCT5en1SNDtdsPmMBI4b7CuwYiSalMwHA45O3uO3bb70+WK2XrF2fwpi4Vhsblkb/Q2zlTUmyWxEPRGPdZoetGY7p0Dsv6I8XhMGifkeZc0zsjzHJuBiuJQsJylMRqDwa5r9pIBaSemf7/Pi84ZD+MnrGcFLnfYouazJ8/4/NUz7hwesz8a82h5yf3bd/jOq29ibEUdl7z79BfMFld0+wl7xwMWxRJvHLqybGzEn/7FTxnnCa/cuUu/O2Ber/jRJz8hUxmpSLkqFmSjLqvVhkJvOJ4csnEr1maBnZZMZxf0hz1OF1PeeedDVitHbQz/6X/2H1PqC2Q+4fb9O3QnPc4XMy6LCmkVw4Mek6M+s6szzp4u6fSGXF3N+PDxKU47VvMKGSkG+xl7JxMMNaJJmb2Ycfpwhq3BFA6MofGefgJ39nvcvT3gfFby8w83tA6hux0+vAwbtFdbxPyO3Uv7tS1ELVGzfY02VbwF8Nuxr/27L+v+tuk6ydYaHIIcxwcIoP2zu8Wq/Tu/yvWVL1YQWtJ25m/b4HZW322L2zfsi1Kb6zfOb8e/LQVCqps3ajabE3lDXYQO59ZoGDyfVIb3Y2SkmM7XFGWF1dtiKAgYlhBBugIoPIIQtGqVwAuH3eqsWmZ7KxNqmmDmlibZ9Unm0RjT4COLiATGNJxfnDIejrh9+4Sq1uwd75MPB6xXFc8++ZwoFVRVgfENUqXIOPyssizm+PiQtN8ly/JtanBKmnRI0gybsx1JBUKB05rp/IrVckZdacq6QkURrx3fo5938S4KUhOtyZOU/nhC3O1SC8FCN0SF5m5/xKZsOD19TlkXJElElMYU9ZrGVohIQCzZVJqf/eIXvP3aK3z3u98ljTMuzqfEvZjp5YyR2qO8OOf2K8cc373Fk9NHiAxW9ZpPP/+UvcGIs9PnTPbHvPOTv2S9qomjAb2h5PTsMUVzhhQpXmuM1uhKoxAMesNw+NkaoRRZt4MuNP3emMuiwklJ5SyxVAz3J9SuAWGYX1ZMz+dsFgUxKbY2IVpdOrI84fhwzINXjhDxFT//cEVbrHanAmstSH7pgGuLmvWBqNk64wmpiOJQxHbDHXbpOu1z7dddt5H2ta+f27qHtr+2PoSVhJHyJt9gt9D9KgXrK1+sLAK5ZdYGmUBIznWhAoQfqgq2xl800G+DJdofvNZ6+8aEoNRrioMtKS2cOcum0QyGPTqbklHUIZIxw368tUcJRWB6VbLcCl4hOENce1eLYAkD23w7a/HGUGSCcmsX63GYqsLrik7eJY5TvBc4s41B8in1YkOcxWR5wuioz+R4j9P5GZOjPfb2xoxPcpIk4uJrJ8ye18wvljz7y0+I0oSsk3PrYJ/9kzuM+oeYVCCjGCcUcRIjU4VMFV5tT1LhqJ3mgiXvr5/ybP6I4umc+nzFd+5+jeP+q5y8dh/rHLq2DJIxnbRHf9RFxo7p+pyPP/sJkUrYuz2gkQWfT58xi2vEIEVkHicsXhuEkchKERFE0U/Pp/z8Lz7gIM9ZmZKTyV1ie8F6s+TpiyfM3AV5N6Or+nzj7jdY1XN+/JMf8crJ6wwGB/yTf/wOD88NLvZE6YLv/d5v8OLpU/J+St7JKSpP7HNkrNHLKXEs8LWnWMzpktCZTLgUZ3hVIGYVvW6HSjlGY7j96gBhPLrx/MX7n7BeeZoGrPRYFYIdMpEQy5hbwwnfHB6QLjx/yhM2W5ypZQA4XPBEtwHoFiJo8sKeR6BkhHcNzhKCfGWExaLRCBTGWGK1XRShUCJCSwsELMp6h8MHW2TvwtdtcpKUchs/b7dQhQMPsv0qArl013SvLVy/CtD+lS9WcRxfpzJHSpHFwdzMC3vNOdn9ge62ynDjFNo+JNsTzQdf9xDXdTObR1HgYa3Xa1IlyLIQoJmoiMPJXgDn7QLvLXVj2FRlEH7KFve5cXYUUiJUKJ71NlAgdCYp3oUEHEuMc+Cc2er8LNpYvFfgg5PCxfmU8d4B52dXjDrQ6eU8fPqEPM3IogGDUZ/TFxesig2yqYg7GWneJU4TVps1keggiInjoNa3xofgiy13rLIFG1NwVV5iUk1/3Kc6X3Hr9gknJydkWUaaxlwWK7xwxHkSEoGloNQNL66u+OTJI0bDfdarErMusGvLce8YeZDQ+IKyKdB1g7AgkhA4S5JwsVjw6NlzXvmt3yKPJlTC0+3lPHr0CBkpZosp5zMdsMSqIIoVRVlzMVsytQ0fPzmjkYp+J+XN1+8Bfusim3J8fEiWZZR1dd1hr1Yr6lpTLBckkaLXyZAqw5piazNUM5n0GI0HdDpdNtMV88sls6nHG0iSHKeDEDyQLkVw48xSup2EYS8hSRybHZ5SK2YHXuqm2g5n16eqHfdD8On2e+CvD9ovdmO72NQXQyb+qpFz99oNjPD2ZWxq9/PzZa+vfLFK05RSb7ZMcBVIlhLiFITwW0sPS/AGEij5st/17hjojMULgXAeoVRglLvwwRXS41xEUVTXOFnqPL5rkXF4zV7eQcY5Wdqh10mZLRcwdSFPzvyy2VrLvPc+jIhXV1fM9yZECoa9LmmaUNUWrYNxoGk0QoZQAOU6YD1NWTDojXny5Dnz6YLFfEMjGt778EMkYCvBa7fepKFg73jC0e1bHB4cMxwMiFSCSjOqRrPeVEgZkWUZ3e4Wy9OOJFMszJTL4oKVXCGHDUSSbJjxtVtvcmtwGxlbZuWMC5ZIrxhTk2PQjWVeL3nnw/d5/8VT7jmFMTDpHPBv/+7vI0c5z5pHfPz4I55erIil5PbtuwyTCVdXV3x0+hirLM/ml8g059bRLWbFkovLM+I4ZrK/T7V1eej3uxzdOuRses6dO/c5v1hx9uIFZQSTScob9+8hvObBq3fxUtMbhkAOh6VpKhrvibc/C+cNdeNYLTfMZiviNHj6i7gkjROiXNAd9FAoVrOKJw8vwERkSU4apVjRoF2J8xaFQFqLNzXSFHRSTzd3zMqbe3h3pPIEZ1Ah247GY525nhzaIrTrqOCcvZbUtIevEAKhvkD+3FlC7RbBv65Y/cue/+Ko+mWur3yxajGpUIAkdV3T63dJ4xjnLNa22BVB/7QjbWjn/PaNjnaZva2Oaou5Cw/WeMTWymU+X5ILFdjEUfAQSrKYVKZEkaLXT1HRACEEV9MFpghyBZEELovWGqvD1uga4DeG2WyGwKLwGB1T15rVakGaxjuyDIU1njQLliR3945Y1yu6WU5n0GcwGpJ1Mz796FMeffqE2fyM23eOcYdDev0hw70+g7xL5NsxWOCkx9iGatVQ1BVKxiQdg8gkS7GkiSqMrFCxQyaWwaRPlCQIJdnogks3Z9kt6UYdKrvC6JTGCR6evuBnH33AwlS8mF1gpaPTj3lleIuFqHn2fIWzJVI4Hpyc8Nb9b3KYnvDuZz/n07PPqWTDUi+J45hRb0yWdYhdxMnhHTSOTx59yqMnD1FxzEZ7NmsNNubVuw/Iogt+53e/x/37d/jg3XcZDQ44Op4QJYpVseLO3ROWRQls1Qw2p9MbohvPoDfi8uyUy4tTvPQ0pqaxNTLLSNIIYxqmV3M+ev8xq6uGmAG2sdSmuLbpkT5GSKjqkuVyznqT4729lrHsbttuCgiAu94WhuJjtve4JY5jyrLc3ofbbsffFK6205Ey4KI3E0EA2VvLpF3Dv90Ctlt8vshdbK8vFr0ve33li1W78TAG8BYrJEkaExHeoDzPX+KEaPPyNqTdclxzTgj+0lJKrDbXqbZtQXRboHG9XrNKEtI8J+8lGA/GGxIRIwXEEchuRhJnxFHK6dkldV3jnbw+GVHq2l8bQhjrarVCSU8kIM+SgFU5ExjQxiGIaOOQjDEUxYruUDC9umA6uwgdQ1kw7AzoZDn3b58w6Y341jfeYLaeo42jM4wZ9Ht47VhNl0iZkGUhxELr0IVqY6jWBaZyiCF4IZCoQLlQlqKusFmDEzCv1iziElKPcBZpLco7dGW4vLzkYjYnThSbesXF7Dk5NY0omfmCxhYhFg3D8f4Bx6M9TpI9LkZj0khS41CxR+DIhCRLR4zujCEWXC7nfNJ8ztX5EiEEH2dP6KYZnbjDwXAIRjO7fE5ze8j9ByfYpqZpKrr9EbVJMEaDDC4CdivSbWpDsdGs1gVV1QTzQauxrkLFgcxpvaGqCjbLitlFFeKohANncNtUZeEjPNsFClDphnXZUNQeRPJLncl1N7QzorX3ZGvO5x0Y7V7CigIx9WW745YTlWQpWutr/uHuaLk7xv1VQPz/37U7bn7Z6ytfrFqA3BgPXiBVxHK5RMaSTqdDnKiQ2bd9A1ermrIstyb69vqHLqXEbjcozntwHrtd/0rVcrQURtsQZ6U1z80FRaO5+8oxvUEPnyiM8ChTB2Zzr0/eGdLrDXAuxHStm+aakhBHEcJv/w3eU5YVFxcG3ZQkSpLEI7I4ASdwJli/JHEXLxRVVXBxOWW+OiftvsZHH79HlmVkUcx6uaKsGpSX/Bs//FtsZjPyWOL3MmQUk+ZdNosZm1mB15ZuNkLFwXc8lkEsK4SgtA3aVKgoRggQpOQeqkhTOku1KVjFay6Xc9ZHDQJHikKKwCPTVc16sSZNczZmSdbp8uc//1N+ZmrUUPDKd98kG2Sky4g9OeL1e/c4yAZMTM7doz2OD4bkSjKQGd7VpEKg6CJVhMMxSOHN+2/xwXufsi42fP74jK6MkeWGpNHEUiPLGYvlOYejPebVEo/mk08/4tnpC7JRD5nEPLm6wscpcdbl6mqBaRSHkyEyjkBa0lzQCE1jk+222FM3JS+erIiEwjUSGTWI2OGtQ/iALwkSdFRupTKCFxdTLpY1Za2QO0qH0FW39i+CdlPI9nspJUmSCCUTri5n29EvuHQGO+6XDSTbUbAsy+ut+C6Pq+2YWhxst0vapfz8dRyqX3dW/4qXdxECSRQpImWJIoXWJbXh2q5YN5bxeAJAJ25Ag3ASowSrqsACxhpEHRJpPOClQDtLY8MHWMUh7j1sXjwI0NaircE0nsgqMhPTzXKWerolkUZ0+l1K3TA5GiESj72cUm1KjHYkeQ6EG0v5CGckpa7I4xDZFDA2ifCCRlusF1RNgzYN68Ulnz9/ypOzF9z62jeZLmPEsubg0lLVMJ8vuby4YlMuMc2GsrRsTE5Rzun0ysBSdhFJZ8DMdTjMImS9QugaXBdPwjKd4YVCVTF53sWl0LBgQE6VFWyoebx+Tk1Jr3F47Uk9IBSFcaydZulWzJsrskGPqOf4vDxjeVlwIvY5XFtMbsk2OfeTu7zS3EI2At2riTtrvvXGCafViqrSuG6Ejg094XFCY4Rn1M24e3TA1x68wp/96EeMkj5RKth4x3mlWSxXTCZ3mZ02HGQpe91jvPacnl+yaTT1dIMWnllRY6Tm5O4hWi/xG0N+krHerKmdpqmgrmO0WqKSFOly5CaiY1KUjLDS09QOJyUulojYk0aGJHI0iUeLnE9XDuc6XM4bZqLElwmorec6Fokh9lDhA13EQBzlGA8ilthIIp2nxG7DR7fQBBaFw/qw/VYy2Ba1E0eb4NzSd9pJou2o2rFQCAHKI1W455xzWB2SbYQQGGGJhNouhHZ9stRf88n85esrX6zCBi+cQEmSkCUxaaquVexNY0iim41hq6cyzlOXFYqt1k4GC9pdAl178rRt+C67OLxZmqqqmc/ngKM/6AQw3VpkFIih1WZNrCKOD/eZjEbkSdhk6XrDZrMJr62SMDZJATZ0Wo22WOtD8ogxVFXD1XxGox2LecH52XMePXvK1arhn/6T/5s0c+RZzC/ee5fT8xdM9obopuC9937Ot19/jcZo1ivPfDHH2D5p1iXJO6EYydDZZVlMoy3OBCaP9BkEVljYRgoHwiBTwfigSy46CBshbEKZhMRqbTWrZo0xUGtDksQkScTBwZDDvR7FvOLybM2Tx6dU1ZpekvG7X/8eD45fo2ksl5dnjNnH9xPu3L2Pnp4zvZyFVXzVUIkqMLbTGG89gzTnb37/9xjlPX7+2edIZYji0FFL32U1uyLNBB99sAEcw70+h3ePOMlS5rMNz89P6XY7ZP0exXrBcjHDrWoeflYgZEOUSmpdEkWSXGYI55EiotOLmcmSuq7ASRpARJJ82CFKwxZReIeMDLLxaAtPnp+xWBZ4L1FJhPYWI0tUKukNMrzRSCeVuHxBAAAgAElEQVSDhVXLZVI35pDNNjFJKRW8q9oPwXZqUypY9SgVOuO2UO3KyoCXfNx23Uoc9hp4B0KEfds9eY/ixrgymPH9egz8lS7rGpzzxC7eYi8ZSdKjFYoqFSQKWZ5ijcNGCozA7ICaERKvFNLdYAWtVUx7c8AN76otYoaAmc3mATPZbIotJUEhkLRdtMSDUPS7HQ4P9qirgmkUM58vcM6EE9kaWlV8Y0ILX5Q1qYz+v/bOPEquq77zn+979aq6q3dttmVLlm1sjA3Gi8xA4sEmcZiAkxgyDoSQECccM8AcSCZDTsiQgAlnMpOFMEMIEA8hxmYJNoEJA2QhxgZs8CJv8irsGG/Iklrdrd5qr/ebP97tdqndLVVLXW6V+H3OqdOv7rvvvl8t/a377rv3+wPFzJRLjO4ZZ9/kLHv2TjA7OUW1CsXeHvJxkR8+uoOhwR7OOPtkXnT6aVQbZWammuzcuZM1fb3kcxGV+hCT+2ZICgUGBteT5HpopBHV6gz1JJvIiIk4zmEWY/U81kwzf/ikQRQ1QU0UGX2DBRJEsy7yJNQQjUgoB7VKEzVr1KxJ0lNg7cgQm45bx7r1Qzwy9SSNemY18uQTezn/lJdw0nGnsaZ/hL17Rtmzby+PjD7O4AkDRH15RveMMTE2RW9vlgbL6s0s2aeMYpIQpU2OXbOGnpe+lH31MjufeYKhwSLDI0PUaw2efnon1qxQq5eoNqrsfXqUTcWTGOkdZs/e3ewa3UPU20uz2WR0YpK0VkNpDaV51q0fwpI649PNsF4UskuzmDhOssW9hQbWFLGJfF+B3qF+oiSi1qxillKPjCQfU6/HpLUqjWY2kbhSL2E5SPrzDAz1UeiJaaZ1onKRyfGp+dnqRJkLeuuM9ebccrC5f4KWeYMLx7rmFh/PDZcsHI/aL5lptL+N8tyY7lzbkT3rWpKL5/zeXazaJk1rxIhsGohlWWWKvfQV85nFSi27ndvb00cul2fn2C6qjfp8NzlWRBTFpM0mBvutpZpjzua4dWAyl8uhOCFt1Kg3mpQrFaZmSphEcSBPHCc0GilpqUS91gxrBnvZMDzIQO8p7No9yvYHHgSyu0URotGskYtiytUKe8cnSBGsqUMMk/tmePKpZ5iaKVOabVKZbVI30ajCnbfeT09PlsDgdb94Mqeefio7HnmYycl+SpMT3HbHNmJFbDn5pWzYsIHhkfVUKymFgTxSk0LB2Dc1wfDQEHHSA40c1jD6NEyqGknSIKVCPp+j3ISoKXKFHDSbpLHRtBpYdlex0TTqZkRmJEmBTcceT1poMrAmptYosW/fOIojir0DrBnp4/wXnsdIYQ3lmRq1Zor1FPjGDV+jsKbI8SdvZmJynC0bN9MT9SDLESURJoPImCnPZFNI8nmO6d1AcaiXeEycfuZpVMslcrk8sWDHow9RTWv0D/YRJ3nu2X43J564iUoN8nHEmv4Bqo06w7mIcy+8gLRS4pndu1i7fi1T1UnGJkYpFgtUG03qllKvpaRzQwTFhGa9yZqhYXLFHhoJVBoVLDaiJEKFhGbTmG0YcdTECgnVehUNiN6BHgaP66PQm0ORUa8asxOVYAmT5RCckwKz7MohDVNv6tXq/FBBmjbJ5fItl33Pri1sXY4zdwewdS3h3KVgFEXZYvXwHV+40gMpDOTPeWLN3cV2sWqb3mIehdu81WqV6elp+vv7KeQz94VCkief76GnJ0seMVGZZnp2FlPowjZThBEjaousRG8152u9LKzX6zQyKzziOKFpMFuqoDhCyVyKsBrWTInm1lg16hR6eujpHaLRqLNhwxpSMlvjLKdhlt0kTWFmtkqSlOnNx9TqdZ56eid7xycplRuUZ40oze58ZtdrollJGRnp47hjjmPnEzvpLw4RK0ec5ujtH6NRq7N37Eds3ryJqakpfrRzNxs3bqRQLJA2ZukfGqY4tAZrAtUmuShiKLeGfCGm0hyjmopKY5okKTLMMHFSoBrVKVcnySURicXE9R4KaQ+FpJ+C+sgnPRSsSLlcZnziSUan9zBTLjGyfj0nrjue9Wv6GOyLGNv7I5TGKI7IJb30FAfYW60xseOHjAz1E1uBwb5Bkjhzea2lDfaM72NidppKo06lWWd0bC/f2XYHmzcfSyOXY8++fdQqdfp6ijRyCXtGx5i2JsefcAzHrdvI2v61vOTMU0hrddb0D5LPZZmLa2mNsYkmpd4+hvtGKA4OsWtslHozuzESkaNebzI1M8PkbImh/sEwtJCjETWyHnsETTNyhTwxCaW0Sp06UdKkmdaIBhN6h4oMjhTJFwVqQC2iNltncnKGWjnNcjQqyZa7NA2LDMW5+VUXyu54zDN3mVcqlUiSAkmSzE82XTifauEUhYUmlK3P54+JIpRqvvdl6dzCZ58U2jZJEhNBuI1fgjRlcHAQ0jLDw8MhCWVmo9Fs1qnUqvutoyLc+ZubcTxfHpjrTs8xv4YLSJVlFmlYStrM1vZFMRR6Ewb6csRRQqNWJsnn6c0nJLmYniQHwR9qeGSIKM6WTZRnylgzpVQvEVlEpVJhtlRitjebOzYxNc3k1AzNRkQjjUnM5r+sURRls7JzCTuf2olFon94iFq1Sa3WZNMJJ1OenWVs4knGxnfT17eeYrEHSCmVZkmUUq7UGB2bYHCon5HhfnJAgT6KfQkNjPFSnVpaJpfro1/HEOdjqM/C7BRpnKUmpybMIqI0RmmOqJlgtTK5WkRlpkyz1qSvb4BiYYBcIrA65cY4PUmEVCCX66en0Ed/cS17GxMogtmZCqOje3nmR7voO6YAEUxM7uOBR3/Ag089RiOCamRMTU8zMTtLcXKasclJvn/HNnqSAi8+4yUMrtvAvlqFmfIs0zMVjh9Zx4bh9Ww5YROzk/tIaimJZZfUD+x4nLHpGfZNzpCSo5lENOsRaVghIWKqpSal2Qq1RubOkCQxOcu8zyykkJ8b0FYzWK8IlE+JEtE7kmdgpEBPb4Kpkk08LtWoTtaoVFpmvyukaF8w6zyOM1fQtCXtWnYXO93vh7Z1wfPCKQqti5LnL/vs2cXKC1d6WJoSWSZSyxmnauXHXqw2H7eJUqXMxNQkldo05WqVnU8+zeDaIsMD/fTleoitzkypxnS9wcTYOKVSaf7DrDezX4cojrLBTZ71x5ojDpNFU7LFyaml2XLSJIVcjjoNqmnE+NQ0M9UyxWIP0dqIJB/cQnN5BofXEcc5egf7mJmexVI4duQYenv7WNe/ltGZ3YzummBqYobSbBmsQbVWZmYGpmZLPLNrlHo9+GXHRkqdaD6pZZZDLin2UZqYIdeX457tjzMYjzBga1izuYeqZlgzlVCa3M1LTj+Lp+ln977d9I3kyPcW6c31QNMYH93LTM9u1h07RN9AkXwuT2QJSRyTB9bHI6yrDJDmIKLJbN8A5cYsEUZ/UiRJ8ySNiNhSqlMlSMWx/Rtp5Jv01p6hoQSsQC5u0IwajDJMrpEwZEPkGnmK+Qb5Xkjrk/QO95Bag/snd/DPj97EWO5srJ5y/8MPcOsDdzHdqJOPe+lVH4W4wAs2nojFMDZV48ldExQLBfaOf5+h445heMMJ2NQkO3fvpacpcikMjgyxd/cupifG6e3tZbZUh6TI09M1psYrTOwbY7Y8A0Mp8VCOeiPLftzASPpy9MdF4vV9RPmYiV2T1A2azTiMFYlITeJGyjAR9ahBui5Hvieh2G8oX0bU0KxQJabyoxqzu2okKhCLbHmeGihW+EGNsMy5L5szZUYj3X/KgYUhDNh/UH0x4725v3OD7XPzsKIoolarhQzMzw6y520uv2C2lHouu00ce8+qbQYHB0kKeZqEleuVbH1dqQSlUolCnC3SLDegXG/M+1u3fsipnv31gWfXO82vhm80Wwbaw6/T/FZGo9GANKWZ1vebZFqv1+fvoiwkn89uCADkBo4jiXqJbA/VSo1GGFMrl8vMzMxQqVQP+D709/czNDRELpdjw4YNlCylOQVWM/r6+hjqL9IcyjMa7hitXZund7iX405cQzFfoFqGcq3GTGmKcnWc3bt3U7Rh4t6Ecm2KycYkaX8Ti0J+u+Zz5+HEcTy/qDy7pAiXFqT09/fTbAwyklaJoyKDPb0kUZ0CBdJGlsGlVCoxVZ6iXq8zMtLPsZs2MluaZiY3nX3OSUK1VpnvORQKBRrVJkrE4OAgp556KnVrMDa1j2KxSG8+D40si3Lck11CpmnK9PQ0xSRibGyM8fFxpsbH6O/vZ2q6QjXdR5U4m8AbZf/Q1UqFpDcOwpEt8eot5Dhh01rIxYxN7A09nogoTp7zWcdxDFFCVIjI5Y0kMRrU5qcH1GcrVCr1LPdkniVJ05QkzgbN07mF8cvwkzoYc3OuWudezV9KWhrGp5aef3UwtJy1OY7jOKvF8lNMOI7jrAIuVo7jdAUuVo7jdAU/9gPsnWDdunW2ZcuW1Q7DcVacO++8c6+ZrV+Nc7tYdYAtW7awbdu21Q7DcVYcSU+s1rn9MtBxnK7AxcpxnK7ALwM7wJ13wiGuKHCcVeNIn3LpPSvHcboCFyvHcboCFyvHcboCFyvHcbqCI1KsJA1LemfL842SvtShc10p6T1h+48kXRy2b5K0tRPndBxn+RyRYgUMA/NiZWY7zeyylWhYB0inYWbvN7N/XYnzOI6zshypYvU/gVMk3SPpzyRtkXQ/gKSipOskbZf0RUm3zfWAJL1a0vcl3SXpekn9ofxxSe+XdDPwS0udVNLVki5bUPZWSR9peX6FpL/oxIt2HGdpjlSxei/wb2Z2tpn97oJ97wQmzOws4EPAeQCS1gF/AFxsZucC24DfaTmuYmYXmNnfLTOWvwN+QVISnv8G8LcLK0l6m6RtkrbB6DJP4TjOwejGSaEXAP8bwMzul7Q9lL8cOAO4JXg854Hvtxz3xUM5mZnNSvoW8HOSHgISM7tvkXpXAVcBSFuP8Ol1jtN9dKNYLTU3XMA3zexNS+yfPYxzfgr4b8DDLNKrchyn8xypl4HTwMAS+24G3gAg6QzgJaH8VuAnJb0g7CtKOm0lgjGz24BNwK8AX1iJNh3HWR5HpFiZ2RjZ5dz9kv5swe6PA+vD5d/vAduBSTMbBS4HvhD23QqcvoJhXQfcYmYTK9im4zht0nUJI8LUg8TMKpJOAW4ATjOzWofP+zXgI2Z2w8HrbrVsfN9xuod2pEDSnWa2KvMPu3HMqgjcGO7OCXhHJ4VK0jBwO3BvO0LlOE5n6DqxMrNp4HlTdjPbB6zI2JfjOIdO14lVN3DeeeCuxo6zshyRA+yO4zgLcbFyHKcrcLFyHKcrcLFyHKcrcLFyHKcrcLFyHKcrcLFyHKcrcLFyHKcrOKBYtTp0LrLvkDzKJV0u6WOLlD/HpfP5ILiIrgvb3wt/l3zdjuOsDkdFz2qhr7oylv3azOwnVi4qx3FWknb+oXOSPhM8z78kqbiwgqRPBEvfByR9sKX8fEnfk3SvpNslDSw47pLgmb4uFF0s6buSfiDp50KdOPiw3xFi+E+h/CJJN0r6PHBf6A09JOnjwF3AHy7XO13SzCJl35V0dsvzWySd1cb75jjOCtKOWL0QuCp4nk/RknWmhfcF24izgAslnSUpT2Yl/Ftm9lLgYqA8d4Ck15N5rb/WzPaG4i3AhcAlwCcl9QBvJfOrOh84H7hC0kmh/svCuc9oifUaMzsH+HPa8E5vg0+R+WQRzPwKZrb9gEc4jrPitCNWT5nZLWH7s2Qe6At5g6S7gLuBM8m80F8IPGNmdwCY2ZSZNUL9V5EZ512ywMzuOjNLzewR4DEy87xXA2+RdA9wG7AWODXUv93Mfthy/BNmdms43yww551+Okt4p7fB9aGNBPhN4OrFKrUmjBgd9YQRjrPStCNWCy259nseejnvAX469L6+DvSQeU0tZef1GJlt8ULrlcXOJeBdIdPN2WZ2kpn9S9i/0Fd94fO5XtGh9qowsxLwTeBSMjvlzy9R7yoz22pmW9evX38op3Ic5wC0I1abJb0ibL+JzAO9lUEykZiUdAzwmlD+MLBR0vkAkgYkzVnSPAH8InCNpDNb2volSVFwAD0Z2AH8M/COucs5SadJ6mvnxa2gd/qngI8Cd5jZ+GG04zjOIdKOn9VDwK9L+mvgEeATrTvN7F5JdwMPkPWYbgnlNUlvBP5SUi/ZeNXFLcftkPRm4HpJPx+KdwDfBo4B3h6siz9FNpZ1l7IcW6PA65bxGq8Dzj4c73Qzu1PSFJ7ZxnFWja7zYF8uy/FOP0AbG4GbgNPNLD1Y/a1bt9o2d99zjkJW04P9qJhntRiShiX9ACgfplC9hWxg/33tCJXjOJ3hqLU1XinvdDO7Brjm8CNyHOdwOGp7Vo7jHF24WDmO0xW4WDmO0xW4WDmO0xW4WDmO0xW4WDmO0xW4WDmO0xW4WDmO0xW4WDmO0xV0nVhJendwBP2cpF+Q9N7DaGvea13SVkkfDduL+sQ7jrN6dONym3cCr2kx3fvqwgqSci1Gf21hZtsAX33sOEcoXdWzkvRJMp+rr0r6L609oJAd5y8k3Qj8iaQ+SZ8O3u13S7r0IG1fFBwaWssGJP2wxUtrMGTDSRZvxXGcTtFVYmVmbwd2Aq8ys48sUuU04GIz+6/A+4BvBe/2VwF/1q5pX8v5psmsYS4JRb8M/L2Z1Q/xJTiOc4h0lVi1wfVm1gzbrwbeG7zbbyKzWt58CG1+iswWGQ5gj+we7I7TWbpxzOpAtHqwC/iPZrbjcBo0s1vCQPyFQGxmiyY/NbOrgKsgM987nHM6jvNcjraeVSv/DLwrWCEj6ZzDaOsaMg93tzV2nFXiaBarDwEJsD1MT/jQYbT1OWCEw0s64TjOYXDUe7CvBJIuAy41s19rp757sDtHK6vpwX60jVmtOJL+kiy92GtXOxbH+XHGxeogmNm7VjsGx3GO7jErx3GOIlysHMfpClysHMfpClysHMfpClysHMfpClysHMfpClysHMfpClysHMfpClysHMfpClysHMfpCo5IsZLky4Acx9mPjoqVpLdI2i7pXknXhrITJd0Qym+QtDmUL/RQvzJ4qN8k6TFJ717iHDOSPizprtDe+lB+tqRbw3m+ImkklN8k6X9J+p6k+yW9LJRfKelaSd+S9IikK0L5ta3+7XNZdTr5vjmO81w6JlaSziTzQf8pM3sp8Fth18eAa8zsLDKfqI+2HNbqoQ5wOvAfgJcBH1giUUMfcJeZnQt8G/hAKL8G+L1wnvtaygH6zOwnyDLlfLql/Cwyv/VXAO+XtJEWW2NJQ8BPAN9YznvhOM7h08me1U8BXzKzvQBmNh7KXwF8PmxfC1zQckyrhzrA182sGtrYAxyzyHlS4Ith+7PABUFUhs3s26H8M8ArW475QojpO8CgpOFQ/g9mVg7nuxF4WWjjBZI2AG8iSxjxnDRf7sHuOJ2lk2IloB1nv9Y6swv2VVu2m7RnabPcc7Y+X6r8WuDNHCBhhJldZWZbzWzr+vXr2wjBcZzl0EmxugF4g6S1AJLWhPLvkaW0gkwAbj7M80TAZWH7V4CbzWwSmJD070P5r5FdIs7xxhDTBcBkqA9wqaSeEPNFwB2h/GrgtwHM7IHDjNdxnEOgY3fdzOwBSf8d+LakJnA3cDnwbuDTkn4XGOXZNFeHyixwpqQ7gUmCEAG/DnxSUhF4bMF5JiR9DxgEfrOl/Hbg62Qpuz5kZjvDa9kt6SHg/x5mrI7jHCJd78EuacbM+pdR/ybgPSFdfGv5lcCMmf35IscUyQbpz23phS2Je7A7Ryur6cF+RM6zOpKQdDHwMPCX7QiV4zidoesnXy6nVxXqX7RE+ZVLlP8rh5bJ2XGcFcR7Vo7jdAUuVo7jdAUuVo7jdAUuVo7jdAUuVo7jdAUuVo7jdAUuVo7jdAUuVo7jdAUuVo7jdAVHlVhJukjS1w5S53JJH1ti3+OS1oXt73UiRsdxDo0VEytlHDXiF5xEHcc5QmhbXCT9TvAsv1/Sb4eyLZIekvRx4C5gk6RPBMfMByR9sOX4xyV9MHil3yfp9FC+XtI3Q/lfS3qipXfzq5Jul3RP2BcvEtfPSnpY0s3AL7aUvyz4rN8d/r6w5bCNkv4peK3/6RKvdyb87Q/e7nNxX7pYfcdxOktbYiXpPDI/qH8HvBy4QtI5YfcLyTzVzzGzJ4D3BQuJs4ALJZ3V0tTe4JX+CeA9oewDwLdC+VcIi4YlvYjMm+onzexsMqfQNy+Iqwf4P8DPA/8eOLZl98PAK83sHOD9wB+37Ds7tP0S4I2SNh3g5VeA14f4XgV8WJIOUN9xnA7QruvCBcBXzGwWQNKXycThq8ATZnZrS903SHpbaPs44Axge9j35fD3Tp7tBV0AvB7AzP5J0kQo/2ngPOCOoA29ZD7srZwO/NDMHglxfRZ4W9g3BHxG0qlk9sStySZumLN7kfQgcCLw1BKvXcAfS3olmd/78WRe8Lv2q5S95rcBbN7sJg2Os9K0K1YH6knM+6ZLOomsx3S+mU1Iuhroaak756ne6qe+VNsCPmNmv3+Q2JZyD/wQcKOZvV7SFuCmReJYGMtivBlYD5xnZnVJj7P/a8qCMLsKuAoy872DxOw4zjJpd8zqO8DrJBUl9ZH1hL67SL1BMvGalHQM8Jo22r4ZeAOApFcDI6H8BuCykFUGSWsknbjg2IeBkySdEp6/qWXfEPCjsH15G3EsxRCwJwjVq8h6YY7jPM+0JVZmdhdZ0oTbgduAT5nZ3YvUu5fMa/0Bsnx8t7TR/AeBV0u6i0zcngGmzexB4A+Af5G0Hfgm2WVl6/kqZJdeXw8D7E+07P5T4H9IugV4zsD8MvgcsFXSNrJe1sOH0ZbjOIfIqnuwSyoATTNrSHoF8IkwoN61uAe7c7Symh7sR4Kt8WbgujBHqwZcscrxOI5zBLLqYhXu5J1z0IqO4/xYc9TMOHcc5+jGxcpxnK7AxcpxnK7AxcpxnK7AxcpxnK7AxcpxnK5g1SeFHo1ImgZ2rHYcgXXA3tUOIuCxLE43xXKima1/voJpZdXnWR2l7FitWb4LkbTNY3kuHsviHEmxLMQvAx3H6QpcrBzH6QpcrDrDVasdQAsey+J4LItzJMWyHz7A7jhOV+A9K8dxugIXq8MgZNbZIelRSe9dZH9B0hfD/tuCvfJqxfI7kh6UtD1k6+mY4+nBYmmpd5kkk9Sxu0/txCLpDeG9eUDS51crFkmbJd0YMjJtl/TaDsbyaUl7JN2/xH5J+miIdbukczsVS9uYmT8O4UHmPvpvwMlAHrgXOGNBnXcCnwzbvwx8cRVjeRVQDNvvWM1YQr0BMrvsW4Gtq/i+nErmbjsSnm9YxViuAt4Rts8AHu/g9/eVwLnA/Uvsfy3wj2S5EF4O3NapWNp9eM/q0HkZ8KiZPWZmNeDvgIU5BS8FPhO2vwT8dIfSeB00FjO70cxK4emtwAkdiKOtWAIfIrOernQojnZjuQL4KzObADCzhRmUns9YjCyPAWTe/zs7FAtm9h1g/ABVLiVLsWeWZa8alnTcAep3HBerQ+d49k/f9XQoW7SOmTWASWDtKsXSylvJfjU7wUFjCTknN5nZ1zoUQ9uxAKcBp0m6RdKtkn52FWO5EvhVSU8D3wDe1aFY2mG536mO4zPYD53FekgLb622U+f5iiWrKP0qsBW4sANxHDSWYF/9EQ4v49CKxBLIkV0KXkTW2/yupBeb2b5ViOVNwNVm9uGQj+DaEEu6wrG0w/P13W0b71kdOk8DrZmcT+C53fb5OpJyZF37A3W9OxkLki4G3gf8gplVF+5/nmIZAF4M3BRyML4c+GqHBtnb/Yz+wczqZvZDsjWdp65SLG8FrgMws++T5adc14FY2qGt79TzymoPmnXrg+wX+THgJJ4dMD1zQZ3/zP4D7NetYiznkA3wnrra78uC+jfRuQH2dt6XnyVLpguZMDwFrF2lWP4RuDxsv4hMHNTBz2oLSw+wX8L+A+y3d/J701a8qx1ANz/I7pj8IIjA+0LZH5H1XCD7ZbweeJQs5+LJqxjLvwK7gXvC46urFcuCuh0TqzbfFwF/ATwI3Af88irGcgZZrs17w2f06g7G8gWyHJ11sl7UW4G3A29veV/+KsR6Xyc/o3YfPoPdcZyuwMesHMfpClysHMfpClysHMfpClysHMfpClysHMfpClysnI4hqSnpHkn3S7peUnGZx88ss/7Vki5bpHyrpI+G7cslfSxsv13SW1rKNy7nfM7zi4uV00nKZna2mb0YqJHN45kn2JB0/DtoZtvM7N2LlH/SzK4JTy8HXKyOYFysnOeL7wIvkLRF0kOSPg7cBWyS9CZJ94Ue2J+0HiTpw5LuCh5c60PZFZLukHSvpL9f0GO7WNJ3Jf1A0s+F+hdJes6iaUlXSnpP6I1tBT4XeoKXSPpKS72fkfTllX9LnOXgYuV0nLAu8jVkM6EBXkhmP3IO2QzqPwF+CjgbOF/S60K9PuAuMzsX+DbwgVD+ZTM738xeCjxENvt6ji1ki7QvAT4pqedg8ZnZl4BtwJvN7Gwyx4MXzYkj8BvA3y77hTsriouV00l6Jd1DJgRPAn8Typ+wzCMJ4HzgJjMbtcxG53NkxnAAKfDFsP1Z4IKw/eLQe7oPeDNwZss5rzOz1MweIVuLd/pyg7ZsWce1ZHYtw8Ar6JyljtMmbhHjdJJy6KnME7wHZ1uLltHe3Nqwq4HXmdm9ki4ns3dZWGep5+3yt8D/IzMHvD4IqbOKeM/KWW1uAy6UtE5STObp9O2wLwLm7u79CnBz2B4AnpGUkPWsWvklSZGkU8gshHe0Gcd0aBcAM9tJ5nrwB2Ti6Kwy3rNyVhUze0bS7wM3kvWyvmFm/xB2zwJnSrqTzGX1jaH8D8lE7gmycbCBliZ3kIndMWQOApU2naSvJhvjKgOvMLMy2SXpejN78DBeorNCuOuC4yxBmI91t5n9zWH6Z6MAAABGSURBVEErOx3HxcpxFiH05maBn7HOuao6y8DFynGcrsAH2B3H6QpcrBzH6QpcrBzH6QpcrBzH6QpcrBzH6QpcrBzH6Qr+P7Uo2JePcKKNAAAAAElFTkSuQmCC
"
>
</div>

</div>

</div>
</div>

</div>
<div class="cell border-box-sizing code_cell rendered">
<div class="input">
<div class="prompt input_prompt">In&nbsp;[&nbsp;]:</div>
<div class="inner_cell">
    <div class="input_area">
<div class=" highlight hl-ipython3"><pre><span></span> 
</pre></div>

    </div>
</div>
</div>

</div>
    </div>
  </div>
</body>

 


</html>
